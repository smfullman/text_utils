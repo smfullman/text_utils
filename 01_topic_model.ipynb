{
 "cells": [
  {
   "cell_type": "code",
   "execution_count": 1,
   "metadata": {
    "collapsed": true
   },
   "outputs": [],
   "source": [
    "import numpy as np\n",
    "import pandas as pd\n",
    "import matplotlib.pyplot as plt\n",
    "\n",
    "%matplotlib inline"
   ]
  },
  {
   "cell_type": "code",
   "execution_count": 2,
   "metadata": {
    "collapsed": true
   },
   "outputs": [],
   "source": [
    "from gensim.models.ldamodel import LdaModel\n",
    "from gensim.models import LdaMulticore\n",
    "from gensim import corpora\n",
    "from collections import defaultdict"
   ]
  },
  {
   "cell_type": "code",
   "execution_count": 18,
   "metadata": {
    "collapsed": true
   },
   "outputs": [],
   "source": [
    "import os, multiprocessing"
   ]
  },
  {
   "cell_type": "markdown",
   "metadata": {},
   "source": [
    "### Load Data"
   ]
  },
  {
   "cell_type": "code",
   "execution_count": 3,
   "metadata": {},
   "outputs": [
    {
     "name": "stdout",
     "output_type": "stream",
     "text": [
      "(25000, 3)\n"
     ]
    }
   ],
   "source": [
    "train = pd.read_csv('data/labeledTrainData.tsv', sep='\\t')\n",
    "print(train.shape)"
   ]
  },
  {
   "cell_type": "code",
   "execution_count": 4,
   "metadata": {
    "collapsed": true
   },
   "outputs": [],
   "source": [
    "documents = list(train['review'])"
   ]
  },
  {
   "cell_type": "markdown",
   "metadata": {},
   "source": [
    "### Create Corpus"
   ]
  },
  {
   "cell_type": "code",
   "execution_count": 5,
   "metadata": {
    "collapsed": true
   },
   "outputs": [],
   "source": [
    "stop_words = [\"a\", \"about\", \"above\", \"above\", \"across\", \"after\", \"afterwards\", \"again\", \"against\", \"all\", \"almost\", \"alone\", \"along\", \"already\", \"also\",\"although\",\"always\",\"am\",\"among\", \"amongst\", \"amoungst\", \"amount\",  \"an\", \"and\", \"another\", \"any\",\"anyhow\",\"anyone\",\"anything\",\"anyway\", \"anywhere\", \"are\", \"around\", \"as\",  \"at\", \"back\",\"be\",\"became\", \"because\",\"become\",\"becomes\", \"becoming\", \"been\", \"before\", \"beforehand\", \"behind\", \"being\", \"below\", \"beside\", \"besides\", \"between\", \"beyond\", \"bill\", \"both\", \"bottom\",\"but\", \"by\", \"call\", \"can\", \"cannot\", \"cant\", \"co\", \"con\", \"could\", \"couldnt\", \"cry\", \"de\", \"describe\", \"detail\", \"do\", \"done\", \"down\", \"due\", \"during\", \"each\", \"eg\", \"eight\", \"either\", \"eleven\",\"else\", \"elsewhere\", \"empty\", \"enough\", \"etc\", \"even\", \"ever\", \"every\", \"everyone\", \"everything\", \"everywhere\", \"except\", \"few\", \"fifteen\", \"fify\", \"fill\", \"find\", \"fire\", \"first\", \"five\", \"for\", \"former\", \"formerly\", \"forty\", \"found\", \"four\", \"from\", \"front\", \"full\", \"further\", \"get\", \"give\", \"go\", \"had\", \"has\", \"hasnt\", \"have\", \"he\", \"hence\", \"her\", \"here\", \"hereafter\", \"hereby\", \"herein\", \"hereupon\", \"hers\", \"herself\", \"him\", \"himself\", \"his\", \"how\", \"however\", \"hundred\", \"ie\", \"if\", \"in\", \"inc\", \"indeed\", \"interest\", \"into\", \"is\", \"it\", \"its\", \"itself\", \"keep\", \"last\", \"latter\", \"latterly\", \"least\", \"less\", \"ltd\", \"made\", \"many\", \"may\", \"me\", \"meanwhile\", \"might\", \"mill\", \"mine\", \"more\", \"moreover\", \"most\", \"mostly\", \"move\", \"much\", \"must\", \"my\", \"myself\", \"name\", \"namely\", \"neither\", \"never\", \"nevertheless\", \"next\", \"nine\", \"no\", \"nobody\", \"none\", \"noone\", \"nor\", \"not\", \"nothing\", \"now\", \"nowhere\", \"of\", \"off\", \"often\", \"on\", \"once\", \"one\", \"only\", \"onto\", \"or\", \"other\", \"others\", \"otherwise\", \"our\", \"ours\", \"ourselves\", \"out\", \"over\", \"own\",\"part\", \"per\", \"perhaps\", \"please\", \"put\", \"rather\", \"re\", \"same\", \"see\", \"seem\", \"seemed\", \"seeming\", \"seems\", \"serious\", \"several\", \"she\", \"should\", \"show\", \"side\", \"since\", \"sincere\", \"six\", \"sixty\", \"so\", \"some\", \"somehow\", \"someone\", \"something\", \"sometime\", \"sometimes\", \"somewhere\", \"still\", \"such\", \"system\", \"take\", \"ten\", \"than\", \"that\", \"the\", \"their\", \"them\", \"themselves\", \"then\", \"thence\", \"there\", \"thereafter\", \"thereby\", \"therefore\", \"therein\", \"thereupon\", \"these\", \"they\", \"thickv\", \"thin\", \"third\", \"this\", \"those\", \"though\", \"three\", \"through\", \"throughout\", \"thru\", \"thus\", \"to\", \"together\", \"too\", \"top\", \"toward\", \"towards\", \"twelve\", \"twenty\", \"two\", \"un\", \"under\", \"until\", \"up\", \"upon\", \"us\", \"very\", \"via\", \"was\", \"we\", \"well\", \"were\", \"what\", \"whatever\", \"when\", \"whence\", \"whenever\", \"where\", \"whereafter\", \"whereas\", \"whereby\", \"wherein\", \"whereupon\", \"wherever\", \"whether\", \"which\", \"while\", \"whither\", \"who\", \"whoever\", \"whole\", \"whom\", \"whose\", \"why\", \"will\", \"with\", \"within\", \"without\", \"would\", \"yet\", \"you\", \"your\", \"yours\", \"yourself\", \"yourselves\", \"the\"]"
   ]
  },
  {
   "cell_type": "code",
   "execution_count": 6,
   "metadata": {
    "collapsed": true
   },
   "outputs": [],
   "source": [
    "texts = [[word for word in document.lower().split() if word not in stop_words] for document in documents]"
   ]
  },
  {
   "cell_type": "code",
   "execution_count": 7,
   "metadata": {
    "collapsed": true
   },
   "outputs": [],
   "source": [
    "FREQ_THRESHOLD = 10\n",
    "frequency = defaultdict(int)\n",
    "\n",
    "for text in texts:\n",
    "    for token in text:\n",
    "        frequency[token] += 1\n",
    "\n",
    "texts = [[token for token in text if frequency[token] > FREQ_THRESHOLD] for text in texts]"
   ]
  },
  {
   "cell_type": "code",
   "execution_count": 8,
   "metadata": {
    "collapsed": true
   },
   "outputs": [],
   "source": [
    "dictionary = corpora.Dictionary(texts)"
   ]
  },
  {
   "cell_type": "code",
   "execution_count": 9,
   "metadata": {},
   "outputs": [
    {
     "data": {
      "text/plain": [
       "25046"
      ]
     },
     "execution_count": 9,
     "metadata": {},
     "output_type": "execute_result"
    }
   ],
   "source": [
    "len(dictionary)"
   ]
  },
  {
   "cell_type": "code",
   "execution_count": 10,
   "metadata": {
    "collapsed": true
   },
   "outputs": [],
   "source": [
    "dictionary.save('models/topic_dict.dict')"
   ]
  },
  {
   "cell_type": "code",
   "execution_count": 15,
   "metadata": {
    "collapsed": true
   },
   "outputs": [],
   "source": [
    "corpus = [dictionary.doc2bow(text) for text in texts]"
   ]
  },
  {
   "cell_type": "code",
   "execution_count": 16,
   "metadata": {
    "collapsed": true
   },
   "outputs": [],
   "source": [
    "corpora.MmCorpus.serialize('models/topic_corpus.mm', corpus)"
   ]
  },
  {
   "cell_type": "markdown",
   "metadata": {},
   "source": [
    "### Create LDA Model"
   ]
  },
  {
   "cell_type": "code",
   "execution_count": 13,
   "metadata": {
    "collapsed": true
   },
   "outputs": [],
   "source": [
    "dictionary = corpora.Dictionary.load('models/topic_dict.dict')"
   ]
  },
  {
   "cell_type": "code",
   "execution_count": null,
   "metadata": {},
   "outputs": [],
   "source": [
    "corpus = corpora.MmCorpus.load('models/topic_corpus.mm')"
   ]
  },
  {
   "cell_type": "code",
   "execution_count": 19,
   "metadata": {},
   "outputs": [
    {
     "name": "stdout",
     "output_type": "stream",
     "text": [
      "Number of workers: 11\n"
     ]
    }
   ],
   "source": [
    "N_WORKERS = multiprocessing.cpu_count() - 1\n",
    "print('Number of workers: '+ str(N_WORKERS))"
   ]
  },
  {
   "cell_type": "code",
   "execution_count": 20,
   "metadata": {
    "collapsed": true
   },
   "outputs": [],
   "source": [
    "N_TOPICS = 50"
   ]
  },
  {
   "cell_type": "code",
   "execution_count": 21,
   "metadata": {
    "collapsed": true
   },
   "outputs": [],
   "source": [
    "lda = LdaMulticore(corpus=corpus,\n",
    "                   id2word=dictionary,\n",
    "                   num_topics=N_TOPICS,\n",
    "                   workers=N_WORKERS,\n",
    "                   chunksize=2500,\n",
    "                   passes=20,\n",
    "                   random_state=42)"
   ]
  },
  {
   "cell_type": "code",
   "execution_count": 22,
   "metadata": {
    "collapsed": true
   },
   "outputs": [],
   "source": [
    "lda.save('models/topic_lda_model')"
   ]
  },
  {
   "cell_type": "markdown",
   "metadata": {},
   "source": [
    "### Inspect Topics"
   ]
  },
  {
   "cell_type": "code",
   "execution_count": 23,
   "metadata": {
    "collapsed": true
   },
   "outputs": [],
   "source": [
    "lda = LdaMulticore.load('models/topic_lda_model')"
   ]
  },
  {
   "cell_type": "code",
   "execution_count": 24,
   "metadata": {},
   "outputs": [
    {
     "data": {
      "text/plain": [
       "[(0,\n",
       "  '0.011*\"film\" + 0.011*\"/><br\" + 0.010*\"jerry\" + 0.008*\"-\" + 0.007*\"like\" + 0.006*\"i\" + 0.006*\"it\\'s\" + 0.005*\"tom\" + 0.004*\"films\" + 0.003*\"heston\"'),\n",
       " (1,\n",
       "  '0.017*\"film\" + 0.015*\"i\" + 0.011*\"best\" + 0.009*\"(\" + 0.006*\"/><br\" + 0.005*\"just\" + 0.004*\"like\" + 0.004*\"it\\'s\" + 0.004*\")\" + 0.004*\"old\"'),\n",
       " (2,\n",
       "  '0.014*\"film\" + 0.011*\"/><br\" + 0.009*\"-\" + 0.005*\"man\" + 0.003*\"great\" + 0.003*\"love\" + 0.003*\"story\" + 0.003*\"role\" + 0.003*\"best\" + 0.003*\"film,\"'),\n",
       " (3,\n",
       "  '0.034*\"!\" + 0.014*\"/><br\" + 0.012*\"good\" + 0.011*\"i\" + 0.009*\"film\" + 0.009*\"movie\" + 0.008*\"great\" + 0.005*\"lugosi\" + 0.004*\"like\" + 0.004*\"it\\'s\"'),\n",
       " (4,\n",
       "  '0.018*\"i\" + 0.015*\"/><br\" + 0.010*\"movie\" + 0.010*\"film\" + 0.007*\"&\" + 0.006*\"character\" + 0.005*\"like\" + 0.005*\"really\" + 0.005*\"just\" + 0.004*\"it\\'s\"'),\n",
       " (5,\n",
       "  '0.019*\"film\" + 0.018*\"i\" + 0.011*\"/><br\" + 0.009*\"good\" + 0.008*\"great\" + 0.006*\"story\" + 0.006*\"like\" + 0.005*\"just\" + 0.005*\"movie\" + 0.005*\"-\"'),\n",
       " (6,\n",
       "  '0.056*\"&\" + 0.016*\"/><br\" + 0.016*\"it\\'s\" + 0.011*\"film\" + 0.008*\"i\" + 0.006*\"just\" + 0.006*\"horror\" + 0.005*\"there\\'s\" + 0.004*\"good\" + 0.004*\"like\"'),\n",
       " (7,\n",
       "  '0.022*\"/><br\" + 0.017*\"i\" + 0.011*\"it\\'s\" + 0.008*\"good\" + 0.007*\"really\" + 0.006*\"movie\" + 0.005*\"like\" + 0.005*\"just\" + 0.004*\"/>the\" + 0.004*\"story\"'),\n",
       " (8,\n",
       "  '0.035*\"/><br\" + 0.014*\"movie\" + 0.013*\"i\" + 0.011*\"like\" + 0.011*\"just\" + 0.009*\"it\\'s\" + 0.007*\"good\" + 0.007*\"film\" + 0.006*\"bad\" + 0.005*\"<br\"'),\n",
       " (9,\n",
       "  '0.037*\"film\" + 0.008*\"like\" + 0.008*\"it\\'s\" + 0.008*\"films\" + 0.007*\"horror\" + 0.007*\"/><br\" + 0.007*\"i\" + 0.004*\"film,\" + 0.004*\"make\" + 0.004*\"best\"'),\n",
       " (10,\n",
       "  '0.017*\"/><br\" + 0.012*\"film\" + 0.010*\"i\" + 0.010*\"like\" + 0.007*\"it\\'s\" + 0.005*\"just\" + 0.005*\"\\x96\" + 0.004*\"does\" + 0.004*\"movie\" + 0.004*\"little\"'),\n",
       " (11,\n",
       "  '0.018*\"/><br\" + 0.013*\"i\" + 0.010*\"rap\" + 0.009*\"it\\'s\" + 0.009*\"film\" + 0.008*\"like\" + 0.008*\"movie\" + 0.007*\"spinal\" + 0.004*\"tap\" + 0.004*\"funny\"'),\n",
       " (12,\n",
       "  '0.020*\"/><br\" + 0.012*\"i\" + 0.008*\"film\" + 0.006*\"-\" + 0.006*\"movie\" + 0.005*\"it\\'s\" + 0.004*\"good\" + 0.004*\"like\" + 0.004*\"story\" + 0.004*\"really\"'),\n",
       " (13,\n",
       "  '0.031*\"movie\" + 0.013*\"/><br\" + 0.012*\"i\" + 0.006*\"movies\" + 0.006*\"like\" + 0.006*\"film\" + 0.005*\"make\" + 0.005*\"it\\'s\" + 0.004*\"good\" + 0.004*\"movie.\"'),\n",
       " (14,\n",
       "  '0.025*\"/><br\" + 0.005*\"it\\'s\" + 0.005*\"like\" + 0.005*\"film\" + 0.004*\"/>the\" + 0.004*\"tony\" + 0.004*\"<br\" + 0.003*\"play\" + 0.003*\"drew\" + 0.003*\"brando\"'),\n",
       " (15,\n",
       "  '0.046*\".\" + 0.025*\"film\" + 0.016*\"i\" + 0.015*\",\" + 0.008*\"/><br\" + 0.006*\"like\" + 0.006*\"?\" + 0.005*\"good\" + 0.005*\"movie\" + 0.005*\"it\\'s\"'),\n",
       " (16,\n",
       "  '0.018*\"movie\" + 0.012*\"/><br\" + 0.009*\"story\" + 0.007*\"i\" + 0.005*\"film\" + 0.005*\"like\" + 0.004*\"really\" + 0.004*\"just\" + 0.004*\"good\" + 0.003*\"people\"'),\n",
       " (17,\n",
       "  '0.013*\"/><br\" + 0.011*\"film\" + 0.010*\"i\" + 0.007*\"movie\" + 0.005*\"story\" + 0.004*\"character\" + 0.004*\"people\" + 0.004*\"life\" + 0.004*\"just\" + 0.004*\"does\"'),\n",
       " (18,\n",
       "  '0.014*\"jack\" + 0.012*\"/><br\" + 0.010*\"it\\'s\" + 0.009*\"film\" + 0.006*\"i\" + 0.006*\"movie\" + 0.005*\"brad\" + 0.005*\"pitt\" + 0.004*\"like\" + 0.004*\"hotel\"'),\n",
       " (19,\n",
       "  '0.027*\"movie\" + 0.019*\"/><br\" + 0.014*\"i\" + 0.008*\"film\" + 0.008*\"little\" + 0.005*\"bad\" + 0.004*\"seen\" + 0.004*\"movie.\" + 0.004*\"it\\'s\" + 0.004*\"story\"'),\n",
       " (20,\n",
       "  '0.014*\"film\" + 0.012*\"it\\'s\" + 0.012*\"/><br\" + 0.010*\"i\" + 0.006*\"just\" + 0.006*\"like\" + 0.005*\"really\" + 0.004*\"movie\" + 0.004*\"good\" + 0.004*\"love\"'),\n",
       " (21,\n",
       "  '0.050*\"-\" + 0.042*\"i\" + 0.035*\"/><br\" + 0.009*\"film\" + 0.008*\"<br\" + 0.007*\"movie\" + 0.007*\"just\" + 0.006*\"really\" + 0.004*\"story\" + 0.004*\"/>i\"'),\n",
       " (22,\n",
       "  '0.055*\"/><br\" + 0.026*\"movie\" + 0.013*\"i\" + 0.008*\"like\" + 0.007*\"<br\" + 0.006*\"film\" + 0.006*\"story\" + 0.005*\"/>the\" + 0.005*\"good\" + 0.005*\"just\"'),\n",
       " (23,\n",
       "  '0.015*\"/><br\" + 0.011*\"-\" + 0.008*\"i\" + 0.006*\"stan\" + 0.006*\"laurel\" + 0.006*\"film\" + 0.006*\"streisand\" + 0.005*\"hardy\" + 0.005*\"south\" + 0.005*\"\\\\\"\"'),\n",
       " (24,\n",
       "  '0.038*\"-\" + 0.014*\"/><br\" + 0.009*\"film\" + 0.005*\"great\" + 0.005*\"story\" + 0.005*\"movie\" + 0.004*\"marie\" + 0.004*\"morgan\" + 0.004*\"does\" + 0.004*\"&\"'),\n",
       " (25,\n",
       "  '0.035*\"i\" + 0.017*\"film\" + 0.011*\"like\" + 0.007*\"/><br\" + 0.007*\"movie\" + 0.007*\"charlie\" + 0.005*\"great\" + 0.005*\"good\" + 0.005*\"it\\'s\" + 0.005*\"film.\"'),\n",
       " (26,\n",
       "  '0.019*\"/><br\" + 0.008*\"film\" + 0.006*\"i\" + 0.005*\"it\\'s\" + 0.004*\"family\" + 0.004*\"like\" + 0.004*\"man\" + 0.004*\"movie\" + 0.003*\"gets\" + 0.003*\"/>the\"'),\n",
       " (27,\n",
       "  '0.020*\"/><br\" + 0.015*\"jane\" + 0.009*\"movie\" + 0.008*\"tarzan\" + 0.006*\"i\" + 0.006*\"it\\'s\" + 0.005*\"just\" + 0.005*\"really\" + 0.005*\"like\" + 0.005*\"good\"'),\n",
       " (28,\n",
       "  '0.017*\"film\" + 0.014*\"great\" + 0.009*\"movie\" + 0.008*\"best\" + 0.006*\"good\" + 0.005*\"/><br\" + 0.005*\"i\" + 0.005*\"performance\" + 0.005*\"it\\'s\" + 0.005*\"story\"'),\n",
       " (29,\n",
       "  '0.029*\"i\" + 0.017*\"/><br\" + 0.013*\"movie\" + 0.011*\"it\\'s\" + 0.007*\"just\" + 0.007*\"like\" + 0.007*\"film\" + 0.004*\"version\" + 0.004*\"did\" + 0.004*\"good\"'),\n",
       " (30,\n",
       "  '0.023*\"action\" + 0.018*\"martial\" + 0.013*\"arts\" + 0.013*\"kong\" + 0.012*\"hong\" + 0.012*\"film\" + 0.011*\"bourne\" + 0.011*\"eddie\" + 0.009*\"fight\" + 0.006*\"kung\"'),\n",
       " (31,\n",
       "  '0.023*\"/><br\" + 0.014*\"film\" + 0.012*\"i\" + 0.006*\"disney\" + 0.006*\"king\" + 0.006*\"/>the\" + 0.005*\"like\" + 0.004*\"match\" + 0.004*\"just\" + 0.004*\"good\"'),\n",
       " (32,\n",
       "  '0.039*\"/><br\" + 0.014*\"film\" + 0.006*\"/>the\" + 0.005*\"story\" + 0.004*\"i\" + 0.004*\"just\" + 0.004*\"<br\" + 0.004*\"-\" + 0.004*\"like\" + 0.004*\"new\"'),\n",
       " (33,\n",
       "  '0.047*\"i\" + 0.025*\"film\" + 0.009*\"just\" + 0.008*\"/><br\" + 0.005*\"really\" + 0.005*\"movie\" + 0.005*\"good\" + 0.005*\"horror\" + 0.005*\"seen\" + 0.005*\"great\"'),\n",
       " (34,\n",
       "  '0.078*\"i\" + 0.031*\"movie\" + 0.013*\"/><br\" + 0.013*\"like\" + 0.012*\"just\" + 0.009*\"film\" + 0.009*\"really\" + 0.008*\"it\\'s\" + 0.008*\"don\\'t\" + 0.008*\"good\"'),\n",
       " (35,\n",
       "  '0.031*\"movie\" + 0.023*\"/><br\" + 0.011*\"i\" + 0.007*\"it\\'s\" + 0.007*\"like\" + 0.006*\"-\" + 0.006*\"story\" + 0.005*\"/>the\" + 0.005*\"good\" + 0.004*\"movies\"'),\n",
       " (36,\n",
       "  '0.013*\"film\" + 0.013*\"/><br\" + 0.007*\"john\" + 0.005*\"\\x96\" + 0.005*\"kelly\" + 0.004*\"i\" + 0.004*\"story\" + 0.004*\"young\" + 0.004*\"james\" + 0.004*\"character\"'),\n",
       " (37,\n",
       "  '0.025*\"i\" + 0.025*\"movie\" + 0.008*\"just\" + 0.008*\"like\" + 0.006*\"really\" + 0.006*\"movies\" + 0.006*\"/><br\" + 0.005*\"good\" + 0.005*\"it\\'s\" + 0.004*\"movie,\"'),\n",
       " (38,\n",
       "  '0.030*\"/><br\" + 0.028*\"i\" + 0.011*\"like\" + 0.011*\"series\" + 0.008*\"just\" + 0.008*\"episode\" + 0.006*\"really\" + 0.006*\"it\\'s\" + 0.005*\"tv\" + 0.005*\"episodes\"'),\n",
       " (39,\n",
       "  '0.019*\"/><br\" + 0.016*\"film\" + 0.008*\"it\\'s\" + 0.007*\"like\" + 0.005*\"movie\" + 0.005*\"just\" + 0.005*\"/>the\" + 0.004*\"story\" + 0.003*\"characters\" + 0.003*\"doesn\\'t\"'),\n",
       " (40,\n",
       "  '0.024*\"film\" + 0.013*\"i\" + 0.006*\"like\" + 0.006*\"movie\" + 0.005*\"/><br\" + 0.005*\"just\" + 0.005*\"black\" + 0.004*\"really\" + 0.004*\"it\\'s\" + 0.004*\"films\"'),\n",
       " (41,\n",
       "  '0.015*\"i\" + 0.011*\"/><br\" + 0.008*\"film\" + 0.007*\"little\" + 0.006*\"novel\" + 0.006*\"emma\" + 0.006*\"movie\" + 0.005*\"story\" + 0.005*\"good\" + 0.005*\"nancy\"'),\n",
       " (42,\n",
       "  '0.017*\"/><br\" + 0.009*\"film\" + 0.006*\"i\" + 0.006*\"it\\'s\" + 0.005*\"good\" + 0.005*\"just\" + 0.004*\"like\" + 0.003*\"best\" + 0.003*\"films\" + 0.003*\"arthur\"'),\n",
       " (43,\n",
       "  '0.025*\"/><br\" + 0.021*\"i\" + 0.007*\"movie\" + 0.007*\"like\" + 0.007*\"--\" + 0.005*\"film\" + 0.005*\"it\\'s\" + 0.005*\"-\" + 0.004*\"just\" + 0.004*\"think\"'),\n",
       " (44,\n",
       "  '0.018*\"i\" + 0.012*\"/><br\" + 0.011*\"war\" + 0.010*\"film\" + 0.009*\"jeff\" + 0.007*\"just\" + 0.005*\"vietnam\" + 0.005*\"movie\" + 0.004*\"it\\'s\" + 0.003*\"lucas\"'),\n",
       " (45,\n",
       "  '0.014*\",\" + 0.009*\"i\" + 0.007*\"/><br\" + 0.006*\"prince\" + 0.006*\"it\\'s\" + 0.005*\"movie\" + 0.005*\"war\" + 0.005*\"world\" + 0.005*\"film\" + 0.005*\"young\"'),\n",
       " (46,\n",
       "  '0.030*\"i\" + 0.020*\"/><br\" + 0.010*\"film\" + 0.007*\"like\" + 0.007*\"people\" + 0.007*\"just\" + 0.006*\"movie\" + 0.005*\"life\" + 0.005*\"way\" + 0.004*\"don\\'t\"'),\n",
       " (47,\n",
       "  '0.038*\"i\" + 0.013*\"/><br\" + 0.009*\"film\" + 0.007*\"movie\" + 0.007*\"just\" + 0.007*\"like\" + 0.006*\"time\" + 0.005*\"love\" + 0.005*\"it\\'s\" + 0.005*\"-\"'),\n",
       " (48,\n",
       "  '0.014*\"/><br\" + 0.009*\"i\" + 0.007*\"movie\" + 0.007*\"it\\'s\" + 0.006*\"film\" + 0.006*\"planet\" + 0.006*\"like\" + 0.005*\"earth\" + 0.004*\"just\" + 0.004*\"good\"'),\n",
       " (49,\n",
       "  '0.019*\"i\" + 0.016*\"/><br\" + 0.010*\"movie\" + 0.009*\"just\" + 0.006*\"like\" + 0.006*\"it\\'s\" + 0.006*\"film\" + 0.005*\"people\" + 0.005*\"werewolf\" + 0.004*\"great\"')]"
      ]
     },
     "execution_count": 24,
     "metadata": {},
     "output_type": "execute_result"
    }
   ],
   "source": [
    "lda.print_topics(50)"
   ]
  },
  {
   "cell_type": "code",
   "execution_count": 30,
   "metadata": {},
   "outputs": [
    {
     "data": {
      "text/plain": [
       "\"I watched this movie really late last night and usually if it's late then I'm pretty forgiving of movies. Although I tried, I just could not stand this movie at all, it kept getting worse and worse as the movie went on. Although I know it's suppose to be a comedy but I didn't find it very funny. It was also an especially unrealistic, and jaded portrayal of rural life. In case this is what any of you think country life is like, it's definitely not. I do have to agree that some of the guy cast members were cute, but the french guy was really fake. I do have to agree that it tried to have a good lesson in the story, but overall my recommendation is that no one over 8 watch it, it's just too annoying.\""
      ]
     },
     "execution_count": 30,
     "metadata": {},
     "output_type": "execute_result"
    }
   ],
   "source": [
    "train['review'].iloc[1000]"
   ]
  },
  {
   "cell_type": "code",
   "execution_count": 31,
   "metadata": {},
   "outputs": [
    {
     "data": {
      "text/plain": [
       "[(21, 0.10138979791276496), (34, 0.88563722911426301)]"
      ]
     },
     "execution_count": 31,
     "metadata": {},
     "output_type": "execute_result"
    }
   ],
   "source": [
    "lda[dictionary.doc2bow(train['review'].iloc[1000].lower().split(\" \"))]"
   ]
  },
  {
   "cell_type": "code",
   "execution_count": null,
   "metadata": {
    "collapsed": true
   },
   "outputs": [],
   "source": []
  }
 ],
 "metadata": {
  "kernelspec": {
   "display_name": "Python 3",
   "language": "python",
   "name": "python3"
  },
  "language_info": {
   "codemirror_mode": {
    "name": "ipython",
    "version": 3
   },
   "file_extension": ".py",
   "mimetype": "text/x-python",
   "name": "python",
   "nbconvert_exporter": "python",
   "pygments_lexer": "ipython3",
   "version": "3.6.3"
  }
 },
 "nbformat": 4,
 "nbformat_minor": 2
}
