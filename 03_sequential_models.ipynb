{
 "cells": [
  {
   "cell_type": "code",
   "execution_count": 2,
   "metadata": {
    "collapsed": true
   },
   "outputs": [],
   "source": [
    "import numpy as np \n",
    "import pandas as pd\n",
    "import matplotlib.pyplot as plt\n",
    "from matplotlib.colors import rgb2hex\n",
    "\n",
    "%matplotlib inline"
   ]
  },
  {
   "cell_type": "code",
   "execution_count": 3,
   "metadata": {
    "collapsed": true
   },
   "outputs": [],
   "source": [
    "from sklearn.model_selection import train_test_split\n",
    "from sklearn.metrics import accuracy_score, confusion_matrix, classification_report, roc_auc_score"
   ]
  },
  {
   "cell_type": "code",
   "execution_count": 204,
   "metadata": {},
   "outputs": [],
   "source": [
    "from keras.models import Model, load_model\n",
    "from keras import initializers, regularizers, constraints\n",
    "from keras.regularizers import l2\n",
    "from keras.layers import Dense, Embedding, Input, concatenate, Flatten, Layer\n",
    "from keras.layers import LSTM, Bidirectional, GlobalMaxPool1D, Dropout, Conv1D, MaxPool1D, BatchNormalization, TimeDistributed\n",
    "from keras.preprocessing import text, sequence\n",
    "from keras.callbacks import EarlyStopping, ModelCheckpoint\n",
    "from keras.optimizers import SGD, Adam\n",
    "from keras import backend as K"
   ]
  },
  {
   "cell_type": "code",
   "execution_count": 5,
   "metadata": {
    "collapsed": true
   },
   "outputs": [],
   "source": [
    "from IPython.display import SVG\n",
    "from keras.utils.vis_utils import model_to_dot"
   ]
  },
  {
   "cell_type": "code",
   "execution_count": 6,
   "metadata": {
    "collapsed": true
   },
   "outputs": [],
   "source": [
    "from gensim.models import Word2Vec"
   ]
  },
  {
   "cell_type": "code",
   "execution_count": 7,
   "metadata": {
    "collapsed": true
   },
   "outputs": [],
   "source": [
    "import os, re, pickle\n",
    "import spacy\n",
    "from spacy.tokens.doc import Doc"
   ]
  },
  {
   "cell_type": "markdown",
   "metadata": {},
   "source": [
    "### Import Data"
   ]
  },
  {
   "cell_type": "code",
   "execution_count": 8,
   "metadata": {},
   "outputs": [
    {
     "name": "stdout",
     "output_type": "stream",
     "text": [
      "(25000, 3)\n"
     ]
    }
   ],
   "source": [
    "train = pd.read_csv('data/labeledTrainData.tsv', sep='\\t')\n",
    "print(train.shape)"
   ]
  },
  {
   "cell_type": "code",
   "execution_count": 9,
   "metadata": {},
   "outputs": [
    {
     "name": "stdout",
     "output_type": "stream",
     "text": [
      "(25000, 2)\n"
     ]
    }
   ],
   "source": [
    "test = pd.read_csv('data/testData.tsv', sep='\\t')\n",
    "print(test.shape)"
   ]
  },
  {
   "cell_type": "markdown",
   "metadata": {},
   "source": [
    "### Pre-process Data"
   ]
  },
  {
   "cell_type": "code",
   "execution_count": 10,
   "metadata": {
    "collapsed": true
   },
   "outputs": [],
   "source": [
    "MAX_FEATURES = 25000\n",
    "MAX_LEN = 350"
   ]
  },
  {
   "cell_type": "code",
   "execution_count": 11,
   "metadata": {
    "collapsed": true
   },
   "outputs": [],
   "source": [
    "list_sentences_train = train['review'].fillna(\"UNKNOWN\").values.tolist()\n",
    "list_sentences_test = test['review'].fillna(\"UNKNOWN\").values.tolist()"
   ]
  },
  {
   "cell_type": "code",
   "execution_count": 12,
   "metadata": {
    "collapsed": true
   },
   "outputs": [],
   "source": [
    "tokenizer = text.Tokenizer(num_words=MAX_FEATURES)\n",
    "tokenizer.fit_on_texts(list_sentences_train)"
   ]
  },
  {
   "cell_type": "code",
   "execution_count": 13,
   "metadata": {
    "collapsed": true
   },
   "outputs": [],
   "source": [
    "list_tokenized_train = tokenizer.texts_to_sequences(list_sentences_train)\n",
    "list_tokenized_test = tokenizer.texts_to_sequences(list_sentences_test)"
   ]
  },
  {
   "cell_type": "code",
   "execution_count": 14,
   "metadata": {
    "collapsed": true
   },
   "outputs": [],
   "source": [
    "X = sequence.pad_sequences(list_tokenized_train, maxlen=MAX_LEN)\n",
    "X_test = sequence.pad_sequences(list_tokenized_test, maxlen=MAX_LEN)"
   ]
  },
  {
   "cell_type": "code",
   "execution_count": 15,
   "metadata": {
    "collapsed": true
   },
   "outputs": [],
   "source": [
    "y = train['sentiment'].values.reshape(-1,1)"
   ]
  },
  {
   "cell_type": "code",
   "execution_count": 270,
   "metadata": {},
   "outputs": [],
   "source": [
    "y_softmax = np.array([np.array([0,1]) if x == 1 else np.array([1,0]) for x in y])"
   ]
  },
  {
   "cell_type": "code",
   "execution_count": 271,
   "metadata": {
    "collapsed": true
   },
   "outputs": [],
   "source": [
    "N_CLASSES = 2"
   ]
  },
  {
   "cell_type": "code",
   "execution_count": 272,
   "metadata": {
    "collapsed": true
   },
   "outputs": [],
   "source": [
    "X_train, X_val, y_train, y_val = train_test_split(X, y_softmax, test_size=0.1, random_state=42)"
   ]
  },
  {
   "cell_type": "markdown",
   "metadata": {},
   "source": [
    "### Create Model - No External Knowledge"
   ]
  },
  {
   "cell_type": "code",
   "execution_count": 273,
   "metadata": {
    "collapsed": true
   },
   "outputs": [],
   "source": [
    "EMBED_SIZE = 8\n",
    "CNN_FILTER_SIZE = 8\n",
    "CNN_KERNEL_SIZE = 3\n",
    "\n",
    "def create_model():\n",
    "    input_sequence = Input(shape=(MAX_LEN, ))\n",
    "    x = Embedding(input_dim=MAX_FEATURES, output_dim=EMBED_SIZE)(input_sequence)\n",
    "    x = Dropout(0.5)(x)\n",
    "    x = Conv1D(filters=CNN_FILTER_SIZE, kernel_size=CNN_KERNEL_SIZE, padding='same', kernel_regularizer=l2(0.0001))(x)\n",
    "    #x = Bidirectional(LSTM(32,\n",
    "    #                       return_sequences=True,\n",
    "    #                       kernel_regularizer=l2(0.0001)))(x)\n",
    "    #x = GlobalMaxPool1D()(x)\n",
    "    #x = AttentionWithContext()(x)\n",
    "    x = TimeDistributed(Dense(1, activation=\"elu\", kernel_regularizer=l2(0.0001)))(x)\n",
    "    x = Flatten()(x)\n",
    "    x = BatchNormalization()(x)\n",
    "    x = Dense(8, activation=\"elu\", kernel_regularizer=l2(0.0001))(x)\n",
    "    prediction = Dense(N_CLASSES, activation=\"softmax\")(x)\n",
    "    \n",
    "    opt = Adam(lr=0.0001, beta_1=0.9, beta_2=0.999, epsilon=None, decay=0.0, amsgrad=False)\n",
    "    #opt = SGD(lr=0.001, momentum=0.0, decay=0.0, nesterov=False)\n",
    "    \n",
    "    model = Model(inputs=input_sequence, outputs=prediction)\n",
    "    model.compile(loss='binary_crossentropy',\n",
    "                  optimizer=opt,\n",
    "                  metrics=['accuracy'])\n",
    "\n",
    "    return model"
   ]
  },
  {
   "cell_type": "code",
   "execution_count": 274,
   "metadata": {},
   "outputs": [],
   "source": [
    "model = create_model()\n",
    "\n",
    "BATCH_SIZE = 512\n",
    "EPOCHS = 50"
   ]
  },
  {
   "cell_type": "code",
   "execution_count": 275,
   "metadata": {
    "collapsed": true
   },
   "outputs": [],
   "source": [
    "FILE_PATH = \"models/keras_model_weights.hdf5\"\n",
    "checkpoint = ModelCheckpoint(FILE_PATH, monitor='val_loss', verbose=1, save_best_only=True, mode='min')\n",
    "early = EarlyStopping(monitor=\"val_loss\", mode=\"min\", patience=15)\n",
    "callbacks_list = [checkpoint, early]"
   ]
  },
  {
   "cell_type": "code",
   "execution_count": 276,
   "metadata": {},
   "outputs": [
    {
     "name": "stdout",
     "output_type": "stream",
     "text": [
      "_________________________________________________________________\n",
      "Layer (type)                 Output Shape              Param #   \n",
      "=================================================================\n",
      "input_21 (InputLayer)        (None, 350)               0         \n",
      "_________________________________________________________________\n",
      "embedding_21 (Embedding)     (None, 350, 8)            200000    \n",
      "_________________________________________________________________\n",
      "dropout_21 (Dropout)         (None, 350, 8)            0         \n",
      "_________________________________________________________________\n",
      "conv1d_21 (Conv1D)           (None, 350, 8)            200       \n",
      "_________________________________________________________________\n",
      "time_distributed_7 (TimeDist (None, 350, 1)            9         \n",
      "_________________________________________________________________\n",
      "flatten_4 (Flatten)          (None, 350)               0         \n",
      "_________________________________________________________________\n",
      "batch_normalization_18 (Batc (None, 350)               1400      \n",
      "_________________________________________________________________\n",
      "dense_38 (Dense)             (None, 8)                 2808      \n",
      "_________________________________________________________________\n",
      "dense_39 (Dense)             (None, 2)                 18        \n",
      "=================================================================\n",
      "Total params: 204,435\n",
      "Trainable params: 203,735\n",
      "Non-trainable params: 700\n",
      "_________________________________________________________________\n"
     ]
    }
   ],
   "source": [
    "model.summary()"
   ]
  },
  {
   "cell_type": "code",
   "execution_count": 277,
   "metadata": {},
   "outputs": [
    {
     "data": {
      "image/svg+xml": [
       "<svg height=\"719pt\" viewBox=\"0.00 0.00 607.00 719.00\" width=\"607pt\" xmlns=\"http://www.w3.org/2000/svg\" xmlns:xlink=\"http://www.w3.org/1999/xlink\">\n",
       "<g class=\"graph\" id=\"graph0\" transform=\"scale(1 1) rotate(0) translate(4 715)\">\n",
       "<title>G</title>\n",
       "<polygon fill=\"#ffffff\" points=\"-4,4 -4,-715 603,-715 603,4 -4,4\" stroke=\"transparent\"/>\n",
       "<!-- 140106943486048 -->\n",
       "<g class=\"node\" id=\"node1\">\n",
       "<title>140106943486048</title>\n",
       "<polygon fill=\"none\" points=\"130.5,-664.5 130.5,-710.5 468.5,-710.5 468.5,-664.5 130.5,-664.5\" stroke=\"#000000\"/>\n",
       "<text fill=\"#000000\" font-family=\"Times,serif\" font-size=\"14.00\" text-anchor=\"middle\" x=\"215\" y=\"-683.8\">input_21: InputLayer</text>\n",
       "<polyline fill=\"none\" points=\"299.5,-664.5 299.5,-710.5 \" stroke=\"#000000\"/>\n",
       "<text fill=\"#000000\" font-family=\"Times,serif\" font-size=\"14.00\" text-anchor=\"middle\" x=\"333.5\" y=\"-695.3\">input:</text>\n",
       "<polyline fill=\"none\" points=\"299.5,-687.5 367.5,-687.5 \" stroke=\"#000000\"/>\n",
       "<text fill=\"#000000\" font-family=\"Times,serif\" font-size=\"14.00\" text-anchor=\"middle\" x=\"333.5\" y=\"-672.3\">output:</text>\n",
       "<polyline fill=\"none\" points=\"367.5,-664.5 367.5,-710.5 \" stroke=\"#000000\"/>\n",
       "<text fill=\"#000000\" font-family=\"Times,serif\" font-size=\"14.00\" text-anchor=\"middle\" x=\"418\" y=\"-695.3\">(None, 350)</text>\n",
       "<polyline fill=\"none\" points=\"367.5,-687.5 468.5,-687.5 \" stroke=\"#000000\"/>\n",
       "<text fill=\"#000000\" font-family=\"Times,serif\" font-size=\"14.00\" text-anchor=\"middle\" x=\"418\" y=\"-672.3\">(None, 350)</text>\n",
       "</g>\n",
       "<!-- 140106943485544 -->\n",
       "<g class=\"node\" id=\"node2\">\n",
       "<title>140106943485544</title>\n",
       "<polygon fill=\"none\" points=\"100,-581.5 100,-627.5 499,-627.5 499,-581.5 100,-581.5\" stroke=\"#000000\"/>\n",
       "<text fill=\"#000000\" font-family=\"Times,serif\" font-size=\"14.00\" text-anchor=\"middle\" x=\"206\" y=\"-600.8\">embedding_21: Embedding</text>\n",
       "<polyline fill=\"none\" points=\"312,-581.5 312,-627.5 \" stroke=\"#000000\"/>\n",
       "<text fill=\"#000000\" font-family=\"Times,serif\" font-size=\"14.00\" text-anchor=\"middle\" x=\"346\" y=\"-612.3\">input:</text>\n",
       "<polyline fill=\"none\" points=\"312,-604.5 380,-604.5 \" stroke=\"#000000\"/>\n",
       "<text fill=\"#000000\" font-family=\"Times,serif\" font-size=\"14.00\" text-anchor=\"middle\" x=\"346\" y=\"-589.3\">output:</text>\n",
       "<polyline fill=\"none\" points=\"380,-581.5 380,-627.5 \" stroke=\"#000000\"/>\n",
       "<text fill=\"#000000\" font-family=\"Times,serif\" font-size=\"14.00\" text-anchor=\"middle\" x=\"439.5\" y=\"-612.3\">(None, 350)</text>\n",
       "<polyline fill=\"none\" points=\"380,-604.5 499,-604.5 \" stroke=\"#000000\"/>\n",
       "<text fill=\"#000000\" font-family=\"Times,serif\" font-size=\"14.00\" text-anchor=\"middle\" x=\"439.5\" y=\"-589.3\">(None, 350, 8)</text>\n",
       "</g>\n",
       "<!-- 140106943486048&#45;&gt;140106943485544 -->\n",
       "<g class=\"edge\" id=\"edge1\">\n",
       "<title>140106943486048-&gt;140106943485544</title>\n",
       "<path d=\"M299.5,-664.3799C299.5,-656.1745 299.5,-646.7679 299.5,-637.8786\" fill=\"none\" stroke=\"#000000\"/>\n",
       "<polygon fill=\"#000000\" points=\"303.0001,-637.784 299.5,-627.784 296.0001,-637.784 303.0001,-637.784\" stroke=\"#000000\"/>\n",
       "</g>\n",
       "<!-- 140106943453616 -->\n",
       "<g class=\"node\" id=\"node3\">\n",
       "<title>140106943453616</title>\n",
       "<polygon fill=\"none\" points=\"123,-498.5 123,-544.5 476,-544.5 476,-498.5 123,-498.5\" stroke=\"#000000\"/>\n",
       "<text fill=\"#000000\" font-family=\"Times,serif\" font-size=\"14.00\" text-anchor=\"middle\" x=\"206\" y=\"-517.8\">dropout_21: Dropout</text>\n",
       "<polyline fill=\"none\" points=\"289,-498.5 289,-544.5 \" stroke=\"#000000\"/>\n",
       "<text fill=\"#000000\" font-family=\"Times,serif\" font-size=\"14.00\" text-anchor=\"middle\" x=\"323\" y=\"-529.3\">input:</text>\n",
       "<polyline fill=\"none\" points=\"289,-521.5 357,-521.5 \" stroke=\"#000000\"/>\n",
       "<text fill=\"#000000\" font-family=\"Times,serif\" font-size=\"14.00\" text-anchor=\"middle\" x=\"323\" y=\"-506.3\">output:</text>\n",
       "<polyline fill=\"none\" points=\"357,-498.5 357,-544.5 \" stroke=\"#000000\"/>\n",
       "<text fill=\"#000000\" font-family=\"Times,serif\" font-size=\"14.00\" text-anchor=\"middle\" x=\"416.5\" y=\"-529.3\">(None, 350, 8)</text>\n",
       "<polyline fill=\"none\" points=\"357,-521.5 476,-521.5 \" stroke=\"#000000\"/>\n",
       "<text fill=\"#000000\" font-family=\"Times,serif\" font-size=\"14.00\" text-anchor=\"middle\" x=\"416.5\" y=\"-506.3\">(None, 350, 8)</text>\n",
       "</g>\n",
       "<!-- 140106943485544&#45;&gt;140106943453616 -->\n",
       "<g class=\"edge\" id=\"edge2\">\n",
       "<title>140106943485544-&gt;140106943453616</title>\n",
       "<path d=\"M299.5,-581.3799C299.5,-573.1745 299.5,-563.7679 299.5,-554.8786\" fill=\"none\" stroke=\"#000000\"/>\n",
       "<polygon fill=\"#000000\" points=\"303.0001,-554.784 299.5,-544.784 296.0001,-554.784 303.0001,-554.784\" stroke=\"#000000\"/>\n",
       "</g>\n",
       "<!-- 140106943453168 -->\n",
       "<g class=\"node\" id=\"node4\">\n",
       "<title>140106943453168</title>\n",
       "<polygon fill=\"none\" points=\"126,-415.5 126,-461.5 473,-461.5 473,-415.5 126,-415.5\" stroke=\"#000000\"/>\n",
       "<text fill=\"#000000\" font-family=\"Times,serif\" font-size=\"14.00\" text-anchor=\"middle\" x=\"206\" y=\"-434.8\">conv1d_21: Conv1D</text>\n",
       "<polyline fill=\"none\" points=\"286,-415.5 286,-461.5 \" stroke=\"#000000\"/>\n",
       "<text fill=\"#000000\" font-family=\"Times,serif\" font-size=\"14.00\" text-anchor=\"middle\" x=\"320\" y=\"-446.3\">input:</text>\n",
       "<polyline fill=\"none\" points=\"286,-438.5 354,-438.5 \" stroke=\"#000000\"/>\n",
       "<text fill=\"#000000\" font-family=\"Times,serif\" font-size=\"14.00\" text-anchor=\"middle\" x=\"320\" y=\"-423.3\">output:</text>\n",
       "<polyline fill=\"none\" points=\"354,-415.5 354,-461.5 \" stroke=\"#000000\"/>\n",
       "<text fill=\"#000000\" font-family=\"Times,serif\" font-size=\"14.00\" text-anchor=\"middle\" x=\"413.5\" y=\"-446.3\">(None, 350, 8)</text>\n",
       "<polyline fill=\"none\" points=\"354,-438.5 473,-438.5 \" stroke=\"#000000\"/>\n",
       "<text fill=\"#000000\" font-family=\"Times,serif\" font-size=\"14.00\" text-anchor=\"middle\" x=\"413.5\" y=\"-423.3\">(None, 350, 8)</text>\n",
       "</g>\n",
       "<!-- 140106943453616&#45;&gt;140106943453168 -->\n",
       "<g class=\"edge\" id=\"edge3\">\n",
       "<title>140106943453616-&gt;140106943453168</title>\n",
       "<path d=\"M299.5,-498.3799C299.5,-490.1745 299.5,-480.7679 299.5,-471.8786\" fill=\"none\" stroke=\"#000000\"/>\n",
       "<polygon fill=\"#000000\" points=\"303.0001,-471.784 299.5,-461.784 296.0001,-471.784 303.0001,-471.784\" stroke=\"#000000\"/>\n",
       "</g>\n",
       "<!-- 140106943819112 -->\n",
       "<g class=\"node\" id=\"node5\">\n",
       "<title>140106943819112</title>\n",
       "<polygon fill=\"none\" points=\"0,-332.5 0,-378.5 599,-378.5 599,-332.5 0,-332.5\" stroke=\"#000000\"/>\n",
       "<text fill=\"#000000\" font-family=\"Times,serif\" font-size=\"14.00\" text-anchor=\"middle\" x=\"206\" y=\"-351.8\">time_distributed_7(dense_37): TimeDistributed(Dense)</text>\n",
       "<polyline fill=\"none\" points=\"412,-332.5 412,-378.5 \" stroke=\"#000000\"/>\n",
       "<text fill=\"#000000\" font-family=\"Times,serif\" font-size=\"14.00\" text-anchor=\"middle\" x=\"446\" y=\"-363.3\">input:</text>\n",
       "<polyline fill=\"none\" points=\"412,-355.5 480,-355.5 \" stroke=\"#000000\"/>\n",
       "<text fill=\"#000000\" font-family=\"Times,serif\" font-size=\"14.00\" text-anchor=\"middle\" x=\"446\" y=\"-340.3\">output:</text>\n",
       "<polyline fill=\"none\" points=\"480,-332.5 480,-378.5 \" stroke=\"#000000\"/>\n",
       "<text fill=\"#000000\" font-family=\"Times,serif\" font-size=\"14.00\" text-anchor=\"middle\" x=\"539.5\" y=\"-363.3\">(None, 350, 8)</text>\n",
       "<polyline fill=\"none\" points=\"480,-355.5 599,-355.5 \" stroke=\"#000000\"/>\n",
       "<text fill=\"#000000\" font-family=\"Times,serif\" font-size=\"14.00\" text-anchor=\"middle\" x=\"539.5\" y=\"-340.3\">(None, 350, 1)</text>\n",
       "</g>\n",
       "<!-- 140106943453168&#45;&gt;140106943819112 -->\n",
       "<g class=\"edge\" id=\"edge4\">\n",
       "<title>140106943453168-&gt;140106943819112</title>\n",
       "<path d=\"M299.5,-415.3799C299.5,-407.1745 299.5,-397.7679 299.5,-388.8786\" fill=\"none\" stroke=\"#000000\"/>\n",
       "<polygon fill=\"#000000\" points=\"303.0001,-388.784 299.5,-378.784 296.0001,-388.784 303.0001,-388.784\" stroke=\"#000000\"/>\n",
       "</g>\n",
       "<!-- 140106943854576 -->\n",
       "<g class=\"node\" id=\"node6\">\n",
       "<title>140106943854576</title>\n",
       "<polygon fill=\"none\" points=\"135.5,-249.5 135.5,-295.5 463.5,-295.5 463.5,-249.5 135.5,-249.5\" stroke=\"#000000\"/>\n",
       "<text fill=\"#000000\" font-family=\"Times,serif\" font-size=\"14.00\" text-anchor=\"middle\" x=\"206\" y=\"-268.8\">flatten_4: Flatten</text>\n",
       "<polyline fill=\"none\" points=\"276.5,-249.5 276.5,-295.5 \" stroke=\"#000000\"/>\n",
       "<text fill=\"#000000\" font-family=\"Times,serif\" font-size=\"14.00\" text-anchor=\"middle\" x=\"310.5\" y=\"-280.3\">input:</text>\n",
       "<polyline fill=\"none\" points=\"276.5,-272.5 344.5,-272.5 \" stroke=\"#000000\"/>\n",
       "<text fill=\"#000000\" font-family=\"Times,serif\" font-size=\"14.00\" text-anchor=\"middle\" x=\"310.5\" y=\"-257.3\">output:</text>\n",
       "<polyline fill=\"none\" points=\"344.5,-249.5 344.5,-295.5 \" stroke=\"#000000\"/>\n",
       "<text fill=\"#000000\" font-family=\"Times,serif\" font-size=\"14.00\" text-anchor=\"middle\" x=\"404\" y=\"-280.3\">(None, 350, 1)</text>\n",
       "<polyline fill=\"none\" points=\"344.5,-272.5 463.5,-272.5 \" stroke=\"#000000\"/>\n",
       "<text fill=\"#000000\" font-family=\"Times,serif\" font-size=\"14.00\" text-anchor=\"middle\" x=\"404\" y=\"-257.3\">(None, 350)</text>\n",
       "</g>\n",
       "<!-- 140106943819112&#45;&gt;140106943854576 -->\n",
       "<g class=\"edge\" id=\"edge5\">\n",
       "<title>140106943819112-&gt;140106943854576</title>\n",
       "<path d=\"M299.5,-332.3799C299.5,-324.1745 299.5,-314.7679 299.5,-305.8786\" fill=\"none\" stroke=\"#000000\"/>\n",
       "<polygon fill=\"#000000\" points=\"303.0001,-305.784 299.5,-295.784 296.0001,-305.784 303.0001,-305.784\" stroke=\"#000000\"/>\n",
       "</g>\n",
       "<!-- 140106943818664 -->\n",
       "<g class=\"node\" id=\"node7\">\n",
       "<title>140106943818664</title>\n",
       "<polygon fill=\"none\" points=\"44.5,-166.5 44.5,-212.5 554.5,-212.5 554.5,-166.5 44.5,-166.5\" stroke=\"#000000\"/>\n",
       "<text fill=\"#000000\" font-family=\"Times,serif\" font-size=\"14.00\" text-anchor=\"middle\" x=\"215\" y=\"-185.8\">batch_normalization_18: BatchNormalization</text>\n",
       "<polyline fill=\"none\" points=\"385.5,-166.5 385.5,-212.5 \" stroke=\"#000000\"/>\n",
       "<text fill=\"#000000\" font-family=\"Times,serif\" font-size=\"14.00\" text-anchor=\"middle\" x=\"419.5\" y=\"-197.3\">input:</text>\n",
       "<polyline fill=\"none\" points=\"385.5,-189.5 453.5,-189.5 \" stroke=\"#000000\"/>\n",
       "<text fill=\"#000000\" font-family=\"Times,serif\" font-size=\"14.00\" text-anchor=\"middle\" x=\"419.5\" y=\"-174.3\">output:</text>\n",
       "<polyline fill=\"none\" points=\"453.5,-166.5 453.5,-212.5 \" stroke=\"#000000\"/>\n",
       "<text fill=\"#000000\" font-family=\"Times,serif\" font-size=\"14.00\" text-anchor=\"middle\" x=\"504\" y=\"-197.3\">(None, 350)</text>\n",
       "<polyline fill=\"none\" points=\"453.5,-189.5 554.5,-189.5 \" stroke=\"#000000\"/>\n",
       "<text fill=\"#000000\" font-family=\"Times,serif\" font-size=\"14.00\" text-anchor=\"middle\" x=\"504\" y=\"-174.3\">(None, 350)</text>\n",
       "</g>\n",
       "<!-- 140106943854576&#45;&gt;140106943818664 -->\n",
       "<g class=\"edge\" id=\"edge6\">\n",
       "<title>140106943854576-&gt;140106943818664</title>\n",
       "<path d=\"M299.5,-249.3799C299.5,-241.1745 299.5,-231.7679 299.5,-222.8786\" fill=\"none\" stroke=\"#000000\"/>\n",
       "<polygon fill=\"#000000\" points=\"303.0001,-222.784 299.5,-212.784 296.0001,-222.784 303.0001,-222.784\" stroke=\"#000000\"/>\n",
       "</g>\n",
       "<!-- 140106944662440 -->\n",
       "<g class=\"node\" id=\"node8\">\n",
       "<title>140106944662440</title>\n",
       "<polygon fill=\"none\" points=\"146.5,-83.5 146.5,-129.5 452.5,-129.5 452.5,-83.5 146.5,-83.5\" stroke=\"#000000\"/>\n",
       "<text fill=\"#000000\" font-family=\"Times,serif\" font-size=\"14.00\" text-anchor=\"middle\" x=\"215\" y=\"-102.8\">dense_38: Dense</text>\n",
       "<polyline fill=\"none\" points=\"283.5,-83.5 283.5,-129.5 \" stroke=\"#000000\"/>\n",
       "<text fill=\"#000000\" font-family=\"Times,serif\" font-size=\"14.00\" text-anchor=\"middle\" x=\"317.5\" y=\"-114.3\">input:</text>\n",
       "<polyline fill=\"none\" points=\"283.5,-106.5 351.5,-106.5 \" stroke=\"#000000\"/>\n",
       "<text fill=\"#000000\" font-family=\"Times,serif\" font-size=\"14.00\" text-anchor=\"middle\" x=\"317.5\" y=\"-91.3\">output:</text>\n",
       "<polyline fill=\"none\" points=\"351.5,-83.5 351.5,-129.5 \" stroke=\"#000000\"/>\n",
       "<text fill=\"#000000\" font-family=\"Times,serif\" font-size=\"14.00\" text-anchor=\"middle\" x=\"402\" y=\"-114.3\">(None, 350)</text>\n",
       "<polyline fill=\"none\" points=\"351.5,-106.5 452.5,-106.5 \" stroke=\"#000000\"/>\n",
       "<text fill=\"#000000\" font-family=\"Times,serif\" font-size=\"14.00\" text-anchor=\"middle\" x=\"402\" y=\"-91.3\">(None, 8)</text>\n",
       "</g>\n",
       "<!-- 140106943818664&#45;&gt;140106944662440 -->\n",
       "<g class=\"edge\" id=\"edge7\">\n",
       "<title>140106943818664-&gt;140106944662440</title>\n",
       "<path d=\"M299.5,-166.3799C299.5,-158.1745 299.5,-148.7679 299.5,-139.8786\" fill=\"none\" stroke=\"#000000\"/>\n",
       "<polygon fill=\"#000000\" points=\"303.0001,-139.784 299.5,-129.784 296.0001,-139.784 303.0001,-139.784\" stroke=\"#000000\"/>\n",
       "</g>\n",
       "<!-- 140106940857704 -->\n",
       "<g class=\"node\" id=\"node9\">\n",
       "<title>140106940857704</title>\n",
       "<polygon fill=\"none\" points=\"155.5,-.5 155.5,-46.5 443.5,-46.5 443.5,-.5 155.5,-.5\" stroke=\"#000000\"/>\n",
       "<text fill=\"#000000\" font-family=\"Times,serif\" font-size=\"14.00\" text-anchor=\"middle\" x=\"224\" y=\"-19.8\">dense_39: Dense</text>\n",
       "<polyline fill=\"none\" points=\"292.5,-.5 292.5,-46.5 \" stroke=\"#000000\"/>\n",
       "<text fill=\"#000000\" font-family=\"Times,serif\" font-size=\"14.00\" text-anchor=\"middle\" x=\"326.5\" y=\"-31.3\">input:</text>\n",
       "<polyline fill=\"none\" points=\"292.5,-23.5 360.5,-23.5 \" stroke=\"#000000\"/>\n",
       "<text fill=\"#000000\" font-family=\"Times,serif\" font-size=\"14.00\" text-anchor=\"middle\" x=\"326.5\" y=\"-8.3\">output:</text>\n",
       "<polyline fill=\"none\" points=\"360.5,-.5 360.5,-46.5 \" stroke=\"#000000\"/>\n",
       "<text fill=\"#000000\" font-family=\"Times,serif\" font-size=\"14.00\" text-anchor=\"middle\" x=\"402\" y=\"-31.3\">(None, 8)</text>\n",
       "<polyline fill=\"none\" points=\"360.5,-23.5 443.5,-23.5 \" stroke=\"#000000\"/>\n",
       "<text fill=\"#000000\" font-family=\"Times,serif\" font-size=\"14.00\" text-anchor=\"middle\" x=\"402\" y=\"-8.3\">(None, 2)</text>\n",
       "</g>\n",
       "<!-- 140106944662440&#45;&gt;140106940857704 -->\n",
       "<g class=\"edge\" id=\"edge8\">\n",
       "<title>140106944662440-&gt;140106940857704</title>\n",
       "<path d=\"M299.5,-83.3799C299.5,-75.1745 299.5,-65.7679 299.5,-56.8786\" fill=\"none\" stroke=\"#000000\"/>\n",
       "<polygon fill=\"#000000\" points=\"303.0001,-56.784 299.5,-46.784 296.0001,-56.784 303.0001,-56.784\" stroke=\"#000000\"/>\n",
       "</g>\n",
       "</g>\n",
       "</svg>"
      ],
      "text/plain": [
       "<IPython.core.display.SVG object>"
      ]
     },
     "execution_count": 277,
     "metadata": {},
     "output_type": "execute_result"
    }
   ],
   "source": [
    "SVG(model_to_dot(model, show_shapes=True).create(prog='dot', format='svg'))"
   ]
  },
  {
   "cell_type": "code",
   "execution_count": 280,
   "metadata": {
    "scrolled": true
   },
   "outputs": [
    {
     "name": "stdout",
     "output_type": "stream",
     "text": [
      "Train on 22500 samples, validate on 2500 samples\n",
      "Epoch 1/50\n",
      "20992/22500 [==========================>...] - ETA: 0s - loss: 0.0518 - acc: 0.9828\n",
      "Epoch 00001: val_loss did not improve\n",
      "22500/22500 [==============================] - 1s 29us/step - loss: 0.0516 - acc: 0.9829 - val_loss: 0.3788 - val_acc: 0.8816\n",
      "Epoch 2/50\n",
      "20992/22500 [==========================>...] - ETA: 0s - loss: 0.0546 - acc: 0.9817\n",
      "Epoch 00002: val_loss did not improve\n",
      "22500/22500 [==============================] - 1s 29us/step - loss: 0.0545 - acc: 0.9815 - val_loss: 0.3701 - val_acc: 0.8872\n",
      "Epoch 3/50\n",
      "20992/22500 [==========================>...] - ETA: 0s - loss: 0.0505 - acc: 0.9835\n",
      "Epoch 00003: val_loss did not improve\n",
      "22500/22500 [==============================] - 1s 29us/step - loss: 0.0503 - acc: 0.9837 - val_loss: 0.3922 - val_acc: 0.8880\n",
      "Epoch 4/50\n",
      "20992/22500 [==========================>...] - ETA: 0s - loss: 0.0486 - acc: 0.9853\n",
      "Epoch 00004: val_loss did not improve\n",
      "22500/22500 [==============================] - 1s 28us/step - loss: 0.0484 - acc: 0.9852 - val_loss: 0.3772 - val_acc: 0.8872\n",
      "Epoch 5/50\n",
      "20992/22500 [==========================>...] - ETA: 0s - loss: 0.0500 - acc: 0.9848\n",
      "Epoch 00005: val_loss did not improve\n",
      "22500/22500 [==============================] - 1s 28us/step - loss: 0.0504 - acc: 0.9846 - val_loss: 0.3780 - val_acc: 0.8884\n",
      "Epoch 6/50\n",
      "20992/22500 [==========================>...] - ETA: 0s - loss: 0.0478 - acc: 0.9845\n",
      "Epoch 00006: val_loss did not improve\n",
      "22500/22500 [==============================] - 1s 28us/step - loss: 0.0474 - acc: 0.9848 - val_loss: 0.3820 - val_acc: 0.8876\n",
      "Epoch 7/50\n",
      "20992/22500 [==========================>...] - ETA: 0s - loss: 0.0475 - acc: 0.9847\n",
      "Epoch 00007: val_loss did not improve\n",
      "22500/22500 [==============================] - 1s 28us/step - loss: 0.0471 - acc: 0.9850 - val_loss: 0.3839 - val_acc: 0.8860\n",
      "Epoch 8/50\n",
      "20992/22500 [==========================>...] - ETA: 0s - loss: 0.0468 - acc: 0.9845\n",
      "Epoch 00008: val_loss did not improve\n",
      "22500/22500 [==============================] - 1s 28us/step - loss: 0.0471 - acc: 0.9841 - val_loss: 0.3900 - val_acc: 0.8816\n",
      "Epoch 9/50\n",
      "20992/22500 [==========================>...] - ETA: 0s - loss: 0.0476 - acc: 0.9856\n",
      "Epoch 00009: val_loss did not improve\n",
      "22500/22500 [==============================] - 1s 29us/step - loss: 0.0472 - acc: 0.9856 - val_loss: 0.4011 - val_acc: 0.8804\n",
      "Epoch 10/50\n",
      "20992/22500 [==========================>...] - ETA: 0s - loss: 0.0469 - acc: 0.9845\n",
      "Epoch 00010: val_loss did not improve\n",
      "22500/22500 [==============================] - 1s 27us/step - loss: 0.0467 - acc: 0.9845 - val_loss: 0.4175 - val_acc: 0.8832\n",
      "Epoch 11/50\n",
      "20992/22500 [==========================>...] - ETA: 0s - loss: 0.0431 - acc: 0.9870\n",
      "Epoch 00011: val_loss did not improve\n",
      "22500/22500 [==============================] - 1s 28us/step - loss: 0.0432 - acc: 0.9867 - val_loss: 0.4091 - val_acc: 0.8808\n",
      "Epoch 12/50\n",
      "20992/22500 [==========================>...] - ETA: 0s - loss: 0.0442 - acc: 0.9854\n",
      "Epoch 00012: val_loss did not improve\n",
      "22500/22500 [==============================] - 1s 28us/step - loss: 0.0447 - acc: 0.9852 - val_loss: 0.4379 - val_acc: 0.8796\n",
      "Epoch 13/50\n",
      "20992/22500 [==========================>...] - ETA: 0s - loss: 0.0415 - acc: 0.9863\n",
      "Epoch 00013: val_loss did not improve\n",
      "22500/22500 [==============================] - 1s 29us/step - loss: 0.0414 - acc: 0.9862 - val_loss: 0.4299 - val_acc: 0.8848\n",
      "Epoch 14/50\n",
      "20992/22500 [==========================>...] - ETA: 0s - loss: 0.0418 - acc: 0.9869\n",
      "Epoch 00014: val_loss did not improve\n",
      "22500/22500 [==============================] - 1s 28us/step - loss: 0.0412 - acc: 0.9871 - val_loss: 0.4430 - val_acc: 0.8780\n",
      "Epoch 15/50\n",
      "20992/22500 [==========================>...] - ETA: 0s - loss: 0.0394 - acc: 0.9872\n",
      "Epoch 00015: val_loss did not improve\n",
      "22500/22500 [==============================] - 1s 29us/step - loss: 0.0400 - acc: 0.9872 - val_loss: 0.4108 - val_acc: 0.8864\n",
      "Epoch 16/50\n",
      "20992/22500 [==========================>...] - ETA: 0s - loss: 0.0393 - acc: 0.9876\n",
      "Epoch 00016: val_loss did not improve\n",
      "22500/22500 [==============================] - 1s 29us/step - loss: 0.0396 - acc: 0.9874 - val_loss: 0.4164 - val_acc: 0.8868\n",
      "Epoch 17/50\n",
      "20992/22500 [==========================>...] - ETA: 0s - loss: 0.0377 - acc: 0.9881\n",
      "Epoch 00017: val_loss did not improve\n",
      "22500/22500 [==============================] - 1s 28us/step - loss: 0.0386 - acc: 0.9878 - val_loss: 0.4683 - val_acc: 0.8772\n"
     ]
    },
    {
     "data": {
      "text/plain": [
       "<keras.callbacks.History at 0x7f6d2e77fcc0>"
      ]
     },
     "execution_count": 280,
     "metadata": {},
     "output_type": "execute_result"
    }
   ],
   "source": [
    "model.fit(X_train, y_train, batch_size=BATCH_SIZE, epochs=EPOCHS, validation_data=[X_val, y_val], callbacks=callbacks_list)"
   ]
  },
  {
   "cell_type": "code",
   "execution_count": 233,
   "metadata": {},
   "outputs": [
    {
     "data": {
      "text/plain": [
       "<matplotlib.axes._subplots.AxesSubplot at 0x7f6d26ea4588>"
      ]
     },
     "execution_count": 233,
     "metadata": {},
     "output_type": "execute_result"
    },
    {
     "data": {
      "image/png": "[encoded data removed]",
      "text/plain": [
       "<matplotlib.figure.Figure at 0x7f6d26f0aef0>"
      ]
     },
     "metadata": {},
     "output_type": "display_data"
    }
   ],
   "source": [
    "pd.DataFrame(model.history.history).plot(figsize=(12,8))"
   ]
  },
  {
   "cell_type": "code",
   "execution_count": 281,
   "metadata": {
    "collapsed": true
   },
   "outputs": [],
   "source": [
    "model = load_model(filepath=FILE_PATH, custom_objects={'AttentionWithContext': AttentionWithContext})"
   ]
  },
  {
   "cell_type": "code",
   "execution_count": 282,
   "metadata": {
    "collapsed": true
   },
   "outputs": [],
   "source": [
    "y_val_hat = model.predict(X_val)"
   ]
  },
  {
   "cell_type": "code",
   "execution_count": 283,
   "metadata": {},
   "outputs": [
    {
     "name": "stdout",
     "output_type": "stream",
     "text": [
      "0.8848\n",
      "0.955568316842\n"
     ]
    },
    {
     "ename": "ValueError",
     "evalue": "multilabel-indicator is not supported",
     "output_type": "error",
     "traceback": [
      "\u001b[0;31m---------------------------------------------------------------------------\u001b[0m",
      "\u001b[0;31mValueError\u001b[0m                                Traceback (most recent call last)",
      "\u001b[0;32m<ipython-input-283-f4dc05fa1898>\u001b[0m in \u001b[0;36m<module>\u001b[0;34m()\u001b[0m\n\u001b[1;32m      1\u001b[0m \u001b[0mprint\u001b[0m\u001b[0;34m(\u001b[0m\u001b[0maccuracy_score\u001b[0m\u001b[0;34m(\u001b[0m\u001b[0my_val\u001b[0m\u001b[0;34m,\u001b[0m \u001b[0my_val_hat\u001b[0m \u001b[0;34m>\u001b[0m \u001b[0;36m0.5\u001b[0m\u001b[0;34m)\u001b[0m\u001b[0;34m)\u001b[0m\u001b[0;34m\u001b[0m\u001b[0m\n\u001b[1;32m      2\u001b[0m \u001b[0mprint\u001b[0m\u001b[0;34m(\u001b[0m\u001b[0mroc_auc_score\u001b[0m\u001b[0;34m(\u001b[0m\u001b[0my_val\u001b[0m\u001b[0;34m,\u001b[0m \u001b[0my_val_hat\u001b[0m\u001b[0;34m)\u001b[0m\u001b[0;34m)\u001b[0m\u001b[0;34m\u001b[0m\u001b[0m\n\u001b[0;32m----> 3\u001b[0;31m \u001b[0mprint\u001b[0m\u001b[0;34m(\u001b[0m\u001b[0mconfusion_matrix\u001b[0m\u001b[0;34m(\u001b[0m\u001b[0my_val\u001b[0m\u001b[0;34m,\u001b[0m \u001b[0my_val_hat\u001b[0m \u001b[0;34m>\u001b[0m \u001b[0;36m0.5\u001b[0m\u001b[0;34m)\u001b[0m\u001b[0;34m)\u001b[0m\u001b[0;34m\u001b[0m\u001b[0m\n\u001b[0m\u001b[1;32m      4\u001b[0m \u001b[0mprint\u001b[0m\u001b[0;34m(\u001b[0m\u001b[0mclassification_report\u001b[0m\u001b[0;34m(\u001b[0m\u001b[0my_val\u001b[0m\u001b[0;34m,\u001b[0m \u001b[0my_val_hat\u001b[0m \u001b[0;34m>\u001b[0m \u001b[0;36m0.5\u001b[0m\u001b[0;34m)\u001b[0m\u001b[0;34m)\u001b[0m\u001b[0;34m\u001b[0m\u001b[0m\n",
      "\u001b[0;32m/opt/conda/lib/python3.6/site-packages/sklearn/metrics/classification.py\u001b[0m in \u001b[0;36mconfusion_matrix\u001b[0;34m(y_true, y_pred, labels, sample_weight)\u001b[0m\n\u001b[1;32m    250\u001b[0m     \u001b[0my_type\u001b[0m\u001b[0;34m,\u001b[0m \u001b[0my_true\u001b[0m\u001b[0;34m,\u001b[0m \u001b[0my_pred\u001b[0m \u001b[0;34m=\u001b[0m \u001b[0m_check_targets\u001b[0m\u001b[0;34m(\u001b[0m\u001b[0my_true\u001b[0m\u001b[0;34m,\u001b[0m \u001b[0my_pred\u001b[0m\u001b[0;34m)\u001b[0m\u001b[0;34m\u001b[0m\u001b[0m\n\u001b[1;32m    251\u001b[0m     \u001b[0;32mif\u001b[0m \u001b[0my_type\u001b[0m \u001b[0;32mnot\u001b[0m \u001b[0;32min\u001b[0m \u001b[0;34m(\u001b[0m\u001b[0;34m\"binary\"\u001b[0m\u001b[0;34m,\u001b[0m \u001b[0;34m\"multiclass\"\u001b[0m\u001b[0;34m)\u001b[0m\u001b[0;34m:\u001b[0m\u001b[0;34m\u001b[0m\u001b[0m\n\u001b[0;32m--> 252\u001b[0;31m         \u001b[0;32mraise\u001b[0m \u001b[0mValueError\u001b[0m\u001b[0;34m(\u001b[0m\u001b[0;34m\"%s is not supported\"\u001b[0m \u001b[0;34m%\u001b[0m \u001b[0my_type\u001b[0m\u001b[0;34m)\u001b[0m\u001b[0;34m\u001b[0m\u001b[0m\n\u001b[0m\u001b[1;32m    253\u001b[0m \u001b[0;34m\u001b[0m\u001b[0m\n\u001b[1;32m    254\u001b[0m     \u001b[0;32mif\u001b[0m \u001b[0mlabels\u001b[0m \u001b[0;32mis\u001b[0m \u001b[0;32mNone\u001b[0m\u001b[0;34m:\u001b[0m\u001b[0;34m\u001b[0m\u001b[0m\n",
      "\u001b[0;31mValueError\u001b[0m: multilabel-indicator is not supported"
     ]
    }
   ],
   "source": [
    "print(accuracy_score(y_val, y_val_hat > 0.5))\n",
    "print(roc_auc_score(y_val, y_val_hat))\n",
    "print(confusion_matrix(y_val, y_val_hat > 0.5))\n",
    "print(classification_report(y_val, y_val_hat > 0.5))"
   ]
  },
  {
   "cell_type": "markdown",
   "metadata": {},
   "source": [
    "Useful tutorials:\n",
    "* http://konukoii.com/blog/2018/02/19/twitter-sentiment-analysis-using-combined-lstm-cnn-models/"
   ]
  },
  {
   "cell_type": "markdown",
   "metadata": {},
   "source": [
    "#### Extract Activations"
   ]
  },
  {
   "cell_type": "code",
   "execution_count": 78,
   "metadata": {
    "collapsed": true
   },
   "outputs": [],
   "source": [
    "from IPython.display import display, HTML"
   ]
  },
  {
   "cell_type": "code",
   "execution_count": 237,
   "metadata": {
    "collapsed": true
   },
   "outputs": [],
   "source": [
    "def create_get_activation_function(model, output_layer_int):\n",
    "    inp = model.input\n",
    "    output = model.layers[output_layer_int].output\n",
    "    get_activations = K.function([inp]+ [K.learning_phase()], [output])\n",
    "    return get_activations"
   ]
  },
  {
   "cell_type": "code",
   "execution_count": 284,
   "metadata": {
    "collapsed": true
   },
   "outputs": [],
   "source": [
    "act_model = load_model(filepath=FILE_PATH, custom_objects={'AttentionWithContext': AttentionWithContext})\n",
    "get_activations = create_get_activation_function(act_model, 3)"
   ]
  },
  {
   "cell_type": "code",
   "execution_count": 285,
   "metadata": {
    "collapsed": true
   },
   "outputs": [],
   "source": [
    "word_to_hash = tokenizer.word_index\n",
    "hash_to_word = {v:k for k,v in word_to_hash.items()}\n",
    "hash_to_word[0] = ''"
   ]
  },
  {
   "cell_type": "code",
   "execution_count": 286,
   "metadata": {
    "collapsed": true
   },
   "outputs": [],
   "source": [
    "cmap = plt.cm.get_cmap('RdYlGn')"
   ]
  },
  {
   "cell_type": "code",
   "execution_count": 293,
   "metadata": {
    "scrolled": true
   },
   "outputs": [
    {
     "name": "stderr",
     "output_type": "stream",
     "text": [
      "/opt/conda/lib/python3.6/site-packages/ipykernel_launcher.py:10: FutureWarning: pd.rolling_mean is deprecated for ndarrays and will be removed in a future version\n",
      "  # Remove the CWD from sys.path while we load stuff.\n"
     ]
    },
    {
     "data": {
      "text/html": [
       "<p>For training example: 4505</p><p>CNN Filter: 0</p><p><span style=\"background-color: #eef8a8\"></span> <span style=\"background-color: #eef8a8\"></span> <span style=\"background-color: #eef8a8\"></span> <span style=\"background-color: #ecf7a6\"></span> <span style=\"background-color: #ecf7a6\"></span> <span style=\"background-color: #ecf7a6\"></span> <span style=\"background-color: #ecf7a6\"></span> <span style=\"background-color: #ecf7a6\"></span> <span style=\"background-color: #ecf7a6\"></span> <span style=\"background-color: #ecf7a6\"></span> <span style=\"background-color: #ecf7a6\"></span> <span style=\"background-color: #ecf7a6\"></span> <span style=\"background-color: #ecf7a6\"></span> <span style=\"background-color: #ecf7a6\"></span> <span style=\"background-color: #ecf7a6\"></span> <span style=\"background-color: #ecf7a6\"></span> <span style=\"background-color: #ecf7a6\"></span> <span style=\"background-color: #ecf7a6\"></span> <span style=\"background-color: #ecf7a6\"></span> <span style=\"background-color: #ecf7a6\"></span> <span style=\"background-color: #ecf7a6\"></span> <span style=\"background-color: #ecf7a6\"></span> <span style=\"background-color: #ecf7a6\"></span> <span style=\"background-color: #ecf7a6\"></span> <span style=\"background-color: #ecf7a6\"></span> <span style=\"background-color: #ecf7a6\"></span> <span style=\"background-color: #ecf7a6\"></span> <span style=\"background-color: #ecf7a6\"></span> <span style=\"background-color: #ecf7a6\"></span> <span style=\"background-color: #ecf7a6\"></span> <span style=\"background-color: #ecf7a6\"></span> <span style=\"background-color: #ecf7a6\"></span> <span style=\"background-color: #ecf7a6\"></span> <span style=\"background-color: #ecf7a6\"></span> <span style=\"background-color: #ecf7a6\"></span> <span style=\"background-color: #ecf7a6\"></span> <span style=\"background-color: #ecf7a6\"></span> <span style=\"background-color: #ecf7a6\"></span> <span style=\"background-color: #ecf7a6\"></span> <span style=\"background-color: #ecf7a6\"></span> <span style=\"background-color: #ecf7a6\"></span> <span style=\"background-color: #ecf7a6\"></span> <span style=\"background-color: #ecf7a6\"></span> <span style=\"background-color: #ecf7a6\"></span> <span style=\"background-color: #ecf7a6\"></span> <span style=\"background-color: #ecf7a6\"></span> <span style=\"background-color: #ecf7a6\"></span> <span style=\"background-color: #ecf7a6\"></span> <span style=\"background-color: #ecf7a6\"></span> <span style=\"background-color: #ecf7a6\"></span> <span style=\"background-color: #ecf7a6\"></span> <span style=\"background-color: #ecf7a6\"></span> <span style=\"background-color: #ecf7a6\"></span> <span style=\"background-color: #ecf7a6\"></span> <span style=\"background-color: #ecf7a6\"></span> <span style=\"background-color: #ecf7a6\"></span> <span style=\"background-color: #ecf7a6\"></span> <span style=\"background-color: #ecf7a6\"></span> <span style=\"background-color: #ecf7a6\"></span> <span style=\"background-color: #ecf7a6\"></span> <span style=\"background-color: #ecf7a6\"></span> <span style=\"background-color: #ecf7a6\"></span> <span style=\"background-color: #ecf7a6\"></span> <span style=\"background-color: #ecf7a6\"></span> <span style=\"background-color: #ecf7a6\"></span> <span style=\"background-color: #ecf7a6\"></span> <span style=\"background-color: #ecf7a6\"></span> <span style=\"background-color: #ecf7a6\"></span> <span style=\"background-color: #ecf7a6\"></span> <span style=\"background-color: #ecf7a6\"></span> <span style=\"background-color: #ecf7a6\"></span> <span style=\"background-color: #ecf7a6\"></span> <span style=\"background-color: #ecf7a6\"></span> <span style=\"background-color: #ecf7a6\"></span> <span style=\"background-color: #ecf7a6\"></span> <span style=\"background-color: #ecf7a6\"></span> <span style=\"background-color: #ecf7a6\"></span> <span style=\"background-color: #ecf7a6\"></span> <span style=\"background-color: #ecf7a6\"></span> <span style=\"background-color: #ecf7a6\"></span> <span style=\"background-color: #ecf7a6\"></span> <span style=\"background-color: #ecf7a6\"></span> <span style=\"background-color: #ecf7a6\"></span> <span style=\"background-color: #ecf7a6\"></span> <span style=\"background-color: #ecf7a6\"></span> <span style=\"background-color: #ecf7a6\"></span> <span style=\"background-color: #ecf7a6\"></span> <span style=\"background-color: #ecf7a6\"></span> <span style=\"background-color: #ecf7a6\"></span> <span style=\"background-color: #ecf7a6\"></span> <span style=\"background-color: #ecf7a6\"></span> <span style=\"background-color: #ecf7a6\"></span> <span style=\"background-color: #ecf7a6\"></span> <span style=\"background-color: #ecf7a6\"></span> <span style=\"background-color: #ecf7a6\"></span> <span style=\"background-color: #ecf7a6\"></span> <span style=\"background-color: #ecf7a6\"></span> <span style=\"background-color: #ecf7a6\"></span> <span style=\"background-color: #ecf7a6\"></span> <span style=\"background-color: #ecf7a6\"></span> <span style=\"background-color: #ecf7a6\"></span> <span style=\"background-color: #ecf7a6\"></span> <span style=\"background-color: #ecf7a6\"></span> <span style=\"background-color: #ecf7a6\"></span> <span style=\"background-color: #ecf7a6\"></span> <span style=\"background-color: #ecf7a6\"></span> <span style=\"background-color: #ecf7a6\"></span> <span style=\"background-color: #ecf7a6\"></span> <span style=\"background-color: #ecf7a6\"></span> <span style=\"background-color: #ecf7a6\"></span> <span style=\"background-color: #ecf7a6\"></span> <span style=\"background-color: #ecf7a6\"></span> <span style=\"background-color: #ecf7a6\"></span> <span style=\"background-color: #ecf7a6\"></span> <span style=\"background-color: #ecf7a6\"></span> <span style=\"background-color: #ecf7a6\"></span> <span style=\"background-color: #ecf7a6\"></span> <span style=\"background-color: #ecf7a6\"></span> <span style=\"background-color: #ecf7a6\"></span> <span style=\"background-color: #ecf7a6\"></span> <span style=\"background-color: #ecf7a6\"></span> <span style=\"background-color: #ecf7a6\"></span> <span style=\"background-color: #ecf7a6\"></span> <span style=\"background-color: #ecf7a6\"></span> <span style=\"background-color: #ecf7a6\"></span> <span style=\"background-color: #ecf7a6\"></span> <span style=\"background-color: #ecf7a6\"></span> <span style=\"background-color: #ecf7a6\"></span> <span style=\"background-color: #ecf7a6\"></span> <span style=\"background-color: #ecf7a6\"></span> <span style=\"background-color: #ecf7a6\"></span> <span style=\"background-color: #ecf7a6\"></span> <span style=\"background-color: #ecf7a6\"></span> <span style=\"background-color: #ecf7a6\"></span> <span style=\"background-color: #ecf7a6\"></span> <span style=\"background-color: #ecf7a6\"></span> <span style=\"background-color: #ecf7a6\"></span> <span style=\"background-color: #ecf7a6\"></span> <span style=\"background-color: #ecf7a6\"></span> <span style=\"background-color: #ecf7a6\"></span> <span style=\"background-color: #ecf7a6\"></span> <span style=\"background-color: #ecf7a6\"></span> <span style=\"background-color: #ecf7a6\"></span> <span style=\"background-color: #ecf7a6\"></span> <span style=\"background-color: #ecf7a6\"></span> <span style=\"background-color: #ecf7a6\"></span> <span style=\"background-color: #ecf7a6\"></span> <span style=\"background-color: #ecf7a6\"></span> <span style=\"background-color: #ecf7a6\"></span> <span style=\"background-color: #ecf7a6\"></span> <span style=\"background-color: #ecf7a6\"></span> <span style=\"background-color: #ecf7a6\"></span> <span style=\"background-color: #ecf7a6\"></span> <span style=\"background-color: #ecf7a6\"></span> <span style=\"background-color: #ecf7a6\"></span> <span style=\"background-color: #ecf7a6\"></span> <span style=\"background-color: #ecf7a6\"></span> <span style=\"background-color: #ecf7a6\"></span> <span style=\"background-color: #ecf7a6\"></span> <span style=\"background-color: #ecf7a6\"></span> <span style=\"background-color: #ecf7a6\"></span> <span style=\"background-color: #ecf7a6\"></span> <span style=\"background-color: #ecf7a6\"></span> <span style=\"background-color: #ecf7a6\"></span> <span style=\"background-color: #ecf7a6\"></span> <span style=\"background-color: #ecf7a6\"></span> <span style=\"background-color: #ecf7a6\"></span> <span style=\"background-color: #ecf7a6\"></span> <span style=\"background-color: #ecf7a6\"></span> <span style=\"background-color: #ecf7a6\"></span> <span style=\"background-color: #ecf7a6\"></span> <span style=\"background-color: #ecf7a6\"></span> <span style=\"background-color: #ecf7a6\"></span> <span style=\"background-color: #ecf7a6\"></span> <span style=\"background-color: #ecf7a6\"></span> <span style=\"background-color: #ecf7a6\"></span> <span style=\"background-color: #ecf7a6\"></span> <span style=\"background-color: #ecf7a6\"></span> <span style=\"background-color: #ecf7a6\"></span> <span style=\"background-color: #ecf7a6\"></span> <span style=\"background-color: #ecf7a6\"></span> <span style=\"background-color: #ecf7a6\"></span> <span style=\"background-color: #ecf7a6\"></span> <span style=\"background-color: #ecf7a6\"></span> <span style=\"background-color: #ecf7a6\"></span> <span style=\"background-color: #ecf7a6\"></span> <span style=\"background-color: #ecf7a6\"></span> <span style=\"background-color: #ecf7a6\"></span> <span style=\"background-color: #ecf7a6\"></span> <span style=\"background-color: #ecf7a6\"></span> <span style=\"background-color: #ecf7a6\"></span> <span style=\"background-color: #ecf7a6\"></span> <span style=\"background-color: #ecf7a6\"></span> <span style=\"background-color: #ecf7a6\"></span> <span style=\"background-color: #ecf7a6\"></span> <span style=\"background-color: #ecf7a6\"></span> <span style=\"background-color: #ecf7a6\"></span> <span style=\"background-color: #ecf7a6\"></span> <span style=\"background-color: #ecf7a6\"></span> <span style=\"background-color: #ecf7a6\"></span> <span style=\"background-color: #ecf7a6\"></span> <span style=\"background-color: #ecf7a6\"></span> <span style=\"background-color: #ecf7a6\"></span> <span style=\"background-color: #ecf7a6\"></span> <span style=\"background-color: #ecf7a6\"></span> <span style=\"background-color: #ecf7a6\"></span> <span style=\"background-color: #ecf7a6\"></span> <span style=\"background-color: #ecf7a6\"></span> <span style=\"background-color: #e9f6a1\"></span> <span style=\"background-color: #e9f6a1\">this</span> <span style=\"background-color: #e9f6a1\">is</span> <span style=\"background-color: #f2faae\">an</span> <span style=\"background-color: #fee18d\">excellent</span> <span style=\"background-color: #fee593\">heartbreaking</span> <span style=\"background-color: #fff8b4\">movie</span> <span style=\"background-color: #daf08d\">it</span> <span style=\"background-color: #ddf191\">is</span> <span style=\"background-color: #ebf7a3\">by</span> <span style=\"background-color: #cbe982\">far</span> <span style=\"background-color: #eef8a8\">the</span> <span style=\"background-color: #fff0a6\">best</span> <span style=\"background-color: #fee08b\">i've</span> <span style=\"background-color: #fee797\">seen</span> <span style=\"background-color: #f8fcb6\">that</span> <span style=\"background-color: #feec9f\">depicts</span> <span style=\"background-color: #fff6b0\">the</span> <span style=\"background-color: #f7fcb4\">current</span> <span style=\"background-color: #dff293\">reality</span> <span style=\"background-color: #d7ee8a\">in</span> <span style=\"background-color: #fffdbc\">latin</span> <span style=\"background-color: #fffebe\">america</span> <span style=\"background-color: #feea9b\">corruption</span> <span style=\"background-color: #feeb9d\">ruthless</span> <span style=\"background-color: #fff0a6\">and</span> <span style=\"background-color: #fff3ac\">greedy</span> <span style=\"background-color: #fafdb8\">police</span> <span style=\"background-color: #d1ec86\">officials</span> <span style=\"background-color: #c9e881\">and</span> <span style=\"background-color: #e9f6a1\">heartless</span> <span style=\"background-color: #fee695\">mayhem</span> <span style=\"background-color: #fee593\">towards</span> <span style=\"background-color: #fec877\">innocent</span> <span style=\"background-color: #feefa3\">victims</span> <span style=\"background-color: #fff0a6\">denzel</span> <span style=\"background-color: #fafdb8\">gives</span> <span style=\"background-color: #fff0a6\">the</span> <span style=\"background-color: #fff1a8\">most</span> <span style=\"background-color: #eff8aa\">moving</span> <span style=\"background-color: #f7fcb4\">performance</span> <span style=\"background-color: #e2f397\">in</span> <span style=\"background-color: #e9f6a1\">his</span> <span style=\"background-color: #ddf191\">career</span> <span style=\"background-color: #e6f59d\">in</span> <span style=\"background-color: #e5f49b\">my</span> <span style=\"background-color: #feeb9d\">opinion</span> <span style=\"background-color: #fff3ac\">dakota</span> <span style=\"background-color: #feefa3\">fanning</span> <span style=\"background-color: #e5f49b\">is</span> <span style=\"background-color: #f8fcb6\">an</span> <span style=\"background-color: #fdc574\">amazing</span> <span style=\"background-color: #feefa3\">young</span> <span style=\"background-color: #fff7b2\">actress</span> <span style=\"background-color: #bbe278\">the</span> <span style=\"background-color: #e6f59d\">relationship</span> <span style=\"background-color: #bbe278\">between</span> <span style=\"background-color: #cbe982\">washington</span> <span style=\"background-color: #d1ec86\">and</span> <span style=\"background-color: #f4fab0\">fanning</span> <span style=\"background-color: #fffcba\">is</span> <span style=\"background-color: #fdb567\">wonderfully</span> <span style=\"background-color: #fdb163\">written</span> <span style=\"background-color: #fee18d\">and</span> <span style=\"background-color: #c7e77f\">portrayed</span> <span style=\"background-color: #cdea83\">i</span> <span style=\"background-color: #cbe982\">believed</span> <span style=\"background-color: #fafdb8\">every</span> <span style=\"background-color: #f1f9ac\">minute</span> <span style=\"background-color: #fffcba\">the</span> <span style=\"background-color: #ddf191\">cast</span> <span style=\"background-color: #f8fcb6\">is</span> <span style=\"background-color: #feda86\">brilliant</span> <span style=\"background-color: #fbfdba\">christopher</span> <span style=\"background-color: #e9f6a1\">walken</span> <span style=\"background-color: #b3df72\">mickey</span> <span style=\"background-color: #feec9f\">rourke</span> <span style=\"background-color: #fffdbc\">are</span> <span style=\"background-color: #fff1a8\">great</span> <span style=\"background-color: #f2faae\">as</span> <span style=\"background-color: #fff0a6\">always</span> <span style=\"background-color: #e8f59f\">walken</span> <span style=\"background-color: #e6f59d\">lights</span> <span style=\"background-color: #d3ec87\">up</span> <span style=\"background-color: #eff8aa\">the</span> <span style=\"background-color: #fff7b2\">screen</span> <span style=\"background-color: #fffdbc\">for</span> <span style=\"background-color: #fbfdba\">me</span> <span style=\"background-color: #d3ec87\">like</span> <span style=\"background-color: #c9e881\">no</span> <span style=\"background-color: #bfe47a\">other</span> <span style=\"background-color: #d9ef8b\">actor</span> <span style=\"background-color: #e5f49b\">i</span> <span style=\"background-color: #d9ef8b\">would</span> <span style=\"background-color: #d5ed88\">have</span> <span style=\"background-color: #fff0a6\">loved</span> <span style=\"background-color: #fffab6\">to</span> <span style=\"background-color: #feec9f\">see</span> <span style=\"background-color: #e2f397\">more</span> <span style=\"background-color: #fbfdba\">of</span> <span style=\"background-color: #fbfdba\">both</span> <span style=\"background-color: #f1f9ac\">of</span> <span style=\"background-color: #fafdb8\">them</span> <span style=\"background-color: #f8fcb6\">the</span> <span style=\"background-color: #feda86\">authentic</span> <span style=\"background-color: #fed481\">locations</span> <span style=\"background-color: #fff0a6\">are</span> <span style=\"background-color: #fff7b2\">remarkable</span> <span style=\"background-color: #fbfdba\">the</span> <span style=\"background-color: #fffebe\">camera</span> <span style=\"background-color: #daf08d\">work</span> <span style=\"background-color: #e6f59d\">is</span> <span style=\"background-color: #e9f6a1\">interesting</span> <span style=\"background-color: #fff1a8\">and</span> <span style=\"background-color: #fffdbc\">different</span> <span style=\"background-color: #feffbe\">there</span> <span style=\"background-color: #e2f397\">are</span> <span style=\"background-color: #eef8a8\">many</span> <span style=\"background-color: #f2faae\">famous</span> <span style=\"background-color: #fffbb8\">latin</span> <span style=\"background-color: #ebf7a3\">actors</span> <span style=\"background-color: #e5f49b\">in</span> <span style=\"background-color: #c3e67d\">the</span> <span style=\"background-color: #bde379\">cast</span> <span style=\"background-color: #abdb6d\">making</span> <span style=\"background-color: #b7e075\">it</span> <span style=\"background-color: #d5ed88\">all</span> <span style=\"background-color: #eef8a8\">the</span> <span style=\"background-color: #f1f9ac\">more</span> <span style=\"background-color: #f4fab0\">interesting</span> <span style=\"background-color: #ecf7a6\">for</span> <span style=\"background-color: #e0f295\">people</span> <span style=\"background-color: #e9f6a1\">familiar</span> <span style=\"background-color: #fdfebc\">with</span> <span style=\"background-color: #fff1a8\">latin</span> <span style=\"background-color: #feefa3\">american</span> <span style=\"background-color: #fffcba\">cinema</span> <span style=\"background-color: #fafdb8\">i</span> <span style=\"background-color: #fede89\">highly</span> <span style=\"background-color: #feec9f\">recommend</span> <span style=\"background-color: #fff2aa\">this</span> <span style=\"background-color: #d3ec87\">movie</span> </p><p>CNN Filter: 1</p><p><span style=\"background-color: #ebf7a3\"></span> <span style=\"background-color: #ebf7a3\"></span> <span style=\"background-color: #ebf7a3\"></span> <span style=\"background-color: #ecf7a6\"></span> <span style=\"background-color: #ecf7a6\"></span> <span style=\"background-color: #ecf7a6\"></span> <span style=\"background-color: #ecf7a6\"></span> <span style=\"background-color: #ecf7a6\"></span> <span style=\"background-color: #ecf7a6\"></span> <span style=\"background-color: #ecf7a6\"></span> <span style=\"background-color: #ecf7a6\"></span> <span style=\"background-color: #ecf7a6\"></span> <span style=\"background-color: #ecf7a6\"></span> <span style=\"background-color: #ecf7a6\"></span> <span style=\"background-color: #ecf7a6\"></span> <span style=\"background-color: #ecf7a6\"></span> <span style=\"background-color: #ecf7a6\"></span> <span style=\"background-color: #ecf7a6\"></span> <span style=\"background-color: #ecf7a6\"></span> <span style=\"background-color: #ecf7a6\"></span> <span style=\"background-color: #ecf7a6\"></span> <span style=\"background-color: #ecf7a6\"></span> <span style=\"background-color: #ecf7a6\"></span> <span style=\"background-color: #ecf7a6\"></span> <span style=\"background-color: #ecf7a6\"></span> <span style=\"background-color: #ecf7a6\"></span> <span style=\"background-color: #ecf7a6\"></span> <span style=\"background-color: #ecf7a6\"></span> <span style=\"background-color: #ecf7a6\"></span> <span style=\"background-color: #ecf7a6\"></span> <span style=\"background-color: #ecf7a6\"></span> <span style=\"background-color: #ecf7a6\"></span> <span style=\"background-color: #ecf7a6\"></span> <span style=\"background-color: #ecf7a6\"></span> <span style=\"background-color: #ecf7a6\"></span> <span style=\"background-color: #ecf7a6\"></span> <span style=\"background-color: #ecf7a6\"></span> <span style=\"background-color: #ecf7a6\"></span> <span style=\"background-color: #ecf7a6\"></span> <span style=\"background-color: #ecf7a6\"></span> <span style=\"background-color: #ecf7a6\"></span> <span style=\"background-color: #ecf7a6\"></span> <span style=\"background-color: #ecf7a6\"></span> <span style=\"background-color: #ecf7a6\"></span> <span style=\"background-color: #ecf7a6\"></span> <span style=\"background-color: #ecf7a6\"></span> <span style=\"background-color: #ecf7a6\"></span> <span style=\"background-color: #ecf7a6\"></span> <span style=\"background-color: #ecf7a6\"></span> <span style=\"background-color: #ecf7a6\"></span> <span style=\"background-color: #ecf7a6\"></span> <span style=\"background-color: #ecf7a6\"></span> <span style=\"background-color: #ecf7a6\"></span> <span style=\"background-color: #ecf7a6\"></span> <span style=\"background-color: #ecf7a6\"></span> <span style=\"background-color: #ecf7a6\"></span> <span style=\"background-color: #ecf7a6\"></span> <span style=\"background-color: #ecf7a6\"></span> <span style=\"background-color: #ecf7a6\"></span> <span style=\"background-color: #ecf7a6\"></span> <span style=\"background-color: #ecf7a6\"></span> <span style=\"background-color: #ecf7a6\"></span> <span style=\"background-color: #ecf7a6\"></span> <span style=\"background-color: #ecf7a6\"></span> <span style=\"background-color: #ecf7a6\"></span> <span style=\"background-color: #ecf7a6\"></span> <span style=\"background-color: #ecf7a6\"></span> <span style=\"background-color: #ecf7a6\"></span> <span style=\"background-color: #ecf7a6\"></span> <span style=\"background-color: #ecf7a6\"></span> <span style=\"background-color: #ecf7a6\"></span> <span style=\"background-color: #ecf7a6\"></span> <span style=\"background-color: #ecf7a6\"></span> <span style=\"background-color: #ecf7a6\"></span> <span style=\"background-color: #ecf7a6\"></span> <span style=\"background-color: #ecf7a6\"></span> <span style=\"background-color: #ecf7a6\"></span> <span style=\"background-color: #ecf7a6\"></span> <span style=\"background-color: #ecf7a6\"></span> <span style=\"background-color: #ecf7a6\"></span> <span style=\"background-color: #ecf7a6\"></span> <span style=\"background-color: #ecf7a6\"></span> <span style=\"background-color: #ecf7a6\"></span> <span style=\"background-color: #ecf7a6\"></span> <span style=\"background-color: #ecf7a6\"></span> <span style=\"background-color: #ecf7a6\"></span> <span style=\"background-color: #ecf7a6\"></span> <span style=\"background-color: #ecf7a6\"></span> <span style=\"background-color: #ecf7a6\"></span> <span style=\"background-color: #ecf7a6\"></span> <span style=\"background-color: #ecf7a6\"></span> <span style=\"background-color: #ecf7a6\"></span> <span style=\"background-color: #ecf7a6\"></span> <span style=\"background-color: #ecf7a6\"></span> <span style=\"background-color: #ecf7a6\"></span> <span style=\"background-color: #ecf7a6\"></span> <span style=\"background-color: #ecf7a6\"></span> <span style=\"background-color: #ecf7a6\"></span> <span style=\"background-color: #ecf7a6\"></span> <span style=\"background-color: #ecf7a6\"></span> <span style=\"background-color: #ecf7a6\"></span> <span style=\"background-color: #ecf7a6\"></span> <span style=\"background-color: #ecf7a6\"></span> <span style=\"background-color: #ecf7a6\"></span> <span style=\"background-color: #ecf7a6\"></span> <span style=\"background-color: #ecf7a6\"></span> <span style=\"background-color: #ecf7a6\"></span> <span style=\"background-color: #ecf7a6\"></span> <span style=\"background-color: #ecf7a6\"></span> <span style=\"background-color: #ecf7a6\"></span> <span style=\"background-color: #ecf7a6\"></span> <span style=\"background-color: #ecf7a6\"></span> <span style=\"background-color: #ecf7a6\"></span> <span style=\"background-color: #ecf7a6\"></span> <span style=\"background-color: #ecf7a6\"></span> <span style=\"background-color: #ecf7a6\"></span> <span style=\"background-color: #ecf7a6\"></span> <span style=\"background-color: #ecf7a6\"></span> <span style=\"background-color: #ecf7a6\"></span> <span style=\"background-color: #ecf7a6\"></span> <span style=\"background-color: #ecf7a6\"></span> <span style=\"background-color: #ecf7a6\"></span> <span style=\"background-color: #ecf7a6\"></span> <span style=\"background-color: #ecf7a6\"></span> <span style=\"background-color: #ecf7a6\"></span> <span style=\"background-color: #ecf7a6\"></span> <span style=\"background-color: #ecf7a6\"></span> <span style=\"background-color: #ecf7a6\"></span> <span style=\"background-color: #ecf7a6\"></span> <span style=\"background-color: #ecf7a6\"></span> <span style=\"background-color: #ecf7a6\"></span> <span style=\"background-color: #ecf7a6\"></span> <span style=\"background-color: #ecf7a6\"></span> <span style=\"background-color: #ecf7a6\"></span> <span style=\"background-color: #ecf7a6\"></span> <span style=\"background-color: #ecf7a6\"></span> <span style=\"background-color: #ecf7a6\"></span> <span style=\"background-color: #ecf7a6\"></span> <span style=\"background-color: #ecf7a6\"></span> <span style=\"background-color: #ecf7a6\"></span> <span style=\"background-color: #ecf7a6\"></span> <span style=\"background-color: #ecf7a6\"></span> <span style=\"background-color: #ecf7a6\"></span> <span style=\"background-color: #ecf7a6\"></span> <span style=\"background-color: #ecf7a6\"></span> <span style=\"background-color: #ecf7a6\"></span> <span style=\"background-color: #ecf7a6\"></span> <span style=\"background-color: #ecf7a6\"></span> <span style=\"background-color: #ecf7a6\"></span> <span style=\"background-color: #ecf7a6\"></span> <span style=\"background-color: #ecf7a6\"></span> <span style=\"background-color: #ecf7a6\"></span> <span style=\"background-color: #ecf7a6\"></span> <span style=\"background-color: #ecf7a6\"></span> <span style=\"background-color: #ecf7a6\"></span> <span style=\"background-color: #ecf7a6\"></span> <span style=\"background-color: #ecf7a6\"></span> <span style=\"background-color: #ecf7a6\"></span> <span style=\"background-color: #ecf7a6\"></span> <span style=\"background-color: #ecf7a6\"></span> <span style=\"background-color: #ecf7a6\"></span> <span style=\"background-color: #ecf7a6\"></span> <span style=\"background-color: #ecf7a6\"></span> <span style=\"background-color: #ecf7a6\"></span> <span style=\"background-color: #ecf7a6\"></span> <span style=\"background-color: #ecf7a6\"></span> <span style=\"background-color: #ecf7a6\"></span> <span style=\"background-color: #ecf7a6\"></span> <span style=\"background-color: #ecf7a6\"></span> <span style=\"background-color: #ecf7a6\"></span> <span style=\"background-color: #ecf7a6\"></span> <span style=\"background-color: #ecf7a6\"></span> <span style=\"background-color: #ecf7a6\"></span> <span style=\"background-color: #ecf7a6\"></span> <span style=\"background-color: #ecf7a6\"></span> <span style=\"background-color: #ecf7a6\"></span> <span style=\"background-color: #ecf7a6\"></span> <span style=\"background-color: #ecf7a6\"></span> <span style=\"background-color: #ecf7a6\"></span> <span style=\"background-color: #ecf7a6\"></span> <span style=\"background-color: #ecf7a6\"></span> <span style=\"background-color: #ecf7a6\"></span> <span style=\"background-color: #ecf7a6\"></span> <span style=\"background-color: #ecf7a6\"></span> <span style=\"background-color: #ecf7a6\"></span> <span style=\"background-color: #ecf7a6\"></span> <span style=\"background-color: #ecf7a6\"></span> <span style=\"background-color: #ecf7a6\"></span> <span style=\"background-color: #ecf7a6\"></span> <span style=\"background-color: #ecf7a6\"></span> <span style=\"background-color: #ecf7a6\"></span> <span style=\"background-color: #ecf7a6\"></span> <span style=\"background-color: #ecf7a6\"></span> <span style=\"background-color: #ecf7a6\"></span> <span style=\"background-color: #ecf7a6\"></span> <span style=\"background-color: #ecf7a6\"></span> <span style=\"background-color: #ecf7a6\"></span> <span style=\"background-color: #ecf7a6\"></span> <span style=\"background-color: #ecf7a6\"></span> <span style=\"background-color: #ecf7a6\"></span> <span style=\"background-color: #ecf7a6\"></span> <span style=\"background-color: #ecf7a6\"></span> <span style=\"background-color: #ecf7a6\"></span> <span style=\"background-color: #ecf7a6\"></span> <span style=\"background-color: #ecf7a6\"></span> <span style=\"background-color: #ecf7a6\"></span> <span style=\"background-color: #ecf7a6\"></span> <span style=\"background-color: #ecf7a6\"></span> <span style=\"background-color: #eef8a8\"></span> <span style=\"background-color: #f1f9ac\">this</span> <span style=\"background-color: #f7fcb4\">is</span> <span style=\"background-color: #e8f59f\">an</span> <span style=\"background-color: #fdfebc\">excellent</span> <span style=\"background-color: #fee08b\">heartbreaking</span> <span style=\"background-color: #fdc372\">movie</span> <span style=\"background-color: #fee593\">it</span> <span style=\"background-color: #eff8aa\">is</span> <span style=\"background-color: #f5fbb2\">by</span> <span style=\"background-color: #ebf7a3\">far</span> <span style=\"background-color: #e6f59d\">the</span> <span style=\"background-color: #b5df74\">best</span> <span style=\"background-color: #cfeb85\">i've</span> <span style=\"background-color: #c1e57b\">seen</span> <span style=\"background-color: #d1ec86\">that</span> <span style=\"background-color: #e0f295\">depicts</span> <span style=\"background-color: #fee491\">the</span> <span style=\"background-color: #fdbd6d\">current</span> <span style=\"background-color: #fdb96a\">reality</span> <span style=\"background-color: #fee593\">in</span> <span style=\"background-color: #fffdbc\">latin</span> <span style=\"background-color: #ddf191\">america</span> <span style=\"background-color: #d3ec87\">corruption</span> <span style=\"background-color: #fff8b4\">ruthless</span> <span style=\"background-color: #e0f295\">and</span> <span style=\"background-color: #d5ed88\">greedy</span> <span style=\"background-color: #eef8a8\">police</span> <span style=\"background-color: #feea9b\">officials</span> <span style=\"background-color: #fff7b2\">and</span> <span style=\"background-color: #fafdb8\">heartless</span> <span style=\"background-color: #eef8a8\">mayhem</span> <span style=\"background-color: #fffbb8\">towards</span> <span style=\"background-color: #e3f399\">innocent</span> <span style=\"background-color: #fee18d\">victims</span> <span style=\"background-color: #fdbd6d\">denzel</span> <span style=\"background-color: #fee593\">gives</span> <span style=\"background-color: #f2faae\">the</span> <span style=\"background-color: #b5df74\">most</span> <span style=\"background-color: #feec9f\">moving</span> <span style=\"background-color: #fdc171\">performance</span> <span style=\"background-color: #fdb365\">in</span> <span style=\"background-color: #feefa3\">his</span> <span style=\"background-color: #fbfdba\">career</span> <span style=\"background-color: #f7fcb4\">in</span> <span style=\"background-color: #e8f59f\">my</span> <span style=\"background-color: #b9e176\">opinion</span> <span style=\"background-color: #7dc765\">dakota</span> <span style=\"background-color: #abdb6d\">fanning</span> <span style=\"background-color: #fff7b2\">is</span> <span style=\"background-color: #fdbf6f\">an</span> <span style=\"background-color: #fee18d\">amazing</span> <span style=\"background-color: #fbfdba\">young</span> <span style=\"background-color: #f8fcb6\">actress</span> <span style=\"background-color: #fdfebc\">the</span> <span style=\"background-color: #fff8b4\">relationship</span> <span style=\"background-color: #fffab6\">between</span> <span style=\"background-color: #feea9b\">washington</span> <span style=\"background-color: #ddf191\">and</span> <span style=\"background-color: #f4fab0\">fanning</span> <span style=\"background-color: #dcf08f\">is</span> <span style=\"background-color: #fff6b0\">wonderfully</span> <span style=\"background-color: #fff5ae\">written</span> <span style=\"background-color: #fee18d\">and</span> <span style=\"background-color: #fece7c\">portrayed</span> <span style=\"background-color: #f1f9ac\">i</span> <span style=\"background-color: #cbe982\">believed</span> <span style=\"background-color: #c1e57b\">every</span> <span style=\"background-color: #e9f6a1\">minute</span> <span style=\"background-color: #c5e67e\">the</span> <span style=\"background-color: #b1de71\">cast</span> <span style=\"background-color: #e8f59f\">is</span> <span style=\"background-color: #feda86\">brilliant</span> <span style=\"background-color: #fee28f\">christopher</span> <span style=\"background-color: #ebf7a3\">walken</span> <span style=\"background-color: #daf08d\">mickey</span> <span style=\"background-color: #e9f6a1\">rourke</span> <span style=\"background-color: #daf08d\">are</span> <span style=\"background-color: #bfe47a\">great</span> <span style=\"background-color: #b9e176\">as</span> <span style=\"background-color: #cdea83\">always</span> <span style=\"background-color: #f8fcb6\">walken</span> <span style=\"background-color: #fff2aa\">lights</span> <span style=\"background-color: #fede89\">up</span> <span style=\"background-color: #fff7b2\">the</span> <span style=\"background-color: #eff8aa\">screen</span> <span style=\"background-color: #ebf7a3\">for</span> <span style=\"background-color: #fffdbc\">me</span> <span style=\"background-color: #fffab6\">like</span> <span style=\"background-color: #feefa3\">no</span> <span style=\"background-color: #e0f295\">other</span> <span style=\"background-color: #daf08d\">actor</span> <span style=\"background-color: #d3ec87\">i</span> <span style=\"background-color: #fafdb8\">would</span> <span style=\"background-color: #cdea83\">have</span> <span style=\"background-color: #e6f59d\">loved</span> <span style=\"background-color: #f5fbb2\">to</span> <span style=\"background-color: #fee695\">see</span> <span style=\"background-color: #fff8b4\">more</span> <span style=\"background-color: #f1f9ac\">of</span> <span style=\"background-color: #ebf7a3\">both</span> <span style=\"background-color: #fff7b2\">of</span> <span style=\"background-color: #feeda1\">them</span> <span style=\"background-color: #f8fcb6\">the</span> <span style=\"background-color: #eef8a8\">authentic</span> <span style=\"background-color: #f1f9ac\">locations</span> <span style=\"background-color: #fff0a6\">are</span> <span style=\"background-color: #e6f59d\">remarkable</span> <span style=\"background-color: #e0f295\">the</span> <span style=\"background-color: #e5f49b\">camera</span> <span style=\"background-color: #dff293\">work</span> <span style=\"background-color: #dff293\">is</span> <span style=\"background-color: #c7e77f\">interesting</span> <span style=\"background-color: #b9e176\">and</span> <span style=\"background-color: #b9e176\">different</span> <span style=\"background-color: #d7ee8a\">there</span> <span style=\"background-color: #e9f6a1\">are</span> <span style=\"background-color: #a5d86a\">many</span> <span style=\"background-color: #a0d669\">famous</span> <span style=\"background-color: #e3f399\">latin</span> <span style=\"background-color: #feea9b\">actors</span> <span style=\"background-color: #fffebe\">in</span> <span style=\"background-color: #c5e67e\">the</span> <span style=\"background-color: #ecf7a6\">cast</span> <span style=\"background-color: #fee28f\">making</span> <span style=\"background-color: #fed884\">it</span> <span style=\"background-color: #fbfdba\">all</span> <span style=\"background-color: #dcf08f\">the</span> <span style=\"background-color: #eff8aa\">more</span> <span style=\"background-color: #f2faae\">interesting</span> <span style=\"background-color: #fbfdba\">for</span> <span style=\"background-color: #eff8aa\">people</span> <span style=\"background-color: #f8fcb6\">familiar</span> <span style=\"background-color: #fffab6\">with</span> <span style=\"background-color: #fff7b2\">latin</span> <span style=\"background-color: #f5fbb2\">american</span> <span style=\"background-color: #dcf08f\">cinema</span> <span style=\"background-color: #b3df72\">i</span> <span style=\"background-color: #84ca66\">highly</span> <span style=\"background-color: #cbe982\">recommend</span> <span style=\"background-color: #eff8aa\">this</span> <span style=\"background-color: #feefa3\">movie</span> </p><p>CNN Filter: 2</p><p><span style=\"background-color: #82c966\"></span> <span style=\"background-color: #84ca66\"></span> <span style=\"background-color: #84ca66\"></span> <span style=\"background-color: #84ca66\"></span> <span style=\"background-color: #84ca66\"></span> <span style=\"background-color: #84ca66\"></span> <span style=\"background-color: #84ca66\"></span> <span style=\"background-color: #84ca66\"></span> <span style=\"background-color: #84ca66\"></span> <span style=\"background-color: #84ca66\"></span> <span style=\"background-color: #84ca66\"></span> <span style=\"background-color: #84ca66\"></span> <span style=\"background-color: #84ca66\"></span> <span style=\"background-color: #84ca66\"></span> <span style=\"background-color: #84ca66\"></span> <span style=\"background-color: #84ca66\"></span> <span style=\"background-color: #84ca66\"></span> <span style=\"background-color: #84ca66\"></span> <span style=\"background-color: #84ca66\"></span> <span style=\"background-color: #84ca66\"></span> <span style=\"background-color: #84ca66\"></span> <span style=\"background-color: #84ca66\"></span> <span style=\"background-color: #84ca66\"></span> <span style=\"background-color: #84ca66\"></span> <span style=\"background-color: #84ca66\"></span> <span style=\"background-color: #84ca66\"></span> <span style=\"background-color: #84ca66\"></span> <span style=\"background-color: #84ca66\"></span> <span style=\"background-color: #84ca66\"></span> <span style=\"background-color: #84ca66\"></span> <span style=\"background-color: #84ca66\"></span> <span style=\"background-color: #84ca66\"></span> <span style=\"background-color: #84ca66\"></span> <span style=\"background-color: #84ca66\"></span> <span style=\"background-color: #84ca66\"></span> <span style=\"background-color: #84ca66\"></span> <span style=\"background-color: #84ca66\"></span> <span style=\"background-color: #84ca66\"></span> <span style=\"background-color: #84ca66\"></span> <span style=\"background-color: #84ca66\"></span> <span style=\"background-color: #84ca66\"></span> <span style=\"background-color: #84ca66\"></span> <span style=\"background-color: #84ca66\"></span> <span style=\"background-color: #84ca66\"></span> <span style=\"background-color: #84ca66\"></span> <span style=\"background-color: #84ca66\"></span> <span style=\"background-color: #84ca66\"></span> <span style=\"background-color: #84ca66\"></span> <span style=\"background-color: #84ca66\"></span> <span style=\"background-color: #84ca66\"></span> <span style=\"background-color: #84ca66\"></span> <span style=\"background-color: #84ca66\"></span> <span style=\"background-color: #84ca66\"></span> <span style=\"background-color: #84ca66\"></span> <span style=\"background-color: #84ca66\"></span> <span style=\"background-color: #84ca66\"></span> <span style=\"background-color: #84ca66\"></span> <span style=\"background-color: #84ca66\"></span> <span style=\"background-color: #84ca66\"></span> <span style=\"background-color: #84ca66\"></span> <span style=\"background-color: #84ca66\"></span> <span style=\"background-color: #84ca66\"></span> <span style=\"background-color: #84ca66\"></span> <span style=\"background-color: #84ca66\"></span> <span style=\"background-color: #84ca66\"></span> <span style=\"background-color: #84ca66\"></span> <span style=\"background-color: #84ca66\"></span> <span style=\"background-color: #84ca66\"></span> <span style=\"background-color: #84ca66\"></span> <span style=\"background-color: #84ca66\"></span> <span style=\"background-color: #84ca66\"></span> <span style=\"background-color: #84ca66\"></span> <span style=\"background-color: #84ca66\"></span> <span style=\"background-color: #84ca66\"></span> <span style=\"background-color: #84ca66\"></span> <span style=\"background-color: #84ca66\"></span> <span style=\"background-color: #84ca66\"></span> <span style=\"background-color: #84ca66\"></span> <span style=\"background-color: #84ca66\"></span> <span style=\"background-color: #84ca66\"></span> <span style=\"background-color: #84ca66\"></span> <span style=\"background-color: #84ca66\"></span> <span style=\"background-color: #84ca66\"></span> <span style=\"background-color: #84ca66\"></span> <span style=\"background-color: #84ca66\"></span> <span style=\"background-color: #84ca66\"></span> <span style=\"background-color: #84ca66\"></span> <span style=\"background-color: #84ca66\"></span> <span style=\"background-color: #84ca66\"></span> <span style=\"background-color: #84ca66\"></span> <span style=\"background-color: #84ca66\"></span> <span style=\"background-color: #84ca66\"></span> <span style=\"background-color: #84ca66\"></span> <span style=\"background-color: #84ca66\"></span> <span style=\"background-color: #84ca66\"></span> <span style=\"background-color: #84ca66\"></span> <span style=\"background-color: #84ca66\"></span> <span style=\"background-color: #84ca66\"></span> <span style=\"background-color: #84ca66\"></span> <span style=\"background-color: #84ca66\"></span> <span style=\"background-color: #84ca66\"></span> <span style=\"background-color: #84ca66\"></span> <span style=\"background-color: #84ca66\"></span> <span style=\"background-color: #84ca66\"></span> <span style=\"background-color: #84ca66\"></span> <span style=\"background-color: #84ca66\"></span> <span style=\"background-color: #84ca66\"></span> <span style=\"background-color: #84ca66\"></span> <span style=\"background-color: #84ca66\"></span> <span style=\"background-color: #84ca66\"></span> <span style=\"background-color: #84ca66\"></span> <span style=\"background-color: #84ca66\"></span> <span style=\"background-color: #84ca66\"></span> <span style=\"background-color: #84ca66\"></span> <span style=\"background-color: #84ca66\"></span> <span style=\"background-color: #84ca66\"></span> <span style=\"background-color: #84ca66\"></span> <span style=\"background-color: #84ca66\"></span> <span style=\"background-color: #84ca66\"></span> <span style=\"background-color: #84ca66\"></span> <span style=\"background-color: #84ca66\"></span> <span style=\"background-color: #84ca66\"></span> <span style=\"background-color: #84ca66\"></span> <span style=\"background-color: #84ca66\"></span> <span style=\"background-color: #84ca66\"></span> <span style=\"background-color: #84ca66\"></span> <span style=\"background-color: #84ca66\"></span> <span style=\"background-color: #84ca66\"></span> <span style=\"background-color: #84ca66\"></span> <span style=\"background-color: #84ca66\"></span> <span style=\"background-color: #84ca66\"></span> <span style=\"background-color: #84ca66\"></span> <span style=\"background-color: #84ca66\"></span> <span style=\"background-color: #84ca66\"></span> <span style=\"background-color: #84ca66\"></span> <span style=\"background-color: #84ca66\"></span> <span style=\"background-color: #84ca66\"></span> <span style=\"background-color: #84ca66\"></span> <span style=\"background-color: #84ca66\"></span> <span style=\"background-color: #84ca66\"></span> <span style=\"background-color: #84ca66\"></span> <span style=\"background-color: #84ca66\"></span> <span style=\"background-color: #84ca66\"></span> <span style=\"background-color: #84ca66\"></span> <span style=\"background-color: #84ca66\"></span> <span style=\"background-color: #84ca66\"></span> <span style=\"background-color: #84ca66\"></span> <span style=\"background-color: #84ca66\"></span> <span style=\"background-color: #84ca66\"></span> <span style=\"background-color: #84ca66\"></span> <span style=\"background-color: #84ca66\"></span> <span style=\"background-color: #84ca66\"></span> <span style=\"background-color: #84ca66\"></span> <span style=\"background-color: #84ca66\"></span> <span style=\"background-color: #84ca66\"></span> <span style=\"background-color: #84ca66\"></span> <span style=\"background-color: #84ca66\"></span> <span style=\"background-color: #84ca66\"></span> <span style=\"background-color: #84ca66\"></span> <span style=\"background-color: #84ca66\"></span> <span style=\"background-color: #84ca66\"></span> <span style=\"background-color: #84ca66\"></span> <span style=\"background-color: #84ca66\"></span> <span style=\"background-color: #84ca66\"></span> <span style=\"background-color: #84ca66\"></span> <span style=\"background-color: #84ca66\"></span> <span style=\"background-color: #84ca66\"></span> <span style=\"background-color: #84ca66\"></span> <span style=\"background-color: #84ca66\"></span> <span style=\"background-color: #84ca66\"></span> <span style=\"background-color: #84ca66\"></span> <span style=\"background-color: #84ca66\"></span> <span style=\"background-color: #84ca66\"></span> <span style=\"background-color: #84ca66\"></span> <span style=\"background-color: #84ca66\"></span> <span style=\"background-color: #84ca66\"></span> <span style=\"background-color: #84ca66\"></span> <span style=\"background-color: #84ca66\"></span> <span style=\"background-color: #84ca66\"></span> <span style=\"background-color: #84ca66\"></span> <span style=\"background-color: #84ca66\"></span> <span style=\"background-color: #84ca66\"></span> <span style=\"background-color: #84ca66\"></span> <span style=\"background-color: #84ca66\"></span> <span style=\"background-color: #84ca66\"></span> <span style=\"background-color: #84ca66\"></span> <span style=\"background-color: #84ca66\"></span> <span style=\"background-color: #84ca66\"></span> <span style=\"background-color: #84ca66\"></span> <span style=\"background-color: #84ca66\"></span> <span style=\"background-color: #84ca66\"></span> <span style=\"background-color: #84ca66\"></span> <span style=\"background-color: #84ca66\"></span> <span style=\"background-color: #84ca66\"></span> <span style=\"background-color: #84ca66\"></span> <span style=\"background-color: #84ca66\"></span> <span style=\"background-color: #84ca66\"></span> <span style=\"background-color: #84ca66\"></span> <span style=\"background-color: #84ca66\"></span> <span style=\"background-color: #84ca66\"></span> <span style=\"background-color: #84ca66\"></span> <span style=\"background-color: #84ca66\"></span> <span style=\"background-color: #84ca66\"></span> <span style=\"background-color: #84ca66\"></span> <span style=\"background-color: #84ca66\"></span> <span style=\"background-color: #84ca66\"></span> <span style=\"background-color: #84ca66\"></span> <span style=\"background-color: #84ca66\"></span> <span style=\"background-color: #82c966\"></span> <span style=\"background-color: #7dc765\">this</span> <span style=\"background-color: #78c565\">is</span> <span style=\"background-color: #d3ec87\">an</span> <span style=\"background-color: #feeb9d\">excellent</span> <span style=\"background-color: #f67f4b\">heartbreaking</span> <span style=\"background-color: #fdaf62\">movie</span> <span style=\"background-color: #fff2aa\">it</span> <span style=\"background-color: #bde379\">is</span> <span style=\"background-color: #73c264\">by</span> <span style=\"background-color: #63bc62\">far</span> <span style=\"background-color: #75c465\">the</span> <span style=\"background-color: #b7e075\">best</span> <span style=\"background-color: #e6f59d\">i've</span> <span style=\"background-color: #e5f49b\">seen</span> <span style=\"background-color: #ecf7a6\">that</span> <span style=\"background-color: #ddf191\">depicts</span> <span style=\"background-color: #fff8b4\">the</span> <span style=\"background-color: #feeda1\">current</span> <span style=\"background-color: #feeb9d\">reality</span> <span style=\"background-color: #fdfebc\">in</span> <span style=\"background-color: #cfeb85\">latin</span> <span style=\"background-color: #cbe982\">america</span> <span style=\"background-color: #bfe47a\">corruption</span> <span style=\"background-color: #e2f397\">ruthless</span> <span style=\"background-color: #fff1a8\">and</span> <span style=\"background-color: #feeb9d\">greedy</span> <span style=\"background-color: #f1f9ac\">police</span> <span style=\"background-color: #9bd469\">officials</span> <span style=\"background-color: #3ca959\">and</span> <span style=\"background-color: #63bc62\">heartless</span> <span style=\"background-color: #5ab760\">mayhem</span> <span style=\"background-color: #b3df72\">towards</span> <span style=\"background-color: #cfeb85\">innocent</span> <span style=\"background-color: #d9ef8b\">victims</span> <span style=\"background-color: #87cb67\">denzel</span> <span style=\"background-color: #78c565\">gives</span> <span style=\"background-color: #78c565\">the</span> <span style=\"background-color: #c5e67e\">most</span> <span style=\"background-color: #c7e77f\">moving</span> <span style=\"background-color: #d1ec86\">performance</span> <span style=\"background-color: #d3ec87\">in</span> <span style=\"background-color: #b9e176\">his</span> <span style=\"background-color: #abdb6d\">career</span> <span style=\"background-color: #89cc67\">in</span> <span style=\"background-color: #8ecf67\">my</span> <span style=\"background-color: #7fc866\">opinion</span> <span style=\"background-color: #b7e075\">dakota</span> <span style=\"background-color: #c3e67d\">fanning</span> <span style=\"background-color: #e0f295\">is</span> <span style=\"background-color: #f8fcb6\">an</span> <span style=\"background-color: #fee695\">amazing</span> <span style=\"background-color: #fdb163\">young</span> <span style=\"background-color: #fffdbc\">actress</span> <span style=\"background-color: #cfeb85\">the</span> <span style=\"background-color: #8ecf67\">relationship</span> <span style=\"background-color: #cdea83\">between</span> <span style=\"background-color: #ddf191\">washington</span> <span style=\"background-color: #fffdbc\">and</span> <span style=\"background-color: #fffebe\">fanning</span> <span style=\"background-color: #fca85e\">is</span> <span style=\"background-color: #f26841\">wonderfully</span> <span style=\"background-color: #c01a27\">written</span> <span style=\"background-color: #fdbb6c\">and</span> <span style=\"background-color: #dff293\">portrayed</span> <span style=\"background-color: #57b65f\">i</span> <span style=\"background-color: #4eb15d\">believed</span> <span style=\"background-color: #3ca959\">every</span> <span style=\"background-color: #48ae5c\">minute</span> <span style=\"background-color: #3faa59\">the</span> <span style=\"background-color: #6bbf64\">cast</span> <span style=\"background-color: #abdb6d\">is</span> <span style=\"background-color: #c9e881\">brilliant</span> <span style=\"background-color: #feffbe\">christopher</span> <span style=\"background-color: #afdd70\">walken</span> <span style=\"background-color: #a9da6c\">mickey</span> <span style=\"background-color: #279f53\">rourke</span> <span style=\"background-color: #a7d96b\">are</span> <span style=\"background-color: #bfe47a\">great</span> <span style=\"background-color: #fffdbc\">as</span> <span style=\"background-color: #fffdbc\">always</span> <span style=\"background-color: #eef8a8\">walken</span> <span style=\"background-color: #c1e57b\">lights</span> <span style=\"background-color: #98d368\">up</span> <span style=\"background-color: #afdd70\">the</span> <span style=\"background-color: #b7e075\">screen</span> <span style=\"background-color: #b9e176\">for</span> <span style=\"background-color: #a0d669\">me</span> <span style=\"background-color: #8ecf67\">like</span> <span style=\"background-color: #70c164\">no</span> <span style=\"background-color: #5ab760\">other</span> <span style=\"background-color: #66bd63\">actor</span> <span style=\"background-color: #70c164\">i</span> <span style=\"background-color: #70c164\">would</span> <span style=\"background-color: #a2d76a\">have</span> <span style=\"background-color: #c7e77f\">loved</span> <span style=\"background-color: #fff6b0\">to</span> <span style=\"background-color: #f2faae\">see</span> <span style=\"background-color: #e5f49b\">more</span> <span style=\"background-color: #b1de71\">of</span> <span style=\"background-color: #afdd70\">both</span> <span style=\"background-color: #a2d76a\">of</span> <span style=\"background-color: #82c966\">them</span> <span style=\"background-color: #b7e075\">the</span> <span style=\"background-color: #cbe982\">authentic</span> <span style=\"background-color: #e6f59d\">locations</span> <span style=\"background-color: #ddf191\">are</span> <span style=\"background-color: #daf08d\">remarkable</span> <span style=\"background-color: #cfeb85\">the</span> <span style=\"background-color: #91d068\">camera</span> <span style=\"background-color: #66bd63\">work</span> <span style=\"background-color: #219c52\">is</span> <span style=\"background-color: #279f53\">interesting</span> <span style=\"background-color: #48ae5c\">and</span> <span style=\"background-color: #a2d76a\">different</span> <span style=\"background-color: #9dd569\">there</span> <span style=\"background-color: #9dd569\">are</span> <span style=\"background-color: #75c465\">many</span> <span style=\"background-color: #93d168\">famous</span> <span style=\"background-color: #84ca66\">latin</span> <span style=\"background-color: #8ccd67\">actors</span> <span style=\"background-color: #7dc765\">in</span> <span style=\"background-color: #84ca66\">the</span> <span style=\"background-color: #78c565\">cast</span> <span style=\"background-color: #69be63\">making</span> <span style=\"background-color: #75c465\">it</span> <span style=\"background-color: #8ecf67\">all</span> <span style=\"background-color: #a9da6c\">the</span> <span style=\"background-color: #7fc866\">more</span> <span style=\"background-color: #60ba62\">interesting</span> <span style=\"background-color: #279f53\">for</span> <span style=\"background-color: #4eb15d\">people</span> <span style=\"background-color: #75c465\">familiar</span> <span style=\"background-color: #a5d86a\">with</span> <span style=\"background-color: #c3e67d\">latin</span> <span style=\"background-color: #e5f49b\">american</span> <span style=\"background-color: #f8fcb6\">cinema</span> <span style=\"background-color: #feec9f\">i</span> <span style=\"background-color: #fee593\">highly</span> <span style=\"background-color: #fed481\">recommend</span> <span style=\"background-color: #fafdb8\">this</span> <span style=\"background-color: #c5e67e\">movie</span> </p><p>CNN Filter: 3</p><p><span style=\"background-color: #fffcba\"></span> <span style=\"background-color: #fffbb8\"></span> <span style=\"background-color: #fffbb8\"></span> <span style=\"background-color: #fffbb8\"></span> <span style=\"background-color: #fffbb8\"></span> <span style=\"background-color: #fffbb8\"></span> <span style=\"background-color: #fffbb8\"></span> <span style=\"background-color: #fffbb8\"></span> <span style=\"background-color: #fffbb8\"></span> <span style=\"background-color: #fffbb8\"></span> <span style=\"background-color: #fffbb8\"></span> <span style=\"background-color: #fffbb8\"></span> <span style=\"background-color: #fffbb8\"></span> <span style=\"background-color: #fffbb8\"></span> <span style=\"background-color: #fffbb8\"></span> <span style=\"background-color: #fffbb8\"></span> <span style=\"background-color: #fffbb8\"></span> <span style=\"background-color: #fffbb8\"></span> <span style=\"background-color: #fffbb8\"></span> <span style=\"background-color: #fffbb8\"></span> <span style=\"background-color: #fffbb8\"></span> <span style=\"background-color: #fffbb8\"></span> <span style=\"background-color: #fffbb8\"></span> <span style=\"background-color: #fffbb8\"></span> <span style=\"background-color: #fffbb8\"></span> <span style=\"background-color: #fffbb8\"></span> <span style=\"background-color: #fffbb8\"></span> <span style=\"background-color: #fffbb8\"></span> <span style=\"background-color: #fffbb8\"></span> <span style=\"background-color: #fffbb8\"></span> <span style=\"background-color: #fffbb8\"></span> <span style=\"background-color: #fffbb8\"></span> <span style=\"background-color: #fffbb8\"></span> <span style=\"background-color: #fffbb8\"></span> <span style=\"background-color: #fffbb8\"></span> <span style=\"background-color: #fffbb8\"></span> <span style=\"background-color: #fffbb8\"></span> <span style=\"background-color: #fffbb8\"></span> <span style=\"background-color: #fffbb8\"></span> <span style=\"background-color: #fffbb8\"></span> <span style=\"background-color: #fffbb8\"></span> <span style=\"background-color: #fffbb8\"></span> <span style=\"background-color: #fffbb8\"></span> <span style=\"background-color: #fffbb8\"></span> <span style=\"background-color: #fffbb8\"></span> <span style=\"background-color: #fffbb8\"></span> <span style=\"background-color: #fffbb8\"></span> <span style=\"background-color: #fffbb8\"></span> <span style=\"background-color: #fffbb8\"></span> <span style=\"background-color: #fffbb8\"></span> <span style=\"background-color: #fffbb8\"></span> <span style=\"background-color: #fffbb8\"></span> <span style=\"background-color: #fffbb8\"></span> <span style=\"background-color: #fffbb8\"></span> <span style=\"background-color: #fffbb8\"></span> <span style=\"background-color: #fffbb8\"></span> <span style=\"background-color: #fffbb8\"></span> <span style=\"background-color: #fffbb8\"></span> <span style=\"background-color: #fffbb8\"></span> <span style=\"background-color: #fffbb8\"></span> <span style=\"background-color: #fffbb8\"></span> <span style=\"background-color: #fffbb8\"></span> <span style=\"background-color: #fffbb8\"></span> <span style=\"background-color: #fffbb8\"></span> <span style=\"background-color: #fffbb8\"></span> <span style=\"background-color: #fffbb8\"></span> <span style=\"background-color: #fffbb8\"></span> <span style=\"background-color: #fffbb8\"></span> <span style=\"background-color: #fffbb8\"></span> <span style=\"background-color: #fffbb8\"></span> <span style=\"background-color: #fffbb8\"></span> <span style=\"background-color: #fffbb8\"></span> <span style=\"background-color: #fffbb8\"></span> <span style=\"background-color: #fffbb8\"></span> <span style=\"background-color: #fffbb8\"></span> <span style=\"background-color: #fffbb8\"></span> <span style=\"background-color: #fffbb8\"></span> <span style=\"background-color: #fffbb8\"></span> <span style=\"background-color: #fffbb8\"></span> <span style=\"background-color: #fffbb8\"></span> <span style=\"background-color: #fffbb8\"></span> <span style=\"background-color: #fffbb8\"></span> <span style=\"background-color: #fffbb8\"></span> <span style=\"background-color: #fffbb8\"></span> <span style=\"background-color: #fffbb8\"></span> <span style=\"background-color: #fffbb8\"></span> <span style=\"background-color: #fffbb8\"></span> <span style=\"background-color: #fffbb8\"></span> <span style=\"background-color: #fffbb8\"></span> <span style=\"background-color: #fffbb8\"></span> <span style=\"background-color: #fffbb8\"></span> <span style=\"background-color: #fffbb8\"></span> <span style=\"background-color: #fffbb8\"></span> <span style=\"background-color: #fffbb8\"></span> <span style=\"background-color: #fffbb8\"></span> <span style=\"background-color: #fffbb8\"></span> <span style=\"background-color: #fffbb8\"></span> <span style=\"background-color: #fffbb8\"></span> <span style=\"background-color: #fffbb8\"></span> <span style=\"background-color: #fffbb8\"></span> <span style=\"background-color: #fffbb8\"></span> <span style=\"background-color: #fffbb8\"></span> <span style=\"background-color: #fffbb8\"></span> <span style=\"background-color: #fffbb8\"></span> <span style=\"background-color: #fffbb8\"></span> <span style=\"background-color: #fffbb8\"></span> <span style=\"background-color: #fffbb8\"></span> <span style=\"background-color: #fffbb8\"></span> <span style=\"background-color: #fffbb8\"></span> <span style=\"background-color: #fffbb8\"></span> <span style=\"background-color: #fffbb8\"></span> <span style=\"background-color: #fffbb8\"></span> <span style=\"background-color: #fffbb8\"></span> <span style=\"background-color: #fffbb8\"></span> <span style=\"background-color: #fffbb8\"></span> <span style=\"background-color: #fffbb8\"></span> <span style=\"background-color: #fffbb8\"></span> <span style=\"background-color: #fffbb8\"></span> <span style=\"background-color: #fffbb8\"></span> <span style=\"background-color: #fffbb8\"></span> <span style=\"background-color: #fffbb8\"></span> <span style=\"background-color: #fffbb8\"></span> <span style=\"background-color: #fffbb8\"></span> <span style=\"background-color: #fffbb8\"></span> <span style=\"background-color: #fffbb8\"></span> <span style=\"background-color: #fffbb8\"></span> <span style=\"background-color: #fffbb8\"></span> <span style=\"background-color: #fffbb8\"></span> <span style=\"background-color: #fffbb8\"></span> <span style=\"background-color: #fffbb8\"></span> <span style=\"background-color: #fffbb8\"></span> <span style=\"background-color: #fffbb8\"></span> <span style=\"background-color: #fffbb8\"></span> <span style=\"background-color: #fffbb8\"></span> <span style=\"background-color: #fffbb8\"></span> <span style=\"background-color: #fffbb8\"></span> <span style=\"background-color: #fffbb8\"></span> <span style=\"background-color: #fffbb8\"></span> <span style=\"background-color: #fffbb8\"></span> <span style=\"background-color: #fffbb8\"></span> <span style=\"background-color: #fffbb8\"></span> <span style=\"background-color: #fffbb8\"></span> <span style=\"background-color: #fffbb8\"></span> <span style=\"background-color: #fffbb8\"></span> <span style=\"background-color: #fffbb8\"></span> <span style=\"background-color: #fffbb8\"></span> <span style=\"background-color: #fffbb8\"></span> <span style=\"background-color: #fffbb8\"></span> <span style=\"background-color: #fffbb8\"></span> <span style=\"background-color: #fffbb8\"></span> <span style=\"background-color: #fffbb8\"></span> <span style=\"background-color: #fffbb8\"></span> <span style=\"background-color: #fffbb8\"></span> <span style=\"background-color: #fffbb8\"></span> <span style=\"background-color: #fffbb8\"></span> <span style=\"background-color: #fffbb8\"></span> <span style=\"background-color: #fffbb8\"></span> <span style=\"background-color: #fffbb8\"></span> <span style=\"background-color: #fffbb8\"></span> <span style=\"background-color: #fffbb8\"></span> <span style=\"background-color: #fffbb8\"></span> <span style=\"background-color: #fffbb8\"></span> <span style=\"background-color: #fffbb8\"></span> <span style=\"background-color: #fffbb8\"></span> <span style=\"background-color: #fffbb8\"></span> <span style=\"background-color: #fffbb8\"></span> <span style=\"background-color: #fffbb8\"></span> <span style=\"background-color: #fffbb8\"></span> <span style=\"background-color: #fffbb8\"></span> <span style=\"background-color: #fffbb8\"></span> <span style=\"background-color: #fffbb8\"></span> <span style=\"background-color: #fffbb8\"></span> <span style=\"background-color: #fffbb8\"></span> <span style=\"background-color: #fffbb8\"></span> <span style=\"background-color: #fffbb8\"></span> <span style=\"background-color: #fffbb8\"></span> <span style=\"background-color: #fffbb8\"></span> <span style=\"background-color: #fffbb8\"></span> <span style=\"background-color: #fffbb8\"></span> <span style=\"background-color: #fffbb8\"></span> <span style=\"background-color: #fffbb8\"></span> <span style=\"background-color: #fffbb8\"></span> <span style=\"background-color: #fffbb8\"></span> <span style=\"background-color: #fffbb8\"></span> <span style=\"background-color: #fffbb8\"></span> <span style=\"background-color: #fffbb8\"></span> <span style=\"background-color: #fffbb8\"></span> <span style=\"background-color: #fffbb8\"></span> <span style=\"background-color: #fffbb8\"></span> <span style=\"background-color: #fffbb8\"></span> <span style=\"background-color: #fffbb8\"></span> <span style=\"background-color: #fffbb8\"></span> <span style=\"background-color: #fffbb8\"></span> <span style=\"background-color: #fffbb8\"></span> <span style=\"background-color: #fffbb8\"></span> <span style=\"background-color: #fffbb8\"></span> <span style=\"background-color: #fffbb8\"></span> <span style=\"background-color: #fffbb8\"></span> <span style=\"background-color: #fffbb8\"></span> <span style=\"background-color: #fffbb8\"></span> <span style=\"background-color: #fffbb8\"></span> <span style=\"background-color: #fffbb8\"></span> <span style=\"background-color: #fffbb8\"></span> <span style=\"background-color: #fffbb8\"></span> <span style=\"background-color: #fffbb8\"></span> <span style=\"background-color: #fffbb8\"></span> <span style=\"background-color: #fffbb8\"></span> <span style=\"background-color: #fffbb8\"></span> <span style=\"background-color: #fff7b2\"></span> <span style=\"background-color: #fff3ac\">this</span> <span style=\"background-color: #fff1a8\">is</span> <span style=\"background-color: #fff2aa\">an</span> <span style=\"background-color: #feefa3\">excellent</span> <span style=\"background-color: #fdb768\">heartbreaking</span> <span style=\"background-color: #f99355\">movie</span> <span style=\"background-color: #fb9d59\">it</span> <span style=\"background-color: #fee797\">is</span> <span style=\"background-color: #fff8b4\">by</span> <span style=\"background-color: #fff5ae\">far</span> <span style=\"background-color: #fffdbc\">the</span> <span style=\"background-color: #fff8b4\">best</span> <span style=\"background-color: #fff0a6\">i've</span> <span style=\"background-color: #fee797\">seen</span> <span style=\"background-color: #fee999\">that</span> <span style=\"background-color: #e9f6a1\">depicts</span> <span style=\"background-color: #fff8b4\">the</span> <span style=\"background-color: #f2faae\">current</span> <span style=\"background-color: #feeda1\">reality</span> <span style=\"background-color: #fdfebc\">in</span> <span style=\"background-color: #feefa3\">latin</span> <span style=\"background-color: #fee28f\">america</span> <span style=\"background-color: #fdc372\">corruption</span> <span style=\"background-color: #fec877\">ruthless</span> <span style=\"background-color: #fff5ae\">and</span> <span style=\"background-color: #d7ee8a\">greedy</span> <span style=\"background-color: #c7e77f\">police</span> <span style=\"background-color: #cbe982\">officials</span> <span style=\"background-color: #f1f9ac\">and</span> <span style=\"background-color: #fffab6\">heartless</span> <span style=\"background-color: #fdc574\">mayhem</span> <span style=\"background-color: #feefa3\">towards</span> <span style=\"background-color: #feec9f\">innocent</span> <span style=\"background-color: #feeb9d\">victims</span> <span style=\"background-color: #f2faae\">denzel</span> <span style=\"background-color: #f5fbb2\">gives</span> <span style=\"background-color: #d1ec86\">the</span> <span style=\"background-color: #fed884\">most</span> <span style=\"background-color: #fecc7b\">moving</span> <span style=\"background-color: #fdc776\">performance</span> <span style=\"background-color: #fdc372\">in</span> <span style=\"background-color: #fee08b\">his</span> <span style=\"background-color: #fee797\">career</span> <span style=\"background-color: #feffbe\">in</span> <span style=\"background-color: #fffdbc\">my</span> <span style=\"background-color: #e5f49b\">opinion</span> <span style=\"background-color: #cbe982\">dakota</span> <span style=\"background-color: #b7e075\">fanning</span> <span style=\"background-color: #ebf7a3\">is</span> <span style=\"background-color: #fffcba\">an</span> <span style=\"background-color: #fffdbc\">amazing</span> <span style=\"background-color: #fed481\">young</span> <span style=\"background-color: #fdb365\">actress</span> <span style=\"background-color: #fb9d59\">the</span> <span style=\"background-color: #fee797\">relationship</span> <span style=\"background-color: #feea9b\">between</span> <span style=\"background-color: #fff2aa\">washington</span> <span style=\"background-color: #eff8aa\">and</span> <span style=\"background-color: #e5f49b\">fanning</span> <span style=\"background-color: #e8f59f\">is</span> <span style=\"background-color: #fffebe\">wonderfully</span> <span style=\"background-color: #fed683\">written</span> <span style=\"background-color: #fdb96a\">and</span> <span style=\"background-color: #fdb567\">portrayed</span> <span style=\"background-color: #fee593\">i</span> <span style=\"background-color: #fee491\">believed</span> <span style=\"background-color: #fede89\">every</span> <span style=\"background-color: #fdb96a\">minute</span> <span style=\"background-color: #fffab6\">the</span> <span style=\"background-color: #feeb9d\">cast</span> <span style=\"background-color: #fffebe\">is</span> <span style=\"background-color: #fff7b2\">brilliant</span> <span style=\"background-color: #fffcba\">christopher</span> <span style=\"background-color: #9dd569\">walken</span> <span style=\"background-color: #daf08d\">mickey</span> <span style=\"background-color: #bfe47a\">rourke</span> <span style=\"background-color: #fffcba\">are</span> <span style=\"background-color: #fbfdba\">great</span> <span style=\"background-color: #fff2aa\">as</span> <span style=\"background-color: #fffdbc\">always</span> <span style=\"background-color: #fed27f\">walken</span> <span style=\"background-color: #fee999\">lights</span> <span style=\"background-color: #fdc776\">up</span> <span style=\"background-color: #fff5ae\">the</span> <span style=\"background-color: #fee797\">screen</span> <span style=\"background-color: #feea9b\">for</span> <span style=\"background-color: #feefa3\">me</span> <span style=\"background-color: #fff2aa\">like</span> <span style=\"background-color: #fee593\">no</span> <span style=\"background-color: #fffbb8\">other</span> <span style=\"background-color: #fff5ae\">actor</span> <span style=\"background-color: #ecf7a6\">i</span> <span style=\"background-color: #feefa3\">would</span> <span style=\"background-color: #fffab6\">have</span> <span style=\"background-color: #fff7b2\">loved</span> <span style=\"background-color: #fdc171\">to</span> <span style=\"background-color: #fed481\">see</span> <span style=\"background-color: #feca79\">more</span> <span style=\"background-color: #f7fcb4\">of</span> <span style=\"background-color: #f5fbb2\">both</span> <span style=\"background-color: #feeb9d\">of</span> <span style=\"background-color: #fff3ac\">them</span> <span style=\"background-color: #fee491\">the</span> <span style=\"background-color: #fffdbc\">authentic</span> <span style=\"background-color: #f8fcb6\">locations</span> <span style=\"background-color: #fbfdba\">are</span> <span style=\"background-color: #fffbb8\">remarkable</span> <span style=\"background-color: #fff5ae\">the</span> <span style=\"background-color: #fff2aa\">camera</span> <span style=\"background-color: #f8fcb6\">work</span> <span style=\"background-color: #fff0a6\">is</span> <span style=\"background-color: #fffab6\">interesting</span> <span style=\"background-color: #f2faae\">and</span> <span style=\"background-color: #f2faae\">different</span> <span style=\"background-color: #fffdbc\">there</span> <span style=\"background-color: #fffebe\">are</span> <span style=\"background-color: #fffebe\">many</span> <span style=\"background-color: #fafdb8\">famous</span> <span style=\"background-color: #fec877\">latin</span> <span style=\"background-color: #fdb96a\">actors</span> <span style=\"background-color: #fdb365\">in</span> <span style=\"background-color: #feefa3\">the</span> <span style=\"background-color: #fff2aa\">cast</span> <span style=\"background-color: #fee797\">making</span> <span style=\"background-color: #feea9b\">it</span> <span style=\"background-color: #fff7b2\">all</span> <span style=\"background-color: #ebf7a3\">the</span> <span style=\"background-color: #fff5ae\">more</span> <span style=\"background-color: #fbfdba\">interesting</span> <span style=\"background-color: #feec9f\">for</span> <span style=\"background-color: #fafdb8\">people</span> <span style=\"background-color: #fffebe\">familiar</span> <span style=\"background-color: #fbfdba\">with</span> <span style=\"background-color: #feeda1\">latin</span> <span style=\"background-color: #fed884\">american</span> <span style=\"background-color: #fee08b\">cinema</span> <span style=\"background-color: #fff6b0\">i</span> <span style=\"background-color: #feffbe\">highly</span> <span style=\"background-color: #fedc88\">recommend</span> <span style=\"background-color: #fdb768\">this</span> <span style=\"background-color: #fdbd6d\">movie</span> </p><p>CNN Filter: 4</p><p><span style=\"background-color: #d1ec86\"></span> <span style=\"background-color: #d1ec86\"></span> <span style=\"background-color: #d1ec86\"></span> <span style=\"background-color: #d1ec86\"></span> <span style=\"background-color: #d1ec86\"></span> <span style=\"background-color: #d1ec86\"></span> <span style=\"background-color: #d1ec86\"></span> <span style=\"background-color: #d1ec86\"></span> <span style=\"background-color: #d1ec86\"></span> <span style=\"background-color: #d1ec86\"></span> <span style=\"background-color: #d1ec86\"></span> <span style=\"background-color: #d1ec86\"></span> <span style=\"background-color: #d1ec86\"></span> <span style=\"background-color: #d1ec86\"></span> <span style=\"background-color: #d1ec86\"></span> <span style=\"background-color: #d1ec86\"></span> <span style=\"background-color: #d1ec86\"></span> <span style=\"background-color: #d1ec86\"></span> <span style=\"background-color: #d1ec86\"></span> <span style=\"background-color: #d1ec86\"></span> <span style=\"background-color: #d1ec86\"></span> <span style=\"background-color: #d1ec86\"></span> <span style=\"background-color: #d1ec86\"></span> <span style=\"background-color: #d1ec86\"></span> <span style=\"background-color: #d1ec86\"></span> <span style=\"background-color: #d1ec86\"></span> <span style=\"background-color: #d1ec86\"></span> <span style=\"background-color: #d1ec86\"></span> <span style=\"background-color: #d1ec86\"></span> <span style=\"background-color: #d1ec86\"></span> <span style=\"background-color: #d1ec86\"></span> <span style=\"background-color: #d1ec86\"></span> <span style=\"background-color: #d1ec86\"></span> <span style=\"background-color: #d1ec86\"></span> <span style=\"background-color: #d1ec86\"></span> <span style=\"background-color: #d1ec86\"></span> <span style=\"background-color: #d1ec86\"></span> <span style=\"background-color: #d1ec86\"></span> <span style=\"background-color: #d1ec86\"></span> <span style=\"background-color: #d1ec86\"></span> <span style=\"background-color: #d1ec86\"></span> <span style=\"background-color: #d1ec86\"></span> <span style=\"background-color: #d1ec86\"></span> <span style=\"background-color: #d1ec86\"></span> <span style=\"background-color: #d1ec86\"></span> <span style=\"background-color: #d1ec86\"></span> <span style=\"background-color: #d1ec86\"></span> <span style=\"background-color: #d1ec86\"></span> <span style=\"background-color: #d1ec86\"></span> <span style=\"background-color: #d1ec86\"></span> <span style=\"background-color: #d1ec86\"></span> <span style=\"background-color: #d1ec86\"></span> <span style=\"background-color: #d1ec86\"></span> <span style=\"background-color: #d1ec86\"></span> <span style=\"background-color: #d1ec86\"></span> <span style=\"background-color: #d1ec86\"></span> <span style=\"background-color: #d1ec86\"></span> <span style=\"background-color: #d1ec86\"></span> <span style=\"background-color: #d1ec86\"></span> <span style=\"background-color: #d1ec86\"></span> <span style=\"background-color: #d1ec86\"></span> <span style=\"background-color: #d1ec86\"></span> <span style=\"background-color: #d1ec86\"></span> <span style=\"background-color: #d1ec86\"></span> <span style=\"background-color: #d1ec86\"></span> <span style=\"background-color: #d1ec86\"></span> <span style=\"background-color: #d1ec86\"></span> <span style=\"background-color: #d1ec86\"></span> <span style=\"background-color: #d1ec86\"></span> <span style=\"background-color: #d1ec86\"></span> <span style=\"background-color: #d1ec86\"></span> <span style=\"background-color: #d1ec86\"></span> <span style=\"background-color: #d1ec86\"></span> <span style=\"background-color: #d1ec86\"></span> <span style=\"background-color: #d1ec86\"></span> <span style=\"background-color: #d1ec86\"></span> <span style=\"background-color: #d1ec86\"></span> <span style=\"background-color: #d1ec86\"></span> <span style=\"background-color: #d1ec86\"></span> <span style=\"background-color: #d1ec86\"></span> <span style=\"background-color: #d1ec86\"></span> <span style=\"background-color: #d1ec86\"></span> <span style=\"background-color: #d1ec86\"></span> <span style=\"background-color: #d1ec86\"></span> <span style=\"background-color: #d1ec86\"></span> <span style=\"background-color: #d1ec86\"></span> <span style=\"background-color: #d1ec86\"></span> <span style=\"background-color: #d1ec86\"></span> <span style=\"background-color: #d1ec86\"></span> <span style=\"background-color: #d1ec86\"></span> <span style=\"background-color: #d1ec86\"></span> <span style=\"background-color: #d1ec86\"></span> <span style=\"background-color: #d1ec86\"></span> <span style=\"background-color: #d1ec86\"></span> <span style=\"background-color: #d1ec86\"></span> <span style=\"background-color: #d1ec86\"></span> <span style=\"background-color: #d1ec86\"></span> <span style=\"background-color: #d1ec86\"></span> <span style=\"background-color: #d1ec86\"></span> <span style=\"background-color: #d1ec86\"></span> <span style=\"background-color: #d1ec86\"></span> <span style=\"background-color: #d1ec86\"></span> <span style=\"background-color: #d1ec86\"></span> <span style=\"background-color: #d1ec86\"></span> <span style=\"background-color: #d1ec86\"></span> <span style=\"background-color: #d1ec86\"></span> <span style=\"background-color: #d1ec86\"></span> <span style=\"background-color: #d1ec86\"></span> <span style=\"background-color: #d1ec86\"></span> <span style=\"background-color: #d1ec86\"></span> <span style=\"background-color: #d1ec86\"></span> <span style=\"background-color: #d1ec86\"></span> <span style=\"background-color: #d1ec86\"></span> <span style=\"background-color: #d1ec86\"></span> <span style=\"background-color: #d1ec86\"></span> <span style=\"background-color: #d1ec86\"></span> <span style=\"background-color: #d1ec86\"></span> <span style=\"background-color: #d1ec86\"></span> <span style=\"background-color: #d1ec86\"></span> <span style=\"background-color: #d1ec86\"></span> <span style=\"background-color: #d1ec86\"></span> <span style=\"background-color: #d1ec86\"></span> <span style=\"background-color: #d1ec86\"></span> <span style=\"background-color: #d1ec86\"></span> <span style=\"background-color: #d1ec86\"></span> <span style=\"background-color: #d1ec86\"></span> <span style=\"background-color: #d1ec86\"></span> <span style=\"background-color: #d1ec86\"></span> <span style=\"background-color: #d1ec86\"></span> <span style=\"background-color: #d1ec86\"></span> <span style=\"background-color: #d1ec86\"></span> <span style=\"background-color: #d1ec86\"></span> <span style=\"background-color: #d1ec86\"></span> <span style=\"background-color: #d1ec86\"></span> <span style=\"background-color: #d1ec86\"></span> <span style=\"background-color: #d1ec86\"></span> <span style=\"background-color: #d1ec86\"></span> <span style=\"background-color: #d1ec86\"></span> <span style=\"background-color: #d1ec86\"></span> <span style=\"background-color: #d1ec86\"></span> <span style=\"background-color: #d1ec86\"></span> <span style=\"background-color: #d1ec86\"></span> <span style=\"background-color: #d1ec86\"></span> <span style=\"background-color: #d1ec86\"></span> <span style=\"background-color: #d1ec86\"></span> <span style=\"background-color: #d1ec86\"></span> <span style=\"background-color: #d1ec86\"></span> <span style=\"background-color: #d1ec86\"></span> <span style=\"background-color: #d1ec86\"></span> <span style=\"background-color: #d1ec86\"></span> <span style=\"background-color: #d1ec86\"></span> <span style=\"background-color: #d1ec86\"></span> <span style=\"background-color: #d1ec86\"></span> <span style=\"background-color: #d1ec86\"></span> <span style=\"background-color: #d1ec86\"></span> <span style=\"background-color: #d1ec86\"></span> <span style=\"background-color: #d1ec86\"></span> <span style=\"background-color: #d1ec86\"></span> <span style=\"background-color: #d1ec86\"></span> <span style=\"background-color: #d1ec86\"></span> <span style=\"background-color: #d1ec86\"></span> <span style=\"background-color: #d1ec86\"></span> <span style=\"background-color: #d1ec86\"></span> <span style=\"background-color: #d1ec86\"></span> <span style=\"background-color: #d1ec86\"></span> <span style=\"background-color: #d1ec86\"></span> <span style=\"background-color: #d1ec86\"></span> <span style=\"background-color: #d1ec86\"></span> <span style=\"background-color: #d1ec86\"></span> <span style=\"background-color: #d1ec86\"></span> <span style=\"background-color: #d1ec86\"></span> <span style=\"background-color: #d1ec86\"></span> <span style=\"background-color: #d1ec86\"></span> <span style=\"background-color: #d1ec86\"></span> <span style=\"background-color: #d1ec86\"></span> <span style=\"background-color: #d1ec86\"></span> <span style=\"background-color: #d1ec86\"></span> <span style=\"background-color: #d1ec86\"></span> <span style=\"background-color: #d1ec86\"></span> <span style=\"background-color: #d1ec86\"></span> <span style=\"background-color: #d1ec86\"></span> <span style=\"background-color: #d1ec86\"></span> <span style=\"background-color: #d1ec86\"></span> <span style=\"background-color: #d1ec86\"></span> <span style=\"background-color: #d1ec86\"></span> <span style=\"background-color: #d1ec86\"></span> <span style=\"background-color: #d1ec86\"></span> <span style=\"background-color: #d1ec86\"></span> <span style=\"background-color: #d1ec86\"></span> <span style=\"background-color: #d1ec86\"></span> <span style=\"background-color: #d1ec86\"></span> <span style=\"background-color: #d1ec86\"></span> <span style=\"background-color: #d1ec86\"></span> <span style=\"background-color: #d1ec86\"></span> <span style=\"background-color: #d1ec86\"></span> <span style=\"background-color: #d1ec86\"></span> <span style=\"background-color: #d1ec86\"></span> <span style=\"background-color: #d1ec86\"></span> <span style=\"background-color: #d1ec86\"></span> <span style=\"background-color: #d1ec86\"></span> <span style=\"background-color: #d1ec86\"></span> <span style=\"background-color: #d1ec86\"></span> <span style=\"background-color: #d1ec86\"></span> <span style=\"background-color: #d1ec86\"></span> <span style=\"background-color: #d1ec86\"></span> <span style=\"background-color: #d1ec86\"></span> <span style=\"background-color: #d1ec86\"></span> <span style=\"background-color: #d1ec86\"></span> <span style=\"background-color: #d1ec86\"></span> <span style=\"background-color: #cfeb85\">this</span> <span style=\"background-color: #d1ec86\">is</span> <span style=\"background-color: #e9f6a1\">an</span> <span style=\"background-color: #fee593\">excellent</span> <span style=\"background-color: #fdbb6c\">heartbreaking</span> <span style=\"background-color: #feca79\">movie</span> <span style=\"background-color: #fff8b4\">it</span> <span style=\"background-color: #e8f59f\">is</span> <span style=\"background-color: #e0f295\">by</span> <span style=\"background-color: #e2f397\">far</span> <span style=\"background-color: #e2f397\">the</span> <span style=\"background-color: #f1f9ac\">best</span> <span style=\"background-color: #fdfebc\">i've</span> <span style=\"background-color: #fff7b2\">seen</span> <span style=\"background-color: #feeda1\">that</span> <span style=\"background-color: #feea9b\">depicts</span> <span style=\"background-color: #fee797\">the</span> <span style=\"background-color: #fee695\">current</span> <span style=\"background-color: #fffcba\">reality</span> <span style=\"background-color: #f5fbb2\">in</span> <span style=\"background-color: #ebf7a3\">latin</span> <span style=\"background-color: #f4fab0\">america</span> <span style=\"background-color: #d3ec87\">corruption</span> <span style=\"background-color: #9bd469\">ruthless</span> <span style=\"background-color: #96d268\">and</span> <span style=\"background-color: #c5e67e\">greedy</span> <span style=\"background-color: #d9ef8b\">police</span> <span style=\"background-color: #e6f59d\">officials</span> <span style=\"background-color: #fafdb8\">and</span> <span style=\"background-color: #fffebe\">heartless</span> <span style=\"background-color: #fffdbc\">mayhem</span> <span style=\"background-color: #e5f49b\">towards</span> <span style=\"background-color: #e0f295\">innocent</span> <span style=\"background-color: #dcf08f\">victims</span> <span style=\"background-color: #eff8aa\">denzel</span> <span style=\"background-color: #feffbe\">gives</span> <span style=\"background-color: #f4fab0\">the</span> <span style=\"background-color: #fff7b2\">most</span> <span style=\"background-color: #fdad60\">moving</span> <span style=\"background-color: #f67a49\">performance</span> <span style=\"background-color: #fca85e\">in</span> <span style=\"background-color: #fff5ae\">his</span> <span style=\"background-color: #e9f6a1\">career</span> <span style=\"background-color: #e3f399\">in</span> <span style=\"background-color: #cfeb85\">my</span> <span style=\"background-color: #8ecf67\">opinion</span> <span style=\"background-color: #69be63\">dakota</span> <span style=\"background-color: #abdb6d\">fanning</span> <span style=\"background-color: #feffbe\">is</span> <span style=\"background-color: #fee695\">an</span> <span style=\"background-color: #feea9b\">amazing</span> <span style=\"background-color: #fff0a6\">young</span> <span style=\"background-color: #fffebe\">actress</span> <span style=\"background-color: #e5f49b\">the</span> <span style=\"background-color: #ecf7a6\">relationship</span> <span style=\"background-color: #fff5ae\">between</span> <span style=\"background-color: #feeb9d\">washington</span> <span style=\"background-color: #feeb9d\">and</span> <span style=\"background-color: #fee28f\">fanning</span> <span style=\"background-color: #fdb567\">is</span> <span style=\"background-color: #f99153\">wonderfully</span> <span style=\"background-color: #fdb163\">written</span> <span style=\"background-color: #fff3ac\">and</span> <span style=\"background-color: #e3f399\">portrayed</span> <span style=\"background-color: #d9ef8b\">i</span> <span style=\"background-color: #f2faae\">believed</span> <span style=\"background-color: #e3f399\">every</span> <span style=\"background-color: #d5ed88\">minute</span> <span style=\"background-color: #b9e176\">the</span> <span style=\"background-color: #d9ef8b\">cast</span> <span style=\"background-color: #fff6b0\">is</span> <span style=\"background-color: #feea9b\">brilliant</span> <span style=\"background-color: #eff8aa\">christopher</span> <span style=\"background-color: #93d168\">walken</span> <span style=\"background-color: #1e9a51\">mickey</span> <span style=\"background-color: #42ac5a\">rourke</span> <span style=\"background-color: #a9da6c\">are</span> <span style=\"background-color: #fff1a8\">great</span> <span style=\"background-color: #fecc7b\">as</span> <span style=\"background-color: #fee28f\">always</span> <span style=\"background-color: #f8fcb6\">walken</span> <span style=\"background-color: #e8f59f\">lights</span> <span style=\"background-color: #ebf7a3\">up</span> <span style=\"background-color: #e0f295\">the</span> <span style=\"background-color: #bde379\">screen</span> <span style=\"background-color: #8ecf67\">for</span> <span style=\"background-color: #a0d669\">me</span> <span style=\"background-color: #afdd70\">like</span> <span style=\"background-color: #c3e67d\">no</span> <span style=\"background-color: #c1e57b\">other</span> <span style=\"background-color: #c1e57b\">actor</span> <span style=\"background-color: #bde379\">i</span> <span style=\"background-color: #c7e77f\">would</span> <span style=\"background-color: #ecf7a6\">have</span> <span style=\"background-color: #fee999\">loved</span> <span style=\"background-color: #fece7c\">to</span> <span style=\"background-color: #fee18d\">see</span> <span style=\"background-color: #fffdbc\">more</span> <span style=\"background-color: #f5fbb2\">of</span> <span style=\"background-color: #f7fcb4\">both</span> <span style=\"background-color: #fdfebc\">of</span> <span style=\"background-color: #f1f9ac\">them</span> <span style=\"background-color: #ebf7a3\">the</span> <span style=\"background-color: #eef8a8\">authentic</span> <span style=\"background-color: #ddf191\">locations</span> <span style=\"background-color: #c7e77f\">are</span> <span style=\"background-color: #a9da6c\">remarkable</span> <span style=\"background-color: #a9da6c\">the</span> <span style=\"background-color: #bbe278\">camera</span> <span style=\"background-color: #c9e881\">work</span> <span style=\"background-color: #cfeb85\">is</span> <span style=\"background-color: #bbe278\">interesting</span> <span style=\"background-color: #afdd70\">and</span> <span style=\"background-color: #d7ee8a\">different</span> <span style=\"background-color: #f1f9ac\">there</span> <span style=\"background-color: #eff8aa\">are</span> <span style=\"background-color: #e8f59f\">many</span> <span style=\"background-color: #f7fcb4\">famous</span> <span style=\"background-color: #fff3ac\">latin</span> <span style=\"background-color: #fffbb8\">actors</span> <span style=\"background-color: #f5fbb2\">in</span> <span style=\"background-color: #f2faae\">the</span> <span style=\"background-color: #f4fab0\">cast</span> <span style=\"background-color: #f5fbb2\">making</span> <span style=\"background-color: #f2faae\">it</span> <span style=\"background-color: #eef8a8\">all</span> <span style=\"background-color: #eef8a8\">the</span> <span style=\"background-color: #e6f59d\">more</span> <span style=\"background-color: #cbe982\">interesting</span> <span style=\"background-color: #addc6f\">for</span> <span style=\"background-color: #a9da6c\">people</span> <span style=\"background-color: #addc6f\">familiar</span> <span style=\"background-color: #b7e075\">with</span> <span style=\"background-color: #c7e77f\">latin</span> <span style=\"background-color: #dcf08f\">american</span> <span style=\"background-color: #d3ec87\">cinema</span> <span style=\"background-color: #d5ed88\">i</span> <span style=\"background-color: #eff8aa\">highly</span> <span style=\"background-color: #fff5ae\">recommend</span> <span style=\"background-color: #fbfdba\">this</span> <span style=\"background-color: #e0f295\">movie</span> </p><p>CNN Filter: 5</p><p><span style=\"background-color: #fed683\"></span> <span style=\"background-color: #fed884\"></span> <span style=\"background-color: #fed884\"></span> <span style=\"background-color: #feda86\"></span> <span style=\"background-color: #feda86\"></span> <span style=\"background-color: #feda86\"></span> <span style=\"background-color: #feda86\"></span> <span style=\"background-color: #feda86\"></span> <span style=\"background-color: #feda86\"></span> <span style=\"background-color: #feda86\"></span> <span style=\"background-color: #feda86\"></span> <span style=\"background-color: #feda86\"></span> <span style=\"background-color: #feda86\"></span> <span style=\"background-color: #feda86\"></span> <span style=\"background-color: #feda86\"></span> <span style=\"background-color: #feda86\"></span> <span style=\"background-color: #feda86\"></span> <span style=\"background-color: #feda86\"></span> <span style=\"background-color: #feda86\"></span> <span style=\"background-color: #feda86\"></span> <span style=\"background-color: #feda86\"></span> <span style=\"background-color: #feda86\"></span> <span style=\"background-color: #feda86\"></span> <span style=\"background-color: #feda86\"></span> <span style=\"background-color: #feda86\"></span> <span style=\"background-color: #feda86\"></span> <span style=\"background-color: #feda86\"></span> <span style=\"background-color: #feda86\"></span> <span style=\"background-color: #feda86\"></span> <span style=\"background-color: #feda86\"></span> <span style=\"background-color: #feda86\"></span> <span style=\"background-color: #feda86\"></span> <span style=\"background-color: #feda86\"></span> <span style=\"background-color: #feda86\"></span> <span style=\"background-color: #feda86\"></span> <span style=\"background-color: #feda86\"></span> <span style=\"background-color: #feda86\"></span> <span style=\"background-color: #feda86\"></span> <span style=\"background-color: #feda86\"></span> <span style=\"background-color: #feda86\"></span> <span style=\"background-color: #feda86\"></span> <span style=\"background-color: #feda86\"></span> <span style=\"background-color: #feda86\"></span> <span style=\"background-color: #feda86\"></span> <span style=\"background-color: #feda86\"></span> <span style=\"background-color: #feda86\"></span> <span style=\"background-color: #feda86\"></span> <span style=\"background-color: #feda86\"></span> <span style=\"background-color: #feda86\"></span> <span style=\"background-color: #feda86\"></span> <span style=\"background-color: #feda86\"></span> <span style=\"background-color: #feda86\"></span> <span style=\"background-color: #feda86\"></span> <span style=\"background-color: #feda86\"></span> <span style=\"background-color: #feda86\"></span> <span style=\"background-color: #feda86\"></span> <span style=\"background-color: #feda86\"></span> <span style=\"background-color: #feda86\"></span> <span style=\"background-color: #feda86\"></span> <span style=\"background-color: #feda86\"></span> <span style=\"background-color: #feda86\"></span> <span style=\"background-color: #feda86\"></span> <span style=\"background-color: #feda86\"></span> <span style=\"background-color: #feda86\"></span> <span style=\"background-color: #feda86\"></span> <span style=\"background-color: #feda86\"></span> <span style=\"background-color: #feda86\"></span> <span style=\"background-color: #feda86\"></span> <span style=\"background-color: #feda86\"></span> <span style=\"background-color: #feda86\"></span> <span style=\"background-color: #feda86\"></span> <span style=\"background-color: #feda86\"></span> <span style=\"background-color: #feda86\"></span> <span style=\"background-color: #feda86\"></span> <span style=\"background-color: #feda86\"></span> <span style=\"background-color: #feda86\"></span> <span style=\"background-color: #feda86\"></span> <span style=\"background-color: #feda86\"></span> <span style=\"background-color: #feda86\"></span> <span style=\"background-color: #feda86\"></span> <span style=\"background-color: #feda86\"></span> <span style=\"background-color: #feda86\"></span> <span style=\"background-color: #feda86\"></span> <span style=\"background-color: #feda86\"></span> <span style=\"background-color: #feda86\"></span> <span style=\"background-color: #feda86\"></span> <span style=\"background-color: #feda86\"></span> <span style=\"background-color: #feda86\"></span> <span style=\"background-color: #feda86\"></span> <span style=\"background-color: #feda86\"></span> <span style=\"background-color: #feda86\"></span> <span style=\"background-color: #feda86\"></span> <span style=\"background-color: #feda86\"></span> <span style=\"background-color: #feda86\"></span> <span style=\"background-color: #feda86\"></span> <span style=\"background-color: #feda86\"></span> <span style=\"background-color: #feda86\"></span> <span style=\"background-color: #feda86\"></span> <span style=\"background-color: #feda86\"></span> <span style=\"background-color: #feda86\"></span> <span style=\"background-color: #feda86\"></span> <span style=\"background-color: #feda86\"></span> <span style=\"background-color: #feda86\"></span> <span style=\"background-color: #feda86\"></span> <span style=\"background-color: #feda86\"></span> <span style=\"background-color: #feda86\"></span> <span style=\"background-color: #feda86\"></span> <span style=\"background-color: #feda86\"></span> <span style=\"background-color: #feda86\"></span> <span style=\"background-color: #feda86\"></span> <span style=\"background-color: #feda86\"></span> <span style=\"background-color: #feda86\"></span> <span style=\"background-color: #feda86\"></span> <span style=\"background-color: #feda86\"></span> <span style=\"background-color: #feda86\"></span> <span style=\"background-color: #feda86\"></span> <span style=\"background-color: #feda86\"></span> <span style=\"background-color: #feda86\"></span> <span style=\"background-color: #feda86\"></span> <span style=\"background-color: #feda86\"></span> <span style=\"background-color: #feda86\"></span> <span style=\"background-color: #feda86\"></span> <span style=\"background-color: #feda86\"></span> <span style=\"background-color: #feda86\"></span> <span style=\"background-color: #feda86\"></span> <span style=\"background-color: #feda86\"></span> <span style=\"background-color: #feda86\"></span> <span style=\"background-color: #feda86\"></span> <span style=\"background-color: #feda86\"></span> <span style=\"background-color: #feda86\"></span> <span style=\"background-color: #feda86\"></span> <span style=\"background-color: #feda86\"></span> <span style=\"background-color: #feda86\"></span> <span style=\"background-color: #feda86\"></span> <span style=\"background-color: #feda86\"></span> <span style=\"background-color: #feda86\"></span> <span style=\"background-color: #feda86\"></span> <span style=\"background-color: #feda86\"></span> <span style=\"background-color: #feda86\"></span> <span style=\"background-color: #feda86\"></span> <span style=\"background-color: #feda86\"></span> <span style=\"background-color: #feda86\"></span> <span style=\"background-color: #feda86\"></span> <span style=\"background-color: #feda86\"></span> <span style=\"background-color: #feda86\"></span> <span style=\"background-color: #feda86\"></span> <span style=\"background-color: #feda86\"></span> <span style=\"background-color: #feda86\"></span> <span style=\"background-color: #feda86\"></span> <span style=\"background-color: #feda86\"></span> <span style=\"background-color: #feda86\"></span> <span style=\"background-color: #feda86\"></span> <span style=\"background-color: #feda86\"></span> <span style=\"background-color: #feda86\"></span> <span style=\"background-color: #feda86\"></span> <span style=\"background-color: #feda86\"></span> <span style=\"background-color: #feda86\"></span> <span style=\"background-color: #feda86\"></span> <span style=\"background-color: #feda86\"></span> <span style=\"background-color: #feda86\"></span> <span style=\"background-color: #feda86\"></span> <span style=\"background-color: #feda86\"></span> <span style=\"background-color: #feda86\"></span> <span style=\"background-color: #feda86\"></span> <span style=\"background-color: #feda86\"></span> <span style=\"background-color: #feda86\"></span> <span style=\"background-color: #feda86\"></span> <span style=\"background-color: #feda86\"></span> <span style=\"background-color: #feda86\"></span> <span style=\"background-color: #feda86\"></span> <span style=\"background-color: #feda86\"></span> <span style=\"background-color: #feda86\"></span> <span style=\"background-color: #feda86\"></span> <span style=\"background-color: #feda86\"></span> <span style=\"background-color: #feda86\"></span> <span style=\"background-color: #feda86\"></span> <span style=\"background-color: #feda86\"></span> <span style=\"background-color: #feda86\"></span> <span style=\"background-color: #feda86\"></span> <span style=\"background-color: #feda86\"></span> <span style=\"background-color: #feda86\"></span> <span style=\"background-color: #feda86\"></span> <span style=\"background-color: #feda86\"></span> <span style=\"background-color: #feda86\"></span> <span style=\"background-color: #feda86\"></span> <span style=\"background-color: #feda86\"></span> <span style=\"background-color: #feda86\"></span> <span style=\"background-color: #feda86\"></span> <span style=\"background-color: #feda86\"></span> <span style=\"background-color: #feda86\"></span> <span style=\"background-color: #feda86\"></span> <span style=\"background-color: #feda86\"></span> <span style=\"background-color: #feda86\"></span> <span style=\"background-color: #feda86\"></span> <span style=\"background-color: #feda86\"></span> <span style=\"background-color: #feda86\"></span> <span style=\"background-color: #feda86\"></span> <span style=\"background-color: #feda86\"></span> <span style=\"background-color: #feda86\"></span> <span style=\"background-color: #feda86\"></span> <span style=\"background-color: #feda86\"></span> <span style=\"background-color: #feda86\"></span> <span style=\"background-color: #feda86\"></span> <span style=\"background-color: #feda86\"></span> <span style=\"background-color: #feda86\"></span> <span style=\"background-color: #feda86\"></span> <span style=\"background-color: #feda86\"></span> <span style=\"background-color: #feda86\"></span> <span style=\"background-color: #feda86\"></span> <span style=\"background-color: #fed683\">this</span> <span style=\"background-color: #fed27f\">is</span> <span style=\"background-color: #feda86\">an</span> <span style=\"background-color: #feea9b\">excellent</span> <span style=\"background-color: #e3f399\">heartbreaking</span> <span style=\"background-color: #c9e881\">movie</span> <span style=\"background-color: #ddf191\">it</span> <span style=\"background-color: #fff7b2\">is</span> <span style=\"background-color: #feec9f\">by</span> <span style=\"background-color: #feea9b\">far</span> <span style=\"background-color: #feca79\">the</span> <span style=\"background-color: #fed07e\">best</span> <span style=\"background-color: #feec9f\">i've</span> <span style=\"background-color: #fffcba\">seen</span> <span style=\"background-color: #fbfdba\">that</span> <span style=\"background-color: #fee491\">depicts</span> <span style=\"background-color: #fffdbc\">the</span> <span style=\"background-color: #fafdb8\">current</span> <span style=\"background-color: #e2f397\">reality</span> <span style=\"background-color: #f5fbb2\">in</span> <span style=\"background-color: #feda86\">latin</span> <span style=\"background-color: #fdbb6c\">america</span> <span style=\"background-color: #f99153\">corruption</span> <span style=\"background-color: #feca79\">ruthless</span> <span style=\"background-color: #ebf7a3\">and</span> <span style=\"background-color: #b5df74\">greedy</span> <span style=\"background-color: #d1ec86\">police</span> <span style=\"background-color: #fee797\">officials</span> <span style=\"background-color: #fdb768\">and</span> <span style=\"background-color: #fdbb6c\">heartless</span> <span style=\"background-color: #fee797\">mayhem</span> <span style=\"background-color: #eef8a8\">towards</span> <span style=\"background-color: #bbe278\">innocent</span> <span style=\"background-color: #7fc866\">victims</span> <span style=\"background-color: #eef8a8\">denzel</span> <span style=\"background-color: #fdfebc\">gives</span> <span style=\"background-color: #fdb567\">the</span> <span style=\"background-color: #f8fcb6\">most</span> <span style=\"background-color: #fee593\">moving</span> <span style=\"background-color: #fff0a6\">performance</span> <span style=\"background-color: #fff0a6\">in</span> <span style=\"background-color: #fffab6\">his</span> <span style=\"background-color: #fff3ac\">career</span> <span style=\"background-color: #fee999\">in</span> <span style=\"background-color: #fed683\">my</span> <span style=\"background-color: #fee999\">opinion</span> <span style=\"background-color: #e6f59d\">dakota</span> <span style=\"background-color: #e2f397\">fanning</span> <span style=\"background-color: #e8f59f\">is</span> <span style=\"background-color: #fece7c\">an</span> <span style=\"background-color: #feefa3\">amazing</span> <span style=\"background-color: #e8f59f\">young</span> <span style=\"background-color: #ddf191\">actress</span> <span style=\"background-color: #feeda1\">the</span> <span style=\"background-color: #fdaf62\">relationship</span> <span style=\"background-color: #fdc574\">between</span> <span style=\"background-color: #feeb9d\">washington</span> <span style=\"background-color: #ddf191\">and</span> <span style=\"background-color: #e2f397\">fanning</span> <span style=\"background-color: #b7e075\">is</span> <span style=\"background-color: #e2f397\">wonderfully</span> <span style=\"background-color: #8ccd67\">written</span> <span style=\"background-color: #d7ee8a\">and</span> <span style=\"background-color: #f8fcb6\">portrayed</span> <span style=\"background-color: #fed683\">i</span> <span style=\"background-color: #feea9b\">believed</span> <span style=\"background-color: #feefa3\">every</span> <span style=\"background-color: #fee491\">minute</span> <span style=\"background-color: #fee491\">the</span> <span style=\"background-color: #feeda1\">cast</span> <span style=\"background-color: #fdbd6d\">is</span> <span style=\"background-color: #fdb365\">brilliant</span> <span style=\"background-color: #fede89\">christopher</span> <span style=\"background-color: #eef8a8\">walken</span> <span style=\"background-color: #fffbb8\">mickey</span> <span style=\"background-color: #fdc776\">rourke</span> <span style=\"background-color: #fdb567\">are</span> <span style=\"background-color: #fed07e\">great</span> <span style=\"background-color: #fff2aa\">as</span> <span style=\"background-color: #fff5ae\">always</span> <span style=\"background-color: #fbfdba\">walken</span> <span style=\"background-color: #fee491\">lights</span> <span style=\"background-color: #fede89\">up</span> <span style=\"background-color: #fdb96a\">the</span> <span style=\"background-color: #fee28f\">screen</span> <span style=\"background-color: #fedc88\">for</span> <span style=\"background-color: #fee999\">me</span> <span style=\"background-color: #fed884\">like</span> <span style=\"background-color: #fed481\">no</span> <span style=\"background-color: #fdb96a\">other</span> <span style=\"background-color: #fdc372\">actor</span> <span style=\"background-color: #fdc776\">i</span> <span style=\"background-color: #fee999\">would</span> <span style=\"background-color: #fed481\">have</span> <span style=\"background-color: #fed481\">loved</span> <span style=\"background-color: #fffbb8\">to</span> <span style=\"background-color: #fdfebc\">see</span> <span style=\"background-color: #eff8aa\">more</span> <span style=\"background-color: #fff1a8\">of</span> <span style=\"background-color: #fee695\">both</span> <span style=\"background-color: #feec9f\">of</span> <span style=\"background-color: #fed27f\">them</span> <span style=\"background-color: #fff8b4\">the</span> <span style=\"background-color: #fee18d\">authentic</span> <span style=\"background-color: #fff0a6\">locations</span> <span style=\"background-color: #fee18d\">are</span> <span style=\"background-color: #feefa3\">remarkable</span> <span style=\"background-color: #fee491\">the</span> <span style=\"background-color: #fee08b\">camera</span> <span style=\"background-color: #fdb365\">work</span> <span style=\"background-color: #fca55d\">is</span> <span style=\"background-color: #fb9d59\">interesting</span> <span style=\"background-color: #fdc574\">and</span> <span style=\"background-color: #feec9f\">different</span> <span style=\"background-color: #fee695\">there</span> <span style=\"background-color: #fee695\">are</span> <span style=\"background-color: #fff5ae\">many</span> <span style=\"background-color: #feeb9d\">famous</span> <span style=\"background-color: #feea9b\">latin</span> <span style=\"background-color: #fdc171\">actors</span> <span style=\"background-color: #fee18d\">in</span> <span style=\"background-color: #fee999\">the</span> <span style=\"background-color: #fee695\">cast</span> <span style=\"background-color: #fed27f\">making</span> <span style=\"background-color: #fdbf6f\">it</span> <span style=\"background-color: #fdc776\">all</span> <span style=\"background-color: #fede89\">the</span> <span style=\"background-color: #fedc88\">more</span> <span style=\"background-color: #fecc7b\">interesting</span> <span style=\"background-color: #fdc776\">for</span> <span style=\"background-color: #fede89\">people</span> <span style=\"background-color: #fee18d\">familiar</span> <span style=\"background-color: #fee999\">with</span> <span style=\"background-color: #feca79\">latin</span> <span style=\"background-color: #fed481\">american</span> <span style=\"background-color: #fedc88\">cinema</span> <span style=\"background-color: #fff8b4\">i</span> <span style=\"background-color: #feec9f\">highly</span> <span style=\"background-color: #feffbe\">recommend</span> <span style=\"background-color: #fff5ae\">this</span> <span style=\"background-color: #fffdbc\">movie</span> </p><p>CNN Filter: 6</p><p><span style=\"background-color: #e9f6a1\"></span> <span style=\"background-color: #e9f6a1\"></span> <span style=\"background-color: #ebf7a3\"></span> <span style=\"background-color: #ebf7a3\"></span> <span style=\"background-color: #ebf7a3\"></span> <span style=\"background-color: #ebf7a3\"></span> <span style=\"background-color: #ebf7a3\"></span> <span style=\"background-color: #ebf7a3\"></span> <span style=\"background-color: #ebf7a3\"></span> <span style=\"background-color: #ebf7a3\"></span> <span style=\"background-color: #ebf7a3\"></span> <span style=\"background-color: #ebf7a3\"></span> <span style=\"background-color: #ebf7a3\"></span> <span style=\"background-color: #ebf7a3\"></span> <span style=\"background-color: #ebf7a3\"></span> <span style=\"background-color: #ebf7a3\"></span> <span style=\"background-color: #ebf7a3\"></span> <span style=\"background-color: #ebf7a3\"></span> <span style=\"background-color: #ebf7a3\"></span> <span style=\"background-color: #ebf7a3\"></span> <span style=\"background-color: #ebf7a3\"></span> <span style=\"background-color: #ebf7a3\"></span> <span style=\"background-color: #ebf7a3\"></span> <span style=\"background-color: #ebf7a3\"></span> <span style=\"background-color: #ebf7a3\"></span> <span style=\"background-color: #ebf7a3\"></span> <span style=\"background-color: #ebf7a3\"></span> <span style=\"background-color: #ebf7a3\"></span> <span style=\"background-color: #ebf7a3\"></span> <span style=\"background-color: #ebf7a3\"></span> <span style=\"background-color: #ebf7a3\"></span> <span style=\"background-color: #ebf7a3\"></span> <span style=\"background-color: #ebf7a3\"></span> <span style=\"background-color: #ebf7a3\"></span> <span style=\"background-color: #ebf7a3\"></span> <span style=\"background-color: #ebf7a3\"></span> <span style=\"background-color: #ebf7a3\"></span> <span style=\"background-color: #ebf7a3\"></span> <span style=\"background-color: #ebf7a3\"></span> <span style=\"background-color: #ebf7a3\"></span> <span style=\"background-color: #ebf7a3\"></span> <span style=\"background-color: #ebf7a3\"></span> <span style=\"background-color: #ebf7a3\"></span> <span style=\"background-color: #ebf7a3\"></span> <span style=\"background-color: #ebf7a3\"></span> <span style=\"background-color: #ebf7a3\"></span> <span style=\"background-color: #ebf7a3\"></span> <span style=\"background-color: #ebf7a3\"></span> <span style=\"background-color: #ebf7a3\"></span> <span style=\"background-color: #ebf7a3\"></span> <span style=\"background-color: #ebf7a3\"></span> <span style=\"background-color: #ebf7a3\"></span> <span style=\"background-color: #ebf7a3\"></span> <span style=\"background-color: #ebf7a3\"></span> <span style=\"background-color: #ebf7a3\"></span> <span style=\"background-color: #ebf7a3\"></span> <span style=\"background-color: #ebf7a3\"></span> <span style=\"background-color: #ebf7a3\"></span> <span style=\"background-color: #ebf7a3\"></span> <span style=\"background-color: #ebf7a3\"></span> <span style=\"background-color: #ebf7a3\"></span> <span style=\"background-color: #ebf7a3\"></span> <span style=\"background-color: #ebf7a3\"></span> <span style=\"background-color: #ebf7a3\"></span> <span style=\"background-color: #ebf7a3\"></span> <span style=\"background-color: #ebf7a3\"></span> <span style=\"background-color: #ebf7a3\"></span> <span style=\"background-color: #ebf7a3\"></span> <span style=\"background-color: #ebf7a3\"></span> <span style=\"background-color: #ebf7a3\"></span> <span style=\"background-color: #ebf7a3\"></span> <span style=\"background-color: #ebf7a3\"></span> <span style=\"background-color: #ebf7a3\"></span> <span style=\"background-color: #ebf7a3\"></span> <span style=\"background-color: #ebf7a3\"></span> <span style=\"background-color: #ebf7a3\"></span> <span style=\"background-color: #ebf7a3\"></span> <span style=\"background-color: #ebf7a3\"></span> <span style=\"background-color: #ebf7a3\"></span> <span style=\"background-color: #ebf7a3\"></span> <span style=\"background-color: #ebf7a3\"></span> <span style=\"background-color: #ebf7a3\"></span> <span style=\"background-color: #ebf7a3\"></span> <span style=\"background-color: #ebf7a3\"></span> <span style=\"background-color: #ebf7a3\"></span> <span style=\"background-color: #ebf7a3\"></span> <span style=\"background-color: #ebf7a3\"></span> <span style=\"background-color: #ebf7a3\"></span> <span style=\"background-color: #ebf7a3\"></span> <span style=\"background-color: #ebf7a3\"></span> <span style=\"background-color: #ebf7a3\"></span> <span style=\"background-color: #ebf7a3\"></span> <span style=\"background-color: #ebf7a3\"></span> <span style=\"background-color: #ebf7a3\"></span> <span style=\"background-color: #ebf7a3\"></span> <span style=\"background-color: #ebf7a3\"></span> <span style=\"background-color: #ebf7a3\"></span> <span style=\"background-color: #ebf7a3\"></span> <span style=\"background-color: #ebf7a3\"></span> <span style=\"background-color: #ebf7a3\"></span> <span style=\"background-color: #ebf7a3\"></span> <span style=\"background-color: #ebf7a3\"></span> <span style=\"background-color: #ebf7a3\"></span> <span style=\"background-color: #ebf7a3\"></span> <span style=\"background-color: #ebf7a3\"></span> <span style=\"background-color: #ebf7a3\"></span> <span style=\"background-color: #ebf7a3\"></span> <span style=\"background-color: #ebf7a3\"></span> <span style=\"background-color: #ebf7a3\"></span> <span style=\"background-color: #ebf7a3\"></span> <span style=\"background-color: #ebf7a3\"></span> <span style=\"background-color: #ebf7a3\"></span> <span style=\"background-color: #ebf7a3\"></span> <span style=\"background-color: #ebf7a3\"></span> <span style=\"background-color: #ebf7a3\"></span> <span style=\"background-color: #ebf7a3\"></span> <span style=\"background-color: #ebf7a3\"></span> <span style=\"background-color: #ebf7a3\"></span> <span style=\"background-color: #ebf7a3\"></span> <span style=\"background-color: #ebf7a3\"></span> <span style=\"background-color: #ebf7a3\"></span> <span style=\"background-color: #ebf7a3\"></span> <span style=\"background-color: #ebf7a3\"></span> <span style=\"background-color: #ebf7a3\"></span> <span style=\"background-color: #ebf7a3\"></span> <span style=\"background-color: #ebf7a3\"></span> <span style=\"background-color: #ebf7a3\"></span> <span style=\"background-color: #ebf7a3\"></span> <span style=\"background-color: #ebf7a3\"></span> <span style=\"background-color: #ebf7a3\"></span> <span style=\"background-color: #ebf7a3\"></span> <span style=\"background-color: #ebf7a3\"></span> <span style=\"background-color: #ebf7a3\"></span> <span style=\"background-color: #ebf7a3\"></span> <span style=\"background-color: #ebf7a3\"></span> <span style=\"background-color: #ebf7a3\"></span> <span style=\"background-color: #ebf7a3\"></span> <span style=\"background-color: #ebf7a3\"></span> <span style=\"background-color: #ebf7a3\"></span> <span style=\"background-color: #ebf7a3\"></span> <span style=\"background-color: #ebf7a3\"></span> <span style=\"background-color: #ebf7a3\"></span> <span style=\"background-color: #ebf7a3\"></span> <span style=\"background-color: #ebf7a3\"></span> <span style=\"background-color: #ebf7a3\"></span> <span style=\"background-color: #ebf7a3\"></span> <span style=\"background-color: #ebf7a3\"></span> <span style=\"background-color: #ebf7a3\"></span> <span style=\"background-color: #ebf7a3\"></span> <span style=\"background-color: #ebf7a3\"></span> <span style=\"background-color: #ebf7a3\"></span> <span style=\"background-color: #ebf7a3\"></span> <span style=\"background-color: #ebf7a3\"></span> <span style=\"background-color: #ebf7a3\"></span> <span style=\"background-color: #ebf7a3\"></span> <span style=\"background-color: #ebf7a3\"></span> <span style=\"background-color: #ebf7a3\"></span> <span style=\"background-color: #ebf7a3\"></span> <span style=\"background-color: #ebf7a3\"></span> <span style=\"background-color: #ebf7a3\"></span> <span style=\"background-color: #ebf7a3\"></span> <span style=\"background-color: #ebf7a3\"></span> <span style=\"background-color: #ebf7a3\"></span> <span style=\"background-color: #ebf7a3\"></span> <span style=\"background-color: #ebf7a3\"></span> <span style=\"background-color: #ebf7a3\"></span> <span style=\"background-color: #ebf7a3\"></span> <span style=\"background-color: #ebf7a3\"></span> <span style=\"background-color: #ebf7a3\"></span> <span style=\"background-color: #ebf7a3\"></span> <span style=\"background-color: #ebf7a3\"></span> <span style=\"background-color: #ebf7a3\"></span> <span style=\"background-color: #ebf7a3\"></span> <span style=\"background-color: #ebf7a3\"></span> <span style=\"background-color: #ebf7a3\"></span> <span style=\"background-color: #ebf7a3\"></span> <span style=\"background-color: #ebf7a3\"></span> <span style=\"background-color: #ebf7a3\"></span> <span style=\"background-color: #ebf7a3\"></span> <span style=\"background-color: #ebf7a3\"></span> <span style=\"background-color: #ebf7a3\"></span> <span style=\"background-color: #ebf7a3\"></span> <span style=\"background-color: #ebf7a3\"></span> <span style=\"background-color: #ebf7a3\"></span> <span style=\"background-color: #ebf7a3\"></span> <span style=\"background-color: #ebf7a3\"></span> <span style=\"background-color: #ebf7a3\"></span> <span style=\"background-color: #ebf7a3\"></span> <span style=\"background-color: #ebf7a3\"></span> <span style=\"background-color: #ebf7a3\"></span> <span style=\"background-color: #ebf7a3\"></span> <span style=\"background-color: #ebf7a3\"></span> <span style=\"background-color: #ebf7a3\"></span> <span style=\"background-color: #ebf7a3\"></span> <span style=\"background-color: #ebf7a3\"></span> <span style=\"background-color: #ebf7a3\"></span> <span style=\"background-color: #ebf7a3\"></span> <span style=\"background-color: #ebf7a3\"></span> <span style=\"background-color: #ebf7a3\"></span> <span style=\"background-color: #ebf7a3\"></span> <span style=\"background-color: #ebf7a3\"></span> <span style=\"background-color: #ebf7a3\"></span> <span style=\"background-color: #ebf7a3\"></span> <span style=\"background-color: #ebf7a3\"></span> <span style=\"background-color: #ebf7a3\"></span> <span style=\"background-color: #ebf7a3\"></span> <span style=\"background-color: #ebf7a3\"></span> <span style=\"background-color: #ebf7a3\"></span> <span style=\"background-color: #e8f59f\"></span> <span style=\"background-color: #e2f397\">this</span> <span style=\"background-color: #daf08d\">is</span> <span style=\"background-color: #b7e075\">an</span> <span style=\"background-color: #dff293\">excellent</span> <span style=\"background-color: #f1f9ac\">heartbreaking</span> <span style=\"background-color: #fff0a6\">movie</span> <span style=\"background-color: #f7fcb4\">it</span> <span style=\"background-color: #f2faae\">is</span> <span style=\"background-color: #fbfdba\">by</span> <span style=\"background-color: #ebf7a3\">far</span> <span style=\"background-color: #e6f59d\">the</span> <span style=\"background-color: #f5fbb2\">best</span> <span style=\"background-color: #fffab6\">i've</span> <span style=\"background-color: #fff2aa\">seen</span> <span style=\"background-color: #e3f399\">that</span> <span style=\"background-color: #f4fab0\">depicts</span> <span style=\"background-color: #ebf7a3\">the</span> <span style=\"background-color: #fffcba\">current</span> <span style=\"background-color: #dcf08f\">reality</span> <span style=\"background-color: #d9ef8b\">in</span> <span style=\"background-color: #e0f295\">latin</span> <span style=\"background-color: #eef8a8\">america</span> <span style=\"background-color: #ecf7a6\">corruption</span> <span style=\"background-color: #f5fbb2\">ruthless</span> <span style=\"background-color: #fff0a6\">and</span> <span style=\"background-color: #fff6b0\">greedy</span> <span style=\"background-color: #fff0a6\">police</span> <span style=\"background-color: #fff0a6\">officials</span> <span style=\"background-color: #fee999\">and</span> <span style=\"background-color: #eff8aa\">heartless</span> <span style=\"background-color: #cfeb85\">mayhem</span> <span style=\"background-color: #cdea83\">towards</span> <span style=\"background-color: #dcf08f\">innocent</span> <span style=\"background-color: #d1ec86\">victims</span> <span style=\"background-color: #e2f397\">denzel</span> <span style=\"background-color: #ecf7a6\">gives</span> <span style=\"background-color: #fffab6\">the</span> <span style=\"background-color: #feffbe\">most</span> <span style=\"background-color: #d1ec86\">moving</span> <span style=\"background-color: #fafdb8\">performance</span> <span style=\"background-color: #f5fbb2\">in</span> <span style=\"background-color: #fff7b2\">his</span> <span style=\"background-color: #dcf08f\">career</span> <span style=\"background-color: #ddf191\">in</span> <span style=\"background-color: #c5e67e\">my</span> <span style=\"background-color: #e0f295\">opinion</span> <span style=\"background-color: #d7ee8a\">dakota</span> <span style=\"background-color: #e6f59d\">fanning</span> <span style=\"background-color: #c9e881\">is</span> <span style=\"background-color: #9dd569\">an</span> <span style=\"background-color: #fbfdba\">amazing</span> <span style=\"background-color: #fffebe\">young</span> <span style=\"background-color: #feea9b\">actress</span> <span style=\"background-color: #c1e57b\">the</span> <span style=\"background-color: #e2f397\">relationship</span> <span style=\"background-color: #e3f399\">between</span> <span style=\"background-color: #e9f6a1\">washington</span> <span style=\"background-color: #e0f295\">and</span> <span style=\"background-color: #ddf191\">fanning</span> <span style=\"background-color: #e8f59f\">is</span> <span style=\"background-color: #f1f9ac\">wonderfully</span> <span style=\"background-color: #fff2aa\">written</span> <span style=\"background-color: #fff1a8\">and</span> <span style=\"background-color: #fffcba\">portrayed</span> <span style=\"background-color: #fffdbc\">i</span> <span style=\"background-color: #ebf7a3\">believed</span> <span style=\"background-color: #f5fbb2\">every</span> <span style=\"background-color: #c5e67e\">minute</span> <span style=\"background-color: #fbfdba\">the</span> <span style=\"background-color: #d3ec87\">cast</span> <span style=\"background-color: #b5df74\">is</span> <span style=\"background-color: #eff8aa\">brilliant</span> <span style=\"background-color: #f5fbb2\">christopher</span> <span style=\"background-color: #fdc574\">walken</span> <span style=\"background-color: #b1de71\">mickey</span> <span style=\"background-color: #eff8aa\">rourke</span> <span style=\"background-color: #cdea83\">are</span> <span style=\"background-color: #fee999\">great</span> <span style=\"background-color: #fffcba\">as</span> <span style=\"background-color: #feec9f\">always</span> <span style=\"background-color: #f7fcb4\">walken</span> <span style=\"background-color: #d1ec86\">lights</span> <span style=\"background-color: #cbe982\">up</span> <span style=\"background-color: #c7e77f\">the</span> <span style=\"background-color: #e8f59f\">screen</span> <span style=\"background-color: #d3ec87\">for</span> <span style=\"background-color: #e6f59d\">me</span> <span style=\"background-color: #ebf7a3\">like</span> <span style=\"background-color: #f1f9ac\">no</span> <span style=\"background-color: #f5fbb2\">other</span> <span style=\"background-color: #e2f397\">actor</span> <span style=\"background-color: #f2faae\">i</span> <span style=\"background-color: #ddf191\">would</span> <span style=\"background-color: #b7e075\">have</span> <span style=\"background-color: #d3ec87\">loved</span> <span style=\"background-color: #d3ec87\">to</span> <span style=\"background-color: #f8fcb6\">see</span> <span style=\"background-color: #e8f59f\">more</span> <span style=\"background-color: #f1f9ac\">of</span> <span style=\"background-color: #fafdb8\">both</span> <span style=\"background-color: #eff8aa\">of</span> <span style=\"background-color: #f7fcb4\">them</span> <span style=\"background-color: #ddf191\">the</span> <span style=\"background-color: #c3e67d\">authentic</span> <span style=\"background-color: #f5fbb2\">locations</span> <span style=\"background-color: #fafdb8\">are</span> <span style=\"background-color: #fff0a6\">remarkable</span> <span style=\"background-color: #ecf7a6\">the</span> <span style=\"background-color: #fffebe\">camera</span> <span style=\"background-color: #fffebe\">work</span> <span style=\"background-color: #fdfebc\">is</span> <span style=\"background-color: #f2faae\">interesting</span> <span style=\"background-color: #fff5ae\">and</span> <span style=\"background-color: #fff5ae\">different</span> <span style=\"background-color: #fff7b2\">there</span> <span style=\"background-color: #fbfdba\">are</span> <span style=\"background-color: #feffbe\">many</span> <span style=\"background-color: #e8f59f\">famous</span> <span style=\"background-color: #fbfdba\">latin</span> <span style=\"background-color: #eff8aa\">actors</span> <span style=\"background-color: #fffebe\">in</span> <span style=\"background-color: #ebf7a3\">the</span> <span style=\"background-color: #e2f397\">cast</span> <span style=\"background-color: #dff293\">making</span> <span style=\"background-color: #d7ee8a\">it</span> <span style=\"background-color: #e8f59f\">all</span> <span style=\"background-color: #f4fab0\">the</span> <span style=\"background-color: #f4fab0\">more</span> <span style=\"background-color: #f8fcb6\">interesting</span> <span style=\"background-color: #f4fab0\">for</span> <span style=\"background-color: #f5fbb2\">people</span> <span style=\"background-color: #e5f49b\">familiar</span> <span style=\"background-color: #fffcba\">with</span> <span style=\"background-color: #fff2aa\">latin</span> <span style=\"background-color: #fee593\">american</span> <span style=\"background-color: #fff8b4\">cinema</span> <span style=\"background-color: #fbfdba\">i</span> <span style=\"background-color: #feec9f\">highly</span> <span style=\"background-color: #fee593\">recommend</span> <span style=\"background-color: #feec9f\">this</span> <span style=\"background-color: #f8fcb6\">movie</span> </p><p>CNN Filter: 7</p><p><span style=\"background-color: #ebf7a3\"></span> <span style=\"background-color: #ebf7a3\"></span> <span style=\"background-color: #ebf7a3\"></span> <span style=\"background-color: #ebf7a3\"></span> <span style=\"background-color: #ebf7a3\"></span> <span style=\"background-color: #ebf7a3\"></span> <span style=\"background-color: #ebf7a3\"></span> <span style=\"background-color: #ebf7a3\"></span> <span style=\"background-color: #ebf7a3\"></span> <span style=\"background-color: #ebf7a3\"></span> <span style=\"background-color: #ebf7a3\"></span> <span style=\"background-color: #ebf7a3\"></span> <span style=\"background-color: #ebf7a3\"></span> <span style=\"background-color: #ebf7a3\"></span> <span style=\"background-color: #ebf7a3\"></span> <span style=\"background-color: #ebf7a3\"></span> <span style=\"background-color: #ebf7a3\"></span> <span style=\"background-color: #ebf7a3\"></span> <span style=\"background-color: #ebf7a3\"></span> <span style=\"background-color: #ebf7a3\"></span> <span style=\"background-color: #ebf7a3\"></span> <span style=\"background-color: #ebf7a3\"></span> <span style=\"background-color: #ebf7a3\"></span> <span style=\"background-color: #ebf7a3\"></span> <span style=\"background-color: #ebf7a3\"></span> <span style=\"background-color: #ebf7a3\"></span> <span style=\"background-color: #ebf7a3\"></span> <span style=\"background-color: #ebf7a3\"></span> <span style=\"background-color: #ebf7a3\"></span> <span style=\"background-color: #ebf7a3\"></span> <span style=\"background-color: #ebf7a3\"></span> <span style=\"background-color: #ebf7a3\"></span> <span style=\"background-color: #ebf7a3\"></span> <span style=\"background-color: #ebf7a3\"></span> <span style=\"background-color: #ebf7a3\"></span> <span style=\"background-color: #ebf7a3\"></span> <span style=\"background-color: #ebf7a3\"></span> <span style=\"background-color: #ebf7a3\"></span> <span style=\"background-color: #ebf7a3\"></span> <span style=\"background-color: #ebf7a3\"></span> <span style=\"background-color: #ebf7a3\"></span> <span style=\"background-color: #ebf7a3\"></span> <span style=\"background-color: #ebf7a3\"></span> <span style=\"background-color: #ebf7a3\"></span> <span style=\"background-color: #ebf7a3\"></span> <span style=\"background-color: #ebf7a3\"></span> <span style=\"background-color: #ebf7a3\"></span> <span style=\"background-color: #ebf7a3\"></span> <span style=\"background-color: #ebf7a3\"></span> <span style=\"background-color: #ebf7a3\"></span> <span style=\"background-color: #ebf7a3\"></span> <span style=\"background-color: #ebf7a3\"></span> <span style=\"background-color: #ebf7a3\"></span> <span style=\"background-color: #ebf7a3\"></span> <span style=\"background-color: #ebf7a3\"></span> <span style=\"background-color: #ebf7a3\"></span> <span style=\"background-color: #ebf7a3\"></span> <span style=\"background-color: #ebf7a3\"></span> <span style=\"background-color: #ebf7a3\"></span> <span style=\"background-color: #ebf7a3\"></span> <span style=\"background-color: #ebf7a3\"></span> <span style=\"background-color: #ebf7a3\"></span> <span style=\"background-color: #ebf7a3\"></span> <span style=\"background-color: #ebf7a3\"></span> <span style=\"background-color: #ebf7a3\"></span> <span style=\"background-color: #ebf7a3\"></span> <span style=\"background-color: #ebf7a3\"></span> <span style=\"background-color: #ebf7a3\"></span> <span style=\"background-color: #ebf7a3\"></span> <span style=\"background-color: #ebf7a3\"></span> <span style=\"background-color: #ebf7a3\"></span> <span style=\"background-color: #ebf7a3\"></span> <span style=\"background-color: #ebf7a3\"></span> <span style=\"background-color: #ebf7a3\"></span> <span style=\"background-color: #ebf7a3\"></span> <span style=\"background-color: #ebf7a3\"></span> <span style=\"background-color: #ebf7a3\"></span> <span style=\"background-color: #ebf7a3\"></span> <span style=\"background-color: #ebf7a3\"></span> <span style=\"background-color: #ebf7a3\"></span> <span style=\"background-color: #ebf7a3\"></span> <span style=\"background-color: #ebf7a3\"></span> <span style=\"background-color: #ebf7a3\"></span> <span style=\"background-color: #ebf7a3\"></span> <span style=\"background-color: #ebf7a3\"></span> <span style=\"background-color: #ebf7a3\"></span> <span style=\"background-color: #ebf7a3\"></span> <span style=\"background-color: #ebf7a3\"></span> <span style=\"background-color: #ebf7a3\"></span> <span style=\"background-color: #ebf7a3\"></span> <span style=\"background-color: #ebf7a3\"></span> <span style=\"background-color: #ebf7a3\"></span> <span style=\"background-color: #ebf7a3\"></span> <span style=\"background-color: #ebf7a3\"></span> <span style=\"background-color: #ebf7a3\"></span> <span style=\"background-color: #ebf7a3\"></span> <span style=\"background-color: #ebf7a3\"></span> <span style=\"background-color: #ebf7a3\"></span> <span style=\"background-color: #ebf7a3\"></span> <span style=\"background-color: #ebf7a3\"></span> <span style=\"background-color: #ebf7a3\"></span> <span style=\"background-color: #ebf7a3\"></span> <span style=\"background-color: #ebf7a3\"></span> <span style=\"background-color: #ebf7a3\"></span> <span style=\"background-color: #ebf7a3\"></span> <span style=\"background-color: #ebf7a3\"></span> <span style=\"background-color: #ebf7a3\"></span> <span style=\"background-color: #ebf7a3\"></span> <span style=\"background-color: #ebf7a3\"></span> <span style=\"background-color: #ebf7a3\"></span> <span style=\"background-color: #ebf7a3\"></span> <span style=\"background-color: #ebf7a3\"></span> <span style=\"background-color: #ebf7a3\"></span> <span style=\"background-color: #ebf7a3\"></span> <span style=\"background-color: #ebf7a3\"></span> <span style=\"background-color: #ebf7a3\"></span> <span style=\"background-color: #ebf7a3\"></span> <span style=\"background-color: #ebf7a3\"></span> <span style=\"background-color: #ebf7a3\"></span> <span style=\"background-color: #ebf7a3\"></span> <span style=\"background-color: #ebf7a3\"></span> <span style=\"background-color: #ebf7a3\"></span> <span style=\"background-color: #ebf7a3\"></span> <span style=\"background-color: #ebf7a3\"></span> <span style=\"background-color: #ebf7a3\"></span> <span style=\"background-color: #ebf7a3\"></span> <span style=\"background-color: #ebf7a3\"></span> <span style=\"background-color: #ebf7a3\"></span> <span style=\"background-color: #ebf7a3\"></span> <span style=\"background-color: #ebf7a3\"></span> <span style=\"background-color: #ebf7a3\"></span> <span style=\"background-color: #ebf7a3\"></span> <span style=\"background-color: #ebf7a3\"></span> <span style=\"background-color: #ebf7a3\"></span> <span style=\"background-color: #ebf7a3\"></span> <span style=\"background-color: #ebf7a3\"></span> <span style=\"background-color: #ebf7a3\"></span> <span style=\"background-color: #ebf7a3\"></span> <span style=\"background-color: #ebf7a3\"></span> <span style=\"background-color: #ebf7a3\"></span> <span style=\"background-color: #ebf7a3\"></span> <span style=\"background-color: #ebf7a3\"></span> <span style=\"background-color: #ebf7a3\"></span> <span style=\"background-color: #ebf7a3\"></span> <span style=\"background-color: #ebf7a3\"></span> <span style=\"background-color: #ebf7a3\"></span> <span style=\"background-color: #ebf7a3\"></span> <span style=\"background-color: #ebf7a3\"></span> <span style=\"background-color: #ebf7a3\"></span> <span style=\"background-color: #ebf7a3\"></span> <span style=\"background-color: #ebf7a3\"></span> <span style=\"background-color: #ebf7a3\"></span> <span style=\"background-color: #ebf7a3\"></span> <span style=\"background-color: #ebf7a3\"></span> <span style=\"background-color: #ebf7a3\"></span> <span style=\"background-color: #ebf7a3\"></span> <span style=\"background-color: #ebf7a3\"></span> <span style=\"background-color: #ebf7a3\"></span> <span style=\"background-color: #ebf7a3\"></span> <span style=\"background-color: #ebf7a3\"></span> <span style=\"background-color: #ebf7a3\"></span> <span style=\"background-color: #ebf7a3\"></span> <span style=\"background-color: #ebf7a3\"></span> <span style=\"background-color: #ebf7a3\"></span> <span style=\"background-color: #ebf7a3\"></span> <span style=\"background-color: #ebf7a3\"></span> <span style=\"background-color: #ebf7a3\"></span> <span style=\"background-color: #ebf7a3\"></span> <span style=\"background-color: #ebf7a3\"></span> <span style=\"background-color: #ebf7a3\"></span> <span style=\"background-color: #ebf7a3\"></span> <span style=\"background-color: #ebf7a3\"></span> <span style=\"background-color: #ebf7a3\"></span> <span style=\"background-color: #ebf7a3\"></span> <span style=\"background-color: #ebf7a3\"></span> <span style=\"background-color: #ebf7a3\"></span> <span style=\"background-color: #ebf7a3\"></span> <span style=\"background-color: #ebf7a3\"></span> <span style=\"background-color: #ebf7a3\"></span> <span style=\"background-color: #ebf7a3\"></span> <span style=\"background-color: #ebf7a3\"></span> <span style=\"background-color: #ebf7a3\"></span> <span style=\"background-color: #ebf7a3\"></span> <span style=\"background-color: #ebf7a3\"></span> <span style=\"background-color: #ebf7a3\"></span> <span style=\"background-color: #ebf7a3\"></span> <span style=\"background-color: #ebf7a3\"></span> <span style=\"background-color: #ebf7a3\"></span> <span style=\"background-color: #ebf7a3\"></span> <span style=\"background-color: #ebf7a3\"></span> <span style=\"background-color: #ebf7a3\"></span> <span style=\"background-color: #ebf7a3\"></span> <span style=\"background-color: #ebf7a3\"></span> <span style=\"background-color: #ebf7a3\"></span> <span style=\"background-color: #ebf7a3\"></span> <span style=\"background-color: #ebf7a3\"></span> <span style=\"background-color: #ebf7a3\"></span> <span style=\"background-color: #ebf7a3\"></span> <span style=\"background-color: #ebf7a3\"></span> <span style=\"background-color: #ebf7a3\"></span> <span style=\"background-color: #ebf7a3\"></span> <span style=\"background-color: #ebf7a3\"></span> <span style=\"background-color: #ebf7a3\"></span> <span style=\"background-color: #ebf7a3\"></span> <span style=\"background-color: #ebf7a3\"></span> <span style=\"background-color: #ebf7a3\"></span> <span style=\"background-color: #ebf7a3\"></span> <span style=\"background-color: #ebf7a3\"></span> <span style=\"background-color: #ecf7a6\"></span> <span style=\"background-color: #eff8aa\">this</span> <span style=\"background-color: #f7fcb4\">is</span> <span style=\"background-color: #e8f59f\">an</span> <span style=\"background-color: #fff6b0\">excellent</span> <span style=\"background-color: #fee18d\">heartbreaking</span> <span style=\"background-color: #fdc372\">movie</span> <span style=\"background-color: #feeb9d\">it</span> <span style=\"background-color: #fbfdba\">is</span> <span style=\"background-color: #fffebe\">by</span> <span style=\"background-color: #fbfdba\">far</span> <span style=\"background-color: #daf08d\">the</span> <span style=\"background-color: #e0f295\">best</span> <span style=\"background-color: #e0f295\">i've</span> <span style=\"background-color: #fbfdba\">seen</span> <span style=\"background-color: #ecf7a6\">that</span> <span style=\"background-color: #f4fab0\">depicts</span> <span style=\"background-color: #dff293\">the</span> <span style=\"background-color: #87cb67\">current</span> <span style=\"background-color: #6ec064\">reality</span> <span style=\"background-color: #8ecf67\">in</span> <span style=\"background-color: #f1f9ac\">latin</span> <span style=\"background-color: #fff0a6\">america</span> <span style=\"background-color: #fdbb6c\">corruption</span> <span style=\"background-color: #fb9d59\">ruthless</span> <span style=\"background-color: #fba05b\">and</span> <span style=\"background-color: #fdbb6c\">greedy</span> <span style=\"background-color: #fee695\">police</span> <span style=\"background-color: #f8fcb6\">officials</span> <span style=\"background-color: #e9f6a1\">and</span> <span style=\"background-color: #bde379\">heartless</span> <span style=\"background-color: #d1ec86\">mayhem</span> <span style=\"background-color: #d7ee8a\">towards</span> <span style=\"background-color: #fff1a8\">innocent</span> <span style=\"background-color: #fff2aa\">victims</span> <span style=\"background-color: #feffbe\">denzel</span> <span style=\"background-color: #fffcba\">gives</span> <span style=\"background-color: #fffbb8\">the</span> <span style=\"background-color: #fdc372\">most</span> <span style=\"background-color: #fee593\">moving</span> <span style=\"background-color: #fed07e\">performance</span> <span style=\"background-color: #feeda1\">in</span> <span style=\"background-color: #fff8b4\">his</span> <span style=\"background-color: #e8f59f\">career</span> <span style=\"background-color: #d9ef8b\">in</span> <span style=\"background-color: #e5f49b\">my</span> <span style=\"background-color: #fffebe\">opinion</span> <span style=\"background-color: #feec9f\">dakota</span> <span style=\"background-color: #feec9f\">fanning</span> <span style=\"background-color: #e9f6a1\">is</span> <span style=\"background-color: #a2d76a\">an</span> <span style=\"background-color: #d1ec86\">amazing</span> <span style=\"background-color: #fff7b2\">young</span> <span style=\"background-color: #fee593\">actress</span> <span style=\"background-color: #f5fbb2\">the</span> <span style=\"background-color: #e0f295\">relationship</span> <span style=\"background-color: #f8fcb6\">between</span> <span style=\"background-color: #f8fcb6\">washington</span> <span style=\"background-color: #f7fcb4\">and</span> <span style=\"background-color: #f4fab0\">fanning</span> <span style=\"background-color: #c5e67e\">is</span> <span style=\"background-color: #d3ec87\">wonderfully</span> <span style=\"background-color: #addc6f\">written</span> <span style=\"background-color: #e9f6a1\">and</span> <span style=\"background-color: #c9e881\">portrayed</span> <span style=\"background-color: #fffab6\">i</span> <span style=\"background-color: #fff7b2\">believed</span> <span style=\"background-color: #fff2aa\">every</span> <span style=\"background-color: #cfeb85\">minute</span> <span style=\"background-color: #c5e67e\">the</span> <span style=\"background-color: #f4fab0\">cast</span> <span style=\"background-color: #eef8a8\">is</span> <span style=\"background-color: #fff1a8\">brilliant</span> <span style=\"background-color: #f8fcb6\">christopher</span> <span style=\"background-color: #fffab6\">walken</span> <span style=\"background-color: #e8f59f\">mickey</span> <span style=\"background-color: #c3e67d\">rourke</span> <span style=\"background-color: #d1ec86\">are</span> <span style=\"background-color: #fdfebc\">great</span> <span style=\"background-color: #feec9f\">as</span> <span style=\"background-color: #fff1a8\">always</span> <span style=\"background-color: #e3f399\">walken</span> <span style=\"background-color: #e3f399\">lights</span> <span style=\"background-color: #fffebe\">up</span> <span style=\"background-color: #f5fbb2\">the</span> <span style=\"background-color: #ebf7a3\">screen</span> <span style=\"background-color: #ddf191\">for</span> <span style=\"background-color: #d7ee8a\">me</span> <span style=\"background-color: #eef8a8\">like</span> <span style=\"background-color: #d9ef8b\">no</span> <span style=\"background-color: #e6f59d\">other</span> <span style=\"background-color: #e6f59d\">actor</span> <span style=\"background-color: #eff8aa\">i</span> <span style=\"background-color: #e2f397\">would</span> <span style=\"background-color: #c1e57b\">have</span> <span style=\"background-color: #e8f59f\">loved</span> <span style=\"background-color: #feec9f\">to</span> <span style=\"background-color: #fed884\">see</span> <span style=\"background-color: #fee999\">more</span> <span style=\"background-color: #fffab6\">of</span> <span style=\"background-color: #feda86\">both</span> <span style=\"background-color: #fed481\">of</span> <span style=\"background-color: #feda86\">them</span> <span style=\"background-color: #fffcba\">the</span> <span style=\"background-color: #fffebe\">authentic</span> <span style=\"background-color: #feec9f\">locations</span> <span style=\"background-color: #fffbb8\">are</span> <span style=\"background-color: #fffab6\">remarkable</span> <span style=\"background-color: #eff8aa\">the</span> <span style=\"background-color: #f8fcb6\">camera</span> <span style=\"background-color: #eef8a8\">work</span> <span style=\"background-color: #fff8b4\">is</span> <span style=\"background-color: #fff2aa\">interesting</span> <span style=\"background-color: #fff1a8\">and</span> <span style=\"background-color: #e2f397\">different</span> <span style=\"background-color: #b5df74\">there</span> <span style=\"background-color: #84ca66\">are</span> <span style=\"background-color: #d1ec86\">many</span> <span style=\"background-color: #f2faae\">famous</span> <span style=\"background-color: #fffebe\">latin</span> <span style=\"background-color: #d1ec86\">actors</span> <span style=\"background-color: #e2f397\">in</span> <span style=\"background-color: #ecf7a6\">the</span> <span style=\"background-color: #fffcba\">cast</span> <span style=\"background-color: #e3f399\">making</span> <span style=\"background-color: #dff293\">it</span> <span style=\"background-color: #daf08d\">all</span> <span style=\"background-color: #e6f59d\">the</span> <span style=\"background-color: #fffdbc\">more</span> <span style=\"background-color: #f5fbb2\">interesting</span> <span style=\"background-color: #fff6b0\">for</span> <span style=\"background-color: #fdfebc\">people</span> <span style=\"background-color: #feea9b\">familiar</span> <span style=\"background-color: #fffab6\">with</span> <span style=\"background-color: #f7fcb4\">latin</span> <span style=\"background-color: #e0f295\">american</span> <span style=\"background-color: #e3f399\">cinema</span> <span style=\"background-color: #e5f49b\">i</span> <span style=\"background-color: #fed27f\">highly</span> <span style=\"background-color: #feda86\">recommend</span> <span style=\"background-color: #feca79\">this</span> <span style=\"background-color: #f2faae\">movie</span> </p>"
      ],
      "text/plain": [
       "<IPython.core.display.HTML object>"
      ]
     },
     "metadata": {},
     "output_type": "display_data"
    }
   ],
   "source": [
    "example = 4505\n",
    "\n",
    "html_string = '<p>For training example: ' + str(example) + '</p>'\n",
    "\n",
    "for node in range(CNN_FILTER_SIZE):\n",
    "    activations = get_activations([[X_train[example]], 0.])[0]\n",
    "    text = [hash_to_word[x] for x in X_train[example]]\n",
    "    scaled_activations = activations[0,:,node] - activations[0,:,node].min()\n",
    "    scaled_activations = scaled_activations / scaled_activations.max()\n",
    "    scaled_activations = pd.rolling_mean(scaled_activations, CNN_KERNEL_SIZE, min_periods=1)\n",
    "    new_string = ''\n",
    "    for i, t in enumerate(text):\n",
    "        new_string += '<span style=\"background-color: ' + str(rgb2hex(cmap(scaled_activations[i]))) + '\">' + t + '</span>' + ' '\n",
    "\n",
    "    html_string += '<p>CNN Filter: ' + str(node) + '</p><p>' + new_string + '</p>'\n",
    "    \n",
    "    \n",
    "h = HTML(html_string)\n",
    "display(h)"
   ]
  },
  {
   "cell_type": "code",
   "execution_count": 288,
   "metadata": {
    "collapsed": true
   },
   "outputs": [],
   "source": [
    "get_word_activations = create_get_activation_function(act_model, 5)"
   ]
  },
  {
   "cell_type": "code",
   "execution_count": 1,
   "metadata": {},
   "outputs": [
    {
     "ename": "NameError",
     "evalue": "name 'get_word_activations' is not defined",
     "output_type": "error",
     "traceback": [
      "\u001b[0;31m---------------------------------------------------------------------------\u001b[0m",
      "\u001b[0;31mNameError\u001b[0m                                 Traceback (most recent call last)",
      "\u001b[0;32m<ipython-input-1-e0922486a6d9>\u001b[0m in \u001b[0;36m<module>\u001b[0;34m()\u001b[0m\n\u001b[1;32m      4\u001b[0m \u001b[0;34m\u001b[0m\u001b[0m\n\u001b[1;32m      5\u001b[0m \u001b[0;34m\u001b[0m\u001b[0m\n\u001b[0;32m----> 6\u001b[0;31m \u001b[0mactivations\u001b[0m \u001b[0;34m=\u001b[0m \u001b[0mget_word_activations\u001b[0m\u001b[0;34m(\u001b[0m\u001b[0;34m[\u001b[0m\u001b[0;34m[\u001b[0m\u001b[0mX_train\u001b[0m\u001b[0;34m[\u001b[0m\u001b[0mexample\u001b[0m\u001b[0;34m]\u001b[0m\u001b[0;34m]\u001b[0m\u001b[0;34m,\u001b[0m \u001b[0;36m0.\u001b[0m\u001b[0;34m]\u001b[0m\u001b[0;34m)\u001b[0m\u001b[0;34m[\u001b[0m\u001b[0;36m0\u001b[0m\u001b[0;34m]\u001b[0m\u001b[0;34m\u001b[0m\u001b[0m\n\u001b[0m\u001b[1;32m      7\u001b[0m \u001b[0mtext\u001b[0m \u001b[0;34m=\u001b[0m \u001b[0;34m[\u001b[0m\u001b[0mhash_to_word\u001b[0m\u001b[0;34m[\u001b[0m\u001b[0mx\u001b[0m\u001b[0;34m]\u001b[0m \u001b[0;32mfor\u001b[0m \u001b[0mx\u001b[0m \u001b[0;32min\u001b[0m \u001b[0mX_train\u001b[0m\u001b[0;34m[\u001b[0m\u001b[0mexample\u001b[0m\u001b[0;34m]\u001b[0m\u001b[0;34m]\u001b[0m\u001b[0;34m\u001b[0m\u001b[0m\n\u001b[1;32m      8\u001b[0m \u001b[0mscaled_activations\u001b[0m \u001b[0;34m=\u001b[0m \u001b[0mactivations\u001b[0m\u001b[0;34m[\u001b[0m\u001b[0;36m0\u001b[0m\u001b[0;34m,\u001b[0m\u001b[0;34m:\u001b[0m\u001b[0;34m]\u001b[0m \u001b[0;34m-\u001b[0m \u001b[0mactivations\u001b[0m\u001b[0;34m[\u001b[0m\u001b[0;36m0\u001b[0m\u001b[0;34m,\u001b[0m\u001b[0;34m:\u001b[0m\u001b[0;34m]\u001b[0m\u001b[0;34m.\u001b[0m\u001b[0mmin\u001b[0m\u001b[0;34m(\u001b[0m\u001b[0;34m)\u001b[0m\u001b[0;34m\u001b[0m\u001b[0m\n",
      "\u001b[0;31mNameError\u001b[0m: name 'get_word_activations' is not defined"
     ]
    }
   ],
   "source": [
    "example = 4505\n",
    "\n",
    "html_string = '<p>For training example: ' + str(example) + '</p>'\n",
    "\n",
    "\n",
    "activations = get_word_activations([[X_train[example]], 0.])[0]\n",
    "text = [hash_to_word[x] for x in X_train[example]]\n",
    "scaled_activations = activations[0,:] - activations[0,:].min()\n",
    "scaled_activations = scaled_activations / scaled_activations.max()\n",
    "\n",
    "new_string = ''\n",
    "for i, t in enumerate(text):\n",
    "    new_string += '<span style=\"background-color: ' + str(rgb2hex(cmap(scaled_activations[i]))) + '\">' + t + '</span>' + ' '\n",
    "\n",
    "html_string += '<p>Time Distributed Dense Output: <p>' + new_string + '</p>'\n",
    "    \n",
    "    \n",
    "h = HTML(html_string)\n",
    "display(h)"
   ]
  },
  {
   "cell_type": "markdown",
   "metadata": {},
   "source": [
    "#### Word Embeddings"
   ]
  },
  {
   "cell_type": "code",
   "execution_count": 42,
   "metadata": {
    "collapsed": true
   },
   "outputs": [],
   "source": [
    "from scipy.spatial.distance import pdist, squareform"
   ]
  },
  {
   "cell_type": "code",
   "execution_count": 294,
   "metadata": {},
   "outputs": [
    {
     "data": {
      "text/plain": [
       "(25000, 8)"
      ]
     },
     "execution_count": 294,
     "metadata": {},
     "output_type": "execute_result"
    }
   ],
   "source": [
    "emb_layer = model.layers[1]\n",
    "emb_layer_weights = emb_layer.get_weights()[0]\n",
    "emb_layer_weights.shape"
   ]
  },
  {
   "cell_type": "code",
   "execution_count": 295,
   "metadata": {
    "collapsed": true
   },
   "outputs": [],
   "source": [
    "x_sq = squareform(pdist(emb_layer_weights[0:10000,:], metric='cosine'))"
   ]
  },
  {
   "cell_type": "code",
   "execution_count": 296,
   "metadata": {
    "collapsed": true
   },
   "outputs": [],
   "source": [
    "df_x_sq = pd.DataFrame(x_sq)"
   ]
  },
  {
   "cell_type": "code",
   "execution_count": 297,
   "metadata": {
    "collapsed": true
   },
   "outputs": [],
   "source": [
    "df_x_edge = df_x_sq.where(np.triu(np.ones(df_x_sq.shape)).astype(np.bool)).stack().reset_index()\n",
    "df_x_edge.columns = ['source','target','weight']"
   ]
  },
  {
   "cell_type": "code",
   "execution_count": 298,
   "metadata": {},
   "outputs": [
    {
     "data": {
      "text/plain": [
       "<matplotlib.axes._subplots.AxesSubplot at 0x7f6d2ce9fc50>"
      ]
     },
     "execution_count": 298,
     "metadata": {},
     "output_type": "execute_result"
    },
    {
     "data": {
      "image/png": "[encoded data removed]",
      "text/plain": [
       "<matplotlib.figure.Figure at 0x7f6d2c4c02e8>"
      ]
     },
     "metadata": {},
     "output_type": "display_data"
    }
   ],
   "source": [
    "df_x_edge['weight'].hist(bins=50)"
   ]
  },
  {
   "cell_type": "code",
   "execution_count": 299,
   "metadata": {
    "collapsed": true
   },
   "outputs": [],
   "source": [
    "df_x_edge = df_x_edge[df_x_edge['weight'] < 0.1]\n",
    "df_x_edge = df_x_edge[df_x_edge.source != df_x_edge.target]"
   ]
  },
  {
   "cell_type": "code",
   "execution_count": 300,
   "metadata": {},
   "outputs": [
    {
     "data": {
      "text/plain": [
       "(53910, 3)"
      ]
     },
     "execution_count": 300,
     "metadata": {},
     "output_type": "execute_result"
    }
   ],
   "source": [
    "df_x_edge.shape"
   ]
  },
  {
   "cell_type": "code",
   "execution_count": 301,
   "metadata": {
    "collapsed": true
   },
   "outputs": [],
   "source": [
    "df_x_edge['source_word'] = df_x_edge['source'].apply(lambda x: hash_to_word[x])\n",
    "df_x_edge['target_word'] = df_x_edge['target'].apply(lambda x: hash_to_word[x])"
   ]
  },
  {
   "cell_type": "code",
   "execution_count": 302,
   "metadata": {},
   "outputs": [
    {
     "data": {
      "text/html": [
       "<div>\n",
       "<style>\n",
       "    .dataframe thead tr:only-child th {\n",
       "        text-align: right;\n",
       "    }\n",
       "\n",
       "    .dataframe thead th {\n",
       "        text-align: left;\n",
       "    }\n",
       "\n",
       "    .dataframe tbody tr th {\n",
       "        vertical-align: top;\n",
       "    }\n",
       "</style>\n",
       "<table border=\"1\" class=\"dataframe\">\n",
       "  <thead>\n",
       "    <tr style=\"text-align: right;\">\n",
       "      <th></th>\n",
       "      <th>source</th>\n",
       "      <th>target</th>\n",
       "      <th>weight</th>\n",
       "      <th>source_word</th>\n",
       "      <th>target_word</th>\n",
       "    </tr>\n",
       "  </thead>\n",
       "  <tbody>\n",
       "    <tr>\n",
       "      <th>49038726</th>\n",
       "      <td>8610</td>\n",
       "      <td>9081</td>\n",
       "      <td>0.003826</td>\n",
       "      <td>showcases</td>\n",
       "      <td>recurring</td>\n",
       "    </tr>\n",
       "    <tr>\n",
       "      <th>9100951</th>\n",
       "      <td>955</td>\n",
       "      <td>7441</td>\n",
       "      <td>0.006091</td>\n",
       "      <td>plenty</td>\n",
       "      <td>angelina</td>\n",
       "    </tr>\n",
       "    <tr>\n",
       "      <th>11323293</th>\n",
       "      <td>1204</td>\n",
       "      <td>8703</td>\n",
       "      <td>0.006345</td>\n",
       "      <td>post</td>\n",
       "      <td>borrows</td>\n",
       "    </tr>\n",
       "    <tr>\n",
       "      <th>15965200</th>\n",
       "      <td>1749</td>\n",
       "      <td>5575</td>\n",
       "      <td>0.006605</td>\n",
       "      <td>watchable</td>\n",
       "      <td>1960's</td>\n",
       "    </tr>\n",
       "    <tr>\n",
       "      <th>36846348</th>\n",
       "      <td>4870</td>\n",
       "      <td>7233</td>\n",
       "      <td>0.007237</td>\n",
       "      <td>photo</td>\n",
       "      <td>consequence</td>\n",
       "    </tr>\n",
       "    <tr>\n",
       "      <th>23181570</th>\n",
       "      <td>2676</td>\n",
       "      <td>3396</td>\n",
       "      <td>0.007839</td>\n",
       "      <td>significant</td>\n",
       "      <td>walls</td>\n",
       "    </tr>\n",
       "    <tr>\n",
       "      <th>45349098</th>\n",
       "      <td>6948</td>\n",
       "      <td>9924</td>\n",
       "      <td>0.007873</td>\n",
       "      <td>sunrise</td>\n",
       "      <td>bullying</td>\n",
       "    </tr>\n",
       "    <tr>\n",
       "      <th>21857364</th>\n",
       "      <td>2497</td>\n",
       "      <td>6117</td>\n",
       "      <td>0.008297</td>\n",
       "      <td>uninteresting</td>\n",
       "      <td>dim</td>\n",
       "    </tr>\n",
       "    <tr>\n",
       "      <th>49867394</th>\n",
       "      <td>9475</td>\n",
       "      <td>9944</td>\n",
       "      <td>0.008378</td>\n",
       "      <td>carlito's</td>\n",
       "      <td>projection</td>\n",
       "    </tr>\n",
       "    <tr>\n",
       "      <th>49690069</th>\n",
       "      <td>9206</td>\n",
       "      <td>9890</td>\n",
       "      <td>0.008671</td>\n",
       "      <td>martino</td>\n",
       "      <td>unremarkable</td>\n",
       "    </tr>\n",
       "    <tr>\n",
       "      <th>39244349</th>\n",
       "      <td>5361</td>\n",
       "      <td>7190</td>\n",
       "      <td>0.008871</td>\n",
       "      <td>automatically</td>\n",
       "      <td>101</td>\n",
       "    </tr>\n",
       "    <tr>\n",
       "      <th>31210785</th>\n",
       "      <td>3869</td>\n",
       "      <td>7300</td>\n",
       "      <td>0.008955</td>\n",
       "      <td>carrie</td>\n",
       "      <td>chamberlain</td>\n",
       "    </tr>\n",
       "    <tr>\n",
       "      <th>45930494</th>\n",
       "      <td>7145</td>\n",
       "      <td>9579</td>\n",
       "      <td>0.008978</td>\n",
       "      <td>arty</td>\n",
       "      <td>crow</td>\n",
       "    </tr>\n",
       "    <tr>\n",
       "      <th>22341982</th>\n",
       "      <td>2562</td>\n",
       "      <td>5185</td>\n",
       "      <td>0.009018</td>\n",
       "      <td>paint</td>\n",
       "      <td>claus</td>\n",
       "    </tr>\n",
       "    <tr>\n",
       "      <th>38223632</th>\n",
       "      <td>5146</td>\n",
       "      <td>6863</td>\n",
       "      <td>0.009058</td>\n",
       "      <td>grief</td>\n",
       "      <td>stella</td>\n",
       "    </tr>\n",
       "    <tr>\n",
       "      <th>48529880</th>\n",
       "      <td>8282</td>\n",
       "      <td>9783</td>\n",
       "      <td>0.009088</td>\n",
       "      <td>lindy</td>\n",
       "      <td>claw</td>\n",
       "    </tr>\n",
       "    <tr>\n",
       "      <th>32330828</th>\n",
       "      <td>4055</td>\n",
       "      <td>4368</td>\n",
       "      <td>0.009168</td>\n",
       "      <td>influenced</td>\n",
       "      <td>thoughtful</td>\n",
       "    </tr>\n",
       "    <tr>\n",
       "      <th>45928865</th>\n",
       "      <td>7145</td>\n",
       "      <td>7950</td>\n",
       "      <td>0.009215</td>\n",
       "      <td>arty</td>\n",
       "      <td>kinski</td>\n",
       "    </tr>\n",
       "    <tr>\n",
       "      <th>36760292</th>\n",
       "      <td>4853</td>\n",
       "      <td>8523</td>\n",
       "      <td>0.009333</td>\n",
       "      <td>wishing</td>\n",
       "      <td>ss</td>\n",
       "    </tr>\n",
       "    <tr>\n",
       "      <th>45001180</th>\n",
       "      <td>6837</td>\n",
       "      <td>6883</td>\n",
       "      <td>0.009333</td>\n",
       "      <td>stream</td>\n",
       "      <td>mcqueen</td>\n",
       "    </tr>\n",
       "    <tr>\n",
       "      <th>30787075</th>\n",
       "      <td>3800</td>\n",
       "      <td>8975</td>\n",
       "      <td>0.009643</td>\n",
       "      <td>horrid</td>\n",
       "      <td>teddy</td>\n",
       "    </tr>\n",
       "    <tr>\n",
       "      <th>30776469</th>\n",
       "      <td>3799</td>\n",
       "      <td>4569</td>\n",
       "      <td>0.009671</td>\n",
       "      <td>99</td>\n",
       "      <td>global</td>\n",
       "    </tr>\n",
       "    <tr>\n",
       "      <th>28014040</th>\n",
       "      <td>3368</td>\n",
       "      <td>7436</td>\n",
       "      <td>0.009818</td>\n",
       "      <td>covers</td>\n",
       "      <td>arkin</td>\n",
       "    </tr>\n",
       "    <tr>\n",
       "      <th>16547254</th>\n",
       "      <td>1820</td>\n",
       "      <td>4364</td>\n",
       "      <td>0.009952</td>\n",
       "      <td>blame</td>\n",
       "      <td>abysmal</td>\n",
       "    </tr>\n",
       "    <tr>\n",
       "      <th>43238453</th>\n",
       "      <td>6321</td>\n",
       "      <td>9134</td>\n",
       "      <td>0.010041</td>\n",
       "      <td>judd</td>\n",
       "      <td>country's</td>\n",
       "    </tr>\n",
       "    <tr>\n",
       "      <th>39749007</th>\n",
       "      <td>5471</td>\n",
       "      <td>7663</td>\n",
       "      <td>0.010077</td>\n",
       "      <td>naughty</td>\n",
       "      <td>wayans</td>\n",
       "    </tr>\n",
       "    <tr>\n",
       "      <th>46239583</th>\n",
       "      <td>7256</td>\n",
       "      <td>7979</td>\n",
       "      <td>0.010154</td>\n",
       "      <td>rips</td>\n",
       "      <td>fodder</td>\n",
       "    </tr>\n",
       "    <tr>\n",
       "      <th>39776151</th>\n",
       "      <td>5477</td>\n",
       "      <td>7654</td>\n",
       "      <td>0.010245</td>\n",
       "      <td>youngest</td>\n",
       "      <td>finishes</td>\n",
       "    </tr>\n",
       "    <tr>\n",
       "      <th>16128117</th>\n",
       "      <td>1769</td>\n",
       "      <td>3682</td>\n",
       "      <td>0.010317</td>\n",
       "      <td>skip</td>\n",
       "      <td>root</td>\n",
       "    </tr>\n",
       "    <tr>\n",
       "      <th>33306699</th>\n",
       "      <td>4221</td>\n",
       "      <td>7230</td>\n",
       "      <td>0.010364</td>\n",
       "      <td>stinker</td>\n",
       "      <td>stink</td>\n",
       "    </tr>\n",
       "    <tr>\n",
       "      <th>...</th>\n",
       "      <td>...</td>\n",
       "      <td>...</td>\n",
       "      <td>...</td>\n",
       "      <td>...</td>\n",
       "      <td>...</td>\n",
       "    </tr>\n",
       "    <tr>\n",
       "      <th>8306111</th>\n",
       "      <td>868</td>\n",
       "      <td>3257</td>\n",
       "      <td>0.099979</td>\n",
       "      <td>who's</td>\n",
       "      <td>split</td>\n",
       "    </tr>\n",
       "    <tr>\n",
       "      <th>40549952</th>\n",
       "      <td>5651</td>\n",
       "      <td>9678</td>\n",
       "      <td>0.099980</td>\n",
       "      <td>filth</td>\n",
       "      <td>showtime</td>\n",
       "    </tr>\n",
       "    <tr>\n",
       "      <th>23641394</th>\n",
       "      <td>2739</td>\n",
       "      <td>3824</td>\n",
       "      <td>0.099980</td>\n",
       "      <td>sun</td>\n",
       "      <td>heroic</td>\n",
       "    </tr>\n",
       "    <tr>\n",
       "      <th>35870275</th>\n",
       "      <td>4683</td>\n",
       "      <td>7861</td>\n",
       "      <td>0.099982</td>\n",
       "      <td>likewise</td>\n",
       "      <td>melancholy</td>\n",
       "    </tr>\n",
       "    <tr>\n",
       "      <th>49833121</th>\n",
       "      <td>9414</td>\n",
       "      <td>9526</td>\n",
       "      <td>0.099984</td>\n",
       "      <td>rico</td>\n",
       "      <td>allison</td>\n",
       "    </tr>\n",
       "    <tr>\n",
       "      <th>29376958</th>\n",
       "      <td>3577</td>\n",
       "      <td>6211</td>\n",
       "      <td>0.099984</td>\n",
       "      <td>flawless</td>\n",
       "      <td>bloom</td>\n",
       "    </tr>\n",
       "    <tr>\n",
       "      <th>42866702</th>\n",
       "      <td>6222</td>\n",
       "      <td>6455</td>\n",
       "      <td>0.099984</td>\n",
       "      <td>youthful</td>\n",
       "      <td>escaping</td>\n",
       "    </tr>\n",
       "    <tr>\n",
       "      <th>14962421</th>\n",
       "      <td>1628</td>\n",
       "      <td>8427</td>\n",
       "      <td>0.099985</td>\n",
       "      <td>mom</td>\n",
       "      <td>hairy</td>\n",
       "    </tr>\n",
       "    <tr>\n",
       "      <th>45844798</th>\n",
       "      <td>7115</td>\n",
       "      <td>9968</td>\n",
       "      <td>0.099986</td>\n",
       "      <td>roughly</td>\n",
       "      <td>interminable</td>\n",
       "    </tr>\n",
       "    <tr>\n",
       "      <th>21389463</th>\n",
       "      <td>2435</td>\n",
       "      <td>5293</td>\n",
       "      <td>0.099986</td>\n",
       "      <td>promising</td>\n",
       "      <td>sums</td>\n",
       "    </tr>\n",
       "    <tr>\n",
       "      <th>37012385</th>\n",
       "      <td>4902</td>\n",
       "      <td>9638</td>\n",
       "      <td>0.099986</td>\n",
       "      <td>craven</td>\n",
       "      <td>ahmad</td>\n",
       "    </tr>\n",
       "    <tr>\n",
       "      <th>2240169</th>\n",
       "      <td>226</td>\n",
       "      <td>5820</td>\n",
       "      <td>0.099987</td>\n",
       "      <td>script</td>\n",
       "      <td>springer</td>\n",
       "    </tr>\n",
       "    <tr>\n",
       "      <th>14161690</th>\n",
       "      <td>1533</td>\n",
       "      <td>7501</td>\n",
       "      <td>0.099987</td>\n",
       "      <td>merely</td>\n",
       "      <td>gosh</td>\n",
       "    </tr>\n",
       "    <tr>\n",
       "      <th>14116535</th>\n",
       "      <td>1528</td>\n",
       "      <td>4691</td>\n",
       "      <td>0.099987</td>\n",
       "      <td>gem</td>\n",
       "      <td>floating</td>\n",
       "    </tr>\n",
       "    <tr>\n",
       "      <th>18444168</th>\n",
       "      <td>2055</td>\n",
       "      <td>6708</td>\n",
       "      <td>0.099988</td>\n",
       "      <td>versions</td>\n",
       "      <td>odyssey</td>\n",
       "    </tr>\n",
       "    <tr>\n",
       "      <th>15275692</th>\n",
       "      <td>1666</td>\n",
       "      <td>4303</td>\n",
       "      <td>0.099988</td>\n",
       "      <td>wonderfully</td>\n",
       "      <td>buff</td>\n",
       "    </tr>\n",
       "    <tr>\n",
       "      <th>9424815</th>\n",
       "      <td>991</td>\n",
       "      <td>6351</td>\n",
       "      <td>0.099988</td>\n",
       "      <td>return</td>\n",
       "      <td>jedi</td>\n",
       "    </tr>\n",
       "    <tr>\n",
       "      <th>18412822</th>\n",
       "      <td>2051</td>\n",
       "      <td>7148</td>\n",
       "      <td>0.099989</td>\n",
       "      <td>sean</td>\n",
       "      <td>sarcasm</td>\n",
       "    </tr>\n",
       "    <tr>\n",
       "      <th>31585146</th>\n",
       "      <td>3930</td>\n",
       "      <td>9561</td>\n",
       "      <td>0.099989</td>\n",
       "      <td>synopsis</td>\n",
       "      <td>benson</td>\n",
       "    </tr>\n",
       "    <tr>\n",
       "      <th>16723010</th>\n",
       "      <td>1841</td>\n",
       "      <td>8571</td>\n",
       "      <td>0.099989</td>\n",
       "      <td>soap</td>\n",
       "      <td>heather</td>\n",
       "    </tr>\n",
       "    <tr>\n",
       "      <th>7990251</th>\n",
       "      <td>833</td>\n",
       "      <td>7612</td>\n",
       "      <td>0.099990</td>\n",
       "      <td>dance</td>\n",
       "      <td>rea</td>\n",
       "    </tr>\n",
       "    <tr>\n",
       "      <th>45743374</th>\n",
       "      <td>7081</td>\n",
       "      <td>7195</td>\n",
       "      <td>0.099990</td>\n",
       "      <td>parking</td>\n",
       "      <td>seats</td>\n",
       "    </tr>\n",
       "    <tr>\n",
       "      <th>32577286</th>\n",
       "      <td>4096</td>\n",
       "      <td>7942</td>\n",
       "      <td>0.099991</td>\n",
       "      <td>discuss</td>\n",
       "      <td>sucking</td>\n",
       "    </tr>\n",
       "    <tr>\n",
       "      <th>43004844</th>\n",
       "      <td>6258</td>\n",
       "      <td>9255</td>\n",
       "      <td>0.099993</td>\n",
       "      <td>zizek</td>\n",
       "      <td>largest</td>\n",
       "    </tr>\n",
       "    <tr>\n",
       "      <th>1078760</th>\n",
       "      <td>108</td>\n",
       "      <td>4646</td>\n",
       "      <td>0.099994</td>\n",
       "      <td>many</td>\n",
       "      <td>complexity</td>\n",
       "    </tr>\n",
       "    <tr>\n",
       "      <th>24672409</th>\n",
       "      <td>2882</td>\n",
       "      <td>6812</td>\n",
       "      <td>0.099994</td>\n",
       "      <td>throws</td>\n",
       "      <td>puppy</td>\n",
       "    </tr>\n",
       "    <tr>\n",
       "      <th>23725351</th>\n",
       "      <td>2750</td>\n",
       "      <td>7976</td>\n",
       "      <td>0.099995</td>\n",
       "      <td>titanic</td>\n",
       "      <td>dwight</td>\n",
       "    </tr>\n",
       "    <tr>\n",
       "      <th>48588522</th>\n",
       "      <td>8317</td>\n",
       "      <td>8925</td>\n",
       "      <td>0.099996</td>\n",
       "      <td>ali</td>\n",
       "      <td>luthor</td>\n",
       "    </tr>\n",
       "    <tr>\n",
       "      <th>15997548</th>\n",
       "      <td>1753</td>\n",
       "      <td>4929</td>\n",
       "      <td>0.099997</td>\n",
       "      <td>tim</td>\n",
       "      <td>monk</td>\n",
       "    </tr>\n",
       "    <tr>\n",
       "      <th>31250563</th>\n",
       "      <td>3876</td>\n",
       "      <td>4189</td>\n",
       "      <td>0.099998</td>\n",
       "      <td>abc</td>\n",
       "      <td>desperation</td>\n",
       "    </tr>\n",
       "  </tbody>\n",
       "</table>\n",
       "<p>53910 rows × 5 columns</p>\n",
       "</div>"
      ],
      "text/plain": [
       "          source  target    weight    source_word   target_word\n",
       "49038726    8610    9081  0.003826      showcases     recurring\n",
       "9100951      955    7441  0.006091         plenty      angelina\n",
       "11323293    1204    8703  0.006345           post       borrows\n",
       "15965200    1749    5575  0.006605      watchable        1960's\n",
       "36846348    4870    7233  0.007237          photo   consequence\n",
       "23181570    2676    3396  0.007839    significant         walls\n",
       "45349098    6948    9924  0.007873        sunrise      bullying\n",
       "21857364    2497    6117  0.008297  uninteresting           dim\n",
       "49867394    9475    9944  0.008378      carlito's    projection\n",
       "49690069    9206    9890  0.008671        martino  unremarkable\n",
       "39244349    5361    7190  0.008871  automatically           101\n",
       "31210785    3869    7300  0.008955         carrie   chamberlain\n",
       "45930494    7145    9579  0.008978           arty          crow\n",
       "22341982    2562    5185  0.009018          paint         claus\n",
       "38223632    5146    6863  0.009058          grief        stella\n",
       "48529880    8282    9783  0.009088          lindy          claw\n",
       "32330828    4055    4368  0.009168     influenced    thoughtful\n",
       "45928865    7145    7950  0.009215           arty        kinski\n",
       "36760292    4853    8523  0.009333        wishing            ss\n",
       "45001180    6837    6883  0.009333         stream       mcqueen\n",
       "30787075    3800    8975  0.009643         horrid         teddy\n",
       "30776469    3799    4569  0.009671             99        global\n",
       "28014040    3368    7436  0.009818         covers         arkin\n",
       "16547254    1820    4364  0.009952          blame       abysmal\n",
       "43238453    6321    9134  0.010041           judd     country's\n",
       "39749007    5471    7663  0.010077        naughty        wayans\n",
       "46239583    7256    7979  0.010154           rips        fodder\n",
       "39776151    5477    7654  0.010245       youngest      finishes\n",
       "16128117    1769    3682  0.010317           skip          root\n",
       "33306699    4221    7230  0.010364        stinker         stink\n",
       "...          ...     ...       ...            ...           ...\n",
       "8306111      868    3257  0.099979          who's         split\n",
       "40549952    5651    9678  0.099980          filth      showtime\n",
       "23641394    2739    3824  0.099980            sun        heroic\n",
       "35870275    4683    7861  0.099982       likewise    melancholy\n",
       "49833121    9414    9526  0.099984           rico       allison\n",
       "29376958    3577    6211  0.099984       flawless         bloom\n",
       "42866702    6222    6455  0.099984       youthful      escaping\n",
       "14962421    1628    8427  0.099985            mom         hairy\n",
       "45844798    7115    9968  0.099986        roughly  interminable\n",
       "21389463    2435    5293  0.099986      promising          sums\n",
       "37012385    4902    9638  0.099986         craven         ahmad\n",
       "2240169      226    5820  0.099987         script      springer\n",
       "14161690    1533    7501  0.099987         merely          gosh\n",
       "14116535    1528    4691  0.099987            gem      floating\n",
       "18444168    2055    6708  0.099988       versions       odyssey\n",
       "15275692    1666    4303  0.099988    wonderfully          buff\n",
       "9424815      991    6351  0.099988         return          jedi\n",
       "18412822    2051    7148  0.099989           sean       sarcasm\n",
       "31585146    3930    9561  0.099989       synopsis        benson\n",
       "16723010    1841    8571  0.099989           soap       heather\n",
       "7990251      833    7612  0.099990          dance           rea\n",
       "45743374    7081    7195  0.099990        parking         seats\n",
       "32577286    4096    7942  0.099991        discuss       sucking\n",
       "43004844    6258    9255  0.099993          zizek       largest\n",
       "1078760      108    4646  0.099994           many    complexity\n",
       "24672409    2882    6812  0.099994         throws         puppy\n",
       "23725351    2750    7976  0.099995        titanic        dwight\n",
       "48588522    8317    8925  0.099996            ali        luthor\n",
       "15997548    1753    4929  0.099997            tim          monk\n",
       "31250563    3876    4189  0.099998            abc   desperation\n",
       "\n",
       "[53910 rows x 5 columns]"
      ]
     },
     "execution_count": 302,
     "metadata": {},
     "output_type": "execute_result"
    }
   ],
   "source": [
    "df_x_edge.sort_values(by='weight')"
   ]
  },
  {
   "cell_type": "code",
   "execution_count": null,
   "metadata": {
    "collapsed": true
   },
   "outputs": [],
   "source": [
    "df_x_edge.to_csv('../data/combine_activation_sim.csv', index=False)"
   ]
  },
  {
   "cell_type": "code",
   "execution_count": null,
   "metadata": {
    "collapsed": true
   },
   "outputs": [],
   "source": [
    "df_node_text = pd.DataFrame(df['text'], columns=['text'])\n",
    "df_node_text['Id'] = df_node_text.index\n",
    "df_node_text = df_node_text[['Id', 'text']]"
   ]
  },
  {
   "cell_type": "code",
   "execution_count": 545,
   "metadata": {
    "collapsed": true
   },
   "outputs": [],
   "source": [
    "from IPython.core.display import display, HTML\n",
    "from string import Template\n",
    "import json, random"
   ]
  },
  {
   "cell_type": "code",
   "execution_count": 547,
   "metadata": {
    "collapsed": true
   },
   "outputs": [],
   "source": [
    "random.seed(42)\n",
    "\n",
    "n_nodes = 40\n",
    "n_edges = 200\n",
    "\n",
    "graph_data = { 'nodes': [], 'edges': [] }\n",
    "\n",
    "for i in range(n_nodes):\n",
    "    graph_data['nodes'].append({\n",
    "            \"id\": \"n\" + str(i),\n",
    "            \"label\": \"n\" + str(i),\n",
    "            \"x\": random.uniform(0,1),\n",
    "            \"y\": random.uniform(0,1),\n",
    "            \"size\": random.uniform(0.2,1)\n",
    "        })\n",
    "\n",
    "for j in range(n_edges):\n",
    "    x_center = random.uniform(0,1)\n",
    "    y_center = random.uniform(0,1)\n",
    "    x_dist = random.uniform(0.1,0.5)\n",
    "    y_dist = random.uniform(0.2,0.5)\n",
    "    neighborhood = []\n",
    "    for node in graph_data['nodes']:\n",
    "        if abs(node['x'] - x_center) < x_dist:\n",
    "            if abs(node['y'] - y_center) < y_dist:\n",
    "                neighborhood.append(int(node['id'].replace('n','')))\n",
    "    if len(neighborhood) >= 2:\n",
    "        ends = random.sample(neighborhood,2)\n",
    "        graph_data['edges'].append({\n",
    "                \"id\": \"e\" + str(j),\n",
    "                \"source\": \"n\" + str(ends[0]),\n",
    "                \"target\": \"n\" + str(ends[1])\n",
    "            })"
   ]
  },
  {
   "cell_type": "code",
   "execution_count": 560,
   "metadata": {
    "collapsed": true
   },
   "outputs": [],
   "source": [
    "js_text_template = Template('''\n",
    "    \n",
    "    var g = $graph_data ;\n",
    "\n",
    "s = new sigma({graph: g, container: '$container', settings: { defaultNodeColor: '#ec5148'} });\n",
    "\n",
    "s.graph.nodes().forEach(function(n) {\n",
    "  n.originalColor = n.color;\n",
    "});\n",
    "s.graph.edges().forEach(function(e) {\n",
    "  e.originalColor = e.color;\n",
    "});\n",
    "\n",
    "s.bind('clickNode', function(e) {\n",
    "  var nodeId = e.data.node.id,\n",
    "      toKeep = s.graph.neighbors(nodeId);\n",
    "  toKeep[nodeId] = e.data.node;\n",
    "\n",
    "  s.graph.nodes().forEach(function(n) {\n",
    "    if (toKeep[n.id])\n",
    "      n.color = n.originalColor;\n",
    "    else\n",
    "      n.color = '#eee';\n",
    "  });\n",
    "\n",
    "  s.graph.edges().forEach(function(e) {\n",
    "    if (toKeep[e.source] && toKeep[e.target])\n",
    "      e.color = e.originalColor;\n",
    "    else\n",
    "      e.color = '#eee';\n",
    "  });\n",
    "\n",
    "  s.refresh();\n",
    "});\n",
    "\n",
    "s.bind('clickStage', function(e) {\n",
    "  s.graph.nodes().forEach(function(n) {\n",
    "    n.color = n.originalColor;\n",
    "  });\n",
    "\n",
    "  s.graph.edges().forEach(function(e) {\n",
    "    e.color = e.originalColor;\n",
    "  });\n",
    "\n",
    "  s.refresh();\n",
    "});\n",
    "\n",
    "\n",
    "''')"
   ]
  },
  {
   "cell_type": "code",
   "execution_count": 561,
   "metadata": {
    "collapsed": true
   },
   "outputs": [],
   "source": [
    "js_text = js_text_template.substitute({'graph_data': json.dumps(graph_data),\n",
    "                                       'container': 'graph-div'})"
   ]
  },
  {
   "cell_type": "code",
   "execution_count": null,
   "metadata": {
    "collapsed": true
   },
   "outputs": [],
   "source": [
    "'../ml-notebooks/js/sigma.min.js'"
   ]
  },
  {
   "cell_type": "code",
   "execution_count": 566,
   "metadata": {
    "collapsed": true
   },
   "outputs": [],
   "source": [
    "html_template = Template('''\n",
    "<script src=\"../ml-notebooks/js/sigma.min.js\"></script>\n",
    "\n",
    "<div id=\"graph-div\" style=\"height:800px\"></div>\n",
    "<script> $js_text </script>\n",
    "''')"
   ]
  },
  {
   "cell_type": "code",
   "execution_count": 567,
   "metadata": {},
   "outputs": [
    {
     "data": {
      "text/html": [
       "\n",
       "<script src=\"../ml-notebooks/js/sigma.min.js\"></script>\n",
       "\n",
       "<div id=\"graph-div\" style=\"height:800px\"></div>\n",
       "<script> \n",
       "    \n",
       "    var g = {\"nodes\": [{\"id\": \"n0\", \"label\": \"n0\", \"x\": 0.6394267984578837, \"y\": 0.025010755222666936, \"size\": 0.42002345469529545}, {\"id\": \"n1\", \"label\": \"n1\", \"x\": 0.22321073814882275, \"y\": 0.7364712141640124, \"size\": 0.7413595899383292}, {\"id\": \"n2\", \"label\": \"n2\", \"x\": 0.8921795677048454, \"y\": 0.08693883262941615, \"size\": 0.5375374557482164}, {\"id\": \"n3\", \"label\": \"n3\", \"x\": 0.029797219438070344, \"y\": 0.21863797480360336, \"size\": 0.6042842304826899}, {\"id\": \"n4\", \"label\": \"n4\", \"x\": 0.026535969683863625, \"y\": 0.1988376506866485, \"size\": 0.7199075502236185}, {\"id\": \"n5\", \"label\": \"n5\", \"x\": 0.5449414806032167, \"y\": 0.2204406220406967, \"size\": 0.6714125471007271}, {\"id\": \"n6\", \"label\": \"n6\", \"x\": 0.8094304566778266, \"y\": 0.006498759678061017, \"size\": 0.8446554014662464}, {\"id\": \"n7\", \"label\": \"n7\", \"x\": 0.6981393949882269, \"y\": 0.3402505165179919, \"size\": 0.3243835998494253}, {\"id\": \"n8\", \"label\": \"n8\", \"x\": 0.9572130722067812, \"y\": 0.33659454511262676, \"size\": 0.27419667470411835}, {\"id\": \"n9\", \"label\": \"n9\", \"x\": 0.09671637683346401, \"y\": 0.8474943663474598, \"size\": 0.6829808250935129}, {\"id\": \"n10\", \"label\": \"n10\", \"x\": 0.8071282732743802, \"y\": 0.7297317866938179, \"size\": 0.6289824731637605}, {\"id\": \"n11\", \"label\": \"n11\", \"x\": 0.9731157639793706, \"y\": 0.3785343772083535, \"size\": 0.6416325050185816}, {\"id\": \"n12\", \"label\": \"n12\", \"x\": 0.8294046642529949, \"y\": 0.6185197523642461, \"size\": 0.8893655202486219}, {\"id\": \"n13\", \"label\": \"n13\", \"x\": 0.577352145256762, \"y\": 0.7045718362149235, \"size\": 0.23665950692452978}, {\"id\": \"n14\", \"label\": \"n14\", \"x\": 0.22789827565154686, \"y\": 0.28938796360210717, \"size\": 0.263833581538902}, {\"id\": \"n15\", \"label\": \"n15\", \"x\": 0.23279088636103018, \"y\": 0.10100142940972912, \"size\": 0.4223788824880737}, {\"id\": \"n16\", \"label\": \"n16\", \"x\": 0.6356844442644002, \"y\": 0.36483217897008424, \"size\": 0.4961447736935061}, {\"id\": \"n17\", \"label\": \"n17\", \"x\": 0.2095070307714877, \"y\": 0.26697782204911336, \"size\": 0.9493236701699952}, {\"id\": \"n18\", \"label\": \"n18\", \"x\": 0.6480353852465935, \"y\": 0.6091310056669882, \"size\": 0.3369109185584776}, {\"id\": \"n19\", \"label\": \"n19\", \"x\": 0.7291267979503492, \"y\": 0.1634024937619284, \"size\": 0.5035643534061183}, {\"id\": \"n20\", \"label\": \"n20\", \"x\": 0.9895233506365952, \"y\": 0.6399997598540929, \"size\": 0.6455597950197169}, {\"id\": \"n21\", \"label\": \"n21\", \"x\": 0.6846142509898746, \"y\": 0.8428519201898096, \"size\": 0.8207999292369959}, {\"id\": \"n22\", \"label\": \"n22\", \"x\": 0.22904807196410437, \"y\": 0.03210024390403776, \"size\": 0.45236243844726554}, {\"id\": \"n23\", \"label\": \"n23\", \"x\": 0.26774087597570273, \"y\": 0.21098284358632646, \"size\": 0.9543277714680436}, {\"id\": \"n24\", \"label\": \"n24\", \"x\": 0.8763676264726689, \"y\": 0.3146778807984779, \"size\": 0.7243509322359041}, {\"id\": \"n25\", \"label\": \"n25\", \"x\": 0.39563190106066426, \"y\": 0.9145475897405435, \"size\": 0.567081482069919}, {\"id\": \"n26\", \"label\": \"n26\", \"x\": 0.26488016649805246, \"y\": 0.24662750769398345, \"size\": 0.6490945073305207}, {\"id\": \"n27\", \"label\": \"n27\", \"x\": 0.26274160852293527, \"y\": 0.5845859902235405, \"size\": 0.9182583068819816}, {\"id\": \"n28\", \"label\": \"n28\", \"x\": 0.39940050514039727, \"y\": 0.21932075915728333, \"size\": 0.9980300851960882}, {\"id\": \"n29\", \"label\": \"n29\", \"x\": 0.5095262936764645, \"y\": 0.09090941217379389, \"size\": 0.23769310033978766}, {\"id\": \"n30\", \"label\": \"n30\", \"x\": 0.10964913035065915, \"y\": 0.62744604170309, \"size\": 0.8336634914903713}, {\"id\": \"n31\", \"label\": \"n31\", \"x\": 0.42215996679968404, \"y\": 0.06352770615195713, \"size\": 0.5052954292052294}, {\"id\": \"n32\", \"label\": \"n32\", \"x\": 0.9961213802400968, \"y\": 0.529114345099137, \"size\": 0.9768627020908947}, {\"id\": \"n33\", \"label\": \"n33\", \"x\": 0.8607797022344981, \"y\": 0.011481021942819636, \"size\": 0.7765774554881557}, {\"id\": \"n34\", \"label\": \"n34\", \"x\": 0.6817103690265748, \"y\": 0.5369703304087952, \"size\": 0.41346015196203423}, {\"id\": \"n35\", \"label\": \"n35\", \"x\": 0.6409617985798081, \"y\": 0.11155217359587644, \"size\": 0.547812200535284}, {\"id\": \"n36\", \"label\": \"n36\", \"x\": 0.45372370632920644, \"y\": 0.9538159275210801, \"size\": 0.9006823523025553}, {\"id\": \"n37\", \"label\": \"n37\", \"x\": 0.26338905075109076, \"y\": 0.5005861130502983, \"size\": 0.3429215044241051}, {\"id\": \"n38\", \"label\": \"n38\", \"x\": 0.9126278393448205, \"y\": 0.8705185698367669, \"size\": 0.4387558331589063}, {\"id\": \"n39\", \"label\": \"n39\", \"x\": 0.6389494948660052, \"y\": 0.6089702114381723, \"size\": 0.3222714148397079}], \"edges\": [{\"id\": \"e0\", \"source\": \"n5\", \"target\": \"n21\"}, {\"id\": \"e1\", \"source\": \"n35\", \"target\": \"n19\"}, {\"id\": \"e2\", \"source\": \"n31\", \"target\": \"n23\"}, {\"id\": \"e3\", \"source\": \"n38\", \"target\": \"n21\"}, {\"id\": \"e4\", \"source\": \"n36\", \"target\": \"n9\"}, {\"id\": \"e5\", \"source\": \"n39\", \"target\": \"n34\"}, {\"id\": \"e6\", \"source\": \"n15\", \"target\": \"n37\"}, {\"id\": \"e7\", \"source\": \"n9\", \"target\": \"n30\"}, {\"id\": \"e8\", \"source\": \"n14\", \"target\": \"n31\"}, {\"id\": \"e9\", \"source\": \"n5\", \"target\": \"n35\"}, {\"id\": \"e10\", \"source\": \"n2\", \"target\": \"n6\"}, {\"id\": \"e11\", \"source\": \"n9\", \"target\": \"n37\"}, {\"id\": \"e12\", \"source\": \"n5\", \"target\": \"n16\"}, {\"id\": \"e13\", \"source\": \"n38\", \"target\": \"n10\"}, {\"id\": \"e14\", \"source\": \"n38\", \"target\": \"n13\"}, {\"id\": \"e15\", \"source\": \"n30\", \"target\": \"n17\"}, {\"id\": \"e16\", \"source\": \"n38\", \"target\": \"n32\"}, {\"id\": \"e17\", \"source\": \"n7\", \"target\": \"n16\"}, {\"id\": \"e18\", \"source\": \"n6\", \"target\": \"n19\"}, {\"id\": \"e19\", \"source\": \"n11\", \"target\": \"n8\"}, {\"id\": \"e20\", \"source\": \"n39\", \"target\": \"n18\"}, {\"id\": \"e21\", \"source\": \"n29\", \"target\": \"n35\"}, {\"id\": \"e22\", \"source\": \"n22\", \"target\": \"n29\"}, {\"id\": \"e23\", \"source\": \"n3\", \"target\": \"n1\"}, {\"id\": \"e24\", \"source\": \"n21\", \"target\": \"n25\"}, {\"id\": \"e25\", \"source\": \"n14\", \"target\": \"n4\"}, {\"id\": \"e26\", \"source\": \"n37\", \"target\": \"n1\"}, {\"id\": \"e27\", \"source\": \"n39\", \"target\": \"n8\"}, {\"id\": \"e28\", \"source\": \"n13\", \"target\": \"n9\"}, {\"id\": \"e29\", \"source\": \"n16\", \"target\": \"n7\"}, {\"id\": \"e30\", \"source\": \"n20\", \"target\": \"n10\"}, {\"id\": \"e31\", \"source\": \"n30\", \"target\": \"n37\"}, {\"id\": \"e32\", \"source\": \"n7\", \"target\": \"n29\"}, {\"id\": \"e33\", \"source\": \"n3\", \"target\": \"n17\"}, {\"id\": \"e34\", \"source\": \"n10\", \"target\": \"n9\"}, {\"id\": \"e35\", \"source\": \"n21\", \"target\": \"n36\"}, {\"id\": \"e36\", \"source\": \"n13\", \"target\": \"n38\"}, {\"id\": \"e37\", \"source\": \"n9\", \"target\": \"n14\"}, {\"id\": \"e38\", \"source\": \"n30\", \"target\": \"n9\"}, {\"id\": \"e39\", \"source\": \"n9\", \"target\": \"n37\"}, {\"id\": \"e40\", \"source\": \"n30\", \"target\": \"n14\"}, {\"id\": \"e41\", \"source\": \"n17\", \"target\": \"n1\"}, {\"id\": \"e42\", \"source\": \"n27\", \"target\": \"n1\"}, {\"id\": \"e43\", \"source\": \"n37\", \"target\": \"n30\"}, {\"id\": \"e44\", \"source\": \"n9\", \"target\": \"n1\"}, {\"id\": \"e45\", \"source\": \"n36\", \"target\": \"n34\"}, {\"id\": \"e46\", \"source\": \"n31\", \"target\": \"n17\"}, {\"id\": \"e47\", \"source\": \"n23\", \"target\": \"n17\"}, {\"id\": \"e48\", \"source\": \"n31\", \"target\": \"n29\"}, {\"id\": \"e49\", \"source\": \"n35\", \"target\": \"n0\"}, {\"id\": \"e50\", \"source\": \"n23\", \"target\": \"n29\"}, {\"id\": \"e51\", \"source\": \"n36\", \"target\": \"n34\"}, {\"id\": \"e52\", \"source\": \"n22\", \"target\": \"n4\"}, {\"id\": \"e53\", \"source\": \"n18\", \"target\": \"n13\"}, {\"id\": \"e54\", \"source\": \"n4\", \"target\": \"n26\"}, {\"id\": \"e55\", \"source\": \"n27\", \"target\": \"n37\"}, {\"id\": \"e56\", \"source\": \"n1\", \"target\": \"n26\"}, {\"id\": \"e57\", \"source\": \"n25\", \"target\": \"n36\"}, {\"id\": \"e58\", \"source\": \"n28\", \"target\": \"n22\"}, {\"id\": \"e59\", \"source\": \"n39\", \"target\": \"n34\"}, {\"id\": \"e60\", \"source\": \"n32\", \"target\": \"n28\"}, {\"id\": \"e61\", \"source\": \"n26\", \"target\": \"n23\"}, {\"id\": \"e62\", \"source\": \"n19\", \"target\": \"n7\"}, {\"id\": \"e63\", \"source\": \"n14\", \"target\": \"n27\"}, {\"id\": \"e64\", \"source\": \"n1\", \"target\": \"n14\"}, {\"id\": \"e65\", \"source\": \"n0\", \"target\": \"n33\"}, {\"id\": \"e66\", \"source\": \"n26\", \"target\": \"n29\"}, {\"id\": \"e67\", \"source\": \"n11\", \"target\": \"n12\"}, {\"id\": \"e68\", \"source\": \"n22\", \"target\": \"n31\"}, {\"id\": \"e69\", \"source\": \"n1\", \"target\": \"n17\"}, {\"id\": \"e70\", \"source\": \"n39\", \"target\": \"n18\"}, {\"id\": \"e71\", \"source\": \"n22\", \"target\": \"n23\"}, {\"id\": \"e72\", \"source\": \"n27\", \"target\": \"n1\"}, {\"id\": \"e73\", \"source\": \"n2\", \"target\": \"n0\"}, {\"id\": \"e74\", \"source\": \"n21\", \"target\": \"n38\"}, {\"id\": \"e75\", \"source\": \"n37\", \"target\": \"n25\"}, {\"id\": \"e76\", \"source\": \"n2\", \"target\": \"n33\"}, {\"id\": \"e77\", \"source\": \"n38\", \"target\": \"n21\"}, {\"id\": \"e78\", \"source\": \"n25\", \"target\": \"n36\"}, {\"id\": \"e79\", \"source\": \"n32\", \"target\": \"n2\"}, {\"id\": \"e80\", \"source\": \"n17\", \"target\": \"n1\"}, {\"id\": \"e81\", \"source\": \"n38\", \"target\": \"n12\"}, {\"id\": \"e82\", \"source\": \"n12\", \"target\": \"n31\"}, {\"id\": \"e83\", \"source\": \"n24\", \"target\": \"n20\"}, {\"id\": \"e84\", \"source\": \"n21\", \"target\": \"n9\"}, {\"id\": \"e85\", \"source\": \"n18\", \"target\": \"n38\"}, {\"id\": \"e86\", \"source\": \"n23\", \"target\": \"n37\"}, {\"id\": \"e87\", \"source\": \"n18\", \"target\": \"n39\"}, {\"id\": \"e88\", \"source\": \"n35\", \"target\": \"n31\"}, {\"id\": \"e89\", \"source\": \"n22\", \"target\": \"n26\"}, {\"id\": \"e90\", \"source\": \"n16\", \"target\": \"n29\"}, {\"id\": \"e91\", \"source\": \"n26\", \"target\": \"n5\"}, {\"id\": \"e92\", \"source\": \"n38\", \"target\": \"n25\"}, {\"id\": \"e93\", \"source\": \"n9\", \"target\": \"n16\"}, {\"id\": \"e94\", \"source\": \"n15\", \"target\": \"n22\"}, {\"id\": \"e95\", \"source\": \"n22\", \"target\": \"n15\"}, {\"id\": \"e96\", \"source\": \"n22\", \"target\": \"n4\"}, {\"id\": \"e97\", \"source\": \"n2\", \"target\": \"n16\"}, {\"id\": \"e98\", \"source\": \"n37\", \"target\": \"n13\"}, {\"id\": \"e99\", \"source\": \"n37\", \"target\": \"n15\"}, {\"id\": \"e100\", \"source\": \"n24\", \"target\": \"n18\"}, {\"id\": \"e101\", \"source\": \"n16\", \"target\": \"n39\"}, {\"id\": \"e102\", \"source\": \"n17\", \"target\": \"n14\"}, {\"id\": \"e103\", \"source\": \"n27\", \"target\": \"n34\"}, {\"id\": \"e104\", \"source\": \"n25\", \"target\": \"n1\"}, {\"id\": \"e105\", \"source\": \"n13\", \"target\": \"n7\"}, {\"id\": \"e106\", \"source\": \"n25\", \"target\": \"n27\"}, {\"id\": \"e107\", \"source\": \"n27\", \"target\": \"n37\"}, {\"id\": \"e108\", \"source\": \"n29\", \"target\": \"n31\"}, {\"id\": \"e109\", \"source\": \"n37\", \"target\": \"n0\"}, {\"id\": \"e110\", \"source\": \"n12\", \"target\": \"n32\"}, {\"id\": \"e111\", \"source\": \"n19\", \"target\": \"n29\"}, {\"id\": \"e112\", \"source\": \"n21\", \"target\": \"n38\"}, {\"id\": \"e113\", \"source\": \"n23\", \"target\": \"n3\"}, {\"id\": \"e114\", \"source\": \"n29\", \"target\": \"n37\"}, {\"id\": \"e115\", \"source\": \"n0\", \"target\": \"n6\"}, {\"id\": \"e116\", \"source\": \"n1\", \"target\": \"n13\"}, {\"id\": \"e117\", \"source\": \"n28\", \"target\": \"n15\"}, {\"id\": \"e118\", \"source\": \"n17\", \"target\": \"n28\"}, {\"id\": \"e119\", \"source\": \"n3\", \"target\": \"n4\"}, {\"id\": \"e120\", \"source\": \"n20\", \"target\": \"n38\"}, {\"id\": \"e121\", \"source\": \"n32\", \"target\": \"n10\"}, {\"id\": \"e122\", \"source\": \"n9\", \"target\": \"n21\"}, {\"id\": \"e123\", \"source\": \"n20\", \"target\": \"n10\"}, {\"id\": \"e124\", \"source\": \"n31\", \"target\": \"n13\"}, {\"id\": \"e125\", \"source\": \"n31\", \"target\": \"n23\"}, {\"id\": \"e126\", \"source\": \"n36\", \"target\": \"n18\"}, {\"id\": \"e127\", \"source\": \"n39\", \"target\": \"n34\"}, {\"id\": \"e128\", \"source\": \"n13\", \"target\": \"n36\"}, {\"id\": \"e129\", \"source\": \"n2\", \"target\": \"n16\"}, {\"id\": \"e131\", \"source\": \"n20\", \"target\": \"n12\"}, {\"id\": \"e132\", \"source\": \"n35\", \"target\": \"n16\"}, {\"id\": \"e133\", \"source\": \"n39\", \"target\": \"n12\"}, {\"id\": \"e134\", \"source\": \"n1\", \"target\": \"n27\"}, {\"id\": \"e135\", \"source\": \"n18\", \"target\": \"n34\"}, {\"id\": \"e136\", \"source\": \"n23\", \"target\": \"n31\"}, {\"id\": \"e137\", \"source\": \"n17\", \"target\": \"n39\"}, {\"id\": \"e138\", \"source\": \"n26\", \"target\": \"n28\"}, {\"id\": \"e139\", \"source\": \"n1\", \"target\": \"n27\"}, {\"id\": \"e140\", \"source\": \"n12\", \"target\": \"n32\"}, {\"id\": \"e141\", \"source\": \"n13\", \"target\": \"n9\"}, {\"id\": \"e142\", \"source\": \"n38\", \"target\": \"n20\"}, {\"id\": \"e143\", \"source\": \"n16\", \"target\": \"n0\"}, {\"id\": \"e144\", \"source\": \"n38\", \"target\": \"n34\"}, {\"id\": \"e145\", \"source\": \"n20\", \"target\": \"n13\"}, {\"id\": \"e146\", \"source\": \"n11\", \"target\": \"n10\"}, {\"id\": \"e147\", \"source\": \"n34\", \"target\": \"n20\"}, {\"id\": \"e148\", \"source\": \"n5\", \"target\": \"n6\"}, {\"id\": \"e149\", \"source\": \"n9\", \"target\": \"n4\"}, {\"id\": \"e150\", \"source\": \"n36\", \"target\": \"n25\"}, {\"id\": \"e151\", \"source\": \"n12\", \"target\": \"n24\"}, {\"id\": \"e152\", \"source\": \"n10\", \"target\": \"n12\"}, {\"id\": \"e153\", \"source\": \"n28\", \"target\": \"n19\"}, {\"id\": \"e154\", \"source\": \"n10\", \"target\": \"n21\"}, {\"id\": \"e155\", \"source\": \"n12\", \"target\": \"n24\"}, {\"id\": \"e156\", \"source\": \"n3\", \"target\": \"n22\"}, {\"id\": \"e157\", \"source\": \"n30\", \"target\": \"n26\"}, {\"id\": \"e158\", \"source\": \"n16\", \"target\": \"n24\"}, {\"id\": \"e159\", \"source\": \"n36\", \"target\": \"n25\"}, {\"id\": \"e160\", \"source\": \"n32\", \"target\": \"n12\"}, {\"id\": \"e161\", \"source\": \"n37\", \"target\": \"n5\"}, {\"id\": \"e162\", \"source\": \"n21\", \"target\": \"n18\"}, {\"id\": \"e163\", \"source\": \"n32\", \"target\": \"n11\"}, {\"id\": \"e164\", \"source\": \"n39\", \"target\": \"n34\"}, {\"id\": \"e165\", \"source\": \"n30\", \"target\": \"n9\"}, {\"id\": \"e166\", \"source\": \"n1\", \"target\": \"n9\"}, {\"id\": \"e167\", \"source\": \"n3\", \"target\": \"n4\"}, {\"id\": \"e168\", \"source\": \"n21\", \"target\": \"n25\"}, {\"id\": \"e169\", \"source\": \"n27\", \"target\": \"n36\"}, {\"id\": \"e170\", \"source\": \"n6\", \"target\": \"n8\"}, {\"id\": \"e171\", \"source\": \"n11\", \"target\": \"n8\"}, {\"id\": \"e172\", \"source\": \"n25\", \"target\": \"n28\"}, {\"id\": \"e173\", \"source\": \"n12\", \"target\": \"n34\"}, {\"id\": \"e174\", \"source\": \"n8\", \"target\": \"n16\"}, {\"id\": \"e175\", \"source\": \"n25\", \"target\": \"n37\"}, {\"id\": \"e176\", \"source\": \"n10\", \"target\": \"n38\"}, {\"id\": \"e177\", \"source\": \"n1\", \"target\": \"n27\"}, {\"id\": \"e178\", \"source\": \"n39\", \"target\": \"n32\"}, {\"id\": \"e179\", \"source\": \"n12\", \"target\": \"n34\"}, {\"id\": \"e180\", \"source\": \"n23\", \"target\": \"n14\"}, {\"id\": \"e181\", \"source\": \"n16\", \"target\": \"n11\"}, {\"id\": \"e182\", \"source\": \"n36\", \"target\": \"n38\"}, {\"id\": \"e183\", \"source\": \"n15\", \"target\": \"n0\"}, {\"id\": \"e184\", \"source\": \"n1\", \"target\": \"n9\"}, {\"id\": \"e185\", \"source\": \"n39\", \"target\": \"n7\"}, {\"id\": \"e186\", \"source\": \"n4\", \"target\": \"n17\"}, {\"id\": \"e187\", \"source\": \"n3\", \"target\": \"n7\"}, {\"id\": \"e188\", \"source\": \"n30\", \"target\": \"n37\"}, {\"id\": \"e189\", \"source\": \"n19\", \"target\": \"n29\"}, {\"id\": \"e190\", \"source\": \"n25\", \"target\": \"n1\"}, {\"id\": \"e192\", \"source\": \"n12\", \"target\": \"n10\"}, {\"id\": \"e193\", \"source\": \"n18\", \"target\": \"n28\"}, {\"id\": \"e194\", \"source\": \"n13\", \"target\": \"n21\"}, {\"id\": \"e195\", \"source\": \"n30\", \"target\": \"n27\"}, {\"id\": \"e196\", \"source\": \"n16\", \"target\": \"n12\"}, {\"id\": \"e197\", \"source\": \"n8\", \"target\": \"n25\"}, {\"id\": \"e198\", \"source\": \"n11\", \"target\": \"n34\"}, {\"id\": \"e199\", \"source\": \"n37\", \"target\": \"n15\"}]} ;\n",
       "\n",
       "s = new sigma({graph: g, container: 'graph-div', settings: { defaultNodeColor: '#ec5148'} });\n",
       "\n",
       "s.graph.nodes().forEach(function(n) {\n",
       "  n.originalColor = n.color;\n",
       "});\n",
       "s.graph.edges().forEach(function(e) {\n",
       "  e.originalColor = e.color;\n",
       "});\n",
       "\n",
       "s.bind('clickNode', function(e) {\n",
       "  var nodeId = e.data.node.id,\n",
       "      toKeep = s.graph.neighbors(nodeId);\n",
       "  toKeep[nodeId] = e.data.node;\n",
       "\n",
       "  s.graph.nodes().forEach(function(n) {\n",
       "    if (toKeep[n.id])\n",
       "      n.color = n.originalColor;\n",
       "    else\n",
       "      n.color = '#eee';\n",
       "  });\n",
       "\n",
       "  s.graph.edges().forEach(function(e) {\n",
       "    if (toKeep[e.source] && toKeep[e.target])\n",
       "      e.color = e.originalColor;\n",
       "    else\n",
       "      e.color = '#eee';\n",
       "  });\n",
       "\n",
       "  s.refresh();\n",
       "});\n",
       "\n",
       "s.bind('clickStage', function(e) {\n",
       "  s.graph.nodes().forEach(function(n) {\n",
       "    n.color = n.originalColor;\n",
       "  });\n",
       "\n",
       "  s.graph.edges().forEach(function(e) {\n",
       "    e.color = e.originalColor;\n",
       "  });\n",
       "\n",
       "  s.refresh();\n",
       "});\n",
       "\n",
       "\n",
       " </script>\n"
      ],
      "text/plain": [
       "<IPython.core.display.HTML object>"
      ]
     },
     "execution_count": 567,
     "metadata": {},
     "output_type": "execute_result"
    }
   ],
   "source": [
    "HTML(html_template.substitute({'js_text': js_text}))"
   ]
  },
  {
   "cell_type": "markdown",
   "metadata": {},
   "source": [
    "### Create Model - Use Pretrained Embeddings, PoS Parsing"
   ]
  },
  {
   "cell_type": "markdown",
   "metadata": {},
   "source": [
    "#### Prep Data"
   ]
  },
  {
   "cell_type": "code",
   "execution_count": 139,
   "metadata": {
    "collapsed": true
   },
   "outputs": [],
   "source": [
    "MAX_FEATURES = 25000\n",
    "MAX_LEN = 350"
   ]
  },
  {
   "cell_type": "code",
   "execution_count": 99,
   "metadata": {
    "collapsed": true
   },
   "outputs": [],
   "source": [
    "list_sentences_train = train['review'].fillna(\"UNKNOWN\").values.tolist()\n",
    "list_sentences_test = test['review'].fillna(\"UNKNOWN\").values.tolist()"
   ]
  },
  {
   "cell_type": "code",
   "execution_count": 100,
   "metadata": {
    "collapsed": true
   },
   "outputs": [],
   "source": [
    "list_sentences_train_parsed = [transform_doc(x, MAX_LEN=1000) for x in list_sentences_train]\n",
    "list_sentences_test_parsed = [transform_doc(x, MAX_LEN=1000) for x in list_sentences_test]"
   ]
  },
  {
   "cell_type": "code",
   "execution_count": 102,
   "metadata": {
    "collapsed": true
   },
   "outputs": [],
   "source": [
    "with open('data/list_sentences_train_parsed.pkl', 'wb') as f:\n",
    "    pickle.dump(list_sentences_train_parsed, f)\n",
    "    \n",
    "with open('data/list_sentences_test_parsed.pkl', 'wb') as f:\n",
    "    pickle.dump(list_sentences_test_parsed, f)"
   ]
  },
  {
   "cell_type": "code",
   "execution_count": 140,
   "metadata": {
    "collapsed": true
   },
   "outputs": [],
   "source": [
    "tokenizer = text.Tokenizer(num_words=MAX_FEATURES, filters='!\"#$%&()*+,-/:;<=>?@[\\\\]^`{}~\\t\\n', lower=False)\n",
    "tokenizer.fit_on_texts(list_sentences_train_parsed)"
   ]
  },
  {
   "cell_type": "code",
   "execution_count": 141,
   "metadata": {
    "collapsed": true
   },
   "outputs": [],
   "source": [
    "list_tokenized_train = tokenizer.texts_to_sequences(list_sentences_train_parsed)\n",
    "list_tokenized_test = tokenizer.texts_to_sequences(list_sentences_test_parsed)"
   ]
  },
  {
   "cell_type": "code",
   "execution_count": 142,
   "metadata": {
    "collapsed": true
   },
   "outputs": [],
   "source": [
    "X_train = sequence.pad_sequences(list_tokenized_train, maxlen=MAX_LEN)\n",
    "X_test = sequence.pad_sequences(list_tokenized_test, maxlen=MAX_LEN)"
   ]
  },
  {
   "cell_type": "code",
   "execution_count": 154,
   "metadata": {
    "collapsed": true
   },
   "outputs": [],
   "source": [
    "y = train['sentiment'].values.reshape(-1,1)"
   ]
  },
  {
   "cell_type": "code",
   "execution_count": 155,
   "metadata": {
    "collapsed": true
   },
   "outputs": [],
   "source": [
    "X_train, X_val, y_train, y_val = train_test_split(X, y, test_size=0.1, random_state=42)"
   ]
  },
  {
   "cell_type": "markdown",
   "metadata": {},
   "source": [
    "#### Inspect"
   ]
  },
  {
   "cell_type": "code",
   "execution_count": 143,
   "metadata": {},
   "outputs": [
    {
     "data": {
      "text/plain": [
       "\"With|ADP all_this_stuff|NOUN going|VERB down|PART at|ADP the_moment|NOUN with|ADP MJ|ENT i|PRON 've|VERB started|VERB listening|VERB to|ADP his_music|NOUN ,|PUNCT watching|VERB the_odd_documentary|NOUN here|ADV and|CCONJ there|ADV ,|PUNCT watched|VERB The_Wiz|PROPN and|CCONJ watched|VERB Moonwalker|ENT again|ADV .|PUNCT Maybe|ADV i|PRON just|ADV want|VERB to|PART get|VERB a_certain_insight|NOUN into|ADP this_guy|NOUN who|NOUN i|PRON thought|VERB was|VERB really|ADV cool|ADJ in|ADP the_eighties|DATE just|ADV to|PART maybe|ADV make|VERB up|PART my_mind|NOUN whether|ADP he|PRON is|VERB guilty|ADJ or|CCONJ innocent|ADJ .|PUNCT Moonwalker|ENT is|VERB part_biography|NOUN ,|PUNCT part_feature_film|NOUN which|ADJ i|PRON remember|VERB going|VERB to|PART see|VERB at|ADP the_cinema|NOUN when|ADV it|PRON was|VERB originally|ADV released|VERB .|PUNCT Some|DET of|ADP it|PRON has|VERB subtle_messages|NOUN about|ADP MJ's_feeling|NOUN towards|ADP the_press|NOUN and|CCONJ also|ADV the_obvious_message|NOUN of|ADP drugs|NOUN are|VERB bad_m'kay.<br|NOUN /><br|SYM />Visually|ADV impressive|ADJ but|CCONJ of|ADP course|NOUN this|DET is|VERB all|DET about|ADP Michael_Jackson|ENT so|ADP unless|ADP you|PRON remotely|ADV like|ADP MJ|ENT in|ADP anyway|ADV then|ADV you|PRON are|VERB going|VERB to|PART hate|VERB this|DET and|CCONJ find|VERB it|PRON boring|ADJ .|PUNCT Some|DET may|VERB call|VERB MJ|ENT an|DET egotist|NOUN for|ADP consenting|VERB to|ADP the_making|NOUN of|ADP this_movie|NOUN BUT|CCONJ MJ|ENT and|CCONJ most|ADJ of|ADP his_fans|NOUN would|VERB say|VERB that|ADP he|PRON made|VERB it|PRON for|ADP the_fans|NOUN which|ADJ if|ADP true|ADJ is|VERB really|ADV nice|ADJ of|ADP him.<br|CARDINAL /><br|PUNCT />The|SYM actual|ADJ feature|NOUN film|NOUN bit|NOUN when|ADV it|PRON finally|ADV starts|VERB is|VERB only|ADV on|ADP for|ADP 20_minutes|TIME or|CCONJ so|ADV excluding|VERB the_Smooth_Criminal_sequence|NOUN and|CCONJ Joe_Pesci|ENT is|VERB convincing|ADJ as|ADP a_psychopathic_all_powerful_drug_lord|NOUN .|PUNCT Why|ADV he|PRON wants|VERB MJ|ENT dead|ADJ so|ADV bad|ADJ is|VERB beyond|ADP me|PRON .|PUNCT Because|ADP MJ|ENT overheard|VERB his_plans|NOUN ?|PUNCT Nah|ENT ,|PUNCT Joe_Pesci's_character|NOUN ranted|VERB that|ADP he|PRON wanted|VERB people|NOUN to|PART know|VERB it|PRON is|VERB he|PRON who|NOUN is|VERB supplying|VERB drugs|NOUN etc|X so|ADV i|PRON dunno|VERB ,|PUNCT maybe|ADV he|PRON just|ADV hates|VERB MJ's_music.<br|ENT /><br|PUNCT />Lots|NOUN of|ADP cool_things|NOUN in|ADP this|DET like|ADP MJ|ENT turning|VERB into|ADP a_car|NOUN and|CCONJ a_robot|NOUN and|CCONJ the_whole_Speed_Demon_sequence|NOUN .|PUNCT Also|ADV ,|PUNCT the_director|NOUN must|VERB have|VERB had|VERB the_patience|NOUN of|ADP a_saint|NOUN when|ADV it|PRON came|VERB to|ADP filming|VERB the_kiddy|NOUN Bad_sequence|NOUN as|ADP usually|ADV directors|NOUN hate|VERB working|VERB with|ADP one_kid|NOUN let|VERB alone|ADV a_whole_bunch|NOUN of|ADP them|PRON performing|VERB a_complex_dance|NOUN scene.<br|ENT /><br|SYM />Bottom|NOUN line|NOUN ,|PUNCT this_movie|NOUN is|VERB for|ADP people|NOUN who|NOUN like|VERB MJ|ENT on|ADP one_level|NOUN or|CCONJ another|DET (|PUNCT which|ADJ i|PRON think|VERB is|VERB most_people|NOUN )|PUNCT .|PUNCT If|ADP not|ADV ,|PUNCT then|ADV stay|VERB away|ADV .|PUNCT It|PRON does|VERB try|VERB and|CCONJ give|VERB off|PART a_wholesome_message|NOUN and|CCONJ ironically_MJ's_bestest_buddy|NOUN in|ADP this_movie|NOUN is|VERB a_girl|NOUN !|PUNCT Michael_Jackson|ENT is|VERB truly|ADV one|CARDINAL of|ADP the_most_talented_people|NOUN ever|ADV to|PART grace|VERB this_planet|NOUN but|CCONJ is|VERB he|PRON guilty|ADJ ?|PUNCT Well|INTJ ,|PUNCT with|ADP all_the_attention|NOUN i|PRON 've|VERB gave|VERB this_subject|NOUN ....|PUNCT hmmm|INTJ well|INTJ i|PRON do|VERB n't|ADV know|VERB because|ADP people|NOUN can|VERB be|VERB different|ADJ behind|ADP closed_doors|NOUN ,|PUNCT i|PRON know|VERB this|DET for|ADP a_fact|NOUN .|PUNCT He|PRON is|VERB either_an_extremely_nice_but_stupid_guy|NOUN or|CCONJ one|CARDINAL of|ADP the_most_sickest_liars|NOUN .|PUNCT I|PRON hope|VERB he|PRON is|VERB not|ADV the|DET latter|ADJ .|PUNCT\""
      ]
     },
     "execution_count": 143,
     "metadata": {},
     "output_type": "execute_result"
    }
   ],
   "source": [
    "list_sentences_train_parsed[0]"
   ]
  },
  {
   "cell_type": "code",
   "execution_count": 144,
   "metadata": {},
   "outputs": [
    {
     "data": {
      "text/plain": [
       "[427,\n",
       " 137,\n",
       " 214,\n",
       " 33,\n",
       " 1728,\n",
       " 13,\n",
       " 10013,\n",
       " 117,\n",
       " 123,\n",
       " 441,\n",
       " 1956,\n",
       " 12,\n",
       " 9053,\n",
       " 1,\n",
       " 130,\n",
       " 122,\n",
       " 3,\n",
       " 47,\n",
       " 1,\n",
       " 220,\n",
       " 3,\n",
       " 220,\n",
       " 14945,\n",
       " 151,\n",
       " 2,\n",
       " 550,\n",
       " 117,\n",
       " 44,\n",
       " 147,\n",
       " 6,\n",
       " 73,\n",
       " 72,\n",
       " 1979,\n",
       " 29,\n",
       " 117,\n",
       " 174,\n",
       " 10,\n",
       " 61,\n",
       " 829,\n",
       " 7,\n",
       " 7258,\n",
       " 44,\n",
       " 6,\n",
       " 353,\n",
       " 87,\n",
       " 59,\n",
       " 1491,\n",
       " 562,\n",
       " 26,\n",
       " 5,\n",
       " 3109,\n",
       " 38,\n",
       " 2622,\n",
       " 2,\n",
       " 14945,\n",
       " 5,\n",
       " 1,\n",
       " 52,\n",
       " 117,\n",
       " 302,\n",
       " 137,\n",
       " 6,\n",
       " 58,\n",
       " 33,\n",
       " 1580,\n",
       " 50,\n",
       " 9,\n",
       " 10,\n",
       " 1306,\n",
       " 460,\n",
       " 2,\n",
       " 699,\n",
       " 4,\n",
       " 9,\n",
       " 36,\n",
       " 53886,\n",
       " 42,\n",
       " 660,\n",
       " 10795,\n",
       " 3,\n",
       " 88,\n",
       " 4,\n",
       " 1441,\n",
       " 20,\n",
       " 39,\n",
       " 83,\n",
       " 6477,\n",
       " 1249,\n",
       " 16,\n",
       " 4,\n",
       " 305,\n",
       " 35,\n",
       " 5,\n",
       " 78,\n",
       " 42,\n",
       " 5265,\n",
       " 279,\n",
       " 729,\n",
       " 19,\n",
       " 1810,\n",
       " 41,\n",
       " 10013,\n",
       " 7,\n",
       " 783,\n",
       " 96,\n",
       " 19,\n",
       " 20,\n",
       " 137,\n",
       " 6,\n",
       " 610,\n",
       " 35,\n",
       " 3,\n",
       " 134,\n",
       " 9,\n",
       " 418,\n",
       " 2,\n",
       " 699,\n",
       " 164,\n",
       " 579,\n",
       " 10013,\n",
       " 339,\n",
       " 14,\n",
       " 36321,\n",
       " 12,\n",
       " 3538,\n",
       " 4,\n",
       " 48,\n",
       " 3169,\n",
       " 10013,\n",
       " 3,\n",
       " 241,\n",
       " 4,\n",
       " 11248,\n",
       " 45,\n",
       " 113,\n",
       " 18,\n",
       " 26,\n",
       " 85,\n",
       " 9,\n",
       " 14,\n",
       " 4242,\n",
       " 52,\n",
       " 56,\n",
       " 468,\n",
       " 5,\n",
       " 61,\n",
       " 628,\n",
       " 4,\n",
       " 1528,\n",
       " 455,\n",
       " 11,\n",
       " 390,\n",
       " 8037,\n",
       " 7622,\n",
       " 199,\n",
       " 257,\n",
       " 50,\n",
       " 9,\n",
       " 377,\n",
       " 391,\n",
       " 5,\n",
       " 106,\n",
       " 22,\n",
       " 14,\n",
       " 7814,\n",
       " 38,\n",
       " 46,\n",
       " 18037,\n",
       " 3,\n",
       " 15867,\n",
       " 5,\n",
       " 1046,\n",
       " 15,\n",
       " 2,\n",
       " 402,\n",
       " 26,\n",
       " 357,\n",
       " 10013,\n",
       " 598,\n",
       " 46,\n",
       " 127,\n",
       " 5,\n",
       " 530,\n",
       " 64,\n",
       " 2,\n",
       " 901,\n",
       " 10013,\n",
       " 43237,\n",
       " 27862,\n",
       " 1,\n",
       " 20960,\n",
       " 1,\n",
       " 43238,\n",
       " 18,\n",
       " 26,\n",
       " 347,\n",
       " 144,\n",
       " 6,\n",
       " 103,\n",
       " 9,\n",
       " 5,\n",
       " 26,\n",
       " 29,\n",
       " 5,\n",
       " 20961,\n",
       " 1441,\n",
       " 406,\n",
       " 46,\n",
       " 117,\n",
       " 12792,\n",
       " 1,\n",
       " 353,\n",
       " 26,\n",
       " 44,\n",
       " 2880,\n",
       " 32,\n",
       " 11,\n",
       " 2859,\n",
       " 4,\n",
       " 7,\n",
       " 35,\n",
       " 41,\n",
       " 10013,\n",
       " 1156,\n",
       " 72,\n",
       " 2178,\n",
       " 3,\n",
       " 10014,\n",
       " 3,\n",
       " 2,\n",
       " 389,\n",
       " 1,\n",
       " 381,\n",
       " 169,\n",
       " 23,\n",
       " 55,\n",
       " 15868,\n",
       " 4,\n",
       " 16903,\n",
       " 50,\n",
       " 9,\n",
       " 285,\n",
       " 12,\n",
       " 2238,\n",
       " 15,\n",
       " 501,\n",
       " 2169,\n",
       " 610,\n",
       " 661,\n",
       " 13,\n",
       " 43239,\n",
       " 270,\n",
       " 581,\n",
       " 10386,\n",
       " 4,\n",
       " 86,\n",
       " 2729,\n",
       " 6766,\n",
       " 32,\n",
       " 83,\n",
       " 10387,\n",
       " 1562,\n",
       " 1,\n",
       " 48,\n",
       " 5,\n",
       " 14,\n",
       " 144,\n",
       " 29,\n",
       " 153,\n",
       " 10013,\n",
       " 22,\n",
       " 18038,\n",
       " 38,\n",
       " 453,\n",
       " 1,\n",
       " 52,\n",
       " 117,\n",
       " 89,\n",
       " 5,\n",
       " 1592,\n",
       " 1,\n",
       " 2,\n",
       " 128,\n",
       " 24,\n",
       " 1,\n",
       " 96,\n",
       " 592,\n",
       " 211,\n",
       " 2,\n",
       " 37,\n",
       " 62,\n",
       " 294,\n",
       " 3,\n",
       " 159,\n",
       " 135,\n",
       " 3,\n",
       " 7,\n",
       " 48,\n",
       " 5,\n",
       " 1108,\n",
       " 1,\n",
       " 5265,\n",
       " 5,\n",
       " 375,\n",
       " 107,\n",
       " 4,\n",
       " 110,\n",
       " 6,\n",
       " 10388,\n",
       " 8038,\n",
       " 16,\n",
       " 5,\n",
       " 26,\n",
       " 3109,\n",
       " 1,\n",
       " 362,\n",
       " 1,\n",
       " 13,\n",
       " 36322,\n",
       " 117,\n",
       " 123,\n",
       " 370,\n",
       " 10015,\n",
       " 383,\n",
       " 16904,\n",
       " 481,\n",
       " 117,\n",
       " 40,\n",
       " 17,\n",
       " 103,\n",
       " 80,\n",
       " 144,\n",
       " 49,\n",
       " 25,\n",
       " 498,\n",
       " 435,\n",
       " 36323,\n",
       " 1,\n",
       " 117,\n",
       " 103,\n",
       " 35,\n",
       " 14,\n",
       " 9054,\n",
       " 2,\n",
       " 114,\n",
       " 5,\n",
       " 38,\n",
       " 107,\n",
       " 4,\n",
       " 2,\n",
       " 8,\n",
       " 464,\n",
       " 26,\n",
       " 5,\n",
       " 24,\n",
       " 34,\n",
       " 1563,\n",
       " 2]"
      ]
     },
     "execution_count": 144,
     "metadata": {},
     "output_type": "execute_result"
    }
   ],
   "source": [
    "list_tokenized_train[0]"
   ]
  },
  {
   "cell_type": "code",
   "execution_count": 145,
   "metadata": {
    "collapsed": true
   },
   "outputs": [],
   "source": [
    "index_word_dict = {v:k for k, v in tokenizer.word_index.items()}\n",
    "word_index_dict = tokenizer.word_index"
   ]
  },
  {
   "cell_type": "code",
   "execution_count": 146,
   "metadata": {},
   "outputs": [
    {
     "name": "stdout",
     "output_type": "stream",
     "text": [
      "With|ADP\n",
      "going|VERB\n",
      "down|PART\n",
      "at|ADP\n",
      "the_moment|NOUN\n",
      "with|ADP\n",
      "MJ|ENT\n",
      "i|PRON\n",
      "'ve|VERB\n",
      "started|VERB\n",
      "listening|VERB\n",
      "to|ADP\n",
      "his_music|NOUN\n",
      "|PUNCT\n",
      "watching|VERB\n",
      "here|ADV\n",
      "and|CCONJ\n",
      "there|ADV\n",
      "|PUNCT\n",
      "watched|VERB\n",
      "and|CCONJ\n",
      "watched|VERB\n",
      "Moonwalker|ENT\n",
      "again|ADV\n",
      ".|PUNCT\n",
      "Maybe|ADV\n",
      "i|PRON\n",
      "just|ADV\n",
      "want|VERB\n",
      "to|PART\n",
      "get|VERB\n",
      "into|ADP\n",
      "this_guy|NOUN\n",
      "who|NOUN\n",
      "i|PRON\n",
      "thought|VERB\n",
      "was|VERB\n",
      "really|ADV\n",
      "cool|ADJ\n",
      "in|ADP\n",
      "the_eighties|DATE\n",
      "just|ADV\n",
      "to|PART\n",
      "maybe|ADV\n",
      "make|VERB\n",
      "up|PART\n",
      "my_mind|NOUN\n",
      "whether|ADP\n",
      "he|PRON\n",
      "is|VERB\n",
      "guilty|ADJ\n",
      "or|CCONJ\n",
      "innocent|ADJ\n",
      ".|PUNCT\n",
      "Moonwalker|ENT\n",
      "is|VERB\n",
      "|PUNCT\n",
      "which|ADJ\n",
      "i|PRON\n",
      "remember|VERB\n",
      "going|VERB\n",
      "to|PART\n",
      "see|VERB\n",
      "at|ADP\n",
      "the_cinema|NOUN\n",
      "when|ADV\n",
      "it|PRON\n",
      "was|VERB\n",
      "originally|ADV\n",
      "released|VERB\n",
      ".|PUNCT\n",
      "Some|DET\n",
      "of|ADP\n",
      "it|PRON\n",
      "has|VERB\n",
      "subtle_messages|NOUN\n",
      "about|ADP\n",
      "towards|ADP\n",
      "the_press|NOUN\n",
      "and|CCONJ\n",
      "also|ADV\n",
      "of|ADP\n",
      "drugs|NOUN\n",
      "are|VERB\n",
      "br|NOUN\n",
      "br|SYM\n",
      "Visually|ADV\n",
      "impressive|ADJ\n",
      "but|CCONJ\n",
      "of|ADP\n",
      "course|NOUN\n",
      "this|DET\n",
      "is|VERB\n",
      "all|DET\n",
      "about|ADP\n",
      "Michael_Jackson|ENT\n",
      "so|ADP\n",
      "unless|ADP\n",
      "you|PRON\n",
      "remotely|ADV\n",
      "like|ADP\n",
      "MJ|ENT\n",
      "in|ADP\n",
      "anyway|ADV\n",
      "then|ADV\n",
      "you|PRON\n",
      "are|VERB\n",
      "going|VERB\n",
      "to|PART\n",
      "hate|VERB\n",
      "this|DET\n",
      "and|CCONJ\n",
      "find|VERB\n",
      "it|PRON\n",
      "boring|ADJ\n",
      ".|PUNCT\n",
      "Some|DET\n",
      "may|VERB\n",
      "call|VERB\n",
      "MJ|ENT\n",
      "an|DET\n",
      "for|ADP\n",
      "consenting|VERB\n",
      "to|ADP\n",
      "the_making|NOUN\n",
      "of|ADP\n",
      "this_movie|NOUN\n",
      "BUT|CCONJ\n",
      "MJ|ENT\n",
      "and|CCONJ\n",
      "most|ADJ\n",
      "of|ADP\n",
      "his_fans|NOUN\n",
      "would|VERB\n",
      "say|VERB\n",
      "that|ADP\n",
      "he|PRON\n",
      "made|VERB\n",
      "it|PRON\n",
      "for|ADP\n",
      "the_fans|NOUN\n",
      "which|ADJ\n",
      "if|ADP\n",
      "true|ADJ\n",
      "is|VERB\n",
      "really|ADV\n",
      "nice|ADJ\n",
      "of|ADP\n",
      "him.\n",
      "br|CARDINAL\n",
      "br|PUNCT\n",
      "The|SYM\n",
      "actual|ADJ\n",
      "feature|NOUN\n",
      "film|NOUN\n",
      "bit|NOUN\n",
      "when|ADV\n",
      "it|PRON\n",
      "finally|ADV\n",
      "starts|VERB\n",
      "is|VERB\n",
      "only|ADV\n",
      "on|ADP\n",
      "for|ADP\n",
      "20_minutes|TIME\n",
      "or|CCONJ\n",
      "so|ADV\n",
      "excluding|VERB\n",
      "and|CCONJ\n",
      "Joe_Pesci|ENT\n",
      "is|VERB\n",
      "convincing|ADJ\n",
      "as|ADP\n",
      ".|PUNCT\n",
      "Why|ADV\n",
      "he|PRON\n",
      "wants|VERB\n",
      "MJ|ENT\n",
      "dead|ADJ\n",
      "so|ADV\n",
      "bad|ADJ\n",
      "is|VERB\n",
      "beyond|ADP\n",
      "me|PRON\n",
      ".|PUNCT\n",
      "Because|ADP\n",
      "MJ|ENT\n",
      "overheard|VERB\n",
      "his_plans|NOUN\n",
      "|PUNCT\n",
      "Nah|ENT\n",
      "|PUNCT\n",
      "ranted|VERB\n",
      "that|ADP\n",
      "he|PRON\n",
      "wanted|VERB\n",
      "people|NOUN\n",
      "to|PART\n",
      "know|VERB\n",
      "it|PRON\n",
      "is|VERB\n",
      "he|PRON\n",
      "who|NOUN\n",
      "is|VERB\n",
      "supplying|VERB\n",
      "drugs|NOUN\n",
      "etc|X\n",
      "so|ADV\n",
      "i|PRON\n",
      "dunno|VERB\n",
      "|PUNCT\n",
      "maybe|ADV\n",
      "he|PRON\n",
      "just|ADV\n",
      "hates|VERB\n",
      "br|ENT\n",
      "br|PUNCT\n",
      "Lots|NOUN\n",
      "of|ADP\n",
      "in|ADP\n",
      "this|DET\n",
      "like|ADP\n",
      "MJ|ENT\n",
      "turning|VERB\n",
      "into|ADP\n",
      "a_car|NOUN\n",
      "and|CCONJ\n",
      "a_robot|NOUN\n",
      "and|CCONJ\n",
      ".|PUNCT\n",
      "Also|ADV\n",
      "|PUNCT\n",
      "the_director|NOUN\n",
      "must|VERB\n",
      "have|VERB\n",
      "had|VERB\n",
      "the_patience|NOUN\n",
      "of|ADP\n",
      "a_saint|NOUN\n",
      "when|ADV\n",
      "it|PRON\n",
      "came|VERB\n",
      "to|ADP\n",
      "filming|VERB\n",
      "as|ADP\n",
      "usually|ADV\n",
      "directors|NOUN\n",
      "hate|VERB\n",
      "working|VERB\n",
      "with|ADP\n",
      "one_kid|NOUN\n",
      "let|VERB\n",
      "alone|ADV\n",
      "a_whole_bunch|NOUN\n",
      "of|ADP\n",
      "them|PRON\n",
      "performing|VERB\n",
      "scene.\n",
      "br|ENT\n",
      "br|SYM\n",
      "Bottom|NOUN\n",
      "line|NOUN\n",
      "|PUNCT\n",
      "this_movie|NOUN\n",
      "is|VERB\n",
      "for|ADP\n",
      "people|NOUN\n",
      "who|NOUN\n",
      "like|VERB\n",
      "MJ|ENT\n",
      "on|ADP\n",
      "one_level|NOUN\n",
      "or|CCONJ\n",
      "another|DET\n",
      "|PUNCT\n",
      "which|ADJ\n",
      "i|PRON\n",
      "think|VERB\n",
      "is|VERB\n",
      "most_people|NOUN\n",
      "|PUNCT\n",
      ".|PUNCT\n",
      "If|ADP\n",
      "not|ADV\n",
      "|PUNCT\n",
      "then|ADV\n",
      "stay|VERB\n",
      "away|ADV\n",
      ".|PUNCT\n",
      "It|PRON\n",
      "does|VERB\n",
      "try|VERB\n",
      "and|CCONJ\n",
      "give|VERB\n",
      "off|PART\n",
      "and|CCONJ\n",
      "in|ADP\n",
      "this_movie|NOUN\n",
      "is|VERB\n",
      "a_girl|NOUN\n",
      "|PUNCT\n",
      "Michael_Jackson|ENT\n",
      "is|VERB\n",
      "truly|ADV\n",
      "one|CARDINAL\n",
      "of|ADP\n",
      "ever|ADV\n",
      "to|PART\n",
      "grace|VERB\n",
      "this_planet|NOUN\n",
      "but|CCONJ\n",
      "is|VERB\n",
      "he|PRON\n",
      "guilty|ADJ\n",
      "|PUNCT\n",
      "Well|INTJ\n",
      "|PUNCT\n",
      "with|ADP\n",
      "all_the_attention|NOUN\n",
      "i|PRON\n",
      "'ve|VERB\n",
      "gave|VERB\n",
      "this_subject|NOUN\n",
      "....|PUNCT\n",
      "hmmm|INTJ\n",
      "well|INTJ\n",
      "i|PRON\n",
      "do|VERB\n",
      "n't|ADV\n",
      "know|VERB\n",
      "because|ADP\n",
      "people|NOUN\n",
      "can|VERB\n",
      "be|VERB\n",
      "different|ADJ\n",
      "behind|ADP\n",
      "closed_doors|NOUN\n",
      "|PUNCT\n",
      "i|PRON\n",
      "know|VERB\n",
      "this|DET\n",
      "for|ADP\n",
      "a_fact|NOUN\n",
      ".|PUNCT\n",
      "He|PRON\n",
      "is|VERB\n",
      "or|CCONJ\n",
      "one|CARDINAL\n",
      "of|ADP\n",
      ".|PUNCT\n",
      "I|PRON\n",
      "hope|VERB\n",
      "he|PRON\n",
      "is|VERB\n",
      "not|ADV\n",
      "the|DET\n",
      "latter|ADJ\n",
      ".|PUNCT\n"
     ]
    }
   ],
   "source": [
    "for w in list_tokenized_train[0]:\n",
    "    print(index_word_dict[w])"
   ]
  },
  {
   "cell_type": "markdown",
   "metadata": {},
   "source": [
    "#### Create Embedding Matrix\n",
    "(or load one if you have it)"
   ]
  },
  {
   "cell_type": "code",
   "execution_count": 693,
   "metadata": {
    "collapsed": true
   },
   "outputs": [],
   "source": [
    "w2v_model = Word2Vec.load('models/w2v_model_32_plaintext')"
   ]
  },
  {
   "cell_type": "code",
   "execution_count": 694,
   "metadata": {},
   "outputs": [
    {
     "name": "stdout",
     "output_type": "stream",
     "text": [
      "The size of the gensim word2vec vocab is: 69805\n",
      "The size of the keras token vocab is: 88582\n",
      "The tokenizer vocab is limited to: 25000\n",
      "Total amount of words not found in gensim word2vec model: 361\n",
      "Embedding matrix shape: (25001, 32)\n"
     ]
    }
   ],
   "source": [
    "EMBED_SIZE = w2v_model.vector_size\n",
    "print('The size of the gensim word2vec vocab is: {}'.format(len(w2v_model.wv.vocab.items())))\n",
    "\n",
    "unknown_word_count = 0\n",
    "def choose_embedded_vector(word, unknown_word_count, verbose=False):\n",
    "    if word in w2v_model.wv.vocab:\n",
    "        return w2v_model.wv.word_vec(word), unknown_word_count\n",
    "    else:\n",
    "        if verbose:\n",
    "            print('Unknown word: {}'.format(word))\n",
    "        return np.random.rand(EMBED_SIZE), (unknown_word_count+1)\n",
    "\n",
    "index_word_dict = {v:k for k, v in tokenizer.word_index.items()}\n",
    "word_index_dict = tokenizer.word_index\n",
    "num_words = tokenizer.num_words + 1 \n",
    "print('The size of the keras token vocab is: {}'.format(len(index_word_dict)))\n",
    "print('The tokenizer vocab is limited to: {}'.format(tokenizer.num_words))\n",
    "\n",
    "\n",
    "embedding_weights = np.zeros((num_words, EMBED_SIZE))\n",
    "for word, index in word_index_dict.items():\n",
    "    if index < num_words:\n",
    "        embedding_weights[index,:], unknown_word_count = choose_embedded_vector(word, unknown_word_count)\n",
    "\n",
    "print('Total amount of words not found in gensim word2vec model: {}'.format(unknown_word_count))\n",
    "print('Embedding matrix shape: {}'.format(embedding_weights.shape))"
   ]
  },
  {
   "cell_type": "code",
   "execution_count": 698,
   "metadata": {},
   "outputs": [
    {
     "data": {
      "text/plain": [
       "32"
      ]
     },
     "execution_count": 698,
     "metadata": {},
     "output_type": "execute_result"
    }
   ],
   "source": [
    "EMBED_SIZE"
   ]
  },
  {
   "cell_type": "markdown",
   "metadata": {},
   "source": [
    "#### Train Model"
   ]
  },
  {
   "cell_type": "code",
   "execution_count": 699,
   "metadata": {
    "collapsed": true
   },
   "outputs": [],
   "source": [
    "CNN_FILTER_SIZE = 32\n",
    "CNN_KERNEL_SIZE = 3\n",
    "\n",
    "def create_model():\n",
    "    input_sequence = Input(shape=(MAX_LEN, ))\n",
    "    x = Embedding(input_dim=num_words, output_dim=EMBED_SIZE, input_length=MAX_LEN, mask_zero=False, weights=[embedding_weights], trainable=True)(input_sequence)\n",
    "    x = Dropout(0.5)(x)\n",
    "    x = Conv1D(filters=CNN_FILTER_SIZE, kernel_size=CNN_KERNEL_SIZE, padding='same', kernel_regularizer=l2(0.0001))(x)\n",
    "    #x = Bidirectional(LSTM(32,\n",
    "    #                       return_sequences=True,\n",
    "    #                       kernel_regularizer=l2(0.0001)))(x)\n",
    "    #x = GlobalMaxPool1D()(x)\n",
    "    x = AttentionWithContext()(x)\n",
    "    x = BatchNormalization()(x)\n",
    "    x = Dense(32, activation=\"elu\", kernel_regularizer=l2(0.0001))(x)\n",
    "    prediction = Dense(N_CLASSES, activation=\"sigmoid\")(x)\n",
    "    \n",
    "    opt = Adam(lr=0.0001, beta_1=0.9, beta_2=0.999, epsilon=None, decay=0.0, amsgrad=False)\n",
    "    #opt = SGD(lr=0.001, momentum=0.0, decay=0.0, nesterov=False)\n",
    "    \n",
    "    model = Model(inputs=input_sequence, outputs=prediction)\n",
    "    model.compile(loss='binary_crossentropy',\n",
    "                  optimizer=opt,\n",
    "                  metrics=['accuracy'])\n",
    "\n",
    "    return model"
   ]
  },
  {
   "cell_type": "code",
   "execution_count": 700,
   "metadata": {
    "collapsed": true
   },
   "outputs": [],
   "source": [
    "model = create_model()\n",
    "\n",
    "BATCH_SIZE = 512\n",
    "EPOCHS = 50"
   ]
  },
  {
   "cell_type": "code",
   "execution_count": 701,
   "metadata": {
    "collapsed": true
   },
   "outputs": [],
   "source": [
    "FILE_PATH = \"models/keras_model_weights.hdf5\"\n",
    "checkpoint = ModelCheckpoint(FILE_PATH, monitor='val_loss', verbose=1, save_best_only=True, mode='min')\n",
    "early = EarlyStopping(monitor=\"val_loss\", mode=\"min\", patience=15)\n",
    "callbacks_list = [checkpoint, early]"
   ]
  },
  {
   "cell_type": "code",
   "execution_count": 702,
   "metadata": {},
   "outputs": [
    {
     "name": "stdout",
     "output_type": "stream",
     "text": [
      "_________________________________________________________________\n",
      "Layer (type)                 Output Shape              Param #   \n",
      "=================================================================\n",
      "input_35 (InputLayer)        (None, 350)               0         \n",
      "_________________________________________________________________\n",
      "embedding_31 (Embedding)     (None, 350, 32)           800032    \n",
      "_________________________________________________________________\n",
      "dropout_30 (Dropout)         (None, 350, 32)           0         \n",
      "_________________________________________________________________\n",
      "conv1d_38 (Conv1D)           (None, 350, 32)           3104      \n",
      "_________________________________________________________________\n",
      "attention_with_context_20 (A (None, 32)                1088      \n",
      "_________________________________________________________________\n",
      "batch_normalization_30 (Batc (None, 32)                128       \n",
      "_________________________________________________________________\n",
      "dense_59 (Dense)             (None, 32)                1056      \n",
      "_________________________________________________________________\n",
      "dense_60 (Dense)             (None, 1)                 33        \n",
      "=================================================================\n",
      "Total params: 805,441\n",
      "Trainable params: 805,377\n",
      "Non-trainable params: 64\n",
      "_________________________________________________________________\n"
     ]
    }
   ],
   "source": [
    "model.summary()"
   ]
  },
  {
   "cell_type": "code",
   "execution_count": 727,
   "metadata": {
    "scrolled": true
   },
   "outputs": [
    {
     "name": "stdout",
     "output_type": "stream",
     "text": [
      "Train on 22500 samples, validate on 2500 samples\n",
      "Epoch 1/50\n",
      "22016/22500 [============================>.] - ETA: 0s - loss: 0.3717 - acc: 0.8375\n",
      "Epoch 00001: val_loss improved from 0.31113 to 0.30841, saving model to models/keras_model_weights.hdf5\n",
      "22500/22500 [==============================] - 1s 39us/step - loss: 0.3726 - acc: 0.8373 - val_loss: 0.3084 - val_acc: 0.8720\n",
      "Epoch 2/50\n",
      "20992/22500 [==========================>...] - ETA: 0s - loss: 0.3788 - acc: 0.8348\n",
      "Epoch 00002: val_loss did not improve\n",
      "22500/22500 [==============================] - 1s 36us/step - loss: 0.3776 - acc: 0.8357 - val_loss: 0.3098 - val_acc: 0.8724\n",
      "Epoch 3/50\n",
      "20992/22500 [==========================>...] - ETA: 0s - loss: 0.3726 - acc: 0.8376\n",
      "Epoch 00003: val_loss did not improve\n",
      "22500/22500 [==============================] - 1s 35us/step - loss: 0.3722 - acc: 0.8380 - val_loss: 0.3090 - val_acc: 0.8728\n",
      "Epoch 4/50\n",
      "22016/22500 [============================>.] - ETA: 0s - loss: 0.3681 - acc: 0.8413\n",
      "Epoch 00004: val_loss did not improve\n",
      "22500/22500 [==============================] - 1s 36us/step - loss: 0.3679 - acc: 0.8414 - val_loss: 0.3090 - val_acc: 0.8728\n",
      "Epoch 5/50\n",
      "20480/22500 [==========================>...] - ETA: 0s - loss: 0.3702 - acc: 0.8382\n",
      "Epoch 00005: val_loss did not improve\n",
      "22500/22500 [==============================] - 1s 35us/step - loss: 0.3709 - acc: 0.8381 - val_loss: 0.3108 - val_acc: 0.8716\n",
      "Epoch 6/50\n",
      "20992/22500 [==========================>...] - ETA: 0s - loss: 0.3760 - acc: 0.8367\n",
      "Epoch 00006: val_loss improved from 0.30841 to 0.30809, saving model to models/keras_model_weights.hdf5\n",
      "22500/22500 [==============================] - 1s 39us/step - loss: 0.3744 - acc: 0.8376 - val_loss: 0.3081 - val_acc: 0.8740\n",
      "Epoch 7/50\n",
      "22016/22500 [============================>.] - ETA: 0s - loss: 0.3729 - acc: 0.8347\n",
      "Epoch 00007: val_loss improved from 0.30809 to 0.30768, saving model to models/keras_model_weights.hdf5\n",
      "22500/22500 [==============================] - 1s 38us/step - loss: 0.3721 - acc: 0.8355 - val_loss: 0.3077 - val_acc: 0.8752\n",
      "Epoch 8/50\n",
      "20992/22500 [==========================>...] - ETA: 0s - loss: 0.3755 - acc: 0.8346\n",
      "Epoch 00008: val_loss did not improve\n",
      "22500/22500 [==============================] - 1s 35us/step - loss: 0.3752 - acc: 0.8351 - val_loss: 0.3098 - val_acc: 0.8724\n",
      "Epoch 9/50\n",
      "20992/22500 [==========================>...] - ETA: 0s - loss: 0.3658 - acc: 0.8436\n",
      "Epoch 00009: val_loss improved from 0.30768 to 0.30626, saving model to models/keras_model_weights.hdf5\n",
      "22500/22500 [==============================] - 1s 38us/step - loss: 0.3658 - acc: 0.8424 - val_loss: 0.3063 - val_acc: 0.8748\n",
      "Epoch 10/50\n",
      "22016/22500 [============================>.] - ETA: 0s - loss: 0.3731 - acc: 0.8362\n",
      "Epoch 00010: val_loss did not improve\n",
      "22500/22500 [==============================] - 1s 36us/step - loss: 0.3731 - acc: 0.8360 - val_loss: 0.3070 - val_acc: 0.8740\n",
      "Epoch 11/50\n",
      "20992/22500 [==========================>...] - ETA: 0s - loss: 0.3733 - acc: 0.8349\n",
      "Epoch 00011: val_loss did not improve\n",
      "22500/22500 [==============================] - 1s 35us/step - loss: 0.3718 - acc: 0.8358 - val_loss: 0.3066 - val_acc: 0.8748\n",
      "Epoch 12/50\n",
      "22016/22500 [============================>.] - ETA: 0s - loss: 0.3701 - acc: 0.8380\n",
      "Epoch 00012: val_loss did not improve\n",
      "22500/22500 [==============================] - 1s 36us/step - loss: 0.3705 - acc: 0.8378 - val_loss: 0.3065 - val_acc: 0.8740\n",
      "Epoch 13/50\n",
      "21504/22500 [===========================>..] - ETA: 0s - loss: 0.3670 - acc: 0.8407\n",
      "Epoch 00013: val_loss did not improve\n",
      "22500/22500 [==============================] - 1s 35us/step - loss: 0.3664 - acc: 0.8411 - val_loss: 0.3081 - val_acc: 0.8728\n",
      "Epoch 14/50\n",
      "20992/22500 [==========================>...] - ETA: 0s - loss: 0.3649 - acc: 0.8416\n",
      "Epoch 00014: val_loss did not improve\n",
      "22500/22500 [==============================] - 1s 35us/step - loss: 0.3650 - acc: 0.8413 - val_loss: 0.3069 - val_acc: 0.8724\n",
      "Epoch 15/50\n",
      "20992/22500 [==========================>...] - ETA: 0s - loss: 0.3614 - acc: 0.8438\n",
      "Epoch 00015: val_loss improved from 0.30626 to 0.30419, saving model to models/keras_model_weights.hdf5\n",
      "22500/22500 [==============================] - 1s 39us/step - loss: 0.3633 - acc: 0.8433 - val_loss: 0.3042 - val_acc: 0.8740\n",
      "Epoch 16/50\n",
      "22016/22500 [============================>.] - ETA: 0s - loss: 0.3694 - acc: 0.8367\n",
      "Epoch 00016: val_loss did not improve\n",
      "22500/22500 [==============================] - 1s 36us/step - loss: 0.3692 - acc: 0.8366 - val_loss: 0.3051 - val_acc: 0.8736\n",
      "Epoch 17/50\n",
      "20480/22500 [==========================>...] - ETA: 0s - loss: 0.3658 - acc: 0.8409\n",
      "Epoch 00017: val_loss did not improve\n",
      "22500/22500 [==============================] - 1s 34us/step - loss: 0.3636 - acc: 0.8424 - val_loss: 0.3064 - val_acc: 0.8720\n",
      "Epoch 18/50\n",
      "21504/22500 [===========================>..] - ETA: 0s - loss: 0.3679 - acc: 0.8369\n",
      "Epoch 00018: val_loss did not improve\n",
      "22500/22500 [==============================] - 1s 35us/step - loss: 0.3678 - acc: 0.8371 - val_loss: 0.3075 - val_acc: 0.8736\n",
      "Epoch 19/50\n",
      "21504/22500 [===========================>..] - ETA: 0s - loss: 0.3657 - acc: 0.8405\n",
      "Epoch 00019: val_loss did not improve\n",
      "22500/22500 [==============================] - 1s 35us/step - loss: 0.3658 - acc: 0.8403 - val_loss: 0.3045 - val_acc: 0.8720\n",
      "Epoch 20/50\n",
      "21504/22500 [===========================>..] - ETA: 0s - loss: 0.3675 - acc: 0.8383\n",
      "Epoch 00020: val_loss improved from 0.30419 to 0.30341, saving model to models/keras_model_weights.hdf5\n",
      "22500/22500 [==============================] - 1s 38us/step - loss: 0.3672 - acc: 0.8384 - val_loss: 0.3034 - val_acc: 0.8732\n",
      "Epoch 21/50\n",
      "22016/22500 [============================>.] - ETA: 0s - loss: 0.3666 - acc: 0.8421\n",
      "Epoch 00021: val_loss did not improve\n",
      "22500/22500 [==============================] - 1s 35us/step - loss: 0.3664 - acc: 0.8420 - val_loss: 0.3076 - val_acc: 0.8740\n",
      "Epoch 22/50\n",
      "22016/22500 [============================>.] - ETA: 0s - loss: 0.3678 - acc: 0.8395\n",
      "Epoch 00022: val_loss improved from 0.30341 to 0.30265, saving model to models/keras_model_weights.hdf5\n",
      "22500/22500 [==============================] - 1s 37us/step - loss: 0.3672 - acc: 0.8398 - val_loss: 0.3027 - val_acc: 0.8748\n",
      "Epoch 23/50\n",
      "20992/22500 [==========================>...] - ETA: 0s - loss: 0.3625 - acc: 0.8427\n",
      "Epoch 00023: val_loss improved from 0.30265 to 0.30262, saving model to models/keras_model_weights.hdf5\n",
      "22500/22500 [==============================] - 1s 38us/step - loss: 0.3623 - acc: 0.8426 - val_loss: 0.3026 - val_acc: 0.8744\n",
      "Epoch 24/50\n",
      "21504/22500 [===========================>..] - ETA: 0s - loss: 0.3593 - acc: 0.8438\n",
      "Epoch 00024: val_loss did not improve\n",
      "22500/22500 [==============================] - 1s 35us/step - loss: 0.3581 - acc: 0.8444 - val_loss: 0.3048 - val_acc: 0.8728\n",
      "Epoch 25/50\n",
      "20992/22500 [==========================>...] - ETA: 0s - loss: 0.3657 - acc: 0.8387\n",
      "Epoch 00025: val_loss did not improve\n",
      "22500/22500 [==============================] - 1s 35us/step - loss: 0.3646 - acc: 0.8400 - val_loss: 0.3038 - val_acc: 0.8732\n",
      "Epoch 26/50\n",
      "20992/22500 [==========================>...] - ETA: 0s - loss: 0.3637 - acc: 0.8439\n",
      "Epoch 00026: val_loss did not improve\n",
      "22500/22500 [==============================] - 1s 35us/step - loss: 0.3652 - acc: 0.8429 - val_loss: 0.3037 - val_acc: 0.8736\n",
      "Epoch 27/50\n",
      "21504/22500 [===========================>..] - ETA: 0s - loss: 0.3617 - acc: 0.8431\n",
      "Epoch 00027: val_loss improved from 0.30262 to 0.30198, saving model to models/keras_model_weights.hdf5\n",
      "22500/22500 [==============================] - 1s 37us/step - loss: 0.3624 - acc: 0.8424 - val_loss: 0.3020 - val_acc: 0.8748\n",
      "Epoch 28/50\n",
      "20992/22500 [==========================>...] - ETA: 0s - loss: 0.3633 - acc: 0.8426\n",
      "Epoch 00028: val_loss did not improve\n",
      "22500/22500 [==============================] - 1s 35us/step - loss: 0.3630 - acc: 0.8428 - val_loss: 0.3028 - val_acc: 0.8736\n",
      "Epoch 29/50\n",
      "21504/22500 [===========================>..] - ETA: 0s - loss: 0.3639 - acc: 0.8424\n",
      "Epoch 00029: val_loss improved from 0.30198 to 0.30129, saving model to models/keras_model_weights.hdf5\n",
      "22500/22500 [==============================] - 1s 37us/step - loss: 0.3640 - acc: 0.8424 - val_loss: 0.3013 - val_acc: 0.8732\n"
     ]
    },
    {
     "name": "stdout",
     "output_type": "stream",
     "text": [
      "Epoch 30/50\n",
      "20992/22500 [==========================>...] - ETA: 0s - loss: 0.3567 - acc: 0.8459\n",
      "Epoch 00030: val_loss did not improve\n",
      "22500/22500 [==============================] - 1s 35us/step - loss: 0.3567 - acc: 0.8457 - val_loss: 0.3040 - val_acc: 0.8748\n",
      "Epoch 31/50\n",
      "22016/22500 [============================>.] - ETA: 0s - loss: 0.3615 - acc: 0.8436\n",
      "Epoch 00031: val_loss did not improve\n",
      "22500/22500 [==============================] - 1s 37us/step - loss: 0.3613 - acc: 0.8433 - val_loss: 0.3028 - val_acc: 0.8752\n",
      "Epoch 32/50\n",
      "22016/22500 [============================>.] - ETA: 0s - loss: 0.3614 - acc: 0.8454\n",
      "Epoch 00032: val_loss did not improve\n",
      "22500/22500 [==============================] - 1s 35us/step - loss: 0.3611 - acc: 0.8456 - val_loss: 0.3038 - val_acc: 0.8736\n",
      "Epoch 33/50\n",
      "22016/22500 [============================>.] - ETA: 0s - loss: 0.3597 - acc: 0.8453\n",
      "Epoch 00033: val_loss did not improve\n",
      "22500/22500 [==============================] - 1s 36us/step - loss: 0.3600 - acc: 0.8452 - val_loss: 0.3018 - val_acc: 0.8744\n",
      "Epoch 34/50\n",
      "22016/22500 [============================>.] - ETA: 0s - loss: 0.3583 - acc: 0.8441\n",
      "Epoch 00034: val_loss improved from 0.30129 to 0.29970, saving model to models/keras_model_weights.hdf5\n",
      "22500/22500 [==============================] - 1s 39us/step - loss: 0.3585 - acc: 0.8442 - val_loss: 0.2997 - val_acc: 0.8748\n",
      "Epoch 35/50\n",
      "22016/22500 [============================>.] - ETA: 0s - loss: 0.3603 - acc: 0.8453\n",
      "Epoch 00035: val_loss did not improve\n",
      "22500/22500 [==============================] - 1s 36us/step - loss: 0.3600 - acc: 0.8458 - val_loss: 0.3047 - val_acc: 0.8720\n",
      "Epoch 36/50\n",
      "22016/22500 [============================>.] - ETA: 0s - loss: 0.3519 - acc: 0.8483\n",
      "Epoch 00036: val_loss did not improve\n",
      "22500/22500 [==============================] - 1s 36us/step - loss: 0.3520 - acc: 0.8484 - val_loss: 0.3024 - val_acc: 0.8744\n",
      "Epoch 37/50\n",
      "20992/22500 [==========================>...] - ETA: 0s - loss: 0.3549 - acc: 0.8459\n",
      "Epoch 00037: val_loss improved from 0.29970 to 0.29859, saving model to models/keras_model_weights.hdf5\n",
      "22500/22500 [==============================] - 1s 38us/step - loss: 0.3543 - acc: 0.8468 - val_loss: 0.2986 - val_acc: 0.8768\n",
      "Epoch 38/50\n",
      "20992/22500 [==========================>...] - ETA: 0s - loss: 0.3515 - acc: 0.8481\n",
      "Epoch 00038: val_loss did not improve\n",
      "22500/22500 [==============================] - 1s 36us/step - loss: 0.3530 - acc: 0.8468 - val_loss: 0.3003 - val_acc: 0.8740\n",
      "Epoch 39/50\n",
      "20992/22500 [==========================>...] - ETA: 0s - loss: 0.3483 - acc: 0.8493\n",
      "Epoch 00039: val_loss improved from 0.29859 to 0.29828, saving model to models/keras_model_weights.hdf5\n",
      "22500/22500 [==============================] - 1s 39us/step - loss: 0.3511 - acc: 0.8479 - val_loss: 0.2983 - val_acc: 0.8752\n",
      "Epoch 40/50\n",
      "21504/22500 [===========================>..] - ETA: 0s - loss: 0.3551 - acc: 0.8431\n",
      "Epoch 00040: val_loss improved from 0.29828 to 0.29654, saving model to models/keras_model_weights.hdf5\n",
      "22500/22500 [==============================] - 1s 38us/step - loss: 0.3545 - acc: 0.8432 - val_loss: 0.2965 - val_acc: 0.8772\n",
      "Epoch 41/50\n",
      "20992/22500 [==========================>...] - ETA: 0s - loss: 0.3518 - acc: 0.8480\n",
      "Epoch 00041: val_loss improved from 0.29654 to 0.29608, saving model to models/keras_model_weights.hdf5\n",
      "22500/22500 [==============================] - 1s 38us/step - loss: 0.3522 - acc: 0.8476 - val_loss: 0.2961 - val_acc: 0.8764\n",
      "Epoch 42/50\n",
      "22016/22500 [============================>.] - ETA: 0s - loss: 0.3552 - acc: 0.8464\n",
      "Epoch 00042: val_loss did not improve\n",
      "22500/22500 [==============================] - 1s 35us/step - loss: 0.3562 - acc: 0.8461 - val_loss: 0.2978 - val_acc: 0.8760\n",
      "Epoch 43/50\n",
      "22016/22500 [============================>.] - ETA: 0s - loss: 0.3517 - acc: 0.8505\n",
      "Epoch 00043: val_loss did not improve\n",
      "22500/22500 [==============================] - 1s 35us/step - loss: 0.3515 - acc: 0.8506 - val_loss: 0.2977 - val_acc: 0.8760\n",
      "Epoch 44/50\n",
      "22016/22500 [============================>.] - ETA: 0s - loss: 0.3517 - acc: 0.8483\n",
      "Epoch 00044: val_loss did not improve\n",
      "22500/22500 [==============================] - 1s 36us/step - loss: 0.3513 - acc: 0.8485 - val_loss: 0.2970 - val_acc: 0.8764\n",
      "Epoch 45/50\n",
      "22016/22500 [============================>.] - ETA: 0s - loss: 0.3500 - acc: 0.8476\n",
      "Epoch 00045: val_loss did not improve\n",
      "22500/22500 [==============================] - 1s 35us/step - loss: 0.3491 - acc: 0.8483 - val_loss: 0.2962 - val_acc: 0.8760\n",
      "Epoch 46/50\n",
      "20992/22500 [==========================>...] - ETA: 0s - loss: 0.3480 - acc: 0.8514\n",
      "Epoch 00046: val_loss improved from 0.29608 to 0.29504, saving model to models/keras_model_weights.hdf5\n",
      "22500/22500 [==============================] - 1s 38us/step - loss: 0.3485 - acc: 0.8513 - val_loss: 0.2950 - val_acc: 0.8784\n",
      "Epoch 47/50\n",
      "21504/22500 [===========================>..] - ETA: 0s - loss: 0.3546 - acc: 0.8468\n",
      "Epoch 00047: val_loss did not improve\n",
      "22500/22500 [==============================] - 1s 35us/step - loss: 0.3537 - acc: 0.8476 - val_loss: 0.2958 - val_acc: 0.8772\n",
      "Epoch 48/50\n",
      "20992/22500 [==========================>...] - ETA: 0s - loss: 0.3499 - acc: 0.8506\n",
      "Epoch 00048: val_loss did not improve\n",
      "22500/22500 [==============================] - 1s 36us/step - loss: 0.3495 - acc: 0.8508 - val_loss: 0.2957 - val_acc: 0.8784\n",
      "Epoch 49/50\n",
      "21504/22500 [===========================>..] - ETA: 0s - loss: 0.3466 - acc: 0.8520\n",
      "Epoch 00049: val_loss did not improve\n",
      "22500/22500 [==============================] - 1s 35us/step - loss: 0.3463 - acc: 0.8523 - val_loss: 0.2978 - val_acc: 0.8764\n",
      "Epoch 50/50\n",
      "21504/22500 [===========================>..] - ETA: 0s - loss: 0.3494 - acc: 0.8483\n",
      "Epoch 00050: val_loss improved from 0.29504 to 0.29462, saving model to models/keras_model_weights.hdf5\n",
      "22500/22500 [==============================] - 1s 37us/step - loss: 0.3499 - acc: 0.8482 - val_loss: 0.2946 - val_acc: 0.8772\n"
     ]
    },
    {
     "data": {
      "text/plain": [
       "<keras.callbacks.History at 0x7fa488dc3908>"
      ]
     },
     "execution_count": 727,
     "metadata": {},
     "output_type": "execute_result"
    }
   ],
   "source": [
    "model.fit(X_train, y_train, batch_size=BATCH_SIZE, epochs=EPOCHS, validation_data=[X_val, y_val], callbacks=callbacks_list)"
   ]
  },
  {
   "cell_type": "code",
   "execution_count": 728,
   "metadata": {},
   "outputs": [
    {
     "data": {
      "text/plain": [
       "<matplotlib.axes._subplots.AxesSubplot at 0x7fa48746c048>"
      ]
     },
     "execution_count": 728,
     "metadata": {},
     "output_type": "execute_result"
    },
    {
     "data": {
      "image/png": "[encoded data removed]",
      "text/plain": [
       "<matplotlib.figure.Figure at 0x7fa487467ba8>"
      ]
     },
     "metadata": {},
     "output_type": "display_data"
    }
   ],
   "source": [
    "pd.DataFrame(model.history.history).plot(figsize=(12,8))"
   ]
  },
  {
   "cell_type": "code",
   "execution_count": 705,
   "metadata": {
    "collapsed": true
   },
   "outputs": [],
   "source": [
    "model = load_model(filepath=FILE_PATH, custom_objects={'AttentionWithContext':AttentionWithContext})"
   ]
  },
  {
   "cell_type": "code",
   "execution_count": 729,
   "metadata": {
    "collapsed": true
   },
   "outputs": [],
   "source": [
    "y_hat = model.predict(X_val)"
   ]
  },
  {
   "cell_type": "code",
   "execution_count": 730,
   "metadata": {},
   "outputs": [
    {
     "name": "stdout",
     "output_type": "stream",
     "text": [
      "0.8772\n",
      "0.951000501915\n",
      "[[1038  190]\n",
      " [ 117 1155]]\n",
      "             precision    recall  f1-score   support\n",
      "\n",
      "          0       0.90      0.85      0.87      1228\n",
      "          1       0.86      0.91      0.88      1272\n",
      "\n",
      "avg / total       0.88      0.88      0.88      2500\n",
      "\n"
     ]
    }
   ],
   "source": [
    "print(accuracy_score(y_val, y_hat > 0.5))\n",
    "print(roc_auc_score(y_val, y_hat))\n",
    "print(confusion_matrix(y_val, y_hat > 0.5))\n",
    "print(classification_report(y_val, y_hat > 0.5))"
   ]
  },
  {
   "cell_type": "markdown",
   "metadata": {},
   "source": [
    "### Helper Functions"
   ]
  },
  {
   "cell_type": "markdown",
   "metadata": {},
   "source": [
    "A lot of the spacy code was pulled from examples: https://github.com/explosion"
   ]
  },
  {
   "cell_type": "code",
   "execution_count": 19,
   "metadata": {
    "collapsed": true
   },
   "outputs": [],
   "source": [
    "nlp = spacy.load('en_core_web_sm')\n",
    "\n",
    "LABELS = {\n",
    "    'ENT': 'ENT',\n",
    "    'PERSON': 'ENT',\n",
    "    'NORP': 'ENT',\n",
    "    'FAC': 'ENT',\n",
    "    'ORG': 'ENT',\n",
    "    'GPE': 'ENT',\n",
    "    'LOC': 'ENT',\n",
    "    'LAW': 'ENT',\n",
    "    'PRODUCT': 'ENT',\n",
    "    'EVENT': 'ENT',\n",
    "    'WORK_OF_ART': 'ENT',\n",
    "    'LANGUAGE': 'ENT',\n",
    "    'DATE': 'DATE',\n",
    "    'TIME': 'TIME',\n",
    "    'PERCENT': 'PERCENT',\n",
    "    'MONEY': 'MONEY',\n",
    "    'QUANTITY': 'QUANTITY',\n",
    "    'ORDINAL': 'ORDINAL',\n",
    "    'CARDINAL': 'CARDINAL'\n",
    "}\n",
    "\n",
    "\n",
    "pre_format_re = re.compile(r'^[\\`\\*\\~]')\n",
    "post_format_re = re.compile(r'[\\`\\*\\~]$')\n",
    "url_re = re.compile(r'\\[([^]]+)\\]\\(%%URL\\)')\n",
    "link_re = re.compile(r'\\[([^]]+)\\]\\(https?://[^\\)]+\\)')\n",
    "\n",
    "\n",
    "def strip_meta(text):\n",
    "    if type(text) == str:\n",
    "        text = link_re.sub(r'\\1', text)\n",
    "        text = text.replace('&gt;', '>').replace('&lt;', '<')\n",
    "        text = pre_format_re.sub('', text)\n",
    "        text = post_format_re.sub('', text)\n",
    "        return text\n",
    "    else:\n",
    "        return ''\n",
    "    \n",
    "\n",
    "def represent_word(word):\n",
    "    if word.like_url:\n",
    "        return '%%URL|X'\n",
    "    text = re.sub(r'\\s', '_', word.text)\n",
    "    tag = LABELS.get(word.ent_type_, word.pos_)\n",
    "    if not tag:\n",
    "        tag = '?'\n",
    "    return text + '|' + tag\n",
    "\n",
    "\n",
    "def merge_clean_sentence(nlp, text, collapse_punctuation=True, collapse_phrases=True):\n",
    "    doc = nlp(text)\n",
    "    if collapse_punctuation:\n",
    "        spans = []\n",
    "        for word in doc[:-1]:\n",
    "            if word.is_punct:\n",
    "                continue\n",
    "            if not word.nbor(1).is_punct:\n",
    "                continue\n",
    "            start = word.i\n",
    "            end = word.i + 1\n",
    "            while end < len(doc) and doc[end].is_punct:\n",
    "                end += 1\n",
    "            span = doc[start : end]\n",
    "            spans.append(\n",
    "                (span.start_char, span.end_char,\n",
    "                 {'tag': word.tag_, 'lemma': word.lemma_, 'ent_type': word.ent_type_})\n",
    "            )\n",
    "        for start, end, attrs in spans:\n",
    "            doc.merge(start, end, **attrs)\n",
    "\n",
    "    if collapse_phrases:\n",
    "        for np in list(doc.noun_chunks):\n",
    "            np.merge(tag=np.root.tag_, lemma=np.root.lemma_, ent_type=np.root.ent_type_)\n",
    "    \n",
    "    return doc\n",
    "\n",
    "\n",
    "def transform_doc(text, MAX_LEN):\n",
    "    d = merge_clean_sentence(nlp, text, collapse_punctuation=False, collapse_phrases=True)\n",
    "    strings = []\n",
    "    for sent in d.sents:\n",
    "        if sent.text.strip():\n",
    "            for w in sent:\n",
    "                if not w.is_space:\n",
    "                    strings.append(represent_word(w))\n",
    "    if strings:\n",
    "        return ' '.join(strings[0:MAX_LEN])\n",
    "    else:\n",
    "        return ' '.join(['' for x in range(MAX_LEN)])"
   ]
  },
  {
   "cell_type": "markdown",
   "metadata": {},
   "source": [
    "Attention adapted from: https://gist.github.com/cbaziotis/6428df359af27d58078ca5ed9792bd6d"
   ]
  },
  {
   "cell_type": "code",
   "execution_count": 20,
   "metadata": {
    "collapsed": true
   },
   "outputs": [],
   "source": [
    "def dot_product(x, kernel):\n",
    "    \"\"\"\n",
    "    Wrapper for dot product operation, in order to be compatible with both\n",
    "    Theano and Tensorflow\n",
    "    Args:\n",
    "        x (): input\n",
    "        kernel (): weights\n",
    "    Returns:\n",
    "    \"\"\"\n",
    "    if K.backend() == 'tensorflow':\n",
    "        return K.squeeze(K.dot(x, K.expand_dims(kernel)), axis=-1)\n",
    "    else:\n",
    "        return K.dot(x, kernel)\n",
    "    \n",
    "\n",
    "class AttentionWithContext(Layer):\n",
    "    \"\"\"\n",
    "    Attention operation, with a context/query vector, for temporal data.\n",
    "    Supports Masking.\n",
    "    Follows the work of Yang et al. [https://www.cs.cmu.edu/~diyiy/docs/naacl16.pdf]\n",
    "    \"Hierarchical Attention Networks for Document Classification\"\n",
    "    by using a context vector to assist the attention\n",
    "    # Input shape\n",
    "        3D tensor with shape: `(samples, steps, features)`.\n",
    "    # Output shape\n",
    "        2D tensor with shape: `(samples, features)`.\n",
    "\n",
    "    How to use:\n",
    "    Just put it on top of an RNN Layer (GRU/LSTM/SimpleRNN) with return_sequences=True.\n",
    "    The dimensions are inferred based on the output shape of the RNN.\n",
    "\n",
    "    Note: The layer has been tested with Keras 2.0.6\n",
    "\n",
    "    Example:\n",
    "        model.add(LSTM(64, return_sequences=True))\n",
    "        model.add(AttentionWithContext())\n",
    "        # next add a Dense layer (for classification/regression) or whatever...\n",
    "    \"\"\"\n",
    "\n",
    "    def __init__(self,\n",
    "                 W_regularizer=None, u_regularizer=None, b_regularizer=None,\n",
    "                 W_constraint=None, u_constraint=None, b_constraint=None,\n",
    "                 bias=True, **kwargs):\n",
    "\n",
    "        self.supports_masking = True\n",
    "        self.init = initializers.get('glorot_uniform')\n",
    "\n",
    "        self.W_regularizer = regularizers.get(W_regularizer)\n",
    "        self.u_regularizer = regularizers.get(u_regularizer)\n",
    "        self.b_regularizer = regularizers.get(b_regularizer)\n",
    "\n",
    "        self.W_constraint = constraints.get(W_constraint)\n",
    "        self.u_constraint = constraints.get(u_constraint)\n",
    "        self.b_constraint = constraints.get(b_constraint)\n",
    "\n",
    "        self.bias = bias\n",
    "        super(AttentionWithContext, self).__init__(**kwargs)\n",
    "\n",
    "    def build(self, input_shape):\n",
    "        assert len(input_shape) == 3\n",
    "\n",
    "        self.W = self.add_weight((input_shape[-1], input_shape[-1],),\n",
    "                                 initializer=self.init,\n",
    "                                 name='{}_W'.format(self.name),\n",
    "                                 regularizer=self.W_regularizer,\n",
    "                                 constraint=self.W_constraint)\n",
    "        if self.bias:\n",
    "            self.b = self.add_weight((input_shape[-1],),\n",
    "                                     initializer='zero',\n",
    "                                     name='{}_b'.format(self.name),\n",
    "                                     regularizer=self.b_regularizer,\n",
    "                                     constraint=self.b_constraint)\n",
    "\n",
    "        self.u = self.add_weight((input_shape[-1],),\n",
    "                                 initializer=self.init,\n",
    "                                 name='{}_u'.format(self.name),\n",
    "                                 regularizer=self.u_regularizer,\n",
    "                                 constraint=self.u_constraint)\n",
    "\n",
    "        super(AttentionWithContext, self).build(input_shape)\n",
    "\n",
    "    def compute_mask(self, input, input_mask=None):\n",
    "        # do not pass the mask to the next layers\n",
    "        return None\n",
    "\n",
    "    def call(self, x, mask=None):\n",
    "        uit = dot_product(x, self.W)\n",
    "\n",
    "        if self.bias:\n",
    "            uit += self.b\n",
    "\n",
    "        uit = K.tanh(uit)\n",
    "        ait = dot_product(uit, self.u)\n",
    "\n",
    "        a = K.exp(ait)\n",
    "\n",
    "        # apply mask after the exp. will be re-normalized next\n",
    "        if mask is not None:\n",
    "            # Cast the mask to floatX to avoid float64 upcasting in theano\n",
    "            a *= K.cast(mask, K.floatx())\n",
    "\n",
    "        # in some cases especially in the early stages of training the sum may be almost zero\n",
    "        # and this results in NaN's. A workaround is to add a very small positive number ε to the sum.\n",
    "        # a /= K.cast(K.sum(a, axis=1, keepdims=True), K.floatx())\n",
    "        a /= K.cast(K.sum(a, axis=1, keepdims=True) + K.epsilon(), K.floatx())\n",
    "\n",
    "        a = K.expand_dims(a)\n",
    "        weighted_input = x * a\n",
    "        return K.sum(weighted_input, axis=1)\n",
    "\n",
    "    def compute_output_shape(self, input_shape):\n",
    "        return input_shape[0], input_shape[-1]"
   ]
  },
  {
   "cell_type": "code",
   "execution_count": null,
   "metadata": {
    "collapsed": true
   },
   "outputs": [],
   "source": []
  }
 ],
 "metadata": {
  "kernelspec": {
   "display_name": "Python 3",
   "language": "python",
   "name": "python3"
  },
  "language_info": {
   "codemirror_mode": {
    "name": "ipython",
    "version": 3
   },
   "file_extension": ".py",
   "mimetype": "text/x-python",
   "name": "python",
   "nbconvert_exporter": "python",
   "pygments_lexer": "ipython3",
   "version": "3.6.3"
  }
 },
 "nbformat": 4,
 "nbformat_minor": 2
}
