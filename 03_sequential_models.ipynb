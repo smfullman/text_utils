{
 "cells": [
  {
   "cell_type": "code",
   "execution_count": 1,
   "metadata": {
    "collapsed": true
   },
   "outputs": [],
   "source": [
    "import numpy as np \n",
    "import pandas as pd\n",
    "import matplotlib.pyplot as plt\n",
    "\n",
    "%matplotlib inline"
   ]
  },
  {
   "cell_type": "code",
   "execution_count": 74,
   "metadata": {
    "collapsed": true
   },
   "outputs": [],
   "source": [
    "from sklearn.model_selection import train_test_split\n",
    "from sklearn.metrics import accuracy_score, confusion_matrix, classification_report"
   ]
  },
  {
   "cell_type": "code",
   "execution_count": 2,
   "metadata": {},
   "outputs": [
    {
     "name": "stderr",
     "output_type": "stream",
     "text": [
      "Using TensorFlow backend.\n"
     ]
    }
   ],
   "source": [
    "from keras.models import Model, load_model\n",
    "from keras import initializers, regularizers, constraints\n",
    "from keras.regularizers import l2\n",
    "from keras.layers import Dense, Embedding, Input, concatenate, Flatten, Layer\n",
    "from keras.layers import LSTM, Bidirectional, GlobalMaxPool1D, Dropout, Conv1D, MaxPool1D, BatchNormalization\n",
    "from keras.preprocessing import text, sequence\n",
    "from keras.callbacks import EarlyStopping, ModelCheckpoint\n",
    "from keras import backend as K"
   ]
  },
  {
   "cell_type": "code",
   "execution_count": 30,
   "metadata": {
    "collapsed": true
   },
   "outputs": [],
   "source": [
    "from IPython.display import SVG\n",
    "from keras.utils.vis_utils import model_to_dot"
   ]
  },
  {
   "cell_type": "code",
   "execution_count": 3,
   "metadata": {
    "collapsed": true
   },
   "outputs": [],
   "source": [
    "from gensim.models import Word2Vec"
   ]
  },
  {
   "cell_type": "code",
   "execution_count": 101,
   "metadata": {
    "collapsed": true
   },
   "outputs": [],
   "source": [
    "import os, re, pickle\n",
    "import spacy\n",
    "from spacy.tokens.doc import Doc"
   ]
  },
  {
   "cell_type": "markdown",
   "metadata": {},
   "source": [
    "### Import Data"
   ]
  },
  {
   "cell_type": "code",
   "execution_count": 4,
   "metadata": {},
   "outputs": [
    {
     "name": "stdout",
     "output_type": "stream",
     "text": [
      "(25000, 3)\n"
     ]
    }
   ],
   "source": [
    "train = pd.read_csv('data/labeledTrainData.tsv', sep='\\t')\n",
    "print(train.shape)"
   ]
  },
  {
   "cell_type": "code",
   "execution_count": 5,
   "metadata": {},
   "outputs": [
    {
     "name": "stdout",
     "output_type": "stream",
     "text": [
      "(25000, 2)\n"
     ]
    }
   ],
   "source": [
    "test = pd.read_csv('data/testData.tsv', sep='\\t')\n",
    "print(test.shape)"
   ]
  },
  {
   "cell_type": "markdown",
   "metadata": {},
   "source": [
    "### Pre-process Data"
   ]
  },
  {
   "cell_type": "code",
   "execution_count": 43,
   "metadata": {
    "collapsed": true
   },
   "outputs": [],
   "source": [
    "MAX_FEATURES = 25000\n",
    "MAX_LEN = 350"
   ]
  },
  {
   "cell_type": "code",
   "execution_count": 44,
   "metadata": {
    "collapsed": true
   },
   "outputs": [],
   "source": [
    "list_sentences_train = train['review'].fillna(\"UNKNOWN\").values.tolist()\n",
    "list_sentences_test = test['review'].fillna(\"UNKNOWN\").values.tolist()"
   ]
  },
  {
   "cell_type": "code",
   "execution_count": 45,
   "metadata": {},
   "outputs": [],
   "source": [
    "tokenizer = text.Tokenizer(num_words=MAX_FEATURES)\n",
    "tokenizer.fit_on_texts(list_sentences_train)"
   ]
  },
  {
   "cell_type": "code",
   "execution_count": 46,
   "metadata": {
    "collapsed": true
   },
   "outputs": [],
   "source": [
    "list_tokenized_train = tokenizer.texts_to_sequences(list_sentences_train)\n",
    "list_tokenized_test = tokenizer.texts_to_sequences(list_sentences_test)"
   ]
  },
  {
   "cell_type": "code",
   "execution_count": 47,
   "metadata": {},
   "outputs": [],
   "source": [
    "X = sequence.pad_sequences(list_tokenized_train, maxlen=MAX_LEN)\n",
    "X_test = sequence.pad_sequences(list_tokenized_test, maxlen=MAX_LEN)"
   ]
  },
  {
   "cell_type": "code",
   "execution_count": 48,
   "metadata": {},
   "outputs": [],
   "source": [
    "y = train['sentiment'].values.reshape(-1,1)"
   ]
  },
  {
   "cell_type": "code",
   "execution_count": 23,
   "metadata": {},
   "outputs": [
    {
     "data": {
      "text/plain": [
       "(25000,)"
      ]
     },
     "execution_count": 23,
     "metadata": {},
     "output_type": "execute_result"
    }
   ],
   "source": [
    "y.shape"
   ]
  },
  {
   "cell_type": "code",
   "execution_count": 49,
   "metadata": {
    "collapsed": true
   },
   "outputs": [],
   "source": [
    "N_CLASSES = 1"
   ]
  },
  {
   "cell_type": "code",
   "execution_count": 50,
   "metadata": {
    "collapsed": true
   },
   "outputs": [],
   "source": [
    "X_train, X_val, y_train, y_val = train_test_split(X, y, test_size=0.1, random_state=42)"
   ]
  },
  {
   "cell_type": "markdown",
   "metadata": {},
   "source": [
    "### Create Model - No External Knowledge"
   ]
  },
  {
   "cell_type": "code",
   "execution_count": 85,
   "metadata": {
    "collapsed": true
   },
   "outputs": [],
   "source": [
    "def create_model():\n",
    "    EMBED_SIZE = 128\n",
    "    input_sequence = Input(shape=(MAX_LEN, ))\n",
    "    x = Embedding(input_dim=MAX_FEATURES, output_dim=EMBED_SIZE)(input_sequence)\n",
    "    x = Dropout(0.1)(x)\n",
    "    x = Conv1D(filters=64, kernel_size=2, padding='same')(x)\n",
    "    x = Bidirectional(LSTM(32,\n",
    "                           return_sequences=True,\n",
    "                           kernel_regularizer=l2(0.0001)))(x)\n",
    "    x = GlobalMaxPool1D()(x)\n",
    "    x = BatchNormalization()(x)\n",
    "    x = Dense(32, activation=\"elu\", kernel_regularizer=l2(0.0001))(x)\n",
    "    prediction = Dense(N_CLASSES, activation=\"sigmoid\")(x)\n",
    "    \n",
    "    model = Model(inputs=input_sequence, outputs=prediction)\n",
    "    model.compile(loss='binary_crossentropy',\n",
    "                  optimizer='adam',\n",
    "                  metrics=['accuracy'])\n",
    "\n",
    "    return model"
   ]
  },
  {
   "cell_type": "code",
   "execution_count": 86,
   "metadata": {},
   "outputs": [],
   "source": [
    "model = create_model()\n",
    "\n",
    "BATCH_SIZE = 512\n",
    "EPOCHS = 4"
   ]
  },
  {
   "cell_type": "code",
   "execution_count": 87,
   "metadata": {
    "collapsed": true
   },
   "outputs": [],
   "source": [
    "FILE_PATH = \"models/keras_model_weights.hdf5\"\n",
    "checkpoint = ModelCheckpoint(FILE_PATH, monitor='val_loss', verbose=1, save_best_only=True, mode='min')\n",
    "early = EarlyStopping(monitor=\"val_loss\", mode=\"min\", patience=5)\n",
    "callbacks_list = [checkpoint, early]"
   ]
  },
  {
   "cell_type": "code",
   "execution_count": 88,
   "metadata": {},
   "outputs": [
    {
     "name": "stdout",
     "output_type": "stream",
     "text": [
      "_________________________________________________________________\n",
      "Layer (type)                 Output Shape              Param #   \n",
      "=================================================================\n",
      "input_9 (InputLayer)         (None, 350)               0         \n",
      "_________________________________________________________________\n",
      "embedding_9 (Embedding)      (None, 350, 128)          3200000   \n",
      "_________________________________________________________________\n",
      "dropout_7 (Dropout)          (None, 350, 128)          0         \n",
      "_________________________________________________________________\n",
      "conv1d_3 (Conv1D)            (None, 350, 64)           16448     \n",
      "_________________________________________________________________\n",
      "bidirectional_9 (Bidirection (None, 350, 64)           24832     \n",
      "_________________________________________________________________\n",
      "global_max_pooling1d_4 (Glob (None, 64)                0         \n",
      "_________________________________________________________________\n",
      "batch_normalization_9 (Batch (None, 64)                256       \n",
      "_________________________________________________________________\n",
      "dense_17 (Dense)             (None, 32)                2080      \n",
      "_________________________________________________________________\n",
      "dense_18 (Dense)             (None, 1)                 33        \n",
      "=================================================================\n",
      "Total params: 3,243,649\n",
      "Trainable params: 3,243,521\n",
      "Non-trainable params: 128\n",
      "_________________________________________________________________\n"
     ]
    }
   ],
   "source": [
    "model.summary()"
   ]
  },
  {
   "cell_type": "code",
   "execution_count": 89,
   "metadata": {},
   "outputs": [
    {
     "data": {
      "image/svg+xml": [
       "<svg height=\"719pt\" viewBox=\"0.00 0.00 554.00 719.00\" width=\"554pt\" xmlns=\"http://www.w3.org/2000/svg\" xmlns:xlink=\"http://www.w3.org/1999/xlink\">\n",
       "<g class=\"graph\" id=\"graph0\" transform=\"scale(1 1) rotate(0) translate(4 715)\">\n",
       "<title>G</title>\n",
       "<polygon fill=\"#ffffff\" points=\"-4,4 -4,-715 550,-715 550,4 -4,4\" stroke=\"transparent\"/>\n",
       "<!-- 139874067652736 -->\n",
       "<g class=\"node\" id=\"node1\">\n",
       "<title>139874067652736</title>\n",
       "<polygon fill=\"none\" points=\"108.5,-664.5 108.5,-710.5 437.5,-710.5 437.5,-664.5 108.5,-664.5\" stroke=\"#000000\"/>\n",
       "<text fill=\"#000000\" font-family=\"Times,serif\" font-size=\"14.00\" text-anchor=\"middle\" x=\"188.5\" y=\"-683.8\">input_9: InputLayer</text>\n",
       "<polyline fill=\"none\" points=\"268.5,-664.5 268.5,-710.5 \" stroke=\"#000000\"/>\n",
       "<text fill=\"#000000\" font-family=\"Times,serif\" font-size=\"14.00\" text-anchor=\"middle\" x=\"302.5\" y=\"-695.3\">input:</text>\n",
       "<polyline fill=\"none\" points=\"268.5,-687.5 336.5,-687.5 \" stroke=\"#000000\"/>\n",
       "<text fill=\"#000000\" font-family=\"Times,serif\" font-size=\"14.00\" text-anchor=\"middle\" x=\"302.5\" y=\"-672.3\">output:</text>\n",
       "<polyline fill=\"none\" points=\"336.5,-664.5 336.5,-710.5 \" stroke=\"#000000\"/>\n",
       "<text fill=\"#000000\" font-family=\"Times,serif\" font-size=\"14.00\" text-anchor=\"middle\" x=\"387\" y=\"-695.3\">(None, 350)</text>\n",
       "<polyline fill=\"none\" points=\"336.5,-687.5 437.5,-687.5 \" stroke=\"#000000\"/>\n",
       "<text fill=\"#000000\" font-family=\"Times,serif\" font-size=\"14.00\" text-anchor=\"middle\" x=\"387\" y=\"-672.3\">(None, 350)</text>\n",
       "</g>\n",
       "<!-- 139874067653296 -->\n",
       "<g class=\"node\" id=\"node2\">\n",
       "<title>139874067653296</title>\n",
       "<polygon fill=\"none\" points=\"69,-581.5 69,-627.5 477,-627.5 477,-581.5 69,-581.5\" stroke=\"#000000\"/>\n",
       "<text fill=\"#000000\" font-family=\"Times,serif\" font-size=\"14.00\" text-anchor=\"middle\" x=\"170.5\" y=\"-600.8\">embedding_9: Embedding</text>\n",
       "<polyline fill=\"none\" points=\"272,-581.5 272,-627.5 \" stroke=\"#000000\"/>\n",
       "<text fill=\"#000000\" font-family=\"Times,serif\" font-size=\"14.00\" text-anchor=\"middle\" x=\"306\" y=\"-612.3\">input:</text>\n",
       "<polyline fill=\"none\" points=\"272,-604.5 340,-604.5 \" stroke=\"#000000\"/>\n",
       "<text fill=\"#000000\" font-family=\"Times,serif\" font-size=\"14.00\" text-anchor=\"middle\" x=\"306\" y=\"-589.3\">output:</text>\n",
       "<polyline fill=\"none\" points=\"340,-581.5 340,-627.5 \" stroke=\"#000000\"/>\n",
       "<text fill=\"#000000\" font-family=\"Times,serif\" font-size=\"14.00\" text-anchor=\"middle\" x=\"408.5\" y=\"-612.3\">(None, 350)</text>\n",
       "<polyline fill=\"none\" points=\"340,-604.5 477,-604.5 \" stroke=\"#000000\"/>\n",
       "<text fill=\"#000000\" font-family=\"Times,serif\" font-size=\"14.00\" text-anchor=\"middle\" x=\"408.5\" y=\"-589.3\">(None, 350, 128)</text>\n",
       "</g>\n",
       "<!-- 139874067652736&#45;&gt;139874067653296 -->\n",
       "<g class=\"edge\" id=\"edge1\">\n",
       "<title>139874067652736-&gt;139874067653296</title>\n",
       "<path d=\"M273,-664.3799C273,-656.1745 273,-646.7679 273,-637.8786\" fill=\"none\" stroke=\"#000000\"/>\n",
       "<polygon fill=\"#000000\" points=\"276.5001,-637.784 273,-627.784 269.5001,-637.784 276.5001,-637.784\" stroke=\"#000000\"/>\n",
       "</g>\n",
       "<!-- 139874067594152 -->\n",
       "<g class=\"node\" id=\"node3\">\n",
       "<title>139874067594152</title>\n",
       "<polygon fill=\"none\" points=\"92,-498.5 92,-544.5 454,-544.5 454,-498.5 92,-498.5\" stroke=\"#000000\"/>\n",
       "<text fill=\"#000000\" font-family=\"Times,serif\" font-size=\"14.00\" text-anchor=\"middle\" x=\"170.5\" y=\"-517.8\">dropout_7: Dropout</text>\n",
       "<polyline fill=\"none\" points=\"249,-498.5 249,-544.5 \" stroke=\"#000000\"/>\n",
       "<text fill=\"#000000\" font-family=\"Times,serif\" font-size=\"14.00\" text-anchor=\"middle\" x=\"283\" y=\"-529.3\">input:</text>\n",
       "<polyline fill=\"none\" points=\"249,-521.5 317,-521.5 \" stroke=\"#000000\"/>\n",
       "<text fill=\"#000000\" font-family=\"Times,serif\" font-size=\"14.00\" text-anchor=\"middle\" x=\"283\" y=\"-506.3\">output:</text>\n",
       "<polyline fill=\"none\" points=\"317,-498.5 317,-544.5 \" stroke=\"#000000\"/>\n",
       "<text fill=\"#000000\" font-family=\"Times,serif\" font-size=\"14.00\" text-anchor=\"middle\" x=\"385.5\" y=\"-529.3\">(None, 350, 128)</text>\n",
       "<polyline fill=\"none\" points=\"317,-521.5 454,-521.5 \" stroke=\"#000000\"/>\n",
       "<text fill=\"#000000\" font-family=\"Times,serif\" font-size=\"14.00\" text-anchor=\"middle\" x=\"385.5\" y=\"-506.3\">(None, 350, 128)</text>\n",
       "</g>\n",
       "<!-- 139874067653296&#45;&gt;139874067594152 -->\n",
       "<g class=\"edge\" id=\"edge2\">\n",
       "<title>139874067653296-&gt;139874067594152</title>\n",
       "<path d=\"M273,-581.3799C273,-573.1745 273,-563.7679 273,-554.8786\" fill=\"none\" stroke=\"#000000\"/>\n",
       "<polygon fill=\"#000000\" points=\"276.5001,-554.784 273,-544.784 269.5001,-554.784 276.5001,-554.784\" stroke=\"#000000\"/>\n",
       "</g>\n",
       "<!-- 139874067593368 -->\n",
       "<g class=\"node\" id=\"node4\">\n",
       "<title>139874067593368</title>\n",
       "<polygon fill=\"none\" points=\"95,-415.5 95,-461.5 451,-461.5 451,-415.5 95,-415.5\" stroke=\"#000000\"/>\n",
       "<text fill=\"#000000\" font-family=\"Times,serif\" font-size=\"14.00\" text-anchor=\"middle\" x=\"170.5\" y=\"-434.8\">conv1d_3: Conv1D</text>\n",
       "<polyline fill=\"none\" points=\"246,-415.5 246,-461.5 \" stroke=\"#000000\"/>\n",
       "<text fill=\"#000000\" font-family=\"Times,serif\" font-size=\"14.00\" text-anchor=\"middle\" x=\"280\" y=\"-446.3\">input:</text>\n",
       "<polyline fill=\"none\" points=\"246,-438.5 314,-438.5 \" stroke=\"#000000\"/>\n",
       "<text fill=\"#000000\" font-family=\"Times,serif\" font-size=\"14.00\" text-anchor=\"middle\" x=\"280\" y=\"-423.3\">output:</text>\n",
       "<polyline fill=\"none\" points=\"314,-415.5 314,-461.5 \" stroke=\"#000000\"/>\n",
       "<text fill=\"#000000\" font-family=\"Times,serif\" font-size=\"14.00\" text-anchor=\"middle\" x=\"382.5\" y=\"-446.3\">(None, 350, 128)</text>\n",
       "<polyline fill=\"none\" points=\"314,-438.5 451,-438.5 \" stroke=\"#000000\"/>\n",
       "<text fill=\"#000000\" font-family=\"Times,serif\" font-size=\"14.00\" text-anchor=\"middle\" x=\"382.5\" y=\"-423.3\">(None, 350, 64)</text>\n",
       "</g>\n",
       "<!-- 139874067594152&#45;&gt;139874067593368 -->\n",
       "<g class=\"edge\" id=\"edge3\">\n",
       "<title>139874067594152-&gt;139874067593368</title>\n",
       "<path d=\"M273,-498.3799C273,-490.1745 273,-480.7679 273,-471.8786\" fill=\"none\" stroke=\"#000000\"/>\n",
       "<polygon fill=\"#000000\" points=\"276.5001,-471.784 273,-461.784 269.5001,-471.784 276.5001,-471.784\" stroke=\"#000000\"/>\n",
       "</g>\n",
       "<!-- 139874067065432 -->\n",
       "<g class=\"node\" id=\"node5\">\n",
       "<title>139874067065432</title>\n",
       "<polygon fill=\"none\" points=\"6,-332.5 6,-378.5 540,-378.5 540,-332.5 6,-332.5\" stroke=\"#000000\"/>\n",
       "<text fill=\"#000000\" font-family=\"Times,serif\" font-size=\"14.00\" text-anchor=\"middle\" x=\"175\" y=\"-351.8\">bidirectional_9(lstm_9): Bidirectional(LSTM)</text>\n",
       "<polyline fill=\"none\" points=\"344,-332.5 344,-378.5 \" stroke=\"#000000\"/>\n",
       "<text fill=\"#000000\" font-family=\"Times,serif\" font-size=\"14.00\" text-anchor=\"middle\" x=\"378\" y=\"-363.3\">input:</text>\n",
       "<polyline fill=\"none\" points=\"344,-355.5 412,-355.5 \" stroke=\"#000000\"/>\n",
       "<text fill=\"#000000\" font-family=\"Times,serif\" font-size=\"14.00\" text-anchor=\"middle\" x=\"378\" y=\"-340.3\">output:</text>\n",
       "<polyline fill=\"none\" points=\"412,-332.5 412,-378.5 \" stroke=\"#000000\"/>\n",
       "<text fill=\"#000000\" font-family=\"Times,serif\" font-size=\"14.00\" text-anchor=\"middle\" x=\"476\" y=\"-363.3\">(None, 350, 64)</text>\n",
       "<polyline fill=\"none\" points=\"412,-355.5 540,-355.5 \" stroke=\"#000000\"/>\n",
       "<text fill=\"#000000\" font-family=\"Times,serif\" font-size=\"14.00\" text-anchor=\"middle\" x=\"476\" y=\"-340.3\">(None, 350, 64)</text>\n",
       "</g>\n",
       "<!-- 139874067593368&#45;&gt;139874067065432 -->\n",
       "<g class=\"edge\" id=\"edge4\">\n",
       "<title>139874067593368-&gt;139874067065432</title>\n",
       "<path d=\"M273,-415.3799C273,-407.1745 273,-397.7679 273,-388.8786\" fill=\"none\" stroke=\"#000000\"/>\n",
       "<polygon fill=\"#000000\" points=\"276.5001,-388.784 273,-378.784 269.5001,-388.784 276.5001,-388.784\" stroke=\"#000000\"/>\n",
       "</g>\n",
       "<!-- 139874067065824 -->\n",
       "<g class=\"node\" id=\"node6\">\n",
       "<title>139874067065824</title>\n",
       "<polygon fill=\"none\" points=\"0,-249.5 0,-295.5 546,-295.5 546,-249.5 0,-249.5\" stroke=\"#000000\"/>\n",
       "<text fill=\"#000000\" font-family=\"Times,serif\" font-size=\"14.00\" text-anchor=\"middle\" x=\"175\" y=\"-268.8\">global_max_pooling1d_4: GlobalMaxPooling1D</text>\n",
       "<polyline fill=\"none\" points=\"350,-249.5 350,-295.5 \" stroke=\"#000000\"/>\n",
       "<text fill=\"#000000\" font-family=\"Times,serif\" font-size=\"14.00\" text-anchor=\"middle\" x=\"384\" y=\"-280.3\">input:</text>\n",
       "<polyline fill=\"none\" points=\"350,-272.5 418,-272.5 \" stroke=\"#000000\"/>\n",
       "<text fill=\"#000000\" font-family=\"Times,serif\" font-size=\"14.00\" text-anchor=\"middle\" x=\"384\" y=\"-257.3\">output:</text>\n",
       "<polyline fill=\"none\" points=\"418,-249.5 418,-295.5 \" stroke=\"#000000\"/>\n",
       "<text fill=\"#000000\" font-family=\"Times,serif\" font-size=\"14.00\" text-anchor=\"middle\" x=\"482\" y=\"-280.3\">(None, 350, 64)</text>\n",
       "<polyline fill=\"none\" points=\"418,-272.5 546,-272.5 \" stroke=\"#000000\"/>\n",
       "<text fill=\"#000000\" font-family=\"Times,serif\" font-size=\"14.00\" text-anchor=\"middle\" x=\"482\" y=\"-257.3\">(None, 64)</text>\n",
       "</g>\n",
       "<!-- 139874067065432&#45;&gt;139874067065824 -->\n",
       "<g class=\"edge\" id=\"edge5\">\n",
       "<title>139874067065432-&gt;139874067065824</title>\n",
       "<path d=\"M273,-332.3799C273,-324.1745 273,-314.7679 273,-305.8786\" fill=\"none\" stroke=\"#000000\"/>\n",
       "<polygon fill=\"#000000\" points=\"276.5001,-305.784 273,-295.784 269.5001,-305.784 276.5001,-305.784\" stroke=\"#000000\"/>\n",
       "</g>\n",
       "<!-- 139874067065880 -->\n",
       "<g class=\"node\" id=\"node7\">\n",
       "<title>139874067065880</title>\n",
       "<polygon fill=\"none\" points=\"27,-166.5 27,-212.5 519,-212.5 519,-166.5 27,-166.5\" stroke=\"#000000\"/>\n",
       "<text fill=\"#000000\" font-family=\"Times,serif\" font-size=\"14.00\" text-anchor=\"middle\" x=\"193\" y=\"-185.8\">batch_normalization_9: BatchNormalization</text>\n",
       "<polyline fill=\"none\" points=\"359,-166.5 359,-212.5 \" stroke=\"#000000\"/>\n",
       "<text fill=\"#000000\" font-family=\"Times,serif\" font-size=\"14.00\" text-anchor=\"middle\" x=\"393\" y=\"-197.3\">input:</text>\n",
       "<polyline fill=\"none\" points=\"359,-189.5 427,-189.5 \" stroke=\"#000000\"/>\n",
       "<text fill=\"#000000\" font-family=\"Times,serif\" font-size=\"14.00\" text-anchor=\"middle\" x=\"393\" y=\"-174.3\">output:</text>\n",
       "<polyline fill=\"none\" points=\"427,-166.5 427,-212.5 \" stroke=\"#000000\"/>\n",
       "<text fill=\"#000000\" font-family=\"Times,serif\" font-size=\"14.00\" text-anchor=\"middle\" x=\"473\" y=\"-197.3\">(None, 64)</text>\n",
       "<polyline fill=\"none\" points=\"427,-189.5 519,-189.5 \" stroke=\"#000000\"/>\n",
       "<text fill=\"#000000\" font-family=\"Times,serif\" font-size=\"14.00\" text-anchor=\"middle\" x=\"473\" y=\"-174.3\">(None, 64)</text>\n",
       "</g>\n",
       "<!-- 139874067065824&#45;&gt;139874067065880 -->\n",
       "<g class=\"edge\" id=\"edge6\">\n",
       "<title>139874067065824-&gt;139874067065880</title>\n",
       "<path d=\"M273,-249.3799C273,-241.1745 273,-231.7679 273,-222.8786\" fill=\"none\" stroke=\"#000000\"/>\n",
       "<polygon fill=\"#000000\" points=\"276.5001,-222.784 273,-212.784 269.5001,-222.784 276.5001,-222.784\" stroke=\"#000000\"/>\n",
       "</g>\n",
       "<!-- 139874081632832 -->\n",
       "<g class=\"node\" id=\"node8\">\n",
       "<title>139874081632832</title>\n",
       "<polygon fill=\"none\" points=\"124.5,-83.5 124.5,-129.5 421.5,-129.5 421.5,-83.5 124.5,-83.5\" stroke=\"#000000\"/>\n",
       "<text fill=\"#000000\" font-family=\"Times,serif\" font-size=\"14.00\" text-anchor=\"middle\" x=\"193\" y=\"-102.8\">dense_17: Dense</text>\n",
       "<polyline fill=\"none\" points=\"261.5,-83.5 261.5,-129.5 \" stroke=\"#000000\"/>\n",
       "<text fill=\"#000000\" font-family=\"Times,serif\" font-size=\"14.00\" text-anchor=\"middle\" x=\"295.5\" y=\"-114.3\">input:</text>\n",
       "<polyline fill=\"none\" points=\"261.5,-106.5 329.5,-106.5 \" stroke=\"#000000\"/>\n",
       "<text fill=\"#000000\" font-family=\"Times,serif\" font-size=\"14.00\" text-anchor=\"middle\" x=\"295.5\" y=\"-91.3\">output:</text>\n",
       "<polyline fill=\"none\" points=\"329.5,-83.5 329.5,-129.5 \" stroke=\"#000000\"/>\n",
       "<text fill=\"#000000\" font-family=\"Times,serif\" font-size=\"14.00\" text-anchor=\"middle\" x=\"375.5\" y=\"-114.3\">(None, 64)</text>\n",
       "<polyline fill=\"none\" points=\"329.5,-106.5 421.5,-106.5 \" stroke=\"#000000\"/>\n",
       "<text fill=\"#000000\" font-family=\"Times,serif\" font-size=\"14.00\" text-anchor=\"middle\" x=\"375.5\" y=\"-91.3\">(None, 32)</text>\n",
       "</g>\n",
       "<!-- 139874067065880&#45;&gt;139874081632832 -->\n",
       "<g class=\"edge\" id=\"edge7\">\n",
       "<title>139874067065880-&gt;139874081632832</title>\n",
       "<path d=\"M273,-166.3799C273,-158.1745 273,-148.7679 273,-139.8786\" fill=\"none\" stroke=\"#000000\"/>\n",
       "<polygon fill=\"#000000\" points=\"276.5001,-139.784 273,-129.784 269.5001,-139.784 276.5001,-139.784\" stroke=\"#000000\"/>\n",
       "</g>\n",
       "<!-- 139874094442480 -->\n",
       "<g class=\"node\" id=\"node9\">\n",
       "<title>139874094442480</title>\n",
       "<polygon fill=\"none\" points=\"124.5,-.5 124.5,-46.5 421.5,-46.5 421.5,-.5 124.5,-.5\" stroke=\"#000000\"/>\n",
       "<text fill=\"#000000\" font-family=\"Times,serif\" font-size=\"14.00\" text-anchor=\"middle\" x=\"193\" y=\"-19.8\">dense_18: Dense</text>\n",
       "<polyline fill=\"none\" points=\"261.5,-.5 261.5,-46.5 \" stroke=\"#000000\"/>\n",
       "<text fill=\"#000000\" font-family=\"Times,serif\" font-size=\"14.00\" text-anchor=\"middle\" x=\"295.5\" y=\"-31.3\">input:</text>\n",
       "<polyline fill=\"none\" points=\"261.5,-23.5 329.5,-23.5 \" stroke=\"#000000\"/>\n",
       "<text fill=\"#000000\" font-family=\"Times,serif\" font-size=\"14.00\" text-anchor=\"middle\" x=\"295.5\" y=\"-8.3\">output:</text>\n",
       "<polyline fill=\"none\" points=\"329.5,-.5 329.5,-46.5 \" stroke=\"#000000\"/>\n",
       "<text fill=\"#000000\" font-family=\"Times,serif\" font-size=\"14.00\" text-anchor=\"middle\" x=\"375.5\" y=\"-31.3\">(None, 32)</text>\n",
       "<polyline fill=\"none\" points=\"329.5,-23.5 421.5,-23.5 \" stroke=\"#000000\"/>\n",
       "<text fill=\"#000000\" font-family=\"Times,serif\" font-size=\"14.00\" text-anchor=\"middle\" x=\"375.5\" y=\"-8.3\">(None, 1)</text>\n",
       "</g>\n",
       "<!-- 139874081632832&#45;&gt;139874094442480 -->\n",
       "<g class=\"edge\" id=\"edge8\">\n",
       "<title>139874081632832-&gt;139874094442480</title>\n",
       "<path d=\"M273,-83.3799C273,-75.1745 273,-65.7679 273,-56.8786\" fill=\"none\" stroke=\"#000000\"/>\n",
       "<polygon fill=\"#000000\" points=\"276.5001,-56.784 273,-46.784 269.5001,-56.784 276.5001,-56.784\" stroke=\"#000000\"/>\n",
       "</g>\n",
       "</g>\n",
       "</svg>"
      ],
      "text/plain": [
       "<IPython.core.display.SVG object>"
      ]
     },
     "execution_count": 89,
     "metadata": {},
     "output_type": "execute_result"
    }
   ],
   "source": [
    "SVG(model_to_dot(model, show_shapes=True).create(prog='dot', format='svg'))"
   ]
  },
  {
   "cell_type": "code",
   "execution_count": 90,
   "metadata": {},
   "outputs": [
    {
     "name": "stdout",
     "output_type": "stream",
     "text": [
      "Train on 22500 samples, validate on 2500 samples\n",
      "Epoch 1/4\n",
      "22016/22500 [============================>.] - ETA: 0s - loss: 0.4677 - acc: 0.7769\n",
      "Epoch 00001: val_loss improved from inf to 0.29211, saving model to models/keras_model_weights.hdf5\n",
      "22500/22500 [==============================] - 47s 2ms/step - loss: 0.4642 - acc: 0.7791 - val_loss: 0.2921 - val_acc: 0.8828\n",
      "Epoch 2/4\n",
      "22016/22500 [============================>.] - ETA: 0s - loss: 0.1801 - acc: 0.9362\n",
      "Epoch 00002: val_loss did not improve\n",
      "22500/22500 [==============================] - 42s 2ms/step - loss: 0.1797 - acc: 0.9363 - val_loss: 0.3848 - val_acc: 0.8436\n",
      "Epoch 3/4\n",
      "22016/22500 [============================>.] - ETA: 0s - loss: 0.0683 - acc: 0.9836\n",
      "Epoch 00003: val_loss did not improve\n",
      "22500/22500 [==============================] - 42s 2ms/step - loss: 0.0686 - acc: 0.9834 - val_loss: 0.2938 - val_acc: 0.8912\n",
      "Epoch 4/4\n",
      "22016/22500 [============================>.] - ETA: 0s - loss: 0.0263 - acc: 0.9964\n",
      "Epoch 00004: val_loss did not improve\n",
      "22500/22500 [==============================] - 42s 2ms/step - loss: 0.0261 - acc: 0.9964 - val_loss: 0.4605 - val_acc: 0.8732\n"
     ]
    },
    {
     "data": {
      "text/plain": [
       "<keras.callbacks.History at 0x7f36f3c18dd8>"
      ]
     },
     "execution_count": 90,
     "metadata": {},
     "output_type": "execute_result"
    }
   ],
   "source": [
    "model.fit(X_train, y_train, batch_size=BATCH_SIZE, epochs=EPOCHS, validation_data=[X_val, y_val], callbacks=callbacks_list)"
   ]
  },
  {
   "cell_type": "code",
   "execution_count": 91,
   "metadata": {
    "collapsed": true
   },
   "outputs": [],
   "source": [
    "model = load_model(filepath=FILE_PATH)"
   ]
  },
  {
   "cell_type": "code",
   "execution_count": 92,
   "metadata": {
    "collapsed": true
   },
   "outputs": [],
   "source": [
    "y_val_hat = model.predict(X_val)"
   ]
  },
  {
   "cell_type": "code",
   "execution_count": 93,
   "metadata": {},
   "outputs": [
    {
     "name": "stdout",
     "output_type": "stream",
     "text": [
      "0.8828\n",
      "[[1022  206]\n",
      " [  87 1185]]\n",
      "             precision    recall  f1-score   support\n",
      "\n",
      "          0       0.92      0.83      0.87      1228\n",
      "          1       0.85      0.93      0.89      1272\n",
      "\n",
      "avg / total       0.89      0.88      0.88      2500\n",
      "\n"
     ]
    }
   ],
   "source": [
    "print(accuracy_score(y_val, y_val_hat > 0.5))\n",
    "print(confusion_matrix(y_val, y_val_hat > 0.5))\n",
    "print(classification_report(y_val, y_val_hat > 0.5))"
   ]
  },
  {
   "cell_type": "markdown",
   "metadata": {},
   "source": [
    "Useful tutorials:\n",
    "* http://konukoii.com/blog/2018/02/19/twitter-sentiment-analysis-using-combined-lstm-cnn-models/"
   ]
  },
  {
   "cell_type": "markdown",
   "metadata": {},
   "source": [
    "### Create Model - Use Pretrained Embeddings, PoS Parsing"
   ]
  },
  {
   "cell_type": "markdown",
   "metadata": {},
   "source": [
    "#### Prep Data"
   ]
  },
  {
   "cell_type": "code",
   "execution_count": 139,
   "metadata": {
    "collapsed": true
   },
   "outputs": [],
   "source": [
    "MAX_FEATURES = 65000\n",
    "MAX_LEN = 350"
   ]
  },
  {
   "cell_type": "code",
   "execution_count": 99,
   "metadata": {
    "collapsed": true
   },
   "outputs": [],
   "source": [
    "list_sentences_train = train['review'].fillna(\"UNKNOWN\").values.tolist()\n",
    "list_sentences_test = test['review'].fillna(\"UNKNOWN\").values.tolist()"
   ]
  },
  {
   "cell_type": "code",
   "execution_count": 100,
   "metadata": {
    "collapsed": true
   },
   "outputs": [],
   "source": [
    "list_sentences_train_parsed = [transform_doc(x, MAX_LEN=1000) for x in list_sentences_train]\n",
    "list_sentences_test_parsed = [transform_doc(x, MAX_LEN=1000) for x in list_sentences_test]"
   ]
  },
  {
   "cell_type": "code",
   "execution_count": 102,
   "metadata": {
    "collapsed": true
   },
   "outputs": [],
   "source": [
    "with open('data/list_sentences_train_parsed.pkl', 'wb') as f:\n",
    "    pickle.dump(list_sentences_train_parsed, f)\n",
    "    \n",
    "with open('data/list_sentences_test_parsed.pkl', 'wb') as f:\n",
    "    pickle.dump(list_sentences_test_parsed, f)"
   ]
  },
  {
   "cell_type": "code",
   "execution_count": 140,
   "metadata": {
    "collapsed": true
   },
   "outputs": [],
   "source": [
    "tokenizer = text.Tokenizer(num_words=MAX_FEATURES, filters='!\"#$%&()*+,-/:;<=>?@[\\\\]^`{}~\\t\\n', lower=False)\n",
    "tokenizer.fit_on_texts(list_sentences_train_parsed)"
   ]
  },
  {
   "cell_type": "code",
   "execution_count": 141,
   "metadata": {
    "collapsed": true
   },
   "outputs": [],
   "source": [
    "list_tokenized_train = tokenizer.texts_to_sequences(list_sentences_train_parsed)\n",
    "list_tokenized_test = tokenizer.texts_to_sequences(list_sentences_test_parsed)"
   ]
  },
  {
   "cell_type": "code",
   "execution_count": 142,
   "metadata": {},
   "outputs": [],
   "source": [
    "X_train = sequence.pad_sequences(list_tokenized_train, maxlen=MAX_LEN)\n",
    "X_test = sequence.pad_sequences(list_tokenized_test, maxlen=MAX_LEN)"
   ]
  },
  {
   "cell_type": "code",
   "execution_count": 154,
   "metadata": {},
   "outputs": [],
   "source": [
    "y = train['sentiment'].values.reshape(-1,1)"
   ]
  },
  {
   "cell_type": "code",
   "execution_count": 155,
   "metadata": {
    "collapsed": true
   },
   "outputs": [],
   "source": [
    "X_train, X_val, y_train, y_val = train_test_split(X, y, test_size=0.1, random_state=42)"
   ]
  },
  {
   "cell_type": "markdown",
   "metadata": {},
   "source": [
    "#### Inspect"
   ]
  },
  {
   "cell_type": "code",
   "execution_count": 143,
   "metadata": {},
   "outputs": [
    {
     "data": {
      "text/plain": [
       "\"With|ADP all_this_stuff|NOUN going|VERB down|PART at|ADP the_moment|NOUN with|ADP MJ|ENT i|PRON 've|VERB started|VERB listening|VERB to|ADP his_music|NOUN ,|PUNCT watching|VERB the_odd_documentary|NOUN here|ADV and|CCONJ there|ADV ,|PUNCT watched|VERB The_Wiz|PROPN and|CCONJ watched|VERB Moonwalker|ENT again|ADV .|PUNCT Maybe|ADV i|PRON just|ADV want|VERB to|PART get|VERB a_certain_insight|NOUN into|ADP this_guy|NOUN who|NOUN i|PRON thought|VERB was|VERB really|ADV cool|ADJ in|ADP the_eighties|DATE just|ADV to|PART maybe|ADV make|VERB up|PART my_mind|NOUN whether|ADP he|PRON is|VERB guilty|ADJ or|CCONJ innocent|ADJ .|PUNCT Moonwalker|ENT is|VERB part_biography|NOUN ,|PUNCT part_feature_film|NOUN which|ADJ i|PRON remember|VERB going|VERB to|PART see|VERB at|ADP the_cinema|NOUN when|ADV it|PRON was|VERB originally|ADV released|VERB .|PUNCT Some|DET of|ADP it|PRON has|VERB subtle_messages|NOUN about|ADP MJ's_feeling|NOUN towards|ADP the_press|NOUN and|CCONJ also|ADV the_obvious_message|NOUN of|ADP drugs|NOUN are|VERB bad_m'kay.<br|NOUN /><br|SYM />Visually|ADV impressive|ADJ but|CCONJ of|ADP course|NOUN this|DET is|VERB all|DET about|ADP Michael_Jackson|ENT so|ADP unless|ADP you|PRON remotely|ADV like|ADP MJ|ENT in|ADP anyway|ADV then|ADV you|PRON are|VERB going|VERB to|PART hate|VERB this|DET and|CCONJ find|VERB it|PRON boring|ADJ .|PUNCT Some|DET may|VERB call|VERB MJ|ENT an|DET egotist|NOUN for|ADP consenting|VERB to|ADP the_making|NOUN of|ADP this_movie|NOUN BUT|CCONJ MJ|ENT and|CCONJ most|ADJ of|ADP his_fans|NOUN would|VERB say|VERB that|ADP he|PRON made|VERB it|PRON for|ADP the_fans|NOUN which|ADJ if|ADP true|ADJ is|VERB really|ADV nice|ADJ of|ADP him.<br|CARDINAL /><br|PUNCT />The|SYM actual|ADJ feature|NOUN film|NOUN bit|NOUN when|ADV it|PRON finally|ADV starts|VERB is|VERB only|ADV on|ADP for|ADP 20_minutes|TIME or|CCONJ so|ADV excluding|VERB the_Smooth_Criminal_sequence|NOUN and|CCONJ Joe_Pesci|ENT is|VERB convincing|ADJ as|ADP a_psychopathic_all_powerful_drug_lord|NOUN .|PUNCT Why|ADV he|PRON wants|VERB MJ|ENT dead|ADJ so|ADV bad|ADJ is|VERB beyond|ADP me|PRON .|PUNCT Because|ADP MJ|ENT overheard|VERB his_plans|NOUN ?|PUNCT Nah|ENT ,|PUNCT Joe_Pesci's_character|NOUN ranted|VERB that|ADP he|PRON wanted|VERB people|NOUN to|PART know|VERB it|PRON is|VERB he|PRON who|NOUN is|VERB supplying|VERB drugs|NOUN etc|X so|ADV i|PRON dunno|VERB ,|PUNCT maybe|ADV he|PRON just|ADV hates|VERB MJ's_music.<br|ENT /><br|PUNCT />Lots|NOUN of|ADP cool_things|NOUN in|ADP this|DET like|ADP MJ|ENT turning|VERB into|ADP a_car|NOUN and|CCONJ a_robot|NOUN and|CCONJ the_whole_Speed_Demon_sequence|NOUN .|PUNCT Also|ADV ,|PUNCT the_director|NOUN must|VERB have|VERB had|VERB the_patience|NOUN of|ADP a_saint|NOUN when|ADV it|PRON came|VERB to|ADP filming|VERB the_kiddy|NOUN Bad_sequence|NOUN as|ADP usually|ADV directors|NOUN hate|VERB working|VERB with|ADP one_kid|NOUN let|VERB alone|ADV a_whole_bunch|NOUN of|ADP them|PRON performing|VERB a_complex_dance|NOUN scene.<br|ENT /><br|SYM />Bottom|NOUN line|NOUN ,|PUNCT this_movie|NOUN is|VERB for|ADP people|NOUN who|NOUN like|VERB MJ|ENT on|ADP one_level|NOUN or|CCONJ another|DET (|PUNCT which|ADJ i|PRON think|VERB is|VERB most_people|NOUN )|PUNCT .|PUNCT If|ADP not|ADV ,|PUNCT then|ADV stay|VERB away|ADV .|PUNCT It|PRON does|VERB try|VERB and|CCONJ give|VERB off|PART a_wholesome_message|NOUN and|CCONJ ironically_MJ's_bestest_buddy|NOUN in|ADP this_movie|NOUN is|VERB a_girl|NOUN !|PUNCT Michael_Jackson|ENT is|VERB truly|ADV one|CARDINAL of|ADP the_most_talented_people|NOUN ever|ADV to|PART grace|VERB this_planet|NOUN but|CCONJ is|VERB he|PRON guilty|ADJ ?|PUNCT Well|INTJ ,|PUNCT with|ADP all_the_attention|NOUN i|PRON 've|VERB gave|VERB this_subject|NOUN ....|PUNCT hmmm|INTJ well|INTJ i|PRON do|VERB n't|ADV know|VERB because|ADP people|NOUN can|VERB be|VERB different|ADJ behind|ADP closed_doors|NOUN ,|PUNCT i|PRON know|VERB this|DET for|ADP a_fact|NOUN .|PUNCT He|PRON is|VERB either_an_extremely_nice_but_stupid_guy|NOUN or|CCONJ one|CARDINAL of|ADP the_most_sickest_liars|NOUN .|PUNCT I|PRON hope|VERB he|PRON is|VERB not|ADV the|DET latter|ADJ .|PUNCT\""
      ]
     },
     "execution_count": 143,
     "metadata": {},
     "output_type": "execute_result"
    }
   ],
   "source": [
    "list_sentences_train_parsed[0]"
   ]
  },
  {
   "cell_type": "code",
   "execution_count": 144,
   "metadata": {},
   "outputs": [
    {
     "data": {
      "text/plain": [
       "[427,\n",
       " 137,\n",
       " 214,\n",
       " 33,\n",
       " 1728,\n",
       " 13,\n",
       " 10013,\n",
       " 117,\n",
       " 123,\n",
       " 441,\n",
       " 1956,\n",
       " 12,\n",
       " 9053,\n",
       " 1,\n",
       " 130,\n",
       " 122,\n",
       " 3,\n",
       " 47,\n",
       " 1,\n",
       " 220,\n",
       " 3,\n",
       " 220,\n",
       " 14945,\n",
       " 151,\n",
       " 2,\n",
       " 550,\n",
       " 117,\n",
       " 44,\n",
       " 147,\n",
       " 6,\n",
       " 73,\n",
       " 72,\n",
       " 1979,\n",
       " 29,\n",
       " 117,\n",
       " 174,\n",
       " 10,\n",
       " 61,\n",
       " 829,\n",
       " 7,\n",
       " 7258,\n",
       " 44,\n",
       " 6,\n",
       " 353,\n",
       " 87,\n",
       " 59,\n",
       " 1491,\n",
       " 562,\n",
       " 26,\n",
       " 5,\n",
       " 3109,\n",
       " 38,\n",
       " 2622,\n",
       " 2,\n",
       " 14945,\n",
       " 5,\n",
       " 1,\n",
       " 52,\n",
       " 117,\n",
       " 302,\n",
       " 137,\n",
       " 6,\n",
       " 58,\n",
       " 33,\n",
       " 1580,\n",
       " 50,\n",
       " 9,\n",
       " 10,\n",
       " 1306,\n",
       " 460,\n",
       " 2,\n",
       " 699,\n",
       " 4,\n",
       " 9,\n",
       " 36,\n",
       " 53886,\n",
       " 42,\n",
       " 660,\n",
       " 10795,\n",
       " 3,\n",
       " 88,\n",
       " 4,\n",
       " 1441,\n",
       " 20,\n",
       " 39,\n",
       " 83,\n",
       " 6477,\n",
       " 1249,\n",
       " 16,\n",
       " 4,\n",
       " 305,\n",
       " 35,\n",
       " 5,\n",
       " 78,\n",
       " 42,\n",
       " 5265,\n",
       " 279,\n",
       " 729,\n",
       " 19,\n",
       " 1810,\n",
       " 41,\n",
       " 10013,\n",
       " 7,\n",
       " 783,\n",
       " 96,\n",
       " 19,\n",
       " 20,\n",
       " 137,\n",
       " 6,\n",
       " 610,\n",
       " 35,\n",
       " 3,\n",
       " 134,\n",
       " 9,\n",
       " 418,\n",
       " 2,\n",
       " 699,\n",
       " 164,\n",
       " 579,\n",
       " 10013,\n",
       " 339,\n",
       " 14,\n",
       " 36321,\n",
       " 12,\n",
       " 3538,\n",
       " 4,\n",
       " 48,\n",
       " 3169,\n",
       " 10013,\n",
       " 3,\n",
       " 241,\n",
       " 4,\n",
       " 11248,\n",
       " 45,\n",
       " 113,\n",
       " 18,\n",
       " 26,\n",
       " 85,\n",
       " 9,\n",
       " 14,\n",
       " 4242,\n",
       " 52,\n",
       " 56,\n",
       " 468,\n",
       " 5,\n",
       " 61,\n",
       " 628,\n",
       " 4,\n",
       " 1528,\n",
       " 455,\n",
       " 11,\n",
       " 390,\n",
       " 8037,\n",
       " 7622,\n",
       " 199,\n",
       " 257,\n",
       " 50,\n",
       " 9,\n",
       " 377,\n",
       " 391,\n",
       " 5,\n",
       " 106,\n",
       " 22,\n",
       " 14,\n",
       " 7814,\n",
       " 38,\n",
       " 46,\n",
       " 18037,\n",
       " 3,\n",
       " 15867,\n",
       " 5,\n",
       " 1046,\n",
       " 15,\n",
       " 2,\n",
       " 402,\n",
       " 26,\n",
       " 357,\n",
       " 10013,\n",
       " 598,\n",
       " 46,\n",
       " 127,\n",
       " 5,\n",
       " 530,\n",
       " 64,\n",
       " 2,\n",
       " 901,\n",
       " 10013,\n",
       " 43237,\n",
       " 27862,\n",
       " 1,\n",
       " 20960,\n",
       " 1,\n",
       " 43238,\n",
       " 18,\n",
       " 26,\n",
       " 347,\n",
       " 144,\n",
       " 6,\n",
       " 103,\n",
       " 9,\n",
       " 5,\n",
       " 26,\n",
       " 29,\n",
       " 5,\n",
       " 20961,\n",
       " 1441,\n",
       " 406,\n",
       " 46,\n",
       " 117,\n",
       " 12792,\n",
       " 1,\n",
       " 353,\n",
       " 26,\n",
       " 44,\n",
       " 2880,\n",
       " 32,\n",
       " 11,\n",
       " 2859,\n",
       " 4,\n",
       " 7,\n",
       " 35,\n",
       " 41,\n",
       " 10013,\n",
       " 1156,\n",
       " 72,\n",
       " 2178,\n",
       " 3,\n",
       " 10014,\n",
       " 3,\n",
       " 2,\n",
       " 389,\n",
       " 1,\n",
       " 381,\n",
       " 169,\n",
       " 23,\n",
       " 55,\n",
       " 15868,\n",
       " 4,\n",
       " 16903,\n",
       " 50,\n",
       " 9,\n",
       " 285,\n",
       " 12,\n",
       " 2238,\n",
       " 15,\n",
       " 501,\n",
       " 2169,\n",
       " 610,\n",
       " 661,\n",
       " 13,\n",
       " 43239,\n",
       " 270,\n",
       " 581,\n",
       " 10386,\n",
       " 4,\n",
       " 86,\n",
       " 2729,\n",
       " 6766,\n",
       " 32,\n",
       " 83,\n",
       " 10387,\n",
       " 1562,\n",
       " 1,\n",
       " 48,\n",
       " 5,\n",
       " 14,\n",
       " 144,\n",
       " 29,\n",
       " 153,\n",
       " 10013,\n",
       " 22,\n",
       " 18038,\n",
       " 38,\n",
       " 453,\n",
       " 1,\n",
       " 52,\n",
       " 117,\n",
       " 89,\n",
       " 5,\n",
       " 1592,\n",
       " 1,\n",
       " 2,\n",
       " 128,\n",
       " 24,\n",
       " 1,\n",
       " 96,\n",
       " 592,\n",
       " 211,\n",
       " 2,\n",
       " 37,\n",
       " 62,\n",
       " 294,\n",
       " 3,\n",
       " 159,\n",
       " 135,\n",
       " 3,\n",
       " 7,\n",
       " 48,\n",
       " 5,\n",
       " 1108,\n",
       " 1,\n",
       " 5265,\n",
       " 5,\n",
       " 375,\n",
       " 107,\n",
       " 4,\n",
       " 110,\n",
       " 6,\n",
       " 10388,\n",
       " 8038,\n",
       " 16,\n",
       " 5,\n",
       " 26,\n",
       " 3109,\n",
       " 1,\n",
       " 362,\n",
       " 1,\n",
       " 13,\n",
       " 36322,\n",
       " 117,\n",
       " 123,\n",
       " 370,\n",
       " 10015,\n",
       " 383,\n",
       " 16904,\n",
       " 481,\n",
       " 117,\n",
       " 40,\n",
       " 17,\n",
       " 103,\n",
       " 80,\n",
       " 144,\n",
       " 49,\n",
       " 25,\n",
       " 498,\n",
       " 435,\n",
       " 36323,\n",
       " 1,\n",
       " 117,\n",
       " 103,\n",
       " 35,\n",
       " 14,\n",
       " 9054,\n",
       " 2,\n",
       " 114,\n",
       " 5,\n",
       " 38,\n",
       " 107,\n",
       " 4,\n",
       " 2,\n",
       " 8,\n",
       " 464,\n",
       " 26,\n",
       " 5,\n",
       " 24,\n",
       " 34,\n",
       " 1563,\n",
       " 2]"
      ]
     },
     "execution_count": 144,
     "metadata": {},
     "output_type": "execute_result"
    }
   ],
   "source": [
    "list_tokenized_train[0]"
   ]
  },
  {
   "cell_type": "code",
   "execution_count": 145,
   "metadata": {},
   "outputs": [],
   "source": [
    "index_word_dict = {v:k for k, v in tokenizer.word_index.items()}\n",
    "word_index_dict = tokenizer.word_index"
   ]
  },
  {
   "cell_type": "code",
   "execution_count": 146,
   "metadata": {},
   "outputs": [
    {
     "name": "stdout",
     "output_type": "stream",
     "text": [
      "With|ADP\n",
      "going|VERB\n",
      "down|PART\n",
      "at|ADP\n",
      "the_moment|NOUN\n",
      "with|ADP\n",
      "MJ|ENT\n",
      "i|PRON\n",
      "'ve|VERB\n",
      "started|VERB\n",
      "listening|VERB\n",
      "to|ADP\n",
      "his_music|NOUN\n",
      "|PUNCT\n",
      "watching|VERB\n",
      "here|ADV\n",
      "and|CCONJ\n",
      "there|ADV\n",
      "|PUNCT\n",
      "watched|VERB\n",
      "and|CCONJ\n",
      "watched|VERB\n",
      "Moonwalker|ENT\n",
      "again|ADV\n",
      ".|PUNCT\n",
      "Maybe|ADV\n",
      "i|PRON\n",
      "just|ADV\n",
      "want|VERB\n",
      "to|PART\n",
      "get|VERB\n",
      "into|ADP\n",
      "this_guy|NOUN\n",
      "who|NOUN\n",
      "i|PRON\n",
      "thought|VERB\n",
      "was|VERB\n",
      "really|ADV\n",
      "cool|ADJ\n",
      "in|ADP\n",
      "the_eighties|DATE\n",
      "just|ADV\n",
      "to|PART\n",
      "maybe|ADV\n",
      "make|VERB\n",
      "up|PART\n",
      "my_mind|NOUN\n",
      "whether|ADP\n",
      "he|PRON\n",
      "is|VERB\n",
      "guilty|ADJ\n",
      "or|CCONJ\n",
      "innocent|ADJ\n",
      ".|PUNCT\n",
      "Moonwalker|ENT\n",
      "is|VERB\n",
      "|PUNCT\n",
      "which|ADJ\n",
      "i|PRON\n",
      "remember|VERB\n",
      "going|VERB\n",
      "to|PART\n",
      "see|VERB\n",
      "at|ADP\n",
      "the_cinema|NOUN\n",
      "when|ADV\n",
      "it|PRON\n",
      "was|VERB\n",
      "originally|ADV\n",
      "released|VERB\n",
      ".|PUNCT\n",
      "Some|DET\n",
      "of|ADP\n",
      "it|PRON\n",
      "has|VERB\n",
      "subtle_messages|NOUN\n",
      "about|ADP\n",
      "towards|ADP\n",
      "the_press|NOUN\n",
      "and|CCONJ\n",
      "also|ADV\n",
      "of|ADP\n",
      "drugs|NOUN\n",
      "are|VERB\n",
      "br|NOUN\n",
      "br|SYM\n",
      "Visually|ADV\n",
      "impressive|ADJ\n",
      "but|CCONJ\n",
      "of|ADP\n",
      "course|NOUN\n",
      "this|DET\n",
      "is|VERB\n",
      "all|DET\n",
      "about|ADP\n",
      "Michael_Jackson|ENT\n",
      "so|ADP\n",
      "unless|ADP\n",
      "you|PRON\n",
      "remotely|ADV\n",
      "like|ADP\n",
      "MJ|ENT\n",
      "in|ADP\n",
      "anyway|ADV\n",
      "then|ADV\n",
      "you|PRON\n",
      "are|VERB\n",
      "going|VERB\n",
      "to|PART\n",
      "hate|VERB\n",
      "this|DET\n",
      "and|CCONJ\n",
      "find|VERB\n",
      "it|PRON\n",
      "boring|ADJ\n",
      ".|PUNCT\n",
      "Some|DET\n",
      "may|VERB\n",
      "call|VERB\n",
      "MJ|ENT\n",
      "an|DET\n",
      "for|ADP\n",
      "consenting|VERB\n",
      "to|ADP\n",
      "the_making|NOUN\n",
      "of|ADP\n",
      "this_movie|NOUN\n",
      "BUT|CCONJ\n",
      "MJ|ENT\n",
      "and|CCONJ\n",
      "most|ADJ\n",
      "of|ADP\n",
      "his_fans|NOUN\n",
      "would|VERB\n",
      "say|VERB\n",
      "that|ADP\n",
      "he|PRON\n",
      "made|VERB\n",
      "it|PRON\n",
      "for|ADP\n",
      "the_fans|NOUN\n",
      "which|ADJ\n",
      "if|ADP\n",
      "true|ADJ\n",
      "is|VERB\n",
      "really|ADV\n",
      "nice|ADJ\n",
      "of|ADP\n",
      "him.\n",
      "br|CARDINAL\n",
      "br|PUNCT\n",
      "The|SYM\n",
      "actual|ADJ\n",
      "feature|NOUN\n",
      "film|NOUN\n",
      "bit|NOUN\n",
      "when|ADV\n",
      "it|PRON\n",
      "finally|ADV\n",
      "starts|VERB\n",
      "is|VERB\n",
      "only|ADV\n",
      "on|ADP\n",
      "for|ADP\n",
      "20_minutes|TIME\n",
      "or|CCONJ\n",
      "so|ADV\n",
      "excluding|VERB\n",
      "and|CCONJ\n",
      "Joe_Pesci|ENT\n",
      "is|VERB\n",
      "convincing|ADJ\n",
      "as|ADP\n",
      ".|PUNCT\n",
      "Why|ADV\n",
      "he|PRON\n",
      "wants|VERB\n",
      "MJ|ENT\n",
      "dead|ADJ\n",
      "so|ADV\n",
      "bad|ADJ\n",
      "is|VERB\n",
      "beyond|ADP\n",
      "me|PRON\n",
      ".|PUNCT\n",
      "Because|ADP\n",
      "MJ|ENT\n",
      "overheard|VERB\n",
      "his_plans|NOUN\n",
      "|PUNCT\n",
      "Nah|ENT\n",
      "|PUNCT\n",
      "ranted|VERB\n",
      "that|ADP\n",
      "he|PRON\n",
      "wanted|VERB\n",
      "people|NOUN\n",
      "to|PART\n",
      "know|VERB\n",
      "it|PRON\n",
      "is|VERB\n",
      "he|PRON\n",
      "who|NOUN\n",
      "is|VERB\n",
      "supplying|VERB\n",
      "drugs|NOUN\n",
      "etc|X\n",
      "so|ADV\n",
      "i|PRON\n",
      "dunno|VERB\n",
      "|PUNCT\n",
      "maybe|ADV\n",
      "he|PRON\n",
      "just|ADV\n",
      "hates|VERB\n",
      "br|ENT\n",
      "br|PUNCT\n",
      "Lots|NOUN\n",
      "of|ADP\n",
      "in|ADP\n",
      "this|DET\n",
      "like|ADP\n",
      "MJ|ENT\n",
      "turning|VERB\n",
      "into|ADP\n",
      "a_car|NOUN\n",
      "and|CCONJ\n",
      "a_robot|NOUN\n",
      "and|CCONJ\n",
      ".|PUNCT\n",
      "Also|ADV\n",
      "|PUNCT\n",
      "the_director|NOUN\n",
      "must|VERB\n",
      "have|VERB\n",
      "had|VERB\n",
      "the_patience|NOUN\n",
      "of|ADP\n",
      "a_saint|NOUN\n",
      "when|ADV\n",
      "it|PRON\n",
      "came|VERB\n",
      "to|ADP\n",
      "filming|VERB\n",
      "as|ADP\n",
      "usually|ADV\n",
      "directors|NOUN\n",
      "hate|VERB\n",
      "working|VERB\n",
      "with|ADP\n",
      "one_kid|NOUN\n",
      "let|VERB\n",
      "alone|ADV\n",
      "a_whole_bunch|NOUN\n",
      "of|ADP\n",
      "them|PRON\n",
      "performing|VERB\n",
      "scene.\n",
      "br|ENT\n",
      "br|SYM\n",
      "Bottom|NOUN\n",
      "line|NOUN\n",
      "|PUNCT\n",
      "this_movie|NOUN\n",
      "is|VERB\n",
      "for|ADP\n",
      "people|NOUN\n",
      "who|NOUN\n",
      "like|VERB\n",
      "MJ|ENT\n",
      "on|ADP\n",
      "one_level|NOUN\n",
      "or|CCONJ\n",
      "another|DET\n",
      "|PUNCT\n",
      "which|ADJ\n",
      "i|PRON\n",
      "think|VERB\n",
      "is|VERB\n",
      "most_people|NOUN\n",
      "|PUNCT\n",
      ".|PUNCT\n",
      "If|ADP\n",
      "not|ADV\n",
      "|PUNCT\n",
      "then|ADV\n",
      "stay|VERB\n",
      "away|ADV\n",
      ".|PUNCT\n",
      "It|PRON\n",
      "does|VERB\n",
      "try|VERB\n",
      "and|CCONJ\n",
      "give|VERB\n",
      "off|PART\n",
      "and|CCONJ\n",
      "in|ADP\n",
      "this_movie|NOUN\n",
      "is|VERB\n",
      "a_girl|NOUN\n",
      "|PUNCT\n",
      "Michael_Jackson|ENT\n",
      "is|VERB\n",
      "truly|ADV\n",
      "one|CARDINAL\n",
      "of|ADP\n",
      "ever|ADV\n",
      "to|PART\n",
      "grace|VERB\n",
      "this_planet|NOUN\n",
      "but|CCONJ\n",
      "is|VERB\n",
      "he|PRON\n",
      "guilty|ADJ\n",
      "|PUNCT\n",
      "Well|INTJ\n",
      "|PUNCT\n",
      "with|ADP\n",
      "all_the_attention|NOUN\n",
      "i|PRON\n",
      "'ve|VERB\n",
      "gave|VERB\n",
      "this_subject|NOUN\n",
      "....|PUNCT\n",
      "hmmm|INTJ\n",
      "well|INTJ\n",
      "i|PRON\n",
      "do|VERB\n",
      "n't|ADV\n",
      "know|VERB\n",
      "because|ADP\n",
      "people|NOUN\n",
      "can|VERB\n",
      "be|VERB\n",
      "different|ADJ\n",
      "behind|ADP\n",
      "closed_doors|NOUN\n",
      "|PUNCT\n",
      "i|PRON\n",
      "know|VERB\n",
      "this|DET\n",
      "for|ADP\n",
      "a_fact|NOUN\n",
      ".|PUNCT\n",
      "He|PRON\n",
      "is|VERB\n",
      "or|CCONJ\n",
      "one|CARDINAL\n",
      "of|ADP\n",
      ".|PUNCT\n",
      "I|PRON\n",
      "hope|VERB\n",
      "he|PRON\n",
      "is|VERB\n",
      "not|ADV\n",
      "the|DET\n",
      "latter|ADJ\n",
      ".|PUNCT\n"
     ]
    }
   ],
   "source": [
    "for w in list_tokenized_train[0]:\n",
    "    print(index_word_dict[w])"
   ]
  },
  {
   "cell_type": "markdown",
   "metadata": {},
   "source": [
    "#### Create Embedding Matrix\n",
    "(or load one if you have it)"
   ]
  },
  {
   "cell_type": "code",
   "execution_count": 109,
   "metadata": {
    "collapsed": true
   },
   "outputs": [],
   "source": [
    "w2v_model = Word2Vec.load('models/w2v_model_128')"
   ]
  },
  {
   "cell_type": "code",
   "execution_count": 185,
   "metadata": {},
   "outputs": [
    {
     "name": "stdout",
     "output_type": "stream",
     "text": [
      "The size of the gensim word2vec vocab is: 67600\n",
      "The size of the keras token vocab is: 515041\n",
      "The tokenizer vocab is limited to: 65000\n",
      "Total amount of words not found in gensim word2vec model: 9831\n",
      "Embedding matrix shape: (65001, 128)\n"
     ]
    }
   ],
   "source": [
    "EMBED_SIZE = w2v_model.vector_size\n",
    "print('The size of the gensim word2vec vocab is: {}'.format(len(w2v_model.wv.vocab.items())))\n",
    "\n",
    "unknown_word_count = 0\n",
    "def choose_embedded_vector(word, unknown_word_count, verbose=False):\n",
    "    if word in w2v_model.wv.vocab:\n",
    "        return w2v_model.wv.word_vec(word), unknown_word_count\n",
    "    else:\n",
    "        if verbose:\n",
    "            print('Unknown word: {}'.format(word))\n",
    "        return np.random.rand(EMBED_SIZE), (unknown_word_count+1)\n",
    "\n",
    "index_word_dict = {v:k for k, v in tokenizer.word_index.items()}\n",
    "word_index_dict = tokenizer.word_index\n",
    "num_words = tokenizer.num_words + 1 \n",
    "print('The size of the keras token vocab is: {}'.format(len(index_word_dict)))\n",
    "print('The tokenizer vocab is limited to: {}'.format(tokenizer.num_words))\n",
    "\n",
    "\n",
    "embedding_weights = np.zeros((num_words, EMBED_SIZE))\n",
    "for word, index in word_index_dict.items():\n",
    "    if index < num_words:\n",
    "        embedding_weights[index,:], unknown_word_count = choose_embedded_vector(word, unknown_word_count)\n",
    "\n",
    "print('Total amount of words not found in gensim word2vec model: {}'.format(unknown_word_count))\n",
    "print('Embedding matrix shape: {}'.format(embedding_weights.shape))"
   ]
  },
  {
   "cell_type": "markdown",
   "metadata": {},
   "source": [
    "#### Train Model"
   ]
  },
  {
   "cell_type": "code",
   "execution_count": 171,
   "metadata": {
    "collapsed": true
   },
   "outputs": [],
   "source": [
    "def create_model():\n",
    "    input_sequence = Input(shape=(MAX_LEN, ))\n",
    "    x = Embedding(input_dim=num_words, output_dim=EMBED_SIZE, input_length=MAX_LEN, mask_zero=False, weights=[embedding_weights], trainable=True)(input_sequence)\n",
    "    x = Dropout(0.1)(x)\n",
    "    x = Conv1D(filters=64, kernel_size=2, padding='same')(x)\n",
    "    x = Bidirectional(LSTM(32,\n",
    "                           return_sequences=True,\n",
    "                           kernel_regularizer=l2(0.0001)))(x)\n",
    "    x = AttentionWithContext()(x)\n",
    "    x = BatchNormalization()(x)\n",
    "    x = Dense(32, activation=\"elu\", kernel_regularizer=l2(0.0001))(x)\n",
    "    prediction = Dense(N_CLASSES, activation=\"sigmoid\")(x)\n",
    "    \n",
    "    model = Model(inputs=input_sequence, outputs=prediction)\n",
    "    model.compile(loss='binary_crossentropy',\n",
    "                  optimizer='adam',\n",
    "                  metrics=['accuracy'])\n",
    "\n",
    "    return model"
   ]
  },
  {
   "cell_type": "code",
   "execution_count": 172,
   "metadata": {
    "collapsed": true
   },
   "outputs": [],
   "source": [
    "model = create_model()\n",
    "\n",
    "BATCH_SIZE = 512\n",
    "EPOCHS = 16"
   ]
  },
  {
   "cell_type": "code",
   "execution_count": 173,
   "metadata": {
    "collapsed": true
   },
   "outputs": [],
   "source": [
    "FILE_PATH = \"models/keras_model_weights.hdf5\"\n",
    "checkpoint = ModelCheckpoint(FILE_PATH, monitor='val_loss', verbose=1, save_best_only=True, mode='min')\n",
    "early = EarlyStopping(monitor=\"val_loss\", mode=\"min\", patience=5)\n",
    "callbacks_list = [checkpoint, early]"
   ]
  },
  {
   "cell_type": "code",
   "execution_count": 174,
   "metadata": {},
   "outputs": [
    {
     "name": "stdout",
     "output_type": "stream",
     "text": [
      "_________________________________________________________________\n",
      "Layer (type)                 Output Shape              Param #   \n",
      "=================================================================\n",
      "input_12 (InputLayer)        (None, 350)               0         \n",
      "_________________________________________________________________\n",
      "embedding_12 (Embedding)     (None, 350, 128)          8320128   \n",
      "_________________________________________________________________\n",
      "dropout_10 (Dropout)         (None, 350, 128)          0         \n",
      "_________________________________________________________________\n",
      "conv1d_6 (Conv1D)            (None, 350, 64)           16448     \n",
      "_________________________________________________________________\n",
      "bidirectional_12 (Bidirectio (None, 350, 64)           24832     \n",
      "_________________________________________________________________\n",
      "attention_with_context_1 (At (None, 64)                4224      \n",
      "_________________________________________________________________\n",
      "batch_normalization_12 (Batc (None, 64)                256       \n",
      "_________________________________________________________________\n",
      "dense_23 (Dense)             (None, 32)                2080      \n",
      "_________________________________________________________________\n",
      "dense_24 (Dense)             (None, 1)                 33        \n",
      "=================================================================\n",
      "Total params: 8,368,001\n",
      "Trainable params: 8,367,873\n",
      "Non-trainable params: 128\n",
      "_________________________________________________________________\n"
     ]
    }
   ],
   "source": [
    "model.summary()"
   ]
  },
  {
   "cell_type": "code",
   "execution_count": 175,
   "metadata": {},
   "outputs": [
    {
     "name": "stdout",
     "output_type": "stream",
     "text": [
      "Train on 22500 samples, validate on 2500 samples\n",
      "Epoch 1/16\n",
      "22016/22500 [============================>.] - ETA: 0s - loss: 0.5839 - acc: 0.6969\n",
      "Epoch 00001: val_loss improved from inf to 0.47400, saving model to models/keras_model_weights.hdf5\n",
      "22500/22500 [==============================] - 42s 2ms/step - loss: 0.5825 - acc: 0.6980 - val_loss: 0.4740 - val_acc: 0.7844\n",
      "Epoch 2/16\n",
      "22016/22500 [============================>.] - ETA: 0s - loss: 0.4274 - acc: 0.8093\n",
      "Epoch 00002: val_loss improved from 0.47400 to 0.38924, saving model to models/keras_model_weights.hdf5\n",
      "22500/22500 [==============================] - 38s 2ms/step - loss: 0.4263 - acc: 0.8095 - val_loss: 0.3892 - val_acc: 0.8276\n",
      "Epoch 3/16\n",
      "22016/22500 [============================>.] - ETA: 0s - loss: 0.3479 - acc: 0.8547\n",
      "Epoch 00003: val_loss improved from 0.38924 to 0.35733, saving model to models/keras_model_weights.hdf5\n",
      "22500/22500 [==============================] - 39s 2ms/step - loss: 0.3475 - acc: 0.8550 - val_loss: 0.3573 - val_acc: 0.8496\n",
      "Epoch 4/16\n",
      "22016/22500 [============================>.] - ETA: 0s - loss: 0.2963 - acc: 0.8795\n",
      "Epoch 00004: val_loss improved from 0.35733 to 0.35707, saving model to models/keras_model_weights.hdf5\n",
      "22500/22500 [==============================] - 38s 2ms/step - loss: 0.2966 - acc: 0.8795 - val_loss: 0.3571 - val_acc: 0.8544\n",
      "Epoch 5/16\n",
      "22016/22500 [============================>.] - ETA: 0s - loss: 0.2528 - acc: 0.9016\n",
      "Epoch 00005: val_loss improved from 0.35707 to 0.33521, saving model to models/keras_model_weights.hdf5\n",
      "22500/22500 [==============================] - 37s 2ms/step - loss: 0.2518 - acc: 0.9019 - val_loss: 0.3352 - val_acc: 0.8692\n",
      "Epoch 6/16\n",
      "22016/22500 [============================>.] - ETA: 0s - loss: 0.2122 - acc: 0.9211\n",
      "Epoch 00006: val_loss did not improve\n",
      "22500/22500 [==============================] - 37s 2ms/step - loss: 0.2123 - acc: 0.9212 - val_loss: 0.3788 - val_acc: 0.8608\n",
      "Epoch 7/16\n",
      "22016/22500 [============================>.] - ETA: 0s - loss: 0.1738 - acc: 0.9371\n",
      "Epoch 00007: val_loss did not improve\n",
      "22500/22500 [==============================] - 37s 2ms/step - loss: 0.1742 - acc: 0.9370 - val_loss: 0.3414 - val_acc: 0.8768\n",
      "Epoch 8/16\n",
      "22016/22500 [============================>.] - ETA: 0s - loss: 0.1431 - acc: 0.9494\n",
      "Epoch 00008: val_loss improved from 0.33521 to 0.32490, saving model to models/keras_model_weights.hdf5\n",
      "22500/22500 [==============================] - 36s 2ms/step - loss: 0.1432 - acc: 0.9496 - val_loss: 0.3249 - val_acc: 0.8860\n",
      "Epoch 9/16\n",
      "22016/22500 [============================>.] - ETA: 0s - loss: 0.1178 - acc: 0.9613\n",
      "Epoch 00009: val_loss did not improve\n",
      "22500/22500 [==============================] - 36s 2ms/step - loss: 0.1179 - acc: 0.9614 - val_loss: 0.3627 - val_acc: 0.8820\n",
      "Epoch 10/16\n",
      "22016/22500 [============================>.] - ETA: 0s - loss: 0.0965 - acc: 0.9686\n",
      "Epoch 00010: val_loss did not improve\n",
      "22500/22500 [==============================] - 36s 2ms/step - loss: 0.0962 - acc: 0.9688 - val_loss: 0.3969 - val_acc: 0.8848\n",
      "Epoch 11/16\n",
      "22016/22500 [============================>.] - ETA: 0s - loss: 0.0795 - acc: 0.9748\n",
      "Epoch 00011: val_loss did not improve\n",
      "22500/22500 [==============================] - 36s 2ms/step - loss: 0.0799 - acc: 0.9745 - val_loss: 0.4363 - val_acc: 0.8744\n",
      "Epoch 12/16\n",
      "22016/22500 [============================>.] - ETA: 0s - loss: 0.0641 - acc: 0.9820\n",
      "Epoch 00012: val_loss did not improve\n",
      "22500/22500 [==============================] - 36s 2ms/step - loss: 0.0646 - acc: 0.9816 - val_loss: 0.4696 - val_acc: 0.8712\n",
      "Epoch 13/16\n",
      "22016/22500 [============================>.] - ETA: 0s - loss: 0.0575 - acc: 0.9838\n",
      "Epoch 00013: val_loss did not improve\n",
      "22500/22500 [==============================] - 36s 2ms/step - loss: 0.0576 - acc: 0.9838 - val_loss: 0.4737 - val_acc: 0.8784\n"
     ]
    },
    {
     "data": {
      "text/plain": [
       "<keras.callbacks.History at 0x7f36b23cc320>"
      ]
     },
     "execution_count": 175,
     "metadata": {},
     "output_type": "execute_result"
    }
   ],
   "source": [
    "model.fit(X_train, y_train, batch_size=BATCH_SIZE, epochs=EPOCHS, validation_data=[X_val, y_val], callbacks=callbacks_list)"
   ]
  },
  {
   "cell_type": "code",
   "execution_count": 176,
   "metadata": {},
   "outputs": [
    {
     "data": {
      "text/plain": [
       "<matplotlib.axes._subplots.AxesSubplot at 0x7f36a6c15208>"
      ]
     },
     "execution_count": 176,
     "metadata": {},
     "output_type": "execute_result"
    },
    {
     "data": {
      "image/png": "[encoded data removed]",
      "text/plain": [
       "<matplotlib.figure.Figure at 0x7f36a89a34e0>"
      ]
     },
     "metadata": {},
     "output_type": "display_data"
    }
   ],
   "source": [
    "pd.DataFrame(model.history.history).plot(figsize=(12,8))"
   ]
  },
  {
   "cell_type": "code",
   "execution_count": 177,
   "metadata": {
    "collapsed": true
   },
   "outputs": [],
   "source": [
    "model = load_model(filepath=FILE_PATH, custom_objects={'AttentionWithContext':AttentionWithContext})"
   ]
  },
  {
   "cell_type": "code",
   "execution_count": 178,
   "metadata": {
    "collapsed": true
   },
   "outputs": [],
   "source": [
    "y_hat = model.predict(X_val)"
   ]
  },
  {
   "cell_type": "code",
   "execution_count": 181,
   "metadata": {},
   "outputs": [
    {
     "name": "stdout",
     "output_type": "stream",
     "text": [
      "0.886\n",
      "[[1069  159]\n",
      " [ 126 1146]]\n",
      "             precision    recall  f1-score   support\n",
      "\n",
      "          0       0.89      0.87      0.88      1228\n",
      "          1       0.88      0.90      0.89      1272\n",
      "\n",
      "avg / total       0.89      0.89      0.89      2500\n",
      "\n"
     ]
    }
   ],
   "source": [
    "print(accuracy_score(y_val, y_hat > 0.5))\n",
    "print(confusion_matrix(y_val, y_hat > 0.5))\n",
    "print(classification_report(y_val, y_hat > 0.5))"
   ]
  },
  {
   "cell_type": "markdown",
   "metadata": {},
   "source": [
    "### Helper Functions"
   ]
  },
  {
   "cell_type": "markdown",
   "metadata": {},
   "source": [
    "A lot of the spacy code was pulled from examples: https://github.com/explosion"
   ]
  },
  {
   "cell_type": "code",
   "execution_count": 97,
   "metadata": {},
   "outputs": [],
   "source": [
    "nlp = spacy.load('en_core_web_sm')\n",
    "\n",
    "LABELS = {\n",
    "    'ENT': 'ENT',\n",
    "    'PERSON': 'ENT',\n",
    "    'NORP': 'ENT',\n",
    "    'FAC': 'ENT',\n",
    "    'ORG': 'ENT',\n",
    "    'GPE': 'ENT',\n",
    "    'LOC': 'ENT',\n",
    "    'LAW': 'ENT',\n",
    "    'PRODUCT': 'ENT',\n",
    "    'EVENT': 'ENT',\n",
    "    'WORK_OF_ART': 'ENT',\n",
    "    'LANGUAGE': 'ENT',\n",
    "    'DATE': 'DATE',\n",
    "    'TIME': 'TIME',\n",
    "    'PERCENT': 'PERCENT',\n",
    "    'MONEY': 'MONEY',\n",
    "    'QUANTITY': 'QUANTITY',\n",
    "    'ORDINAL': 'ORDINAL',\n",
    "    'CARDINAL': 'CARDINAL'\n",
    "}\n",
    "\n",
    "\n",
    "pre_format_re = re.compile(r'^[\\`\\*\\~]')\n",
    "post_format_re = re.compile(r'[\\`\\*\\~]$')\n",
    "url_re = re.compile(r'\\[([^]]+)\\]\\(%%URL\\)')\n",
    "link_re = re.compile(r'\\[([^]]+)\\]\\(https?://[^\\)]+\\)')\n",
    "\n",
    "\n",
    "def strip_meta(text):\n",
    "    if type(text) == str:\n",
    "        text = link_re.sub(r'\\1', text)\n",
    "        text = text.replace('&gt;', '>').replace('&lt;', '<')\n",
    "        text = pre_format_re.sub('', text)\n",
    "        text = post_format_re.sub('', text)\n",
    "        return text\n",
    "    else:\n",
    "        return ''\n",
    "    \n",
    "\n",
    "def represent_word(word):\n",
    "    if word.like_url:\n",
    "        return '%%URL|X'\n",
    "    text = re.sub(r'\\s', '_', word.text)\n",
    "    tag = LABELS.get(word.ent_type_, word.pos_)\n",
    "    if not tag:\n",
    "        tag = '?'\n",
    "    return text + '|' + tag\n",
    "\n",
    "\n",
    "def merge_clean_sentence(nlp, text, collapse_punctuation=True, collapse_phrases=True):\n",
    "    doc = nlp(text)\n",
    "    if collapse_punctuation:\n",
    "        spans = []\n",
    "        for word in doc[:-1]:\n",
    "            if word.is_punct:\n",
    "                continue\n",
    "            if not word.nbor(1).is_punct:\n",
    "                continue\n",
    "            start = word.i\n",
    "            end = word.i + 1\n",
    "            while end < len(doc) and doc[end].is_punct:\n",
    "                end += 1\n",
    "            span = doc[start : end]\n",
    "            spans.append(\n",
    "                (span.start_char, span.end_char,\n",
    "                 {'tag': word.tag_, 'lemma': word.lemma_, 'ent_type': word.ent_type_})\n",
    "            )\n",
    "        for start, end, attrs in spans:\n",
    "            doc.merge(start, end, **attrs)\n",
    "\n",
    "    if collapse_phrases:\n",
    "        for np in list(doc.noun_chunks):\n",
    "            np.merge(tag=np.root.tag_, lemma=np.root.lemma_, ent_type=np.root.ent_type_)\n",
    "    \n",
    "    return doc\n",
    "\n",
    "\n",
    "def transform_doc(text, MAX_LEN):\n",
    "    d = merge_clean_sentence(nlp, text, collapse_punctuation=False, collapse_phrases=True)\n",
    "    strings = []\n",
    "    for sent in d.sents:\n",
    "        if sent.text.strip():\n",
    "            for w in sent:\n",
    "                if not w.is_space:\n",
    "                    strings.append(represent_word(w))\n",
    "    if strings:\n",
    "        return ' '.join(strings[0:MAX_LEN])\n",
    "    else:\n",
    "        return ' '.join(['' for x in range(MAX_LEN)])"
   ]
  },
  {
   "cell_type": "markdown",
   "metadata": {},
   "source": [
    "Attention adapted from: https://gist.github.com/cbaziotis/6428df359af27d58078ca5ed9792bd6d"
   ]
  },
  {
   "cell_type": "code",
   "execution_count": 96,
   "metadata": {
    "collapsed": true
   },
   "outputs": [],
   "source": [
    "def dot_product(x, kernel):\n",
    "    \"\"\"\n",
    "    Wrapper for dot product operation, in order to be compatible with both\n",
    "    Theano and Tensorflow\n",
    "    Args:\n",
    "        x (): input\n",
    "        kernel (): weights\n",
    "    Returns:\n",
    "    \"\"\"\n",
    "    if K.backend() == 'tensorflow':\n",
    "        return K.squeeze(K.dot(x, K.expand_dims(kernel)), axis=-1)\n",
    "    else:\n",
    "        return K.dot(x, kernel)\n",
    "    \n",
    "\n",
    "class AttentionWithContext(Layer):\n",
    "    \"\"\"\n",
    "    Attention operation, with a context/query vector, for temporal data.\n",
    "    Supports Masking.\n",
    "    Follows the work of Yang et al. [https://www.cs.cmu.edu/~diyiy/docs/naacl16.pdf]\n",
    "    \"Hierarchical Attention Networks for Document Classification\"\n",
    "    by using a context vector to assist the attention\n",
    "    # Input shape\n",
    "        3D tensor with shape: `(samples, steps, features)`.\n",
    "    # Output shape\n",
    "        2D tensor with shape: `(samples, features)`.\n",
    "\n",
    "    How to use:\n",
    "    Just put it on top of an RNN Layer (GRU/LSTM/SimpleRNN) with return_sequences=True.\n",
    "    The dimensions are inferred based on the output shape of the RNN.\n",
    "\n",
    "    Note: The layer has been tested with Keras 2.0.6\n",
    "\n",
    "    Example:\n",
    "        model.add(LSTM(64, return_sequences=True))\n",
    "        model.add(AttentionWithContext())\n",
    "        # next add a Dense layer (for classification/regression) or whatever...\n",
    "    \"\"\"\n",
    "\n",
    "    def __init__(self,\n",
    "                 W_regularizer=None, u_regularizer=None, b_regularizer=None,\n",
    "                 W_constraint=None, u_constraint=None, b_constraint=None,\n",
    "                 bias=True, **kwargs):\n",
    "\n",
    "        self.supports_masking = True\n",
    "        self.init = initializers.get('glorot_uniform')\n",
    "\n",
    "        self.W_regularizer = regularizers.get(W_regularizer)\n",
    "        self.u_regularizer = regularizers.get(u_regularizer)\n",
    "        self.b_regularizer = regularizers.get(b_regularizer)\n",
    "\n",
    "        self.W_constraint = constraints.get(W_constraint)\n",
    "        self.u_constraint = constraints.get(u_constraint)\n",
    "        self.b_constraint = constraints.get(b_constraint)\n",
    "\n",
    "        self.bias = bias\n",
    "        super(AttentionWithContext, self).__init__(**kwargs)\n",
    "\n",
    "    def build(self, input_shape):\n",
    "        assert len(input_shape) == 3\n",
    "\n",
    "        self.W = self.add_weight((input_shape[-1], input_shape[-1],),\n",
    "                                 initializer=self.init,\n",
    "                                 name='{}_W'.format(self.name),\n",
    "                                 regularizer=self.W_regularizer,\n",
    "                                 constraint=self.W_constraint)\n",
    "        if self.bias:\n",
    "            self.b = self.add_weight((input_shape[-1],),\n",
    "                                     initializer='zero',\n",
    "                                     name='{}_b'.format(self.name),\n",
    "                                     regularizer=self.b_regularizer,\n",
    "                                     constraint=self.b_constraint)\n",
    "\n",
    "        self.u = self.add_weight((input_shape[-1],),\n",
    "                                 initializer=self.init,\n",
    "                                 name='{}_u'.format(self.name),\n",
    "                                 regularizer=self.u_regularizer,\n",
    "                                 constraint=self.u_constraint)\n",
    "\n",
    "        super(AttentionWithContext, self).build(input_shape)\n",
    "\n",
    "    def compute_mask(self, input, input_mask=None):\n",
    "        # do not pass the mask to the next layers\n",
    "        return None\n",
    "\n",
    "    def call(self, x, mask=None):\n",
    "        uit = dot_product(x, self.W)\n",
    "\n",
    "        if self.bias:\n",
    "            uit += self.b\n",
    "\n",
    "        uit = K.tanh(uit)\n",
    "        ait = dot_product(uit, self.u)\n",
    "\n",
    "        a = K.exp(ait)\n",
    "\n",
    "        # apply mask after the exp. will be re-normalized next\n",
    "        if mask is not None:\n",
    "            # Cast the mask to floatX to avoid float64 upcasting in theano\n",
    "            a *= K.cast(mask, K.floatx())\n",
    "\n",
    "        # in some cases especially in the early stages of training the sum may be almost zero\n",
    "        # and this results in NaN's. A workaround is to add a very small positive number ε to the sum.\n",
    "        # a /= K.cast(K.sum(a, axis=1, keepdims=True), K.floatx())\n",
    "        a /= K.cast(K.sum(a, axis=1, keepdims=True) + K.epsilon(), K.floatx())\n",
    "\n",
    "        a = K.expand_dims(a)\n",
    "        weighted_input = x * a\n",
    "        return K.sum(weighted_input, axis=1)\n",
    "\n",
    "    def compute_output_shape(self, input_shape):\n",
    "        return input_shape[0], input_shape[-1]"
   ]
  },
  {
   "cell_type": "code",
   "execution_count": null,
   "metadata": {
    "collapsed": true
   },
   "outputs": [],
   "source": []
  }
 ],
 "metadata": {
  "kernelspec": {
   "display_name": "Python 3",
   "language": "python",
   "name": "python3"
  },
  "language_info": {
   "codemirror_mode": {
    "name": "ipython",
    "version": 3
   },
   "file_extension": ".py",
   "mimetype": "text/x-python",
   "name": "python",
   "nbconvert_exporter": "python",
   "pygments_lexer": "ipython3",
   "version": "3.6.3"
  }
 },
 "nbformat": 4,
 "nbformat_minor": 2
}
