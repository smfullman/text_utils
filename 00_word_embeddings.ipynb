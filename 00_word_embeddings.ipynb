{
 "cells": [
  {
   "cell_type": "code",
   "execution_count": 1,
   "metadata": {
    "collapsed": true
   },
   "outputs": [],
   "source": [
    "import numpy as np \n",
    "import pandas as pd \n",
    "import matplotlib.pyplot as plt\n",
    "\n",
    "%matplotlib inline"
   ]
  },
  {
   "cell_type": "code",
   "execution_count": 2,
   "metadata": {
    "collapsed": true
   },
   "outputs": [],
   "source": [
    "import re, multiprocessing, os"
   ]
  },
  {
   "cell_type": "code",
   "execution_count": 3,
   "metadata": {
    "collapsed": true
   },
   "outputs": [],
   "source": [
    "import spacy\n",
    "from spacy.tokens.doc import Doc"
   ]
  },
  {
   "cell_type": "code",
   "execution_count": 4,
   "metadata": {
    "collapsed": true
   },
   "outputs": [],
   "source": [
    "from gensim.models import Word2Vec"
   ]
  },
  {
   "cell_type": "markdown",
   "metadata": {},
   "source": [
    "### Data Import"
   ]
  },
  {
   "cell_type": "markdown",
   "metadata": {},
   "source": [
    "Grab the data from: https://www.kaggle.com/c/word2vec-nlp-tutorial/data"
   ]
  },
  {
   "cell_type": "code",
   "execution_count": 5,
   "metadata": {
    "collapsed": true
   },
   "outputs": [],
   "source": [
    "train = pd.read_csv('data/labeledTrainData.tsv', sep='\\t')"
   ]
  },
  {
   "cell_type": "code",
   "execution_count": 6,
   "metadata": {},
   "outputs": [
    {
     "name": "stdout",
     "output_type": "stream",
     "text": [
      "(25000, 3)\n"
     ]
    }
   ],
   "source": [
    "print(train.shape)"
   ]
  },
  {
   "cell_type": "code",
   "execution_count": 7,
   "metadata": {},
   "outputs": [
    {
     "data": {
      "text/html": [
       "<div>\n",
       "<style>\n",
       "    .dataframe thead tr:only-child th {\n",
       "        text-align: right;\n",
       "    }\n",
       "\n",
       "    .dataframe thead th {\n",
       "        text-align: left;\n",
       "    }\n",
       "\n",
       "    .dataframe tbody tr th {\n",
       "        vertical-align: top;\n",
       "    }\n",
       "</style>\n",
       "<table border=\"1\" class=\"dataframe\">\n",
       "  <thead>\n",
       "    <tr style=\"text-align: right;\">\n",
       "      <th></th>\n",
       "      <th>id</th>\n",
       "      <th>sentiment</th>\n",
       "      <th>review</th>\n",
       "    </tr>\n",
       "  </thead>\n",
       "  <tbody>\n",
       "    <tr>\n",
       "      <th>0</th>\n",
       "      <td>5814_8</td>\n",
       "      <td>1</td>\n",
       "      <td>With all this stuff going down at the moment w...</td>\n",
       "    </tr>\n",
       "    <tr>\n",
       "      <th>1</th>\n",
       "      <td>2381_9</td>\n",
       "      <td>1</td>\n",
       "      <td>\\The Classic War of the Worlds\\\" by Timothy Hi...</td>\n",
       "    </tr>\n",
       "    <tr>\n",
       "      <th>2</th>\n",
       "      <td>7759_3</td>\n",
       "      <td>0</td>\n",
       "      <td>The film starts with a manager (Nicholas Bell)...</td>\n",
       "    </tr>\n",
       "    <tr>\n",
       "      <th>3</th>\n",
       "      <td>3630_4</td>\n",
       "      <td>0</td>\n",
       "      <td>It must be assumed that those who praised this...</td>\n",
       "    </tr>\n",
       "    <tr>\n",
       "      <th>4</th>\n",
       "      <td>9495_8</td>\n",
       "      <td>1</td>\n",
       "      <td>Superbly trashy and wondrously unpretentious 8...</td>\n",
       "    </tr>\n",
       "  </tbody>\n",
       "</table>\n",
       "</div>"
      ],
      "text/plain": [
       "       id  sentiment                                             review\n",
       "0  5814_8          1  With all this stuff going down at the moment w...\n",
       "1  2381_9          1  \\The Classic War of the Worlds\\\" by Timothy Hi...\n",
       "2  7759_3          0  The film starts with a manager (Nicholas Bell)...\n",
       "3  3630_4          0  It must be assumed that those who praised this...\n",
       "4  9495_8          1  Superbly trashy and wondrously unpretentious 8..."
      ]
     },
     "execution_count": 7,
     "metadata": {},
     "output_type": "execute_result"
    }
   ],
   "source": [
    "train.head()"
   ]
  },
  {
   "cell_type": "code",
   "execution_count": 8,
   "metadata": {},
   "outputs": [
    {
     "data": {
      "text/plain": [
       "<matplotlib.axes._subplots.AxesSubplot at 0x7fb558c27400>"
      ]
     },
     "execution_count": 8,
     "metadata": {},
     "output_type": "execute_result"
    },
    {
     "data": {
      "image/png": "[encoded data removed]",
      "text/plain": [
       "<matplotlib.figure.Figure at 0x7fb560d1e2e8>"
      ]
     },
     "metadata": {},
     "output_type": "display_data"
    }
   ],
   "source": [
    "train['review'].apply(lambda x: len(x.split())).hist(bins=50)"
   ]
  },
  {
   "cell_type": "markdown",
   "metadata": {},
   "source": [
    "### Write Text to Disk (Optional)"
   ]
  },
  {
   "cell_type": "code",
   "execution_count": 18,
   "metadata": {},
   "outputs": [
    {
     "name": "stdout",
     "output_type": "stream",
     "text": [
      "Finished: 1000\n",
      "Finished: 2000\n",
      "Finished: 3000\n",
      "Finished: 4000\n",
      "Finished: 5000\n",
      "Finished: 6000\n",
      "Finished: 7000\n",
      "Finished: 8000\n",
      "Finished: 9000\n",
      "Finished: 10000\n",
      "Finished: 11000\n",
      "Finished: 12000\n",
      "Finished: 13000\n",
      "Finished: 14000\n",
      "Finished: 15000\n",
      "Finished: 16000\n",
      "Finished: 17000\n",
      "Finished: 18000\n",
      "Finished: 19000\n",
      "Finished: 20000\n",
      "Finished: 21000\n",
      "Finished: 22000\n",
      "Finished: 23000\n",
      "Finished: 24000\n",
      "Finished: 25000\n"
     ]
    }
   ],
   "source": [
    "count = 0\n",
    "USE_SPACY_POS = True\n",
    "VERBOSE = False\n",
    "\n",
    "with open('data/plain_text/train_sentences.txt', mode='a', encoding='utf-8') as f:\n",
    "    for i, v in train['review'].iteritems():\n",
    "        try:\n",
    "            d = transform_doc(v) if USE_SPACY_POS else v\n",
    "            for line in d.split('\\n'):\n",
    "                if len(line) > 0:\n",
    "                    f.write(line+'\\n')\n",
    "        except Exception as e:\n",
    "            print(e)\n",
    "            if VERBOSE:\n",
    "                print('could not parse: {}'.format(v))\n",
    "        count += 1\n",
    "        if count % 1000 == 0:\n",
    "            print('Finished: {}'.format(count))"
   ]
  },
  {
   "cell_type": "markdown",
   "metadata": {},
   "source": [
    "### Train W2V Model"
   ]
  },
  {
   "cell_type": "markdown",
   "metadata": {},
   "source": [
    "Use generator if data is too big for memory, otherwise just put in a list and iterate."
   ]
  },
  {
   "cell_type": "code",
   "execution_count": 9,
   "metadata": {
    "collapsed": true
   },
   "outputs": [],
   "source": [
    "class ParsedSentenceGenerator(object):\n",
    "    def __init__(self, dirname, verbose=False):\n",
    "        self.dirname = dirname\n",
    "        self.verbose = verbose\n",
    " \n",
    "    def __iter__(self):\n",
    "        for fname in os.listdir(self.dirname):\n",
    "            if fname[-4:] == '.txt':\n",
    "                for line in open(os.path.join(self.dirname, fname), encoding='utf-8'):\n",
    "                    try:\n",
    "                        yield line.split()\n",
    "                    except Exception as e:\n",
    "                        print(e)\n",
    "                        if verbose:\n",
    "                            print('Line Failed: ' + line)\n",
    "                        pass"
   ]
  },
  {
   "cell_type": "code",
   "execution_count": 10,
   "metadata": {
    "collapsed": true
   },
   "outputs": [],
   "source": [
    "s = ParsedSentenceGenerator(dirname='data/plain_text/')"
   ]
  },
  {
   "cell_type": "code",
   "execution_count": 11,
   "metadata": {},
   "outputs": [
    {
     "name": "stdout",
     "output_type": "stream",
     "text": [
      "Number of workers: 11\n"
     ]
    }
   ],
   "source": [
    "N_WORKERS = multiprocessing.cpu_count() - 1\n",
    "print('Number of workers: '+ str(N_WORKERS))\n",
    "EMBED_SIZE = 128"
   ]
  },
  {
   "cell_type": "code",
   "execution_count": 12,
   "metadata": {
    "collapsed": true
   },
   "outputs": [],
   "source": [
    "w2v_model = Word2Vec(sentences=s,\n",
    "                     size=EMBED_SIZE,\n",
    "                     window=9,\n",
    "                     min_count=3,\n",
    "                     sample=0.001,\n",
    "                     seed=42,\n",
    "                     workers=N_WORKERS,\n",
    "                     sg=0,\n",
    "                     hs=0,\n",
    "                     negative=7,\n",
    "                     iter=14,\n",
    "                     compute_loss=True\n",
    "            )"
   ]
  },
  {
   "cell_type": "code",
   "execution_count": 13,
   "metadata": {},
   "outputs": [
    {
     "data": {
      "text/plain": [
       "67600"
      ]
     },
     "execution_count": 13,
     "metadata": {},
     "output_type": "execute_result"
    }
   ],
   "source": [
    "len(w2v_model.wv.vocab)"
   ]
  },
  {
   "cell_type": "code",
   "execution_count": 14,
   "metadata": {},
   "outputs": [
    {
     "data": {
      "text/plain": [
       "[('film|NOUN', 0.8124839663505554),\n",
       " ('musical|ADJ', 0.5818781852722168),\n",
       " ('flick|NOUN', 0.5752246975898743),\n",
       " ('story|NOUN', 0.5630144476890564),\n",
       " ('picture|NOUN', 0.5519418120384216),\n",
       " ('a_movie|NOUN', 0.5515578985214233),\n",
       " ('a_film|NOUN', 0.5457206964492798),\n",
       " ('show|NOUN', 0.5457108616828918),\n",
       " ('documentary|NOUN', 0.5343351364135742),\n",
       " ('western|ADJ', 0.5341377258300781)]"
      ]
     },
     "execution_count": 14,
     "metadata": {},
     "output_type": "execute_result"
    }
   ],
   "source": [
    "w2v_model.most_similar(positive='movie|NOUN')"
   ]
  },
  {
   "cell_type": "code",
   "execution_count": 17,
   "metadata": {},
   "outputs": [
    {
     "data": {
      "text/plain": [
       "[('great|ADJ', 0.7268439531326294),\n",
       " ('cool|ADJ', 0.7122242450714111),\n",
       " ('bad|ADJ', 0.7072707414627075),\n",
       " ('solid|ADJ', 0.6796900629997253),\n",
       " ('decent|ADJ', 0.6787437200546265),\n",
       " ('impressive|ADJ', 0.6651002168655396),\n",
       " ('lousy|ADJ', 0.6095108985900879),\n",
       " ('poor|ADJ', 0.6048907041549683),\n",
       " ('glamorous|ADJ', 0.600853443145752),\n",
       " ('good.<br|ENT', 0.5982713103294373)]"
      ]
     },
     "execution_count": 17,
     "metadata": {},
     "output_type": "execute_result"
    }
   ],
   "source": [
    "w2v_model.most_similar(positive='good|ADJ')"
   ]
  },
  {
   "cell_type": "code",
   "execution_count": 15,
   "metadata": {
    "collapsed": true
   },
   "outputs": [],
   "source": [
    "w2v_model.save('models/w2v_model_'+str(EMBED_SIZE))"
   ]
  },
  {
   "cell_type": "markdown",
   "metadata": {},
   "source": [
    "Useful Docs:\n",
    "* https://radimrehurek.com/gensim/models/word2vec.html"
   ]
  },
  {
   "cell_type": "markdown",
   "metadata": {},
   "source": [
    "Useful Papers:\n",
    "* word2vec Parameter Learning Explained: https://arxiv.org/abs/1411.2738\n",
    "* Comparative study of word embedding methods in topic segmentation https://ac.els-cdn.com/S1877050917313480/1-s2.0-S1877050917313480-main.pdf?_tid=610efaa2-171a-11e8-a5b4-00000aacb360&acdnat=1519226450_2f4ec995830aa2e27b566f56ad81af8e"
   ]
  },
  {
   "cell_type": "markdown",
   "metadata": {},
   "source": [
    "### Helper Functions"
   ]
  },
  {
   "cell_type": "code",
   "execution_count": 10,
   "metadata": {
    "collapsed": true
   },
   "outputs": [],
   "source": [
    "nlp = spacy.load('en_core_web_sm')\n",
    "\n",
    "LABELS = {\n",
    "    'ENT': 'ENT',\n",
    "    'PERSON': 'ENT',\n",
    "    'NORP': 'ENT',\n",
    "    'FAC': 'ENT',\n",
    "    'ORG': 'ENT',\n",
    "    'GPE': 'ENT',\n",
    "    'LOC': 'ENT',\n",
    "    'LAW': 'ENT',\n",
    "    'PRODUCT': 'ENT',\n",
    "    'EVENT': 'ENT',\n",
    "    'WORK_OF_ART': 'ENT',\n",
    "    'LANGUAGE': 'ENT',\n",
    "    'DATE': 'DATE',\n",
    "    'TIME': 'TIME',\n",
    "    'PERCENT': 'PERCENT',\n",
    "    'MONEY': 'MONEY',\n",
    "    'QUANTITY': 'QUANTITY',\n",
    "    'ORDINAL': 'ORDINAL',\n",
    "    'CARDINAL': 'CARDINAL'\n",
    "}\n",
    "\n",
    "\n",
    "pre_format_re = re.compile(r'^[\\`\\*\\~]')\n",
    "post_format_re = re.compile(r'[\\`\\*\\~]$')\n",
    "url_re = re.compile(r'\\[([^]]+)\\]\\(%%URL\\)')\n",
    "link_re = re.compile(r'\\[([^]]+)\\]\\(https?://[^\\)]+\\)')\n",
    "\n",
    "\n",
    "def strip_meta(text):\n",
    "    if type(text) == str:\n",
    "        text = link_re.sub(r'\\1', text)\n",
    "        text = text.replace('&gt;', '>').replace('&lt;', '<')\n",
    "        text = pre_format_re.sub('', text)\n",
    "        text = post_format_re.sub('', text)\n",
    "        return text\n",
    "    else:\n",
    "        return ''\n",
    "    \n",
    "\n",
    "def represent_word(word):\n",
    "    if word.like_url:\n",
    "        return '%%URL|X'\n",
    "    text = re.sub(r'\\s', '_', word.text)\n",
    "    tag = LABELS.get(word.ent_type_, word.pos_)\n",
    "    if not tag:\n",
    "        tag = '?'\n",
    "    return text + '|' + tag\n",
    "\n",
    "\n",
    "def merge_clean_sentence(nlp, text, collapse_punctuation=True, collapse_phrases=True):\n",
    "    doc = nlp(text)\n",
    "    if collapse_punctuation:\n",
    "        spans = []\n",
    "        for word in doc[:-1]:\n",
    "            if word.is_punct:\n",
    "                continue\n",
    "            if not word.nbor(1).is_punct:\n",
    "                continue\n",
    "            start = word.i\n",
    "            end = word.i + 1\n",
    "            while end < len(doc) and doc[end].is_punct:\n",
    "                end += 1\n",
    "            span = doc[start : end]\n",
    "            spans.append(\n",
    "                (span.start_char, span.end_char,\n",
    "                 {'tag': word.tag_, 'lemma': word.lemma_, 'ent_type': word.ent_type_})\n",
    "            )\n",
    "        for start, end, attrs in spans:\n",
    "            doc.merge(start, end, **attrs)\n",
    "\n",
    "    if collapse_phrases:\n",
    "        for np in list(doc.noun_chunks):\n",
    "            np.merge(tag=np.root.tag_, lemma=np.root.lemma_, ent_type=np.root.ent_type_)\n",
    "    \n",
    "    return doc\n",
    "\n",
    "\n",
    "def transform_doc(text):\n",
    "    d = merge_clean_sentence(nlp, text, collapse_punctuation=False, collapse_phrases=True)\n",
    "    strings = []\n",
    "    for sent in d.sents:\n",
    "        if sent.text.strip():\n",
    "            strings.append(' '.join(represent_word(w) for w in sent if not w.is_space))\n",
    "    if strings:\n",
    "        return '\\n'.join(strings) + '\\n'\n",
    "    else:\n",
    "        return ''"
   ]
  },
  {
   "cell_type": "markdown",
   "metadata": {},
   "source": [
    "Example:"
   ]
  },
  {
   "cell_type": "code",
   "execution_count": 40,
   "metadata": {},
   "outputs": [
    {
     "name": "stdout",
     "output_type": "stream",
     "text": [
      "George Clinton is a musician.  He was born in 1941.  He is not related to Bill Clinton, who was the former President of the United States of America.\n"
     ]
    }
   ],
   "source": [
    "sentence = \"George Clinton is a musician.  He was born in 1941.  He is not related to Bill Clinton, who was the former President of the United States of America.\"\n",
    "print(sentence)"
   ]
  },
  {
   "cell_type": "code",
   "execution_count": 42,
   "metadata": {},
   "outputs": [
    {
     "name": "stdout",
     "output_type": "stream",
     "text": [
      "George_Clinton|ENT is|VERB a_musician|NOUN .|PUNCT\n",
      "He|PRON was|VERB born|VERB in|ADP 1941|DATE .|PUNCT\n",
      "He|PRON is|VERB not|ADV related|VERB to|ADP Bill_Clinton|ENT ,|PUNCT who|NOUN was|VERB the_former_President|PROPN of|ADP the_United_States|ENT of|ENT America|ENT .|PUNCT\n",
      "\n"
     ]
    }
   ],
   "source": [
    "print(transform_doc(sentence))"
   ]
  },
  {
   "cell_type": "code",
   "execution_count": null,
   "metadata": {
    "collapsed": true
   },
   "outputs": [],
   "source": []
  }
 ],
 "metadata": {
  "kernelspec": {
   "display_name": "Python 3",
   "language": "python",
   "name": "python3"
  },
  "language_info": {
   "codemirror_mode": {
    "name": "ipython",
    "version": 3
   },
   "file_extension": ".py",
   "mimetype": "text/x-python",
   "name": "python",
   "nbconvert_exporter": "python",
   "pygments_lexer": "ipython3",
   "version": "3.6.3"
  }
 },
 "nbformat": 4,
 "nbformat_minor": 2
}
